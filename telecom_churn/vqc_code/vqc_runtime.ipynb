{
 "cells": [
  {
   "cell_type": "code",
   "execution_count": null,
   "id": "98d0ee7c",
   "metadata": {},
   "outputs": [],
   "source": [
    "import pandas as pd\n",
    "import warnings\n",
    "warnings.filterwarnings('ignore')\n",
    "from sklearn.linear_model import LogisticRegression\n",
    "from sklearn.svm import SVC\n",
    "from sklearn.naive_bayes import GaussianNB\n",
    "from sklearn.model_selection import cross_val_score, cross_val_predict, train_test_split, GridSearchCV\n",
    "import numpy as np\n",
    "from sklearn.metrics import classification_report, confusion_matrix, f1_score, precision_score, recall_score\n",
    "from sklearn.pipeline import Pipeline\n",
    "import matplotlib.pyplot as plt\n",
    "%matplotlib inline\n",
    "import seaborn as sns; sns.set_style(\"dark\")\n",
    "import time"
   ]
  },
  {
   "cell_type": "code",
   "execution_count": null,
   "id": "988075d1",
   "metadata": {},
   "outputs": [],
   "source": [
    "import pandas as pd\n",
    "import seaborn as sns\n",
    "import numpy as np\n",
    "import matplotlib.pyplot as plt\n",
    "from sklearn.preprocessing import MinMaxScaler\n",
    "from sklearn.svm import SVC\n",
    "from sklearn.metrics import accuracy_score, classification_report, confusion_matrix\n",
    "from qiskit import *\n",
    "from qiskit_machine_learning.algorithms.classifiers import VQC\n",
    "from qiskit.circuit.library import EfficientSU2, TwoLocal, NLocal, RealAmplitudes, ZFeatureMap, ZZFeatureMap, PauliFeatureMap\n",
    "from qiskit.circuit.library import CCXGate, CRZGate, RXGate\n",
    "from qiskit.algorithms.optimizers import COBYLA, SLSQP, SPSA\n",
    "from matplotlib import pyplot as plt\n",
    "from IPython.display import clear_output\n",
    "from qiskit.primitives import Sampler\n",
    "from qiskit.circuit import ParameterVector\n",
    "from sklearn.metrics import recall_score, precision_score, f1_score\n",
    "import time\n",
    "from qiskit_machine_learning.algorithms.classifiers import VQC\n",
    "import os"
   ]
  },
  {
   "cell_type": "code",
   "execution_count": null,
   "id": "a4a5225d",
   "metadata": {},
   "outputs": [],
   "source": [
    "train = pd.read_csv(\"../data/train_fe.csv\")"
   ]
  },
  {
   "cell_type": "code",
   "execution_count": null,
   "id": "2c4481a4",
   "metadata": {},
   "outputs": [],
   "source": [
    "cols = ['total_day_minutes', 'total_day_calls','total_intl_charge', 'customer_service_calls', 'account_length','number_vmail_messages', \n",
    "        'region_South', 'region_West']"
   ]
  },
  {
   "cell_type": "code",
   "execution_count": null,
   "id": "06eca11c",
   "metadata": {},
   "outputs": [],
   "source": [
    "#train = train[cols]\n",
    "x_train = train[cols]\n",
    "y_train = train[\"churn\"]"
   ]
  },
  {
   "cell_type": "code",
   "execution_count": null,
   "id": "6938fa93",
   "metadata": {},
   "outputs": [],
   "source": [
    "sizes = np.linspace(0.1,1,10)\n",
    "sizes = list(sizes)\n",
    "sizes"
   ]
  },
  {
   "cell_type": "code",
   "execution_count": null,
   "id": "65553540",
   "metadata": {},
   "outputs": [],
   "source": [
    "cols[:len(cols)+1]"
   ]
  },
  {
   "cell_type": "code",
   "execution_count": null,
   "id": "dbe4019b",
   "metadata": {},
   "outputs": [],
   "source": [
    "sizes[0]"
   ]
  },
  {
   "cell_type": "code",
   "execution_count": null,
   "id": "6025a8e0",
   "metadata": {},
   "outputs": [],
   "source": [
    "numbers = np.random.randint(0,high=len(train), size=round(len(train)*sizes[0]))"
   ]
  },
  {
   "cell_type": "code",
   "execution_count": null,
   "id": "9b41e969",
   "metadata": {},
   "outputs": [],
   "source": [
    "np.array(y_train.iloc[numbers].reset_index(drop=True))"
   ]
  },
  {
   "cell_type": "code",
   "execution_count": null,
   "id": "4dcee80c",
   "metadata": {},
   "outputs": [],
   "source": [
    "size = pd.DataFrame()\n",
    "for i in range(len(sizes)):\n",
    "    numbers = np.random.randint(0,high=len(train), size=round(len(train)*sizes[i]))\n",
    "    new_x = x_train.iloc[numbers,:].reset_index(drop=True)\n",
    "    new_y = np.array(y_train.iloc[numbers].reset_index(drop=True))\n",
    "    pauli_feature_map = PauliFeatureMap(feature_dimension=len(new_x.columns), reps=1)\n",
    "    sampler = Sampler()\n",
    "    ansatz_su = EfficientSU2(num_qubits=pauli_feature_map.width(), reps = 2, su2_gates=[\"ry\", \"rz\"], entanglement= \"full\",\n",
    "                         insert_barriers=True)\n",
    "    num_iter=300\n",
    "    cobyla = COBYLA(maxiter = num_iter)\n",
    "    model = VQC(\n",
    "        sampler=sampler,\n",
    "        feature_map=pauli_feature_map,\n",
    "        ansatz=ansatz_su,\n",
    "        optimizer=cobyla)\n",
    "    new_x_arr = new_x.to_numpy()\n",
    "    #new_y_arr = new_y.to_numpy()\n",
    "    start = time.time()\n",
    "    model.fit(new_x_arr, new_y)\n",
    "    stop = time.time()\n",
    "    elapsed=stop-start\n",
    "    size.loc[i, \"size\"] = sizes[i]*len(train)\n",
    "    size.loc[i, \"model\"] = \"VQC_best\"\n",
    "    size.loc[i, \"runtime\"] = elapsed\n",
    "    #size.loc[i,\"kernel\"] = typ\n",
    "    print(i)"
   ]
  },
  {
   "cell_type": "code",
   "execution_count": null,
   "id": "3670dfe1",
   "metadata": {},
   "outputs": [],
   "source": [
    "feat = pd.DataFrame()\n",
    "for i in range(1,len(cols)):\n",
    "    new_x = x_train.loc[:,cols[:i+1]]\n",
    "    new_x_arr = new_x.to_numpy()\n",
    "    new_y = np.array(y_train)\n",
    "    pauli_feature_map = PauliFeatureMap(feature_dimension=len(new_x.columns), reps=1)\n",
    "    sampler = Sampler()\n",
    "    if len(x_train.columns) == 1:\n",
    "        ansatz_su = EfficientSU2(num_qubits=pauli_feature_map.width(), reps = 2, su2_gates=[\"ry\"],\n",
    "                             insert_barriers=True)\n",
    "    else: \n",
    "        ansatz_su = EfficientSU2(num_qubits=pauli_feature_map.width(), reps = 2, su2_gates=[\"ry\", \"rz\"], entanglement= \"full\",\n",
    "                             insert_barriers=True)\n",
    "    num_iter=300\n",
    "    cobyla = COBYLA(maxiter = num_iter)\n",
    "    model = VQC(\n",
    "        sampler=sampler,\n",
    "        feature_map=pauli_feature_map,\n",
    "        ansatz=ansatz_su,\n",
    "        optimizer=cobyla)\n",
    "    start = time.time()\n",
    "    model.fit(new_x_arr, new_y)\n",
    "    stop = time.time()\n",
    "    elapsed=stop-start\n",
    "    feat.loc[i, \"num_features\"] = i + 1\n",
    "    feat.loc[i, \"model\"] = \"VQC_best\"\n",
    "    feat.loc[i, \"runtime\"] = elapsed\n",
    "    #feat.loc[i,\"kernel\"] = typ"
   ]
  },
  {
   "cell_type": "code",
   "execution_count": null,
   "id": "0c0588b2",
   "metadata": {},
   "outputs": [],
   "source": [
    "num_iter=300\n",
    "sampler = Sampler()\n",
    "cobyla = COBYLA(maxiter = num_iter)\n",
    "spsa = SPSA(maxiter = num_iter)"
   ]
  },
  {
   "cell_type": "code",
   "execution_count": null,
   "id": "bdc1f6a9",
   "metadata": {},
   "outputs": [],
   "source": []
  },
  {
   "cell_type": "code",
   "execution_count": null,
   "id": "ce4e7ca4",
   "metadata": {},
   "outputs": [],
   "source": [
    "def vqc_runtime(ansatz, optimizer):\n",
    "    size = pd.DataFrame()\n",
    "    for i in range(len(sizes)):\n",
    "        numbers = np.random.randint(0,high=len(train), size=round(len(train)*sizes[i]))\n",
    "        new_x = x_train.iloc[numbers,:].reset_index(drop=True)\n",
    "        new_y = np.array(y_train.iloc[numbers].reset_index(drop=True))\n",
    "        pauli_feature_map = PauliFeatureMap(feature_dimension=len(new_x.columns), reps=1)\n",
    "        if optimizer == \"cobyla\":\n",
    "            optim_use = cobyla\n",
    "        elif optimizer == \"spsa\":\n",
    "            optim_use = spsa\n",
    "\n",
    "        if ansatz == \"su2\":\n",
    "            ansatz_use = EfficientSU2(num_qubits=pauli_feature_map.width(), reps = 2, su2_gates=[\"ry\", \"rz\"],\n",
    "                                      entanglement= \"full\", insert_barriers=True)\n",
    "        elif ansatz == \"two_local\":\n",
    "            ansatz_use = ansatz_two_local = TwoLocal(num_qubits=pauli_feature_map.width(),rotation_blocks=[\"ry\", \"rz\"],\n",
    "                                                     entanglement_blocks=\"cx\", entanglement=\"linear\", reps=2,\n",
    "                                                     insert_barriers=True)\n",
    "        elif ansatz == \"n_local\":\n",
    "            #ansatz_use = ansatz_n_local\n",
    "            theta = Parameter(\"θ\")\n",
    "            ansatz_use = NLocal(num_qubits=pauli_feature_map.width(),rotation_blocks=[RXGate(theta), CRZGate(theta)],\n",
    "                        entanglement_blocks=CCXGate(),\n",
    "                        entanglement=[[0, 1, 2], [0,2,1]],reps=2,insert_barriers=True)\n",
    "\n",
    "\n",
    "        ansatz = ansatz_use\n",
    "        model = VQC(\n",
    "            sampler=sampler,\n",
    "            feature_map=pauli_feature_map,\n",
    "            ansatz=ansatz,\n",
    "            optimizer=optim_use)\n",
    "        new_x_arr = new_x.to_numpy()\n",
    "        #new_y_arr = new_y.to_numpy()\n",
    "        start = time.time()\n",
    "        model.fit(new_x_arr, new_y)\n",
    "        stop = time.time()\n",
    "        elapsed=stop-start\n",
    "        size.loc[i, \"size\"] = sizes[i]*len(train)\n",
    "        size.loc[i, \"model\"] = \"VQC\" + \"_\" + str(ansatz) + \"_\" + str(optimizer)\n",
    "        size.loc[i, \"runtime\"] = elapsed\n",
    "        #size.loc[i,\"kernel\"] = typ\n",
    "    size.to_csv(\"../vqc_results/runtime_size/vqc\" + \"_\" + str(ansatz) + \"_\" + str(optimizer) + \".csv\", index=False)\n",
    "    feat = pd.DataFrame()\n",
    "    for i in range(1,len(cols)):\n",
    "        new_x = x_train.loc[:,cols[:i+1]]\n",
    "        new_x_arr = new_x.to_numpy()\n",
    "        new_y = np.array(y_train)\n",
    "        pauli_feature_map = PauliFeatureMap(feature_dimension=len(new_x.columns), reps=1)\n",
    "        if optimizer == \"cobyla\":\n",
    "            optim_use = cobyla\n",
    "        elif optimizer == \"spsa\":\n",
    "            optim_use = spsa\n",
    "\n",
    "        if ansatz == \"su2\":\n",
    "            ansatz_use = EfficientSU2(num_qubits=pauli_feature_map.width(), reps = 2, su2_gates=[\"ry\", \"rz\"], entanglement= \"full\",\n",
    "                             insert_barriers=True)\n",
    "        elif ansatz == \"two_local\":\n",
    "            ansatz_use = ansatz_two_local = TwoLocal(num_qubits=pauli_feature_map.width(),rotation_blocks=[\"ry\", \"rz\"],\n",
    "                                                     entanglement_blocks=\"cx\", entanglement=\"linear\", reps=2,\n",
    "                                                     insert_barriers=True)\n",
    "        elif ansatz == \"n_local\":\n",
    "            #ansatz_use = ansatz_n_local\n",
    "            theta = Parameter(\"θ\")\n",
    "            ansatz_use = NLocal(num_qubits=pauli_feature_map.width(),rotation_blocks=[RXGate(theta), CRZGate(theta)],\n",
    "                        entanglement_blocks=CCXGate(),\n",
    "                        entanglement=[[0, 1, 2], [0,2,1]],reps=2,insert_barriers=True)\n",
    "\n",
    "\n",
    "        ansatz = ansatz_use\n",
    "        model = VQC(\n",
    "            sampler=sampler,\n",
    "            feature_map=pauli_feature_map,\n",
    "            ansatz=ansatz_su,\n",
    "            optimizer=cobyla)\n",
    "        start = time.time()\n",
    "        model.fit(new_x_arr, new_y)\n",
    "        stop = time.time()\n",
    "        elapsed=stop-start\n",
    "        feat.loc[i, \"num_features\"] = i + 1\n",
    "        feat.loc[i, \"model\"] = \"VQC\" + \"_\" + str(ansatz) + \"_\" + str(optimizer)\n",
    "        feat.loc[i, \"runtime\"] = elapsed\n",
    "        #feat.loc[i,\"kernel\"] = typ\n",
    "    feat.to_csv(\"../vqc_results/runtime_features/vqc\" + \"_\" + str(ansatz) + \"_\" + str(optimizer) + \".csv\", index=False)"
   ]
  },
  {
   "cell_type": "code",
   "execution_count": null,
   "id": "0615dd55",
   "metadata": {},
   "outputs": [],
   "source": [
    "optim = [\"cobyla\", \"spsa\"]\n",
    "ansatz_list = [\"su2\", \"two_local\", \"n_local\"]\n",
    "for i in range(len(optim)):\n",
    "    for j in range(len(ansatz_list)):\n",
    "        print(optim[i], ansatz_list[j])\n",
    "        vqc_runtime(ansatz_list[j], optim[i])"
   ]
  },
  {
   "cell_type": "code",
   "execution_count": null,
   "id": "5bf64aca",
   "metadata": {},
   "outputs": [],
   "source": []
  }
 ],
 "metadata": {
  "kernelspec": {
   "display_name": "Python 3 (ipykernel)",
   "language": "python",
   "name": "python3"
  },
  "language_info": {
   "codemirror_mode": {
    "name": "ipython",
    "version": 3
   },
   "file_extension": ".py",
   "mimetype": "text/x-python",
   "name": "python",
   "nbconvert_exporter": "python",
   "pygments_lexer": "ipython3",
   "version": "3.9.12"
  }
 },
 "nbformat": 4,
 "nbformat_minor": 5
}

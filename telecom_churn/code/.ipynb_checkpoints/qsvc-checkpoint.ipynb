{
 "cells": [
  {
   "cell_type": "code",
   "execution_count": 1,
   "id": "e28249a6",
   "metadata": {},
   "outputs": [],
   "source": [
    "import pandas as pd\n",
    "import os\n",
    "import time\n",
    "from sklearn.model_selection import cross_val_score, cross_val_predict, train_test_split, GridSearchCV\n",
    "import numpy as np\n",
    "from sklearn.metrics import classification_report, confusion_matrix, f1_score, precision_score, recall_score\n",
    "import matplotlib.pyplot as plt\n",
    "import seaborn as sns"
   ]
  },
  {
   "cell_type": "code",
   "execution_count": 2,
   "id": "eb455a60",
   "metadata": {},
   "outputs": [],
   "source": [
    "train = pd.read_csv(\"../data/train_fe_small.csv\")"
   ]
  },
  {
   "cell_type": "code",
   "execution_count": 3,
   "id": "fd3c3e28",
   "metadata": {},
   "outputs": [
    {
     "data": {
      "text/html": [
       "<div>\n",
       "<style scoped>\n",
       "    .dataframe tbody tr th:only-of-type {\n",
       "        vertical-align: middle;\n",
       "    }\n",
       "\n",
       "    .dataframe tbody tr th {\n",
       "        vertical-align: top;\n",
       "    }\n",
       "\n",
       "    .dataframe thead th {\n",
       "        text-align: right;\n",
       "    }\n",
       "</style>\n",
       "<table border=\"1\" class=\"dataframe\">\n",
       "  <thead>\n",
       "    <tr style=\"text-align: right;\">\n",
       "      <th></th>\n",
       "      <th>international_plan</th>\n",
       "      <th>voice_mail_plan</th>\n",
       "      <th>area_code_408</th>\n",
       "      <th>area_code_415</th>\n",
       "      <th>area_code_510</th>\n",
       "      <th>region_Midwest</th>\n",
       "      <th>region_Northeast</th>\n",
       "      <th>region_South</th>\n",
       "      <th>region_West</th>\n",
       "      <th>account_length</th>\n",
       "      <th>...</th>\n",
       "      <th>total_eve_calls</th>\n",
       "      <th>total_eve_charge</th>\n",
       "      <th>total_night_minutes</th>\n",
       "      <th>total_night_calls</th>\n",
       "      <th>total_night_charge</th>\n",
       "      <th>total_intl_minutes</th>\n",
       "      <th>total_intl_calls</th>\n",
       "      <th>total_intl_charge</th>\n",
       "      <th>customer_service_calls</th>\n",
       "      <th>churn</th>\n",
       "    </tr>\n",
       "  </thead>\n",
       "  <tbody>\n",
       "    <tr>\n",
       "      <th>0</th>\n",
       "      <td>1.0</td>\n",
       "      <td>0.0</td>\n",
       "      <td>0.0</td>\n",
       "      <td>0.0</td>\n",
       "      <td>1.0</td>\n",
       "      <td>1.0</td>\n",
       "      <td>0.0</td>\n",
       "      <td>0.0</td>\n",
       "      <td>0.0</td>\n",
       "      <td>0.557851</td>\n",
       "      <td>...</td>\n",
       "      <td>0.611765</td>\n",
       "      <td>0.632805</td>\n",
       "      <td>0.284372</td>\n",
       "      <td>0.368421</td>\n",
       "      <td>0.284177</td>\n",
       "      <td>0.455</td>\n",
       "      <td>0.50</td>\n",
       "      <td>0.455556</td>\n",
       "      <td>0.333333</td>\n",
       "      <td>0.0</td>\n",
       "    </tr>\n",
       "    <tr>\n",
       "      <th>1</th>\n",
       "      <td>0.0</td>\n",
       "      <td>0.0</td>\n",
       "      <td>0.0</td>\n",
       "      <td>0.0</td>\n",
       "      <td>1.0</td>\n",
       "      <td>0.0</td>\n",
       "      <td>0.0</td>\n",
       "      <td>1.0</td>\n",
       "      <td>0.0</td>\n",
       "      <td>0.376033</td>\n",
       "      <td>...</td>\n",
       "      <td>0.841176</td>\n",
       "      <td>0.481074</td>\n",
       "      <td>0.449473</td>\n",
       "      <td>0.766917</td>\n",
       "      <td>0.449367</td>\n",
       "      <td>0.470</td>\n",
       "      <td>0.35</td>\n",
       "      <td>0.470370</td>\n",
       "      <td>0.222222</td>\n",
       "      <td>0.0</td>\n",
       "    </tr>\n",
       "    <tr>\n",
       "      <th>2</th>\n",
       "      <td>0.0</td>\n",
       "      <td>0.0</td>\n",
       "      <td>0.0</td>\n",
       "      <td>0.0</td>\n",
       "      <td>1.0</td>\n",
       "      <td>0.0</td>\n",
       "      <td>0.0</td>\n",
       "      <td>1.0</td>\n",
       "      <td>0.0</td>\n",
       "      <td>0.611570</td>\n",
       "      <td>...</td>\n",
       "      <td>0.482353</td>\n",
       "      <td>0.545455</td>\n",
       "      <td>0.200399</td>\n",
       "      <td>0.375940</td>\n",
       "      <td>0.200000</td>\n",
       "      <td>0.430</td>\n",
       "      <td>0.20</td>\n",
       "      <td>0.429630</td>\n",
       "      <td>0.111111</td>\n",
       "      <td>0.0</td>\n",
       "    </tr>\n",
       "    <tr>\n",
       "      <th>3</th>\n",
       "      <td>0.0</td>\n",
       "      <td>0.0</td>\n",
       "      <td>1.0</td>\n",
       "      <td>0.0</td>\n",
       "      <td>0.0</td>\n",
       "      <td>0.0</td>\n",
       "      <td>1.0</td>\n",
       "      <td>0.0</td>\n",
       "      <td>0.0</td>\n",
       "      <td>0.384298</td>\n",
       "      <td>...</td>\n",
       "      <td>0.335294</td>\n",
       "      <td>0.563895</td>\n",
       "      <td>0.365784</td>\n",
       "      <td>0.503759</td>\n",
       "      <td>0.365823</td>\n",
       "      <td>0.520</td>\n",
       "      <td>0.30</td>\n",
       "      <td>0.520370</td>\n",
       "      <td>0.333333</td>\n",
       "      <td>0.0</td>\n",
       "    </tr>\n",
       "    <tr>\n",
       "      <th>4</th>\n",
       "      <td>0.0</td>\n",
       "      <td>0.0</td>\n",
       "      <td>1.0</td>\n",
       "      <td>0.0</td>\n",
       "      <td>0.0</td>\n",
       "      <td>0.0</td>\n",
       "      <td>0.0</td>\n",
       "      <td>1.0</td>\n",
       "      <td>0.0</td>\n",
       "      <td>0.400826</td>\n",
       "      <td>...</td>\n",
       "      <td>0.547059</td>\n",
       "      <td>0.379165</td>\n",
       "      <td>0.463422</td>\n",
       "      <td>0.413534</td>\n",
       "      <td>0.463291</td>\n",
       "      <td>0.000</td>\n",
       "      <td>0.00</td>\n",
       "      <td>0.000000</td>\n",
       "      <td>0.000000</td>\n",
       "      <td>0.0</td>\n",
       "    </tr>\n",
       "    <tr>\n",
       "      <th>5</th>\n",
       "      <td>0.0</td>\n",
       "      <td>1.0</td>\n",
       "      <td>0.0</td>\n",
       "      <td>1.0</td>\n",
       "      <td>0.0</td>\n",
       "      <td>0.0</td>\n",
       "      <td>1.0</td>\n",
       "      <td>0.0</td>\n",
       "      <td>0.0</td>\n",
       "      <td>0.297521</td>\n",
       "      <td>...</td>\n",
       "      <td>0.670588</td>\n",
       "      <td>0.560984</td>\n",
       "      <td>0.372616</td>\n",
       "      <td>0.458647</td>\n",
       "      <td>0.372785</td>\n",
       "      <td>0.315</td>\n",
       "      <td>0.15</td>\n",
       "      <td>0.314815</td>\n",
       "      <td>0.222222</td>\n",
       "      <td>0.0</td>\n",
       "    </tr>\n",
       "    <tr>\n",
       "      <th>6</th>\n",
       "      <td>0.0</td>\n",
       "      <td>0.0</td>\n",
       "      <td>1.0</td>\n",
       "      <td>0.0</td>\n",
       "      <td>0.0</td>\n",
       "      <td>1.0</td>\n",
       "      <td>0.0</td>\n",
       "      <td>0.0</td>\n",
       "      <td>0.0</td>\n",
       "      <td>0.619835</td>\n",
       "      <td>...</td>\n",
       "      <td>0.511765</td>\n",
       "      <td>0.396959</td>\n",
       "      <td>0.331625</td>\n",
       "      <td>0.413534</td>\n",
       "      <td>0.331646</td>\n",
       "      <td>0.590</td>\n",
       "      <td>0.25</td>\n",
       "      <td>0.590741</td>\n",
       "      <td>0.000000</td>\n",
       "      <td>0.0</td>\n",
       "    </tr>\n",
       "    <tr>\n",
       "      <th>7</th>\n",
       "      <td>0.0</td>\n",
       "      <td>1.0</td>\n",
       "      <td>0.0</td>\n",
       "      <td>1.0</td>\n",
       "      <td>0.0</td>\n",
       "      <td>0.0</td>\n",
       "      <td>0.0</td>\n",
       "      <td>1.0</td>\n",
       "      <td>0.0</td>\n",
       "      <td>0.376033</td>\n",
       "      <td>...</td>\n",
       "      <td>0.764706</td>\n",
       "      <td>0.571660</td>\n",
       "      <td>0.455167</td>\n",
       "      <td>0.466165</td>\n",
       "      <td>0.455063</td>\n",
       "      <td>0.510</td>\n",
       "      <td>0.55</td>\n",
       "      <td>0.509259</td>\n",
       "      <td>0.000000</td>\n",
       "      <td>0.0</td>\n",
       "    </tr>\n",
       "    <tr>\n",
       "      <th>8</th>\n",
       "      <td>0.0</td>\n",
       "      <td>0.0</td>\n",
       "      <td>0.0</td>\n",
       "      <td>1.0</td>\n",
       "      <td>0.0</td>\n",
       "      <td>1.0</td>\n",
       "      <td>0.0</td>\n",
       "      <td>0.0</td>\n",
       "      <td>0.0</td>\n",
       "      <td>0.177686</td>\n",
       "      <td>...</td>\n",
       "      <td>0.488235</td>\n",
       "      <td>0.452604</td>\n",
       "      <td>0.560774</td>\n",
       "      <td>0.548872</td>\n",
       "      <td>0.560759</td>\n",
       "      <td>0.530</td>\n",
       "      <td>0.10</td>\n",
       "      <td>0.529630</td>\n",
       "      <td>0.111111</td>\n",
       "      <td>0.0</td>\n",
       "    </tr>\n",
       "    <tr>\n",
       "      <th>9</th>\n",
       "      <td>0.0</td>\n",
       "      <td>0.0</td>\n",
       "      <td>0.0</td>\n",
       "      <td>1.0</td>\n",
       "      <td>0.0</td>\n",
       "      <td>0.0</td>\n",
       "      <td>1.0</td>\n",
       "      <td>0.0</td>\n",
       "      <td>0.0</td>\n",
       "      <td>0.533058</td>\n",
       "      <td>...</td>\n",
       "      <td>0.635294</td>\n",
       "      <td>0.567130</td>\n",
       "      <td>0.340734</td>\n",
       "      <td>0.451128</td>\n",
       "      <td>0.340506</td>\n",
       "      <td>0.445</td>\n",
       "      <td>0.15</td>\n",
       "      <td>0.444444</td>\n",
       "      <td>0.000000</td>\n",
       "      <td>0.0</td>\n",
       "    </tr>\n",
       "  </tbody>\n",
       "</table>\n",
       "<p>10 rows × 25 columns</p>\n",
       "</div>"
      ],
      "text/plain": [
       "   international_plan  voice_mail_plan  area_code_408  area_code_415  \\\n",
       "0                 1.0              0.0            0.0            0.0   \n",
       "1                 0.0              0.0            0.0            0.0   \n",
       "2                 0.0              0.0            0.0            0.0   \n",
       "3                 0.0              0.0            1.0            0.0   \n",
       "4                 0.0              0.0            1.0            0.0   \n",
       "5                 0.0              1.0            0.0            1.0   \n",
       "6                 0.0              0.0            1.0            0.0   \n",
       "7                 0.0              1.0            0.0            1.0   \n",
       "8                 0.0              0.0            0.0            1.0   \n",
       "9                 0.0              0.0            0.0            1.0   \n",
       "\n",
       "   area_code_510  region_Midwest  region_Northeast  region_South  region_West  \\\n",
       "0            1.0             1.0               0.0           0.0          0.0   \n",
       "1            1.0             0.0               0.0           1.0          0.0   \n",
       "2            1.0             0.0               0.0           1.0          0.0   \n",
       "3            0.0             0.0               1.0           0.0          0.0   \n",
       "4            0.0             0.0               0.0           1.0          0.0   \n",
       "5            0.0             0.0               1.0           0.0          0.0   \n",
       "6            0.0             1.0               0.0           0.0          0.0   \n",
       "7            0.0             0.0               0.0           1.0          0.0   \n",
       "8            0.0             1.0               0.0           0.0          0.0   \n",
       "9            0.0             0.0               1.0           0.0          0.0   \n",
       "\n",
       "   account_length  ...  total_eve_calls  total_eve_charge  \\\n",
       "0        0.557851  ...         0.611765          0.632805   \n",
       "1        0.376033  ...         0.841176          0.481074   \n",
       "2        0.611570  ...         0.482353          0.545455   \n",
       "3        0.384298  ...         0.335294          0.563895   \n",
       "4        0.400826  ...         0.547059          0.379165   \n",
       "5        0.297521  ...         0.670588          0.560984   \n",
       "6        0.619835  ...         0.511765          0.396959   \n",
       "7        0.376033  ...         0.764706          0.571660   \n",
       "8        0.177686  ...         0.488235          0.452604   \n",
       "9        0.533058  ...         0.635294          0.567130   \n",
       "\n",
       "   total_night_minutes  total_night_calls  total_night_charge  \\\n",
       "0             0.284372           0.368421            0.284177   \n",
       "1             0.449473           0.766917            0.449367   \n",
       "2             0.200399           0.375940            0.200000   \n",
       "3             0.365784           0.503759            0.365823   \n",
       "4             0.463422           0.413534            0.463291   \n",
       "5             0.372616           0.458647            0.372785   \n",
       "6             0.331625           0.413534            0.331646   \n",
       "7             0.455167           0.466165            0.455063   \n",
       "8             0.560774           0.548872            0.560759   \n",
       "9             0.340734           0.451128            0.340506   \n",
       "\n",
       "   total_intl_minutes  total_intl_calls  total_intl_charge  \\\n",
       "0               0.455              0.50           0.455556   \n",
       "1               0.470              0.35           0.470370   \n",
       "2               0.430              0.20           0.429630   \n",
       "3               0.520              0.30           0.520370   \n",
       "4               0.000              0.00           0.000000   \n",
       "5               0.315              0.15           0.314815   \n",
       "6               0.590              0.25           0.590741   \n",
       "7               0.510              0.55           0.509259   \n",
       "8               0.530              0.10           0.529630   \n",
       "9               0.445              0.15           0.444444   \n",
       "\n",
       "   customer_service_calls  churn  \n",
       "0                0.333333    0.0  \n",
       "1                0.222222    0.0  \n",
       "2                0.111111    0.0  \n",
       "3                0.333333    0.0  \n",
       "4                0.000000    0.0  \n",
       "5                0.222222    0.0  \n",
       "6                0.000000    0.0  \n",
       "7                0.000000    0.0  \n",
       "8                0.111111    0.0  \n",
       "9                0.000000    0.0  \n",
       "\n",
       "[10 rows x 25 columns]"
      ]
     },
     "execution_count": 3,
     "metadata": {},
     "output_type": "execute_result"
    }
   ],
   "source": [
    "train.head(10)"
   ]
  },
  {
   "cell_type": "code",
   "execution_count": 4,
   "id": "cffe3a71",
   "metadata": {},
   "outputs": [],
   "source": [
    "cols = ['region_South', 'region_West', 'account_length','number_vmail_messages', 'total_day_minutes', 'total_day_calls',\n",
    "        'total_intl_charge', 'customer_service_calls', 'churn']"
   ]
  },
  {
   "cell_type": "code",
   "execution_count": 5,
   "id": "457bb2ca",
   "metadata": {},
   "outputs": [],
   "source": [
    "train = train[cols]"
   ]
  },
  {
   "cell_type": "code",
   "execution_count": 6,
   "id": "e27e3743",
   "metadata": {},
   "outputs": [],
   "source": [
    "x_train_use, y_train_use = train.drop(\"churn\", axis = 1), train[\"churn\"]"
   ]
  },
  {
   "cell_type": "code",
   "execution_count": 7,
   "id": "b1aa568c",
   "metadata": {},
   "outputs": [],
   "source": [
    "x_train, x_val, y_train, y_val = train_test_split(x_train_use, y_train_use, train_size=0.8, random_state = 42)"
   ]
  },
  {
   "cell_type": "code",
   "execution_count": 8,
   "id": "308267b5",
   "metadata": {},
   "outputs": [
    {
     "data": {
      "text/plain": [
       "((620, 8), (620,))"
      ]
     },
     "execution_count": 8,
     "metadata": {},
     "output_type": "execute_result"
    }
   ],
   "source": [
    "x_train.shape, y_train.shape"
   ]
  },
  {
   "cell_type": "code",
   "execution_count": 9,
   "id": "47677cca",
   "metadata": {},
   "outputs": [],
   "source": [
    "x_train=np.array(x_train)\n",
    "y_train=np.array(y_train)"
   ]
  },
  {
   "cell_type": "code",
   "execution_count": 10,
   "id": "382f9238",
   "metadata": {},
   "outputs": [
    {
     "data": {
      "text/plain": [
       "8"
      ]
     },
     "execution_count": 10,
     "metadata": {},
     "output_type": "execute_result"
    }
   ],
   "source": [
    "num_qubits=len(cols)-1\n",
    "num_qubits"
   ]
  },
  {
   "cell_type": "code",
   "execution_count": 11,
   "id": "e80ed61b",
   "metadata": {},
   "outputs": [],
   "source": [
    "from qiskit.circuit.library import PauliFeatureMap\n",
    "\n",
    "feature_map = PauliFeatureMap(feature_dimension=num_qubits, reps=1)\n"
   ]
  },
  {
   "cell_type": "code",
   "execution_count": 12,
   "id": "0f7d607d",
   "metadata": {},
   "outputs": [
    {
     "name": "stdout",
     "output_type": "stream",
     "text": [
      "QSVC classification test score: 0.6987179487179487\n"
     ]
    }
   ],
   "source": [
    "from qiskit_machine_learning.algorithms import QSVC\n",
    "\n",
    "from qiskit import BasicAer\n",
    "from qiskit_algorithms.utils import algorithm_globals\n",
    "from qiskit_machine_learning.kernels import FidelityQuantumKernel\n",
    "\n",
    "\n",
    "\n",
    "algorithm_globals.random_seed = 12345\n",
    "\n",
    "qkernel = FidelityQuantumKernel(feature_map=feature_map)\n",
    "\n",
    "\n",
    "model = QSVC(quantum_kernel=qkernel)\n",
    "\n",
    "\n",
    "start = time.time()\n",
    "model.fit(x_train, y_train)\n",
    "elapsed = time.time() - start\n",
    "train_score=model.score(x_train, y_train)\n",
    "qsvc_score = model.score(x_val, y_val)\n",
    "\n",
    "print(f\"QSVC classification test score: {qsvc_score}\")"
   ]
  },
  {
   "cell_type": "code",
   "execution_count": null,
   "id": "06a66521",
   "metadata": {},
   "outputs": [],
   "source": []
  },
  {
   "cell_type": "code",
   "execution_count": null,
   "id": "f099ffdd",
   "metadata": {},
   "outputs": [],
   "source": [
    "y_pred = model.predict(x_train)\n",
    "val_pred=model.predict(x_val)"
   ]
  },
  {
   "cell_type": "code",
   "execution_count": null,
   "id": "9aa0f003",
   "metadata": {},
   "outputs": [],
   "source": [
    "\n",
    "f1_train=f1_score(y_train, y_pred)\n",
    "\n",
    "f1_test=f1_score(y_val, val_pred)"
   ]
  },
  {
   "cell_type": "code",
   "execution_count": null,
   "id": "42ca0411",
   "metadata": {},
   "outputs": [],
   "source": [
    "prec_train = precision_score(y_train, y_pred)\n",
    "prec_test = precision_score(y_val, val_pred)"
   ]
  },
  {
   "cell_type": "code",
   "execution_count": null,
   "id": "e84d9a4b",
   "metadata": {},
   "outputs": [],
   "source": [
    "recall_train =recall_score(y_train, y_pred)\n",
    "recall_test =recall_score(y_val, val_pred)\n"
   ]
  },
  {
   "cell_type": "code",
   "execution_count": null,
   "id": "97b1bcd6",
   "metadata": {},
   "outputs": [],
   "source": [
    "print(classification_report(y_train, y_pred))\n",
    "\n",
    "print(classification_report(y_val, val_pred))"
   ]
  },
  {
   "cell_type": "code",
   "execution_count": null,
   "id": "537ac3fd",
   "metadata": {},
   "outputs": [],
   "source": [
    "def plot_confusion_matrix(conf_matrix):\n",
    "    plt.figure(figsize=(8, 6))\n",
    "    sns.set(font_scale=1.2)\n",
    "    sns.heatmap(conf_matrix, annot=True, fmt='g', cmap='Blues', cbar=False,\n",
    "                xticklabels=['Predicted 0', 'Predicted 1'],\n",
    "                yticklabels=['Actual 0', 'Actual 1'])\n",
    "    plt.xlabel('Predicted Labels')\n",
    "    plt.ylabel('True Labels')\n",
    "    plt.title('Confusion Matrix')\n",
    "    plt.show()\n"
   ]
  },
  {
   "cell_type": "code",
   "execution_count": null,
   "id": "ce134f26",
   "metadata": {},
   "outputs": [],
   "source": [
    "conf = confusion_matrix(y_train, y_pred)\n",
    "plot_confusion_matrix(conf)"
   ]
  },
  {
   "cell_type": "code",
   "execution_count": null,
   "id": "915a33c1",
   "metadata": {},
   "outputs": [],
   "source": [
    "conf = confusion_matrix(y_val, val_pred)\n",
    "plot_confusion_matrix(conf)"
   ]
  },
  {
   "cell_type": "markdown",
   "id": "adeb84e6",
   "metadata": {},
   "source": [
    "### Extracting results"
   ]
  },
  {
   "cell_type": "code",
   "execution_count": null,
   "id": "00f65c49",
   "metadata": {},
   "outputs": [],
   "source": [
    "model.fit(x_train_use, y_train_use)"
   ]
  },
  {
   "cell_type": "code",
   "execution_count": null,
   "id": "99c97ae9",
   "metadata": {},
   "outputs": [],
   "source": [
    "pred_use = model.predict(x_train_use)"
   ]
  },
  {
   "cell_type": "code",
   "execution_count": null,
   "id": "a5aeac34",
   "metadata": {},
   "outputs": [],
   "source": [
    "print(classification_report(y_train_use, pred_use))"
   ]
  },
  {
   "cell_type": "code",
   "execution_count": null,
   "id": "48b62a85",
   "metadata": {},
   "outputs": [],
   "source": [
    "f1_train = f1_score(y_train_use, pred_use)\n",
    "prec_train = precision_score(y_train_use, pred_use)\n",
    "recall_train = recall_score(y_train_use, pred_use)"
   ]
  },
  {
   "cell_type": "code",
   "execution_count": null,
   "id": "9fa2ef1d",
   "metadata": {},
   "outputs": [],
   "source": [
    "test = pd.read_csv(\"../data/test_fe.csv\")"
   ]
  },
  {
   "cell_type": "code",
   "execution_count": null,
   "id": "9627004e",
   "metadata": {},
   "outputs": [],
   "source": [
    "test = test[cols]"
   ]
  },
  {
   "cell_type": "code",
   "execution_count": null,
   "id": "91138eb5",
   "metadata": {},
   "outputs": [],
   "source": [
    "x_test, y_test = test.drop(\"churn\", axis =1), test[\"churn\"]"
   ]
  },
  {
   "cell_type": "code",
   "execution_count": null,
   "id": "ae0dc277",
   "metadata": {},
   "outputs": [],
   "source": [
    "pred_test = model.predict(x_test)"
   ]
  },
  {
   "cell_type": "code",
   "execution_count": null,
   "id": "4d996d9a",
   "metadata": {},
   "outputs": [],
   "source": [
    "print(classification_report(y_test, pred_test))"
   ]
  },
  {
   "cell_type": "code",
   "execution_count": null,
   "id": "55b183a9",
   "metadata": {},
   "outputs": [],
   "source": [
    "f1_test = f1_score(y_test, pred_test)\n",
    "prec_test = precision_score(y_test, pred_test)\n",
    "recall_test = recall_score(y_test, pred_test)"
   ]
  },
  {
   "cell_type": "code",
   "execution_count": null,
   "id": "2e25c8b7",
   "metadata": {},
   "outputs": [],
   "source": [
    "conf = confusion_matrix(y_test, pred_test)"
   ]
  },
  {
   "cell_type": "code",
   "execution_count": null,
   "id": "10f04774",
   "metadata": {},
   "outputs": [],
   "source": [
    "sns.heatmap(conf, annot=True, cmap=\"Blues\")\n",
    "#plt.show();"
   ]
  },
  {
   "cell_type": "code",
   "execution_count": null,
   "id": "7672d11e",
   "metadata": {},
   "outputs": [],
   "source": []
  },
  {
   "cell_type": "code",
   "execution_count": null,
   "id": "03501371",
   "metadata": {},
   "outputs": [],
   "source": [
    "qsvc_mod_num = \"../model/mod_qsvc_pauli.model\"\n",
    "qsvc.save(qsvc_mod_num)"
   ]
  },
  {
   "cell_type": "code",
   "execution_count": null,
   "id": "9f7cf40f",
   "metadata": {},
   "outputs": [],
   "source": [
    "df = pd.DataFrame()\n",
    "df[\"f1_test\"] = [f1_test]\n",
    "df[\"f1_train\"] = f1_train\n",
    "df[\"prec_train\"] = prec_train\n",
    "df[\"prec_test\"] = prec_test\n",
    "df[\"recall_train\"] = recall_train\n",
    "df[\"recall_test\"] = recall_test\n",
    "df[\"model\"] = \"QSVC\"\n",
    "\n",
    "df.to_csv(\"../result/regular/qsvc.csv\", index = False)  "
   ]
  },
  {
   "cell_type": "code",
   "execution_count": null,
   "id": "efc77599",
   "metadata": {},
   "outputs": [],
   "source": []
  },
  {
   "cell_type": "code",
   "execution_count": null,
   "id": "291846d1",
   "metadata": {},
   "outputs": [],
   "source": []
  }
 ],
 "metadata": {
  "kernelspec": {
   "display_name": "Python 3 (ipykernel)",
   "language": "python",
   "name": "python3"
  },
  "language_info": {
   "codemirror_mode": {
    "name": "ipython",
    "version": 3
   },
   "file_extension": ".py",
   "mimetype": "text/x-python",
   "name": "python",
   "nbconvert_exporter": "python",
   "pygments_lexer": "ipython3",
   "version": "3.9.12"
  }
 },
 "nbformat": 4,
 "nbformat_minor": 5
}

{
 "cells": [
  {
   "cell_type": "code",
   "execution_count": 1,
   "id": "ab48013e",
   "metadata": {},
   "outputs": [],
   "source": [
    "import pandas as pd\n",
    "import seaborn as sns\n",
    "import numpy as np\n",
    "import matplotlib.pyplot as plt"
   ]
  },
  {
   "cell_type": "code",
   "execution_count": 2,
   "id": "9573b229",
   "metadata": {},
   "outputs": [],
   "source": [
    "train = pd.read_csv(\"../data/train_fe_small.csv\")\n",
    "\n",
    "cols = ['total_day_minutes', 'total_day_calls','total_intl_charge', 'customer_service_calls', 'account_length','number_vmail_messages', \n",
    "        'region_South', 'region_West']"
   ]
  },
  {
   "cell_type": "code",
   "execution_count": 3,
   "id": "2b1a3988",
   "metadata": {},
   "outputs": [],
   "source": [
    "x_train = train[cols]\n",
    "y_train = train[\"churn\"]\n"
   ]
  },
  {
   "cell_type": "code",
   "execution_count": 5,
   "id": "1a7acb9b",
   "metadata": {},
   "outputs": [],
   "source": [
    "from qiskit.circuit.library import PauliFeatureMap\n",
    "from qiskit_machine_learning.algorithms import QSVC\n",
    "from qiskit_machine_learning.kernels import FidelityQuantumKernel\n",
    "from qiskit import BasicAer\n",
    "from qiskit.utils import algorithm_globals"
   ]
  },
  {
   "cell_type": "code",
   "execution_count": 6,
   "id": "b3faa8e2",
   "metadata": {},
   "outputs": [],
   "source": [
    "import time"
   ]
  },
  {
   "cell_type": "code",
   "execution_count": null,
   "id": "00a9ec50",
   "metadata": {},
   "outputs": [],
   "source": [
    "num_qubits=len(cols)"
   ]
  },
  {
   "cell_type": "code",
   "execution_count": null,
   "id": "c85e9089",
   "metadata": {},
   "outputs": [],
   "source": [
    "def qsvc_runtime(x_train, y_train, num_qubits):\n",
    "    results = pd.DataFrame()\n",
    "\n",
    "    algorithm_globals.random_seed = 12345\n",
    "\n",
    "    # Define the feature map\n",
    "    feature_map = PauliFeatureMap(feature_dimension=num_qubits, reps=1)\n",
    "\n",
    "    # Define the quantum kernel\n",
    "    qkernel = FidelityQuantumKernel(feature_map=feature_map)\n",
    "\n",
    "    # Initialize the QSVC model\n",
    "    qsvc = QSVC(quantum_kernel=qkernel)\n",
    "\n",
    "    # Train the model and measure the time taken\n",
    "    start = time.time()\n",
    "    qsvc.fit(x_train, y_train)\n",
    "    elapsed = time.time() - start\n",
    "\n",
    "    results.loc[0, 'model'] = 'QSVC'\n",
    "    results.loc[0, 'runtime'] = elapsed\n",
    "    \n",
    "    results.to_csv(\"../results/runtime_features/qsvc.csv\", index=False)\n",
    "\n",
    "    return results"
   ]
  },
  {
   "cell_type": "code",
   "execution_count": null,
   "id": "8e24e906",
   "metadata": {},
   "outputs": [],
   "source": [
    "qsvc_runtime(x_train, y_train, num_qubits)"
   ]
  },
  {
   "cell_type": "code",
   "execution_count": null,
   "id": "53c8a4f4",
   "metadata": {},
   "outputs": [],
   "source": []
  }
 ],
 "metadata": {
  "kernelspec": {
   "display_name": "Python 3 (ipykernel)",
   "language": "python",
   "name": "python3"
  },
  "language_info": {
   "codemirror_mode": {
    "name": "ipython",
    "version": 3
   },
   "file_extension": ".py",
   "mimetype": "text/x-python",
   "name": "python",
   "nbconvert_exporter": "python",
   "pygments_lexer": "ipython3",
   "version": "3.9.12"
  }
 },
 "nbformat": 4,
 "nbformat_minor": 5
}

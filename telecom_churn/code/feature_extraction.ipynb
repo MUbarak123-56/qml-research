{
 "cells": [
  {
   "cell_type": "code",
   "execution_count": 1,
   "id": "f344a5df",
   "metadata": {},
   "outputs": [],
   "source": [
    "from sklearn.feature_selection import SelectFromModel\n",
    "from sklearn.feature_selection import RFE, RFECV\n",
    "from sklearn.linear_model import RidgeCV, LassoCV, Lasso, Ridge\n",
    "import pandas as pd\n",
    "import numpy as np\n",
    "from sklearn.decomposition import PCA, KernelPCA\n",
    "from qiskit.circuit.library import ZZFeatureMap, PauliFeatureMap\n",
    "from qiskit.primitives import Sampler\n",
    "from qiskit_algorithms.state_fidelities import ComputeUncompute\n",
    "from qiskit_machine_learning.kernels import FidelityQuantumKernel"
   ]
  },
  {
   "cell_type": "code",
   "execution_count": 2,
   "id": "1d027cdd",
   "metadata": {},
   "outputs": [],
   "source": [
    "train = pd.read_csv(\"../data/train_fe.csv\")\n",
    "test = pd.read_csv(\"../data/test_fe.csv\")"
   ]
  },
  {
   "cell_type": "code",
   "execution_count": 3,
   "id": "56462991",
   "metadata": {},
   "outputs": [
    {
     "data": {
      "text/html": [
       "<div>\n",
       "<style scoped>\n",
       "    .dataframe tbody tr th:only-of-type {\n",
       "        vertical-align: middle;\n",
       "    }\n",
       "\n",
       "    .dataframe tbody tr th {\n",
       "        vertical-align: top;\n",
       "    }\n",
       "\n",
       "    .dataframe thead th {\n",
       "        text-align: right;\n",
       "    }\n",
       "</style>\n",
       "<table border=\"1\" class=\"dataframe\">\n",
       "  <thead>\n",
       "    <tr style=\"text-align: right;\">\n",
       "      <th></th>\n",
       "      <th>international_plan</th>\n",
       "      <th>voice_mail_plan</th>\n",
       "      <th>area_code_408</th>\n",
       "      <th>area_code_415</th>\n",
       "      <th>area_code_510</th>\n",
       "      <th>region_Midwest</th>\n",
       "      <th>region_Northeast</th>\n",
       "      <th>region_South</th>\n",
       "      <th>region_West</th>\n",
       "      <th>account_length</th>\n",
       "      <th>...</th>\n",
       "      <th>total_eve_calls</th>\n",
       "      <th>total_eve_charge</th>\n",
       "      <th>total_night_minutes</th>\n",
       "      <th>total_night_calls</th>\n",
       "      <th>total_night_charge</th>\n",
       "      <th>total_intl_minutes</th>\n",
       "      <th>total_intl_calls</th>\n",
       "      <th>total_intl_charge</th>\n",
       "      <th>customer_service_calls</th>\n",
       "      <th>churn</th>\n",
       "    </tr>\n",
       "  </thead>\n",
       "  <tbody>\n",
       "    <tr>\n",
       "      <th>0</th>\n",
       "      <td>0.0</td>\n",
       "      <td>1.0</td>\n",
       "      <td>0.0</td>\n",
       "      <td>1.0</td>\n",
       "      <td>0.0</td>\n",
       "      <td>1.0</td>\n",
       "      <td>0.0</td>\n",
       "      <td>0.0</td>\n",
       "      <td>0.0</td>\n",
       "      <td>0.524793</td>\n",
       "      <td>...</td>\n",
       "      <td>0.582353</td>\n",
       "      <td>0.542866</td>\n",
       "      <td>0.572161</td>\n",
       "      <td>0.436090</td>\n",
       "      <td>0.572152</td>\n",
       "      <td>0.500</td>\n",
       "      <td>0.15</td>\n",
       "      <td>0.500000</td>\n",
       "      <td>0.111111</td>\n",
       "      <td>0.0</td>\n",
       "    </tr>\n",
       "    <tr>\n",
       "      <th>1</th>\n",
       "      <td>0.0</td>\n",
       "      <td>1.0</td>\n",
       "      <td>0.0</td>\n",
       "      <td>1.0</td>\n",
       "      <td>0.0</td>\n",
       "      <td>1.0</td>\n",
       "      <td>0.0</td>\n",
       "      <td>0.0</td>\n",
       "      <td>0.0</td>\n",
       "      <td>0.438017</td>\n",
       "      <td>...</td>\n",
       "      <td>0.605882</td>\n",
       "      <td>0.537690</td>\n",
       "      <td>0.599772</td>\n",
       "      <td>0.526316</td>\n",
       "      <td>0.600000</td>\n",
       "      <td>0.685</td>\n",
       "      <td>0.15</td>\n",
       "      <td>0.685185</td>\n",
       "      <td>0.111111</td>\n",
       "      <td>0.0</td>\n",
       "    </tr>\n",
       "    <tr>\n",
       "      <th>2</th>\n",
       "      <td>0.0</td>\n",
       "      <td>0.0</td>\n",
       "      <td>0.0</td>\n",
       "      <td>1.0</td>\n",
       "      <td>0.0</td>\n",
       "      <td>0.0</td>\n",
       "      <td>1.0</td>\n",
       "      <td>0.0</td>\n",
       "      <td>0.0</td>\n",
       "      <td>0.561983</td>\n",
       "      <td>...</td>\n",
       "      <td>0.647059</td>\n",
       "      <td>0.333225</td>\n",
       "      <td>0.338457</td>\n",
       "      <td>0.533835</td>\n",
       "      <td>0.338608</td>\n",
       "      <td>0.610</td>\n",
       "      <td>0.25</td>\n",
       "      <td>0.609259</td>\n",
       "      <td>0.000000</td>\n",
       "      <td>0.0</td>\n",
       "    </tr>\n",
       "    <tr>\n",
       "      <th>3</th>\n",
       "      <td>1.0</td>\n",
       "      <td>0.0</td>\n",
       "      <td>1.0</td>\n",
       "      <td>0.0</td>\n",
       "      <td>0.0</td>\n",
       "      <td>1.0</td>\n",
       "      <td>0.0</td>\n",
       "      <td>0.0</td>\n",
       "      <td>0.0</td>\n",
       "      <td>0.342975</td>\n",
       "      <td>...</td>\n",
       "      <td>0.517647</td>\n",
       "      <td>0.170171</td>\n",
       "      <td>0.436095</td>\n",
       "      <td>0.421053</td>\n",
       "      <td>0.436076</td>\n",
       "      <td>0.330</td>\n",
       "      <td>0.35</td>\n",
       "      <td>0.329630</td>\n",
       "      <td>0.222222</td>\n",
       "      <td>0.0</td>\n",
       "    </tr>\n",
       "    <tr>\n",
       "      <th>4</th>\n",
       "      <td>1.0</td>\n",
       "      <td>0.0</td>\n",
       "      <td>0.0</td>\n",
       "      <td>1.0</td>\n",
       "      <td>0.0</td>\n",
       "      <td>0.0</td>\n",
       "      <td>0.0</td>\n",
       "      <td>1.0</td>\n",
       "      <td>0.0</td>\n",
       "      <td>0.305785</td>\n",
       "      <td>...</td>\n",
       "      <td>0.717647</td>\n",
       "      <td>0.407959</td>\n",
       "      <td>0.407629</td>\n",
       "      <td>0.661654</td>\n",
       "      <td>0.407595</td>\n",
       "      <td>0.505</td>\n",
       "      <td>0.15</td>\n",
       "      <td>0.505556</td>\n",
       "      <td>0.333333</td>\n",
       "      <td>0.0</td>\n",
       "    </tr>\n",
       "    <tr>\n",
       "      <th>...</th>\n",
       "      <td>...</td>\n",
       "      <td>...</td>\n",
       "      <td>...</td>\n",
       "      <td>...</td>\n",
       "      <td>...</td>\n",
       "      <td>...</td>\n",
       "      <td>...</td>\n",
       "      <td>...</td>\n",
       "      <td>...</td>\n",
       "      <td>...</td>\n",
       "      <td>...</td>\n",
       "      <td>...</td>\n",
       "      <td>...</td>\n",
       "      <td>...</td>\n",
       "      <td>...</td>\n",
       "      <td>...</td>\n",
       "      <td>...</td>\n",
       "      <td>...</td>\n",
       "      <td>...</td>\n",
       "      <td>...</td>\n",
       "      <td>...</td>\n",
       "    </tr>\n",
       "    <tr>\n",
       "      <th>2661</th>\n",
       "      <td>0.0</td>\n",
       "      <td>0.0</td>\n",
       "      <td>0.0</td>\n",
       "      <td>1.0</td>\n",
       "      <td>0.0</td>\n",
       "      <td>0.0</td>\n",
       "      <td>0.0</td>\n",
       "      <td>1.0</td>\n",
       "      <td>0.0</td>\n",
       "      <td>0.322314</td>\n",
       "      <td>...</td>\n",
       "      <td>0.400000</td>\n",
       "      <td>0.521514</td>\n",
       "      <td>0.505835</td>\n",
       "      <td>0.714286</td>\n",
       "      <td>0.505696</td>\n",
       "      <td>0.590</td>\n",
       "      <td>0.25</td>\n",
       "      <td>0.590741</td>\n",
       "      <td>0.222222</td>\n",
       "      <td>0.0</td>\n",
       "    </tr>\n",
       "    <tr>\n",
       "      <th>2662</th>\n",
       "      <td>0.0</td>\n",
       "      <td>1.0</td>\n",
       "      <td>0.0</td>\n",
       "      <td>1.0</td>\n",
       "      <td>0.0</td>\n",
       "      <td>0.0</td>\n",
       "      <td>0.0</td>\n",
       "      <td>0.0</td>\n",
       "      <td>1.0</td>\n",
       "      <td>0.789256</td>\n",
       "      <td>...</td>\n",
       "      <td>0.741176</td>\n",
       "      <td>0.592688</td>\n",
       "      <td>0.670083</td>\n",
       "      <td>0.375940</td>\n",
       "      <td>0.670253</td>\n",
       "      <td>0.495</td>\n",
       "      <td>0.30</td>\n",
       "      <td>0.494444</td>\n",
       "      <td>0.222222</td>\n",
       "      <td>0.0</td>\n",
       "    </tr>\n",
       "    <tr>\n",
       "      <th>2663</th>\n",
       "      <td>0.0</td>\n",
       "      <td>0.0</td>\n",
       "      <td>0.0</td>\n",
       "      <td>1.0</td>\n",
       "      <td>0.0</td>\n",
       "      <td>0.0</td>\n",
       "      <td>0.0</td>\n",
       "      <td>1.0</td>\n",
       "      <td>0.0</td>\n",
       "      <td>0.276860</td>\n",
       "      <td>...</td>\n",
       "      <td>0.323529</td>\n",
       "      <td>0.421870</td>\n",
       "      <td>0.420154</td>\n",
       "      <td>0.676692</td>\n",
       "      <td>0.420253</td>\n",
       "      <td>0.480</td>\n",
       "      <td>0.20</td>\n",
       "      <td>0.479630</td>\n",
       "      <td>0.333333</td>\n",
       "      <td>0.0</td>\n",
       "    </tr>\n",
       "    <tr>\n",
       "      <th>2664</th>\n",
       "      <td>0.0</td>\n",
       "      <td>0.0</td>\n",
       "      <td>0.0</td>\n",
       "      <td>0.0</td>\n",
       "      <td>1.0</td>\n",
       "      <td>0.0</td>\n",
       "      <td>1.0</td>\n",
       "      <td>0.0</td>\n",
       "      <td>0.0</td>\n",
       "      <td>0.111570</td>\n",
       "      <td>...</td>\n",
       "      <td>0.341176</td>\n",
       "      <td>0.794241</td>\n",
       "      <td>0.421862</td>\n",
       "      <td>0.436090</td>\n",
       "      <td>0.422152</td>\n",
       "      <td>0.705</td>\n",
       "      <td>0.30</td>\n",
       "      <td>0.705556</td>\n",
       "      <td>0.222222</td>\n",
       "      <td>0.0</td>\n",
       "    </tr>\n",
       "    <tr>\n",
       "      <th>2665</th>\n",
       "      <td>0.0</td>\n",
       "      <td>1.0</td>\n",
       "      <td>0.0</td>\n",
       "      <td>1.0</td>\n",
       "      <td>0.0</td>\n",
       "      <td>0.0</td>\n",
       "      <td>0.0</td>\n",
       "      <td>1.0</td>\n",
       "      <td>0.0</td>\n",
       "      <td>0.301653</td>\n",
       "      <td>...</td>\n",
       "      <td>0.482353</td>\n",
       "      <td>0.731155</td>\n",
       "      <td>0.562767</td>\n",
       "      <td>0.330827</td>\n",
       "      <td>0.562658</td>\n",
       "      <td>0.685</td>\n",
       "      <td>0.20</td>\n",
       "      <td>0.685185</td>\n",
       "      <td>0.000000</td>\n",
       "      <td>0.0</td>\n",
       "    </tr>\n",
       "  </tbody>\n",
       "</table>\n",
       "<p>2666 rows × 25 columns</p>\n",
       "</div>"
      ],
      "text/plain": [
       "      international_plan  voice_mail_plan  area_code_408  area_code_415  \\\n",
       "0                    0.0              1.0            0.0            1.0   \n",
       "1                    0.0              1.0            0.0            1.0   \n",
       "2                    0.0              0.0            0.0            1.0   \n",
       "3                    1.0              0.0            1.0            0.0   \n",
       "4                    1.0              0.0            0.0            1.0   \n",
       "...                  ...              ...            ...            ...   \n",
       "2661                 0.0              0.0            0.0            1.0   \n",
       "2662                 0.0              1.0            0.0            1.0   \n",
       "2663                 0.0              0.0            0.0            1.0   \n",
       "2664                 0.0              0.0            0.0            0.0   \n",
       "2665                 0.0              1.0            0.0            1.0   \n",
       "\n",
       "      area_code_510  region_Midwest  region_Northeast  region_South  \\\n",
       "0               0.0             1.0               0.0           0.0   \n",
       "1               0.0             1.0               0.0           0.0   \n",
       "2               0.0             0.0               1.0           0.0   \n",
       "3               0.0             1.0               0.0           0.0   \n",
       "4               0.0             0.0               0.0           1.0   \n",
       "...             ...             ...               ...           ...   \n",
       "2661            0.0             0.0               0.0           1.0   \n",
       "2662            0.0             0.0               0.0           0.0   \n",
       "2663            0.0             0.0               0.0           1.0   \n",
       "2664            1.0             0.0               1.0           0.0   \n",
       "2665            0.0             0.0               0.0           1.0   \n",
       "\n",
       "      region_West  account_length  ...  total_eve_calls  total_eve_charge  \\\n",
       "0             0.0        0.524793  ...         0.582353          0.542866   \n",
       "1             0.0        0.438017  ...         0.605882          0.537690   \n",
       "2             0.0        0.561983  ...         0.647059          0.333225   \n",
       "3             0.0        0.342975  ...         0.517647          0.170171   \n",
       "4             0.0        0.305785  ...         0.717647          0.407959   \n",
       "...           ...             ...  ...              ...               ...   \n",
       "2661          0.0        0.322314  ...         0.400000          0.521514   \n",
       "2662          1.0        0.789256  ...         0.741176          0.592688   \n",
       "2663          0.0        0.276860  ...         0.323529          0.421870   \n",
       "2664          0.0        0.111570  ...         0.341176          0.794241   \n",
       "2665          0.0        0.301653  ...         0.482353          0.731155   \n",
       "\n",
       "      total_night_minutes  total_night_calls  total_night_charge  \\\n",
       "0                0.572161           0.436090            0.572152   \n",
       "1                0.599772           0.526316            0.600000   \n",
       "2                0.338457           0.533835            0.338608   \n",
       "3                0.436095           0.421053            0.436076   \n",
       "4                0.407629           0.661654            0.407595   \n",
       "...                   ...                ...                 ...   \n",
       "2661             0.505835           0.714286            0.505696   \n",
       "2662             0.670083           0.375940            0.670253   \n",
       "2663             0.420154           0.676692            0.420253   \n",
       "2664             0.421862           0.436090            0.422152   \n",
       "2665             0.562767           0.330827            0.562658   \n",
       "\n",
       "      total_intl_minutes  total_intl_calls  total_intl_charge  \\\n",
       "0                  0.500              0.15           0.500000   \n",
       "1                  0.685              0.15           0.685185   \n",
       "2                  0.610              0.25           0.609259   \n",
       "3                  0.330              0.35           0.329630   \n",
       "4                  0.505              0.15           0.505556   \n",
       "...                  ...               ...                ...   \n",
       "2661               0.590              0.25           0.590741   \n",
       "2662               0.495              0.30           0.494444   \n",
       "2663               0.480              0.20           0.479630   \n",
       "2664               0.705              0.30           0.705556   \n",
       "2665               0.685              0.20           0.685185   \n",
       "\n",
       "      customer_service_calls  churn  \n",
       "0                   0.111111    0.0  \n",
       "1                   0.111111    0.0  \n",
       "2                   0.000000    0.0  \n",
       "3                   0.222222    0.0  \n",
       "4                   0.333333    0.0  \n",
       "...                      ...    ...  \n",
       "2661                0.222222    0.0  \n",
       "2662                0.222222    0.0  \n",
       "2663                0.333333    0.0  \n",
       "2664                0.222222    0.0  \n",
       "2665                0.000000    0.0  \n",
       "\n",
       "[2666 rows x 25 columns]"
      ]
     },
     "execution_count": 3,
     "metadata": {},
     "output_type": "execute_result"
    }
   ],
   "source": [
    "train"
   ]
  },
  {
   "cell_type": "code",
   "execution_count": 4,
   "id": "a8a3da4c",
   "metadata": {},
   "outputs": [
    {
     "data": {
      "text/plain": [
       "Index(['international_plan', 'voice_mail_plan', 'area_code_408',\n",
       "       'area_code_415', 'area_code_510', 'region_Midwest', 'region_Northeast',\n",
       "       'region_South', 'region_West', 'account_length',\n",
       "       'number_vmail_messages', 'total_day_minutes', 'total_day_calls',\n",
       "       'total_day_charge', 'total_eve_minutes', 'total_eve_calls',\n",
       "       'total_eve_charge', 'total_night_minutes', 'total_night_calls',\n",
       "       'total_night_charge', 'total_intl_minutes', 'total_intl_calls',\n",
       "       'total_intl_charge', 'customer_service_calls', 'churn'],\n",
       "      dtype='object')"
      ]
     },
     "execution_count": 4,
     "metadata": {},
     "output_type": "execute_result"
    }
   ],
   "source": [
    "train.columns"
   ]
  },
  {
   "cell_type": "code",
   "execution_count": 5,
   "id": "1be00876",
   "metadata": {},
   "outputs": [],
   "source": [
    "x_train = train.drop(\"churn\", axis = 1)\n",
    "y_train = train[\"churn\"]\n",
    "x_test = test.drop(\"churn\", axis = 1)\n",
    "y_test = test[\"churn\"]"
   ]
  },
  {
   "cell_type": "code",
   "execution_count": 6,
   "id": "e9641115",
   "metadata": {},
   "outputs": [],
   "source": [
    "estimator = Lasso()"
   ]
  },
  {
   "cell_type": "code",
   "execution_count": 7,
   "id": "0cb51227",
   "metadata": {},
   "outputs": [],
   "source": [
    "selector = RFECV(estimator, min_features_to_select = 8, step=10, cv = 5)\n",
    "selector = selector.fit(x_train, y_train)"
   ]
  },
  {
   "cell_type": "code",
   "execution_count": 8,
   "id": "fa48c7ef",
   "metadata": {},
   "outputs": [
    {
     "data": {
      "text/plain": [
       "array(['region_South', 'region_West', 'account_length',\n",
       "       'number_vmail_messages', 'total_day_minutes', 'total_day_calls',\n",
       "       'total_intl_charge', 'customer_service_calls'], dtype=object)"
      ]
     },
     "execution_count": 8,
     "metadata": {},
     "output_type": "execute_result"
    }
   ],
   "source": [
    "selector.get_feature_names_out()"
   ]
  },
  {
   "cell_type": "code",
   "execution_count": 9,
   "id": "4df42e0a",
   "metadata": {},
   "outputs": [
    {
     "data": {
      "text/plain": [
       "array(['international_plan', 'voice_mail_plan', 'area_code_408',\n",
       "       'area_code_415', 'area_code_510', 'region_Midwest',\n",
       "       'region_Northeast', 'region_South', 'region_West',\n",
       "       'account_length', 'number_vmail_messages', 'total_day_minutes',\n",
       "       'total_day_calls', 'total_day_charge', 'total_eve_minutes',\n",
       "       'total_eve_calls', 'total_eve_charge', 'total_night_minutes',\n",
       "       'total_night_calls', 'total_night_charge', 'total_intl_minutes',\n",
       "       'total_intl_calls', 'total_intl_charge', 'customer_service_calls'],\n",
       "      dtype=object)"
      ]
     },
     "execution_count": 9,
     "metadata": {},
     "output_type": "execute_result"
    }
   ],
   "source": [
    "selector.feature_names_in_"
   ]
  },
  {
   "cell_type": "code",
   "execution_count": 10,
   "id": "7faa51ab",
   "metadata": {},
   "outputs": [
    {
     "data": {
      "text/plain": [
       "array([3, 2, 2, 2, 2, 2, 2, 1, 1, 1, 1, 1, 1, 3, 3, 3, 3, 3, 3, 3, 3, 3,\n",
       "       1, 1])"
      ]
     },
     "execution_count": 10,
     "metadata": {},
     "output_type": "execute_result"
    }
   ],
   "source": [
    "selector.ranking_"
   ]
  },
  {
   "cell_type": "code",
   "execution_count": 11,
   "id": "9499200d",
   "metadata": {},
   "outputs": [
    {
     "data": {
      "text/plain": [
       "(2666, 24)"
      ]
     },
     "execution_count": 11,
     "metadata": {},
     "output_type": "execute_result"
    }
   ],
   "source": [
    "x_train.shape"
   ]
  },
  {
   "cell_type": "code",
   "execution_count": 12,
   "id": "a59bfd93",
   "metadata": {},
   "outputs": [
    {
     "name": "stdout",
     "output_type": "stream",
     "text": [
      "<class 'pandas.core.frame.DataFrame'>\n",
      "RangeIndex: 2666 entries, 0 to 2665\n",
      "Data columns (total 24 columns):\n",
      " #   Column                  Non-Null Count  Dtype  \n",
      "---  ------                  --------------  -----  \n",
      " 0   international_plan      2666 non-null   float64\n",
      " 1   voice_mail_plan         2666 non-null   float64\n",
      " 2   area_code_408           2666 non-null   float64\n",
      " 3   area_code_415           2666 non-null   float64\n",
      " 4   area_code_510           2666 non-null   float64\n",
      " 5   region_Midwest          2666 non-null   float64\n",
      " 6   region_Northeast        2666 non-null   float64\n",
      " 7   region_South            2666 non-null   float64\n",
      " 8   region_West             2666 non-null   float64\n",
      " 9   account_length          2666 non-null   float64\n",
      " 10  number_vmail_messages   2666 non-null   float64\n",
      " 11  total_day_minutes       2666 non-null   float64\n",
      " 12  total_day_calls         2666 non-null   float64\n",
      " 13  total_day_charge        2666 non-null   float64\n",
      " 14  total_eve_minutes       2666 non-null   float64\n",
      " 15  total_eve_calls         2666 non-null   float64\n",
      " 16  total_eve_charge        2666 non-null   float64\n",
      " 17  total_night_minutes     2666 non-null   float64\n",
      " 18  total_night_calls       2666 non-null   float64\n",
      " 19  total_night_charge      2666 non-null   float64\n",
      " 20  total_intl_minutes      2666 non-null   float64\n",
      " 21  total_intl_calls        2666 non-null   float64\n",
      " 22  total_intl_charge       2666 non-null   float64\n",
      " 23  customer_service_calls  2666 non-null   float64\n",
      "dtypes: float64(24)\n",
      "memory usage: 500.0 KB\n"
     ]
    }
   ],
   "source": [
    "x_train.info()"
   ]
  },
  {
   "cell_type": "markdown",
   "id": "521e4681",
   "metadata": {},
   "source": [
    "### Regular PCA"
   ]
  },
  {
   "cell_type": "code",
   "execution_count": 13,
   "id": "8acb2efb",
   "metadata": {},
   "outputs": [
    {
     "data": {
      "text/html": [
       "<style>#sk-container-id-1 {color: black;background-color: white;}#sk-container-id-1 pre{padding: 0;}#sk-container-id-1 div.sk-toggleable {background-color: white;}#sk-container-id-1 label.sk-toggleable__label {cursor: pointer;display: block;width: 100%;margin-bottom: 0;padding: 0.3em;box-sizing: border-box;text-align: center;}#sk-container-id-1 label.sk-toggleable__label-arrow:before {content: \"▸\";float: left;margin-right: 0.25em;color: #696969;}#sk-container-id-1 label.sk-toggleable__label-arrow:hover:before {color: black;}#sk-container-id-1 div.sk-estimator:hover label.sk-toggleable__label-arrow:before {color: black;}#sk-container-id-1 div.sk-toggleable__content {max-height: 0;max-width: 0;overflow: hidden;text-align: left;background-color: #f0f8ff;}#sk-container-id-1 div.sk-toggleable__content pre {margin: 0.2em;color: black;border-radius: 0.25em;background-color: #f0f8ff;}#sk-container-id-1 input.sk-toggleable__control:checked~div.sk-toggleable__content {max-height: 200px;max-width: 100%;overflow: auto;}#sk-container-id-1 input.sk-toggleable__control:checked~label.sk-toggleable__label-arrow:before {content: \"▾\";}#sk-container-id-1 div.sk-estimator input.sk-toggleable__control:checked~label.sk-toggleable__label {background-color: #d4ebff;}#sk-container-id-1 div.sk-label input.sk-toggleable__control:checked~label.sk-toggleable__label {background-color: #d4ebff;}#sk-container-id-1 input.sk-hidden--visually {border: 0;clip: rect(1px 1px 1px 1px);clip: rect(1px, 1px, 1px, 1px);height: 1px;margin: -1px;overflow: hidden;padding: 0;position: absolute;width: 1px;}#sk-container-id-1 div.sk-estimator {font-family: monospace;background-color: #f0f8ff;border: 1px dotted black;border-radius: 0.25em;box-sizing: border-box;margin-bottom: 0.5em;}#sk-container-id-1 div.sk-estimator:hover {background-color: #d4ebff;}#sk-container-id-1 div.sk-parallel-item::after {content: \"\";width: 100%;border-bottom: 1px solid gray;flex-grow: 1;}#sk-container-id-1 div.sk-label:hover label.sk-toggleable__label {background-color: #d4ebff;}#sk-container-id-1 div.sk-serial::before {content: \"\";position: absolute;border-left: 1px solid gray;box-sizing: border-box;top: 0;bottom: 0;left: 50%;z-index: 0;}#sk-container-id-1 div.sk-serial {display: flex;flex-direction: column;align-items: center;background-color: white;padding-right: 0.2em;padding-left: 0.2em;position: relative;}#sk-container-id-1 div.sk-item {position: relative;z-index: 1;}#sk-container-id-1 div.sk-parallel {display: flex;align-items: stretch;justify-content: center;background-color: white;position: relative;}#sk-container-id-1 div.sk-item::before, #sk-container-id-1 div.sk-parallel-item::before {content: \"\";position: absolute;border-left: 1px solid gray;box-sizing: border-box;top: 0;bottom: 0;left: 50%;z-index: -1;}#sk-container-id-1 div.sk-parallel-item {display: flex;flex-direction: column;z-index: 1;position: relative;background-color: white;}#sk-container-id-1 div.sk-parallel-item:first-child::after {align-self: flex-end;width: 50%;}#sk-container-id-1 div.sk-parallel-item:last-child::after {align-self: flex-start;width: 50%;}#sk-container-id-1 div.sk-parallel-item:only-child::after {width: 0;}#sk-container-id-1 div.sk-dashed-wrapped {border: 1px dashed gray;margin: 0 0.4em 0.5em 0.4em;box-sizing: border-box;padding-bottom: 0.4em;background-color: white;}#sk-container-id-1 div.sk-label label {font-family: monospace;font-weight: bold;display: inline-block;line-height: 1.2em;}#sk-container-id-1 div.sk-label-container {text-align: center;}#sk-container-id-1 div.sk-container {/* jupyter's `normalize.less` sets `[hidden] { display: none; }` but bootstrap.min.css set `[hidden] { display: none !important; }` so we also need the `!important` here to be able to override the default hidden behavior on the sphinx rendered scikit-learn.org. See: https://github.com/scikit-learn/scikit-learn/issues/21755 */display: inline-block !important;position: relative;}#sk-container-id-1 div.sk-text-repr-fallback {display: none;}</style><div id=\"sk-container-id-1\" class=\"sk-top-container\"><div class=\"sk-text-repr-fallback\"><pre>PCA(n_components=0.9)</pre><b>In a Jupyter environment, please rerun this cell to show the HTML representation or trust the notebook. <br />On GitHub, the HTML representation is unable to render, please try loading this page with nbviewer.org.</b></div><div class=\"sk-container\" hidden><div class=\"sk-item\"><div class=\"sk-estimator sk-toggleable\"><input class=\"sk-toggleable__control sk-hidden--visually\" id=\"sk-estimator-id-1\" type=\"checkbox\" checked><label for=\"sk-estimator-id-1\" class=\"sk-toggleable__label sk-toggleable__label-arrow\">PCA</label><div class=\"sk-toggleable__content\"><pre>PCA(n_components=0.9)</pre></div></div></div></div></div>"
      ],
      "text/plain": [
       "PCA(n_components=0.9)"
      ]
     },
     "execution_count": 13,
     "metadata": {},
     "output_type": "execute_result"
    }
   ],
   "source": [
    "pca = PCA(n_components=0.9)\n",
    "pca.fit(x_train)"
   ]
  },
  {
   "cell_type": "code",
   "execution_count": 14,
   "id": "66395965",
   "metadata": {},
   "outputs": [
    {
     "data": {
      "text/plain": [
       "9"
      ]
     },
     "execution_count": 14,
     "metadata": {},
     "output_type": "execute_result"
    }
   ],
   "source": [
    "pca.n_components_"
   ]
  },
  {
   "cell_type": "code",
   "execution_count": 15,
   "id": "1415ba5f",
   "metadata": {},
   "outputs": [],
   "source": [
    "x_train_pca = pca.transform(x_train)\n",
    "x_test_pca = pca.transform(x_test)"
   ]
  },
  {
   "cell_type": "code",
   "execution_count": 16,
   "id": "e6210d74",
   "metadata": {},
   "outputs": [],
   "source": [
    "col = []\n",
    "for i in range(pca.n_components_):\n",
    "    col.append(\"V_\" + str(i))"
   ]
  },
  {
   "cell_type": "code",
   "execution_count": 17,
   "id": "e436fd10",
   "metadata": {},
   "outputs": [],
   "source": [
    "train_sav = pd.DataFrame(x_train_pca, columns=col)\n",
    "train_sav[\"churn\"] = y_train\n",
    "test_sav = pd.DataFrame(x_test_pca, columns=col)\n",
    "test_sav[\"churn\"] = y_test"
   ]
  },
  {
   "cell_type": "code",
   "execution_count": 18,
   "id": "38885b8c",
   "metadata": {},
   "outputs": [],
   "source": [
    "train_0 = train_sav[train_sav[\"churn\"] == 0].drop_duplicates().reset_index(drop=True)\n",
    "train_1 = train_sav[train_sav[\"churn\"] == 1].reset_index(drop=True)"
   ]
  },
  {
   "cell_type": "code",
   "execution_count": 19,
   "id": "f51fd15d",
   "metadata": {},
   "outputs": [],
   "source": [
    "np.random.seed(42)\n",
    "numbers = np.random.randint(0,high=len(train_0), size=len(train_1))"
   ]
  },
  {
   "cell_type": "code",
   "execution_count": 20,
   "id": "39be1387",
   "metadata": {},
   "outputs": [],
   "source": [
    "train_0 = train_0.iloc[numbers,:].reset_index(drop=True)\n",
    "train_new = pd.concat([train_0, train_1], axis = 0).reset_index(drop=True)"
   ]
  },
  {
   "cell_type": "code",
   "execution_count": 21,
   "id": "0a497394",
   "metadata": {},
   "outputs": [],
   "source": [
    "train_new.to_csv(\"../data/train_pca_new.csv\", index=False)"
   ]
  },
  {
   "cell_type": "code",
   "execution_count": 22,
   "id": "f09f3bcb",
   "metadata": {},
   "outputs": [],
   "source": [
    "train_sav.to_csv(\"../data/train_pca.csv\", index=False)"
   ]
  },
  {
   "cell_type": "code",
   "execution_count": 23,
   "id": "3f9f1da6",
   "metadata": {},
   "outputs": [],
   "source": [
    "test_sav.to_csv(\"../data/test_pca.csv\", index=False)"
   ]
  },
  {
   "cell_type": "code",
   "execution_count": 24,
   "id": "2b53aa85",
   "metadata": {},
   "outputs": [],
   "source": [
    "train_0 = train[train[\"churn\"] == 0].drop_duplicates().reset_index(drop=True)\n",
    "train_1 = train[train[\"churn\"] == 1].reset_index(drop=True)"
   ]
  },
  {
   "cell_type": "code",
   "execution_count": 25,
   "id": "5ca20b72",
   "metadata": {},
   "outputs": [],
   "source": [
    "np.random.seed(42)\n",
    "numbers = np.random.randint(0,high=len(train_0), size=len(train_1))"
   ]
  },
  {
   "cell_type": "code",
   "execution_count": 26,
   "id": "178b3df0",
   "metadata": {},
   "outputs": [],
   "source": [
    "train_0 = train_0.iloc[numbers,:].reset_index(drop=True)\n",
    "train = pd.concat([train_0, train_1], axis = 0).reset_index(drop=True)"
   ]
  },
  {
   "cell_type": "code",
   "execution_count": 27,
   "id": "b9e5239b",
   "metadata": {},
   "outputs": [],
   "source": [
    "train.to_csv(\"../data/train_fe_small.csv\", index=False)"
   ]
  },
  {
   "cell_type": "markdown",
   "id": "9a34f80a",
   "metadata": {},
   "source": [
    "### Quantum PCA"
   ]
  },
  {
   "cell_type": "code",
   "execution_count": 28,
   "id": "29e57680",
   "metadata": {},
   "outputs": [
    {
     "data": {
      "text/plain": [
       "24"
      ]
     },
     "execution_count": 28,
     "metadata": {},
     "output_type": "execute_result"
    }
   ],
   "source": [
    "x_train.shape[1]"
   ]
  },
  {
   "cell_type": "code",
   "execution_count": 29,
   "id": "fbaaa35c",
   "metadata": {},
   "outputs": [],
   "source": [
    "#sampler = Sampler()\n",
    "#fidelity = ComputeUncompute(sampler=sampler)\n",
    "#feature_map = PauliFeatureMap(feature_dimension=x_train.shape[1], reps=2, entanglement=\"linear\")\n",
    "#qpca_kernel = FidelityQuantumKernel(fidelity=fidelity, feature_map=feature_map)"
   ]
  },
  {
   "cell_type": "code",
   "execution_count": 30,
   "id": "0b6925d0",
   "metadata": {},
   "outputs": [],
   "source": [
    "#matrix_train = qpca_kernel.evaluate(x_vec=x_train)\n",
    "#matrix_test = qpca_kernel.evaluate(x_vec=x_test, y_vec=x_train)"
   ]
  },
  {
   "cell_type": "code",
   "execution_count": 31,
   "id": "945eeb98",
   "metadata": {},
   "outputs": [],
   "source": [
    "#kernel_pca_q = KernelPCA(n_components=0.95, kernel=\"precomputed\")\n",
    "#train_q= kernel_pca_q.fit_transform(matrix_train)\n",
    "#test_features_q = kernel_pca_q.transform(matrix_test)"
   ]
  },
  {
   "cell_type": "code",
   "execution_count": null,
   "id": "636c8317",
   "metadata": {},
   "outputs": [],
   "source": []
  }
 ],
 "metadata": {
  "kernelspec": {
   "display_name": "Python 3 (ipykernel)",
   "language": "python",
   "name": "python3"
  },
  "language_info": {
   "codemirror_mode": {
    "name": "ipython",
    "version": 3
   },
   "file_extension": ".py",
   "mimetype": "text/x-python",
   "name": "python",
   "nbconvert_exporter": "python",
   "pygments_lexer": "ipython3",
   "version": "3.9.12"
  }
 },
 "nbformat": 4,
 "nbformat_minor": 5
}

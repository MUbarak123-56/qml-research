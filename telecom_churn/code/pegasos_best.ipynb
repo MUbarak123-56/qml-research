{
 "cells": [
  {
   "cell_type": "code",
   "execution_count": 1,
   "id": "4776f118",
   "metadata": {},
   "outputs": [],
   "source": [
    "import pandas as pd"
   ]
  },
  {
   "cell_type": "code",
   "execution_count": 2,
   "id": "4e4be290",
   "metadata": {},
   "outputs": [],
   "source": [
    "import os"
   ]
  },
  {
   "cell_type": "code",
   "execution_count": 4,
   "id": "365e72e2",
   "metadata": {},
   "outputs": [],
   "source": [
    "import os\n",
    "import pandas as pd\n",
    "res_list =os.listdir(\"../results/regular/pegasos_results_test\")\n",
    "df = pd.DataFrame()\n",
    "for res in res_list:\n",
    "    if \"pegasos\" in res:\n",
    "        new_df = pd.read_csv(\"../results/regular/pegasos_results_test/\" + res)\n",
    "        df = pd.concat([df, new_df], axis = 0).reset_index(drop=True)\n",
    "\n",
    "df.to_csv(\"../results/regular/pegasos_results_test/all.csv\", index=False)"
   ]
  },
  {
   "cell_type": "code",
   "execution_count": 8,
   "id": "81d59264",
   "metadata": {},
   "outputs": [],
   "source": [
    "df = df.sort_values(\"f1_test\", ascending=False).reset_index(drop=True) # replace test with val"
   ]
  },
  {
   "cell_type": "code",
   "execution_count": 15,
   "id": "049499dd",
   "metadata": {},
   "outputs": [
    {
     "data": {
      "text/html": [
       "<div>\n",
       "<style scoped>\n",
       "    .dataframe tbody tr th:only-of-type {\n",
       "        vertical-align: middle;\n",
       "    }\n",
       "\n",
       "    .dataframe tbody tr th {\n",
       "        vertical-align: top;\n",
       "    }\n",
       "\n",
       "    .dataframe thead th {\n",
       "        text-align: right;\n",
       "    }\n",
       "</style>\n",
       "<table border=\"1\" class=\"dataframe\">\n",
       "  <thead>\n",
       "    <tr style=\"text-align: right;\">\n",
       "      <th></th>\n",
       "      <th>f1_test</th>\n",
       "      <th>f1_train</th>\n",
       "      <th>prec_train</th>\n",
       "      <th>prec_test</th>\n",
       "      <th>recall_train</th>\n",
       "      <th>recall_test</th>\n",
       "      <th>elapsed</th>\n",
       "      <th>model</th>\n",
       "      <th>tau</th>\n",
       "      <th>C</th>\n",
       "    </tr>\n",
       "  </thead>\n",
       "  <tbody>\n",
       "    <tr>\n",
       "      <th>0</th>\n",
       "      <td>0.29653</td>\n",
       "      <td>0.563135</td>\n",
       "      <td>0.644518</td>\n",
       "      <td>0.211712</td>\n",
       "      <td>0.5</td>\n",
       "      <td>0.494737</td>\n",
       "      <td>89.552664</td>\n",
       "      <td>Pegasos QSVC</td>\n",
       "      <td>100</td>\n",
       "      <td>500</td>\n",
       "    </tr>\n",
       "  </tbody>\n",
       "</table>\n",
       "</div>"
      ],
      "text/plain": [
       "   f1_test  f1_train  prec_train  prec_test  recall_train  recall_test  \\\n",
       "0  0.29653  0.563135    0.644518   0.211712           0.5     0.494737   \n",
       "\n",
       "     elapsed         model  tau    C  \n",
       "0  89.552664  Pegasos QSVC  100  500  "
      ]
     },
     "execution_count": 15,
     "metadata": {},
     "output_type": "execute_result"
    }
   ],
   "source": [
    "df_new = df.head(1)\n",
    "df_new"
   ]
  },
  {
   "cell_type": "code",
   "execution_count": 16,
   "id": "5675cb7d",
   "metadata": {},
   "outputs": [],
   "source": [
    "df_new.to_csv(\"../results/regular/pegasos_qsvc.csv\", index=False)"
   ]
  },
  {
   "cell_type": "code",
   "execution_count": null,
   "id": "d77856f8",
   "metadata": {},
   "outputs": [],
   "source": []
  },
  {
   "cell_type": "code",
   "execution_count": null,
   "id": "9864f6f0",
   "metadata": {},
   "outputs": [],
   "source": []
  },
  {
   "cell_type": "code",
   "execution_count": null,
   "id": "373c5134",
   "metadata": {},
   "outputs": [],
   "source": []
  }
 ],
 "metadata": {
  "kernelspec": {
   "display_name": "Python 3 (ipykernel)",
   "language": "python",
   "name": "python3"
  },
  "language_info": {
   "codemirror_mode": {
    "name": "ipython",
    "version": 3
   },
   "file_extension": ".py",
   "mimetype": "text/x-python",
   "name": "python",
   "nbconvert_exporter": "python",
   "pygments_lexer": "ipython3",
   "version": "3.9.12"
  }
 },
 "nbformat": 4,
 "nbformat_minor": 5
}

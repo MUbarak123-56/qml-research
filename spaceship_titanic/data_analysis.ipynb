{
 "cells": [
  {
   "cell_type": "code",
   "execution_count": 1,
   "id": "1ec1e35b",
   "metadata": {},
   "outputs": [],
   "source": [
    "import pandas as pd\n",
    "import seaborn as sns; sns.set_style(\"darkgrid\")\n",
    "import matplotlib.pyplot as plt\n",
    "%matplotlib inline\n",
    "import os\n",
    "from IPython import display\n",
    "from PIL import Image"
   ]
  },
  {
   "cell_type": "markdown",
   "id": "3816cebc",
   "metadata": {},
   "source": [
    "### Metrics report"
   ]
  },
  {
   "cell_type": "code",
   "execution_count": 2,
   "id": "2603a7ec",
   "metadata": {},
   "outputs": [],
   "source": [
    "df = pd.DataFrame()"
   ]
  },
  {
   "cell_type": "code",
   "execution_count": 3,
   "id": "2fe78868",
   "metadata": {},
   "outputs": [],
   "source": [
    "data_list = os.listdir(\"results/regular/\")"
   ]
  },
  {
   "cell_type": "code",
   "execution_count": 4,
   "id": "c38e86d4",
   "metadata": {},
   "outputs": [],
   "source": [
    "for data in data_list:\n",
    "    if \".csv\" in data:\n",
    "        new_df = pd.read_csv(\"results/regular/\" + data)\n",
    "        df = pd.concat([df, new_df], axis = 0).reset_index(drop=True)"
   ]
  },
  {
   "cell_type": "code",
   "execution_count": 5,
   "id": "4777d8df",
   "metadata": {},
   "outputs": [],
   "source": [
    "#vqc_list = os.listdir(\"\")\n",
    "vqc_df = pd.read_csv(\"vqc_results/train_process/su2_cobyla_2.csv\")\n",
    "vqc_df[\"model\"] = \"VQC\"\n",
    "df = pd.concat([df, vqc_df], axis = 0).reset_index(drop=True)"
   ]
  },
  {
   "cell_type": "code",
   "execution_count": 6,
   "id": "45ed568d",
   "metadata": {},
   "outputs": [
    {
     "data": {
      "text/plain": [
       "Index(['f1_test', 'f1_train', 'prec_train', 'prec_test', 'recall_train',\n",
       "       'recall_test', 'model', 'elapsed', 'tau', 'C', 'feature_map_type',\n",
       "       'optimizer', 'objective_vals', 'Ansatz', 'Training time', 'Model',\n",
       "       'Max Iter', 'reps'],\n",
       "      dtype='object')"
      ]
     },
     "execution_count": 6,
     "metadata": {},
     "output_type": "execute_result"
    }
   ],
   "source": [
    "df.columns"
   ]
  },
  {
   "cell_type": "code",
   "execution_count": 7,
   "id": "86616d57",
   "metadata": {},
   "outputs": [],
   "source": [
    "df = df[['f1_test', 'f1_train', 'prec_train', 'prec_test', 'recall_train', 'recall_test', 'model', 'elapsed']]"
   ]
  },
  {
   "cell_type": "code",
   "execution_count": 8,
   "id": "7dceaeaa",
   "metadata": {},
   "outputs": [
    {
     "data": {
      "text/html": [
       "<div>\n",
       "<style scoped>\n",
       "    .dataframe tbody tr th:only-of-type {\n",
       "        vertical-align: middle;\n",
       "    }\n",
       "\n",
       "    .dataframe tbody tr th {\n",
       "        vertical-align: top;\n",
       "    }\n",
       "\n",
       "    .dataframe thead th {\n",
       "        text-align: right;\n",
       "    }\n",
       "</style>\n",
       "<table border=\"1\" class=\"dataframe\">\n",
       "  <thead>\n",
       "    <tr style=\"text-align: right;\">\n",
       "      <th></th>\n",
       "      <th>f1_test</th>\n",
       "      <th>f1_train</th>\n",
       "      <th>prec_train</th>\n",
       "      <th>prec_test</th>\n",
       "      <th>recall_train</th>\n",
       "      <th>recall_test</th>\n",
       "      <th>model</th>\n",
       "      <th>elapsed</th>\n",
       "    </tr>\n",
       "  </thead>\n",
       "  <tbody>\n",
       "    <tr>\n",
       "      <th>0</th>\n",
       "      <td>0.796163</td>\n",
       "      <td>0.806242</td>\n",
       "      <td>0.758430</td>\n",
       "      <td>0.747748</td>\n",
       "      <td>0.860488</td>\n",
       "      <td>0.851282</td>\n",
       "      <td>Decision Tree</td>\n",
       "      <td>0.006896</td>\n",
       "    </tr>\n",
       "    <tr>\n",
       "      <th>1</th>\n",
       "      <td>0.729927</td>\n",
       "      <td>0.731336</td>\n",
       "      <td>0.751304</td>\n",
       "      <td>0.756534</td>\n",
       "      <td>0.712401</td>\n",
       "      <td>0.705128</td>\n",
       "      <td>Logistic Regression</td>\n",
       "      <td>0.107585</td>\n",
       "    </tr>\n",
       "    <tr>\n",
       "      <th>2</th>\n",
       "      <td>0.771892</td>\n",
       "      <td>0.767375</td>\n",
       "      <td>0.656580</td>\n",
       "      <td>0.667290</td>\n",
       "      <td>0.923153</td>\n",
       "      <td>0.915385</td>\n",
       "      <td>Naive Bayes</td>\n",
       "      <td>0.006702</td>\n",
       "    </tr>\n",
       "    <tr>\n",
       "      <th>3</th>\n",
       "      <td>0.796094</td>\n",
       "      <td>0.798291</td>\n",
       "      <td>0.721438</td>\n",
       "      <td>0.721124</td>\n",
       "      <td>0.893470</td>\n",
       "      <td>0.888462</td>\n",
       "      <td>SVC</td>\n",
       "      <td>2.179139</td>\n",
       "    </tr>\n",
       "    <tr>\n",
       "      <th>4</th>\n",
       "      <td>0.713838</td>\n",
       "      <td>0.714263</td>\n",
       "      <td>0.691027</td>\n",
       "      <td>0.697674</td>\n",
       "      <td>0.739116</td>\n",
       "      <td>0.730769</td>\n",
       "      <td>Pegasos QSVC</td>\n",
       "      <td>659.484210</td>\n",
       "    </tr>\n",
       "    <tr>\n",
       "      <th>5</th>\n",
       "      <td>0.792224</td>\n",
       "      <td>0.809598</td>\n",
       "      <td>0.771830</td>\n",
       "      <td>0.752887</td>\n",
       "      <td>0.851253</td>\n",
       "      <td>0.835897</td>\n",
       "      <td>Random Forest</td>\n",
       "      <td>0.232137</td>\n",
       "    </tr>\n",
       "    <tr>\n",
       "      <th>6</th>\n",
       "      <td>0.632005</td>\n",
       "      <td>0.632582</td>\n",
       "      <td>0.666545</td>\n",
       "      <td>0.667618</td>\n",
       "      <td>0.601913</td>\n",
       "      <td>0.600000</td>\n",
       "      <td>VQC</td>\n",
       "      <td>16172.243627</td>\n",
       "    </tr>\n",
       "  </tbody>\n",
       "</table>\n",
       "</div>"
      ],
      "text/plain": [
       "    f1_test  f1_train  prec_train  prec_test  recall_train  recall_test  \\\n",
       "0  0.796163  0.806242    0.758430   0.747748      0.860488     0.851282   \n",
       "1  0.729927  0.731336    0.751304   0.756534      0.712401     0.705128   \n",
       "2  0.771892  0.767375    0.656580   0.667290      0.923153     0.915385   \n",
       "3  0.796094  0.798291    0.721438   0.721124      0.893470     0.888462   \n",
       "4  0.713838  0.714263    0.691027   0.697674      0.739116     0.730769   \n",
       "5  0.792224  0.809598    0.771830   0.752887      0.851253     0.835897   \n",
       "6  0.632005  0.632582    0.666545   0.667618      0.601913     0.600000   \n",
       "\n",
       "                 model       elapsed  \n",
       "0        Decision Tree      0.006896  \n",
       "1  Logistic Regression      0.107585  \n",
       "2          Naive Bayes      0.006702  \n",
       "3                  SVC      2.179139  \n",
       "4         Pegasos QSVC    659.484210  \n",
       "5        Random Forest      0.232137  \n",
       "6                  VQC  16172.243627  "
      ]
     },
     "execution_count": 8,
     "metadata": {},
     "output_type": "execute_result"
    }
   ],
   "source": [
    "df = df.fillna(0)\n",
    "df"
   ]
  },
  {
   "cell_type": "code",
   "execution_count": 9,
   "id": "bcd5b54f",
   "metadata": {},
   "outputs": [
    {
     "data": {
      "text/html": [
       "<div>\n",
       "<style scoped>\n",
       "    .dataframe tbody tr th:only-of-type {\n",
       "        vertical-align: middle;\n",
       "    }\n",
       "\n",
       "    .dataframe tbody tr th {\n",
       "        vertical-align: top;\n",
       "    }\n",
       "\n",
       "    .dataframe thead th {\n",
       "        text-align: right;\n",
       "    }\n",
       "</style>\n",
       "<table border=\"1\" class=\"dataframe\">\n",
       "  <thead>\n",
       "    <tr style=\"text-align: right;\">\n",
       "      <th></th>\n",
       "      <th>model</th>\n",
       "      <th>f1_train</th>\n",
       "      <th>f1_test</th>\n",
       "    </tr>\n",
       "  </thead>\n",
       "  <tbody>\n",
       "    <tr>\n",
       "      <th>0</th>\n",
       "      <td>Decision Tree</td>\n",
       "      <td>0.806242</td>\n",
       "      <td>0.796163</td>\n",
       "    </tr>\n",
       "    <tr>\n",
       "      <th>1</th>\n",
       "      <td>Logistic Regression</td>\n",
       "      <td>0.731336</td>\n",
       "      <td>0.729927</td>\n",
       "    </tr>\n",
       "    <tr>\n",
       "      <th>2</th>\n",
       "      <td>Naive Bayes</td>\n",
       "      <td>0.767375</td>\n",
       "      <td>0.771892</td>\n",
       "    </tr>\n",
       "    <tr>\n",
       "      <th>3</th>\n",
       "      <td>SVC</td>\n",
       "      <td>0.798291</td>\n",
       "      <td>0.796094</td>\n",
       "    </tr>\n",
       "    <tr>\n",
       "      <th>4</th>\n",
       "      <td>Pegasos QSVC</td>\n",
       "      <td>0.714263</td>\n",
       "      <td>0.713838</td>\n",
       "    </tr>\n",
       "    <tr>\n",
       "      <th>5</th>\n",
       "      <td>Random Forest</td>\n",
       "      <td>0.809598</td>\n",
       "      <td>0.792224</td>\n",
       "    </tr>\n",
       "    <tr>\n",
       "      <th>6</th>\n",
       "      <td>VQC</td>\n",
       "      <td>0.632582</td>\n",
       "      <td>0.632005</td>\n",
       "    </tr>\n",
       "  </tbody>\n",
       "</table>\n",
       "</div>"
      ],
      "text/plain": [
       "                 model  f1_train   f1_test\n",
       "0        Decision Tree  0.806242  0.796163\n",
       "1  Logistic Regression  0.731336  0.729927\n",
       "2          Naive Bayes  0.767375  0.771892\n",
       "3                  SVC  0.798291  0.796094\n",
       "4         Pegasos QSVC  0.714263  0.713838\n",
       "5        Random Forest  0.809598  0.792224\n",
       "6                  VQC  0.632582  0.632005"
      ]
     },
     "execution_count": 9,
     "metadata": {},
     "output_type": "execute_result"
    }
   ],
   "source": [
    "f1 = df[[\"model\", \"f1_train\", \"f1_test\"]]\n",
    "f1"
   ]
  },
  {
   "cell_type": "code",
   "execution_count": 10,
   "id": "acb1c142",
   "metadata": {},
   "outputs": [
    {
     "data": {
      "text/html": [
       "<div>\n",
       "<style scoped>\n",
       "    .dataframe tbody tr th:only-of-type {\n",
       "        vertical-align: middle;\n",
       "    }\n",
       "\n",
       "    .dataframe tbody tr th {\n",
       "        vertical-align: top;\n",
       "    }\n",
       "\n",
       "    .dataframe thead th {\n",
       "        text-align: right;\n",
       "    }\n",
       "</style>\n",
       "<table border=\"1\" class=\"dataframe\">\n",
       "  <thead>\n",
       "    <tr style=\"text-align: right;\">\n",
       "      <th></th>\n",
       "      <th>model</th>\n",
       "      <th>prec_train</th>\n",
       "      <th>prec_test</th>\n",
       "    </tr>\n",
       "  </thead>\n",
       "  <tbody>\n",
       "    <tr>\n",
       "      <th>0</th>\n",
       "      <td>Decision Tree</td>\n",
       "      <td>0.758430</td>\n",
       "      <td>0.747748</td>\n",
       "    </tr>\n",
       "    <tr>\n",
       "      <th>1</th>\n",
       "      <td>Logistic Regression</td>\n",
       "      <td>0.751304</td>\n",
       "      <td>0.756534</td>\n",
       "    </tr>\n",
       "    <tr>\n",
       "      <th>2</th>\n",
       "      <td>Naive Bayes</td>\n",
       "      <td>0.656580</td>\n",
       "      <td>0.667290</td>\n",
       "    </tr>\n",
       "    <tr>\n",
       "      <th>3</th>\n",
       "      <td>SVC</td>\n",
       "      <td>0.721438</td>\n",
       "      <td>0.721124</td>\n",
       "    </tr>\n",
       "    <tr>\n",
       "      <th>4</th>\n",
       "      <td>Pegasos QSVC</td>\n",
       "      <td>0.691027</td>\n",
       "      <td>0.697674</td>\n",
       "    </tr>\n",
       "    <tr>\n",
       "      <th>5</th>\n",
       "      <td>Random Forest</td>\n",
       "      <td>0.771830</td>\n",
       "      <td>0.752887</td>\n",
       "    </tr>\n",
       "    <tr>\n",
       "      <th>6</th>\n",
       "      <td>VQC</td>\n",
       "      <td>0.666545</td>\n",
       "      <td>0.667618</td>\n",
       "    </tr>\n",
       "  </tbody>\n",
       "</table>\n",
       "</div>"
      ],
      "text/plain": [
       "                 model  prec_train  prec_test\n",
       "0        Decision Tree    0.758430   0.747748\n",
       "1  Logistic Regression    0.751304   0.756534\n",
       "2          Naive Bayes    0.656580   0.667290\n",
       "3                  SVC    0.721438   0.721124\n",
       "4         Pegasos QSVC    0.691027   0.697674\n",
       "5        Random Forest    0.771830   0.752887\n",
       "6                  VQC    0.666545   0.667618"
      ]
     },
     "execution_count": 10,
     "metadata": {},
     "output_type": "execute_result"
    }
   ],
   "source": [
    "prec = df[[\"model\", \"prec_train\", \"prec_test\"]]\n",
    "prec"
   ]
  },
  {
   "cell_type": "code",
   "execution_count": 11,
   "id": "66b52732",
   "metadata": {},
   "outputs": [
    {
     "data": {
      "text/html": [
       "<div>\n",
       "<style scoped>\n",
       "    .dataframe tbody tr th:only-of-type {\n",
       "        vertical-align: middle;\n",
       "    }\n",
       "\n",
       "    .dataframe tbody tr th {\n",
       "        vertical-align: top;\n",
       "    }\n",
       "\n",
       "    .dataframe thead th {\n",
       "        text-align: right;\n",
       "    }\n",
       "</style>\n",
       "<table border=\"1\" class=\"dataframe\">\n",
       "  <thead>\n",
       "    <tr style=\"text-align: right;\">\n",
       "      <th></th>\n",
       "      <th>model</th>\n",
       "      <th>recall_train</th>\n",
       "      <th>recall_test</th>\n",
       "    </tr>\n",
       "  </thead>\n",
       "  <tbody>\n",
       "    <tr>\n",
       "      <th>0</th>\n",
       "      <td>Decision Tree</td>\n",
       "      <td>0.860488</td>\n",
       "      <td>0.851282</td>\n",
       "    </tr>\n",
       "    <tr>\n",
       "      <th>1</th>\n",
       "      <td>Logistic Regression</td>\n",
       "      <td>0.712401</td>\n",
       "      <td>0.705128</td>\n",
       "    </tr>\n",
       "    <tr>\n",
       "      <th>2</th>\n",
       "      <td>Naive Bayes</td>\n",
       "      <td>0.923153</td>\n",
       "      <td>0.915385</td>\n",
       "    </tr>\n",
       "    <tr>\n",
       "      <th>3</th>\n",
       "      <td>SVC</td>\n",
       "      <td>0.893470</td>\n",
       "      <td>0.888462</td>\n",
       "    </tr>\n",
       "    <tr>\n",
       "      <th>4</th>\n",
       "      <td>Pegasos QSVC</td>\n",
       "      <td>0.739116</td>\n",
       "      <td>0.730769</td>\n",
       "    </tr>\n",
       "    <tr>\n",
       "      <th>5</th>\n",
       "      <td>Random Forest</td>\n",
       "      <td>0.851253</td>\n",
       "      <td>0.835897</td>\n",
       "    </tr>\n",
       "    <tr>\n",
       "      <th>6</th>\n",
       "      <td>VQC</td>\n",
       "      <td>0.601913</td>\n",
       "      <td>0.600000</td>\n",
       "    </tr>\n",
       "  </tbody>\n",
       "</table>\n",
       "</div>"
      ],
      "text/plain": [
       "                 model  recall_train  recall_test\n",
       "0        Decision Tree      0.860488     0.851282\n",
       "1  Logistic Regression      0.712401     0.705128\n",
       "2          Naive Bayes      0.923153     0.915385\n",
       "3                  SVC      0.893470     0.888462\n",
       "4         Pegasos QSVC      0.739116     0.730769\n",
       "5        Random Forest      0.851253     0.835897\n",
       "6                  VQC      0.601913     0.600000"
      ]
     },
     "execution_count": 11,
     "metadata": {},
     "output_type": "execute_result"
    }
   ],
   "source": [
    "recall = df[[\"model\", \"recall_train\", \"recall_test\"]]\n",
    "recall"
   ]
  },
  {
   "cell_type": "markdown",
   "id": "feaa971c",
   "metadata": {},
   "source": [
    "### Confusion Matrix Report"
   ]
  },
  {
   "cell_type": "code",
   "execution_count": 12,
   "id": "5228118c",
   "metadata": {},
   "outputs": [
    {
     "data": {
      "text/plain": [
       "['svc.png',\n",
       " 'nb.png',\n",
       " 'lr.png',\n",
       " '.ipynb_checkpoints',\n",
       " 'decision_tree.png',\n",
       " 'rf.png']"
      ]
     },
     "execution_count": 12,
     "metadata": {},
     "output_type": "execute_result"
    }
   ],
   "source": [
    "conf_list = os.listdir(\"conf\")\n",
    "for conf in conf_list:\n",
    "    if \"png\" not in conf:\n",
    "        conf_list.remove(conf)\n",
    "conf_list"
   ]
  },
  {
   "cell_type": "code",
   "execution_count": 13,
   "id": "b95a9b02",
   "metadata": {},
   "outputs": [
    {
     "data": {
      "text/plain": [
       "['conf/svc.png',\n",
       " 'conf/nb.png',\n",
       " 'conf/lr.png',\n",
       " '.ipynb_checkpoints',\n",
       " 'conf/decision_tree.png',\n",
       " 'conf/rf.png']"
      ]
     },
     "execution_count": 13,
     "metadata": {},
     "output_type": "execute_result"
    }
   ],
   "source": [
    "for i in range(len(conf_list)):\n",
    "    if \".png\" in conf_list[i]:\n",
    "        conf_list[i] = \"conf/\" + conf_list[i]\n",
    "conf_list"
   ]
  },
  {
   "cell_type": "code",
   "execution_count": 14,
   "id": "92f59993",
   "metadata": {},
   "outputs": [],
   "source": [
    "conf_list.append(\"conf/pegasos_conf/300_100.png\")\n",
    "conf_list.append(\"vqc_conf/vqc_best.png\")"
   ]
  },
  {
   "cell_type": "code",
   "execution_count": 15,
   "id": "877b1e1e",
   "metadata": {},
   "outputs": [
    {
     "data": {
      "text/plain": [
       "['conf/svc.png',\n",
       " 'conf/nb.png',\n",
       " 'conf/lr.png',\n",
       " 'conf/decision_tree.png',\n",
       " 'conf/rf.png',\n",
       " 'conf/pegasos_conf/300_100.png',\n",
       " 'vqc_conf/vqc_best.png']"
      ]
     },
     "execution_count": 15,
     "metadata": {},
     "output_type": "execute_result"
    }
   ],
   "source": [
    "conf_list.remove(\".ipynb_checkpoints\")\n",
    "conf_list"
   ]
  },
  {
   "cell_type": "markdown",
   "id": "7a1fce75",
   "metadata": {},
   "source": [
    "### SVC Family Report"
   ]
  },
  {
   "cell_type": "code",
   "execution_count": 16,
   "id": "e2ae5837",
   "metadata": {},
   "outputs": [],
   "source": [
    "feature_list = os.listdir(\"results/runtime_features/\")\n",
    "feature_df = pd.DataFrame()\n",
    "for data in feature_list:\n",
    "    if \".csv\" in data:\n",
    "        new_df = pd.read_csv(\"results/runtime_features/\" + data)\n",
    "        feature_df = pd.concat([feature_df, new_df], axis = 0).reset_index(drop=True)"
   ]
  },
  {
   "cell_type": "code",
   "execution_count": 17,
   "id": "2396bfcb",
   "metadata": {},
   "outputs": [],
   "source": [
    "def svc_chart_gen_features():\n",
    "    svc = feature_df[feature_df[\"model\"].isin([\"SVC_linear\", \"SVC_rbf\"])]\n",
    "    qsvc = feature_df[feature_df[\"model\"]==\"QSVC\"]\n",
    "    pegasos_qsvc = feature_df[feature_df[\"model\"] ==\"Pegasos QSVC\"]\n",
    "    \n",
    "    fig, axes = plt.subplots(nrows=2, ncols=1, figsize = (16,10))\n",
    "    sns.lineplot(x = \"num_features\", y = \"runtime\", data = svc, hue = \"model\", ax = axes[0], marker=\"o\")\n",
    "    ax=axes[0]\n",
    "    ax.set_title(\"SVC - Runtime vs Number of Features\")\n",
    "    ax.set_ylabel(\"Runtime\", fontsize=10)\n",
    "    ax.set_xlabel(\"Number of Features\", fontsize=10)\n",
    "    #sns.lineplot(x = \"num_features\", y = \"runtime\", data = qsvc, ax = axes[0,0])\n",
    "    sns.lineplot(x = \"num_features\", y = \"runtime\", data = pegasos_qsvc, ax = axes[1], marker=\"o\")\n",
    "    ax = axes[1]\n",
    "    ax.set_title(\"Pegasos QSVC - Runtime vs Number of Features\")\n",
    "    ax.set_ylabel(\"Runtime\", fontsize=10)\n",
    "    ax.set_xlabel(\"Number of Features\", fontsize=10)"
   ]
  },
  {
   "cell_type": "code",
   "execution_count": 18,
   "id": "3478b236",
   "metadata": {},
   "outputs": [
    {
     "data": {
      "image/png": "[encoded data removed]",
      "text/plain": [
       "<Figure size 1152x720 with 2 Axes>"
      ]
     },
     "metadata": {
      "needs_background": "light"
     },
     "output_type": "display_data"
    }
   ],
   "source": [
    "svc_chart_gen_features()"
   ]
  },
  {
   "cell_type": "code",
   "execution_count": 19,
   "id": "f50554a1",
   "metadata": {},
   "outputs": [],
   "source": [
    "size_list = os.listdir(\"results/runtime_size/\")\n",
    "size_df = pd.DataFrame()\n",
    "for data in size_list:\n",
    "    if \".csv\" in data:\n",
    "        new_df = pd.read_csv(\"results/runtime_size/\" + data)\n",
    "        size_df = pd.concat([size_df, new_df], axis = 0).reset_index(drop=True)"
   ]
  },
  {
   "cell_type": "code",
   "execution_count": 20,
   "id": "057f9205",
   "metadata": {},
   "outputs": [
    {
     "data": {
      "text/html": [
       "<div>\n",
       "<style scoped>\n",
       "    .dataframe tbody tr th:only-of-type {\n",
       "        vertical-align: middle;\n",
       "    }\n",
       "\n",
       "    .dataframe tbody tr th {\n",
       "        vertical-align: top;\n",
       "    }\n",
       "\n",
       "    .dataframe thead th {\n",
       "        text-align: right;\n",
       "    }\n",
       "</style>\n",
       "<table border=\"1\" class=\"dataframe\">\n",
       "  <thead>\n",
       "    <tr style=\"text-align: right;\">\n",
       "      <th></th>\n",
       "      <th>size</th>\n",
       "      <th>model</th>\n",
       "      <th>runtime</th>\n",
       "    </tr>\n",
       "  </thead>\n",
       "  <tbody>\n",
       "    <tr>\n",
       "      <th>0</th>\n",
       "      <td>604.7</td>\n",
       "      <td>SVC_linear</td>\n",
       "      <td>0.024884</td>\n",
       "    </tr>\n",
       "    <tr>\n",
       "      <th>1</th>\n",
       "      <td>1209.4</td>\n",
       "      <td>SVC_linear</td>\n",
       "      <td>0.082538</td>\n",
       "    </tr>\n",
       "    <tr>\n",
       "      <th>2</th>\n",
       "      <td>1814.1</td>\n",
       "      <td>SVC_linear</td>\n",
       "      <td>0.179707</td>\n",
       "    </tr>\n",
       "    <tr>\n",
       "      <th>3</th>\n",
       "      <td>2418.8</td>\n",
       "      <td>SVC_linear</td>\n",
       "      <td>0.317200</td>\n",
       "    </tr>\n",
       "    <tr>\n",
       "      <th>4</th>\n",
       "      <td>3023.5</td>\n",
       "      <td>SVC_linear</td>\n",
       "      <td>0.534823</td>\n",
       "    </tr>\n",
       "    <tr>\n",
       "      <th>5</th>\n",
       "      <td>3628.2</td>\n",
       "      <td>SVC_linear</td>\n",
       "      <td>0.673942</td>\n",
       "    </tr>\n",
       "    <tr>\n",
       "      <th>6</th>\n",
       "      <td>4232.9</td>\n",
       "      <td>SVC_linear</td>\n",
       "      <td>1.061610</td>\n",
       "    </tr>\n",
       "    <tr>\n",
       "      <th>7</th>\n",
       "      <td>4837.6</td>\n",
       "      <td>SVC_linear</td>\n",
       "      <td>1.246354</td>\n",
       "    </tr>\n",
       "    <tr>\n",
       "      <th>8</th>\n",
       "      <td>5442.3</td>\n",
       "      <td>SVC_linear</td>\n",
       "      <td>1.629160</td>\n",
       "    </tr>\n",
       "    <tr>\n",
       "      <th>9</th>\n",
       "      <td>6047.0</td>\n",
       "      <td>SVC_linear</td>\n",
       "      <td>2.028261</td>\n",
       "    </tr>\n",
       "    <tr>\n",
       "      <th>10</th>\n",
       "      <td>604.7</td>\n",
       "      <td>SVC_rbf</td>\n",
       "      <td>0.049043</td>\n",
       "    </tr>\n",
       "    <tr>\n",
       "      <th>11</th>\n",
       "      <td>1209.4</td>\n",
       "      <td>SVC_rbf</td>\n",
       "      <td>0.166678</td>\n",
       "    </tr>\n",
       "    <tr>\n",
       "      <th>12</th>\n",
       "      <td>1814.1</td>\n",
       "      <td>SVC_rbf</td>\n",
       "      <td>0.344179</td>\n",
       "    </tr>\n",
       "    <tr>\n",
       "      <th>13</th>\n",
       "      <td>2418.8</td>\n",
       "      <td>SVC_rbf</td>\n",
       "      <td>0.621065</td>\n",
       "    </tr>\n",
       "    <tr>\n",
       "      <th>14</th>\n",
       "      <td>3023.5</td>\n",
       "      <td>SVC_rbf</td>\n",
       "      <td>1.028368</td>\n",
       "    </tr>\n",
       "    <tr>\n",
       "      <th>15</th>\n",
       "      <td>3628.2</td>\n",
       "      <td>SVC_rbf</td>\n",
       "      <td>1.320014</td>\n",
       "    </tr>\n",
       "    <tr>\n",
       "      <th>16</th>\n",
       "      <td>4232.9</td>\n",
       "      <td>SVC_rbf</td>\n",
       "      <td>1.864296</td>\n",
       "    </tr>\n",
       "    <tr>\n",
       "      <th>17</th>\n",
       "      <td>4837.6</td>\n",
       "      <td>SVC_rbf</td>\n",
       "      <td>2.396291</td>\n",
       "    </tr>\n",
       "    <tr>\n",
       "      <th>18</th>\n",
       "      <td>5442.3</td>\n",
       "      <td>SVC_rbf</td>\n",
       "      <td>2.941178</td>\n",
       "    </tr>\n",
       "    <tr>\n",
       "      <th>19</th>\n",
       "      <td>6047.0</td>\n",
       "      <td>SVC_rbf</td>\n",
       "      <td>3.528003</td>\n",
       "    </tr>\n",
       "    <tr>\n",
       "      <th>20</th>\n",
       "      <td>604.7</td>\n",
       "      <td>Pegasos QSVC</td>\n",
       "      <td>385.849050</td>\n",
       "    </tr>\n",
       "    <tr>\n",
       "      <th>21</th>\n",
       "      <td>1209.4</td>\n",
       "      <td>Pegasos QSVC</td>\n",
       "      <td>443.558161</td>\n",
       "    </tr>\n",
       "    <tr>\n",
       "      <th>22</th>\n",
       "      <td>1814.1</td>\n",
       "      <td>Pegasos QSVC</td>\n",
       "      <td>445.039907</td>\n",
       "    </tr>\n",
       "    <tr>\n",
       "      <th>23</th>\n",
       "      <td>2418.8</td>\n",
       "      <td>Pegasos QSVC</td>\n",
       "      <td>485.571570</td>\n",
       "    </tr>\n",
       "    <tr>\n",
       "      <th>24</th>\n",
       "      <td>3023.5</td>\n",
       "      <td>Pegasos QSVC</td>\n",
       "      <td>423.186304</td>\n",
       "    </tr>\n",
       "    <tr>\n",
       "      <th>25</th>\n",
       "      <td>3628.2</td>\n",
       "      <td>Pegasos QSVC</td>\n",
       "      <td>445.940558</td>\n",
       "    </tr>\n",
       "    <tr>\n",
       "      <th>26</th>\n",
       "      <td>4232.9</td>\n",
       "      <td>Pegasos QSVC</td>\n",
       "      <td>452.921967</td>\n",
       "    </tr>\n",
       "    <tr>\n",
       "      <th>27</th>\n",
       "      <td>4837.6</td>\n",
       "      <td>Pegasos QSVC</td>\n",
       "      <td>445.135047</td>\n",
       "    </tr>\n",
       "    <tr>\n",
       "      <th>28</th>\n",
       "      <td>5442.3</td>\n",
       "      <td>Pegasos QSVC</td>\n",
       "      <td>478.192424</td>\n",
       "    </tr>\n",
       "    <tr>\n",
       "      <th>29</th>\n",
       "      <td>6047.0</td>\n",
       "      <td>Pegasos QSVC</td>\n",
       "      <td>504.626420</td>\n",
       "    </tr>\n",
       "  </tbody>\n",
       "</table>\n",
       "</div>"
      ],
      "text/plain": [
       "      size         model     runtime\n",
       "0    604.7    SVC_linear    0.024884\n",
       "1   1209.4    SVC_linear    0.082538\n",
       "2   1814.1    SVC_linear    0.179707\n",
       "3   2418.8    SVC_linear    0.317200\n",
       "4   3023.5    SVC_linear    0.534823\n",
       "5   3628.2    SVC_linear    0.673942\n",
       "6   4232.9    SVC_linear    1.061610\n",
       "7   4837.6    SVC_linear    1.246354\n",
       "8   5442.3    SVC_linear    1.629160\n",
       "9   6047.0    SVC_linear    2.028261\n",
       "10   604.7       SVC_rbf    0.049043\n",
       "11  1209.4       SVC_rbf    0.166678\n",
       "12  1814.1       SVC_rbf    0.344179\n",
       "13  2418.8       SVC_rbf    0.621065\n",
       "14  3023.5       SVC_rbf    1.028368\n",
       "15  3628.2       SVC_rbf    1.320014\n",
       "16  4232.9       SVC_rbf    1.864296\n",
       "17  4837.6       SVC_rbf    2.396291\n",
       "18  5442.3       SVC_rbf    2.941178\n",
       "19  6047.0       SVC_rbf    3.528003\n",
       "20   604.7  Pegasos QSVC  385.849050\n",
       "21  1209.4  Pegasos QSVC  443.558161\n",
       "22  1814.1  Pegasos QSVC  445.039907\n",
       "23  2418.8  Pegasos QSVC  485.571570\n",
       "24  3023.5  Pegasos QSVC  423.186304\n",
       "25  3628.2  Pegasos QSVC  445.940558\n",
       "26  4232.9  Pegasos QSVC  452.921967\n",
       "27  4837.6  Pegasos QSVC  445.135047\n",
       "28  5442.3  Pegasos QSVC  478.192424\n",
       "29  6047.0  Pegasos QSVC  504.626420"
      ]
     },
     "execution_count": 20,
     "metadata": {},
     "output_type": "execute_result"
    }
   ],
   "source": [
    "size_df"
   ]
  },
  {
   "cell_type": "code",
   "execution_count": 21,
   "id": "0fc8c638",
   "metadata": {},
   "outputs": [],
   "source": [
    "def svc_chart_gen_size():\n",
    "    svc = size_df[size_df[\"model\"].isin([\"SVC_linear\", \"SVC_rbf\"])]\n",
    "    qsvc = size_df[size_df[\"model\"]==\"QSVC\"]\n",
    "    pegasos_qsvc = size_df[size_df[\"model\"] ==\"Pegasos QSVC\"]\n",
    "    \n",
    "    fig, axes = plt.subplots(nrows=2, ncols=1, figsize = (16, 10))\n",
    "    sns.lineplot(x = \"size\", y = \"runtime\", data = svc, hue = \"model\", ax = axes[0], marker = \"o\")\n",
    "    ax=axes[0]\n",
    "    ax.set_title(\"SVC - Runtime vs Number of observations\")\n",
    "    ax.set_ylabel(\"Runtime\", fontsize=10)\n",
    "    ax.set_xlabel(\"Number of observations\", fontsize=10)\n",
    "    #sns.lineplot(x = \"num_sizes\", y = \"runtime\", data = qsvc, ax = axes[0,0])\n",
    "    sns.lineplot(x = \"size\", y = \"runtime\", data = pegasos_qsvc, ax = axes[1], marker=\"o\")\n",
    "    ax = axes[1]\n",
    "    ax.set_title(\"Pegasos QSVC - Runtime vs Number of observations\")\n",
    "    ax.set_ylabel(\"Runtime\", fontsize=10)\n",
    "    ax.set_xlabel(\"Number of observations\", fontsize=10)"
   ]
  },
  {
   "cell_type": "code",
   "execution_count": 22,
   "id": "c17e8288",
   "metadata": {},
   "outputs": [
    {
     "data": {
      "image/png": "[encoded data removed]",
      "text/plain": [
       "<Figure size 1152x720 with 2 Axes>"
      ]
     },
     "metadata": {
      "needs_background": "light"
     },
     "output_type": "display_data"
    }
   ],
   "source": [
    "svc_chart_gen_size()"
   ]
  },
  {
   "cell_type": "markdown",
   "id": "0485293e",
   "metadata": {},
   "source": [
    "### VQC Report"
   ]
  },
  {
   "cell_type": "code",
   "execution_count": 23,
   "id": "362a9bfc",
   "metadata": {},
   "outputs": [],
   "source": [
    "vqc_feature_list = os.listdir(\"vqc_results/runtime_features/\")\n",
    "vqc_feature_df = pd.DataFrame()\n",
    "for data in vqc_feature_list:\n",
    "    if \".csv\" in data:\n",
    "        new_df = pd.read_csv(\"vqc_results/runtime_features/\" + data)\n",
    "        vqc_feature_df = pd.concat([vqc_feature_df, new_df], axis = 0).reset_index(drop=True)"
   ]
  },
  {
   "cell_type": "code",
   "execution_count": 24,
   "id": "fdebd4b9",
   "metadata": {},
   "outputs": [
    {
     "data": {
      "text/html": [
       "<div>\n",
       "<style scoped>\n",
       "    .dataframe tbody tr th:only-of-type {\n",
       "        vertical-align: middle;\n",
       "    }\n",
       "\n",
       "    .dataframe tbody tr th {\n",
       "        vertical-align: top;\n",
       "    }\n",
       "\n",
       "    .dataframe thead th {\n",
       "        text-align: right;\n",
       "    }\n",
       "</style>\n",
       "<table border=\"1\" class=\"dataframe\">\n",
       "  <thead>\n",
       "    <tr style=\"text-align: right;\">\n",
       "      <th></th>\n",
       "      <th>num_features</th>\n",
       "      <th>model</th>\n",
       "      <th>runtime</th>\n",
       "    </tr>\n",
       "  </thead>\n",
       "  <tbody>\n",
       "    <tr>\n",
       "      <th>0</th>\n",
       "      <td>2.0</td>\n",
       "      <td>vqc_su2_cobyla</td>\n",
       "      <td>1929.916248</td>\n",
       "    </tr>\n",
       "    <tr>\n",
       "      <th>1</th>\n",
       "      <td>3.0</td>\n",
       "      <td>vqc_su2_cobyla</td>\n",
       "      <td>3275.160269</td>\n",
       "    </tr>\n",
       "    <tr>\n",
       "      <th>2</th>\n",
       "      <td>4.0</td>\n",
       "      <td>vqc_su2_cobyla</td>\n",
       "      <td>4844.099308</td>\n",
       "    </tr>\n",
       "    <tr>\n",
       "      <th>3</th>\n",
       "      <td>5.0</td>\n",
       "      <td>vqc_su2_cobyla</td>\n",
       "      <td>8863.000153</td>\n",
       "    </tr>\n",
       "    <tr>\n",
       "      <th>4</th>\n",
       "      <td>6.0</td>\n",
       "      <td>vqc_su2_cobyla</td>\n",
       "      <td>12817.471497</td>\n",
       "    </tr>\n",
       "    <tr>\n",
       "      <th>5</th>\n",
       "      <td>7.0</td>\n",
       "      <td>vqc_su2_cobyla</td>\n",
       "      <td>17337.432274</td>\n",
       "    </tr>\n",
       "    <tr>\n",
       "      <th>6</th>\n",
       "      <td>8.0</td>\n",
       "      <td>vqc_su2_cobyla</td>\n",
       "      <td>23190.977253</td>\n",
       "    </tr>\n",
       "  </tbody>\n",
       "</table>\n",
       "</div>"
      ],
      "text/plain": [
       "   num_features           model       runtime\n",
       "0           2.0  vqc_su2_cobyla   1929.916248\n",
       "1           3.0  vqc_su2_cobyla   3275.160269\n",
       "2           4.0  vqc_su2_cobyla   4844.099308\n",
       "3           5.0  vqc_su2_cobyla   8863.000153\n",
       "4           6.0  vqc_su2_cobyla  12817.471497\n",
       "5           7.0  vqc_su2_cobyla  17337.432274\n",
       "6           8.0  vqc_su2_cobyla  23190.977253"
      ]
     },
     "execution_count": 24,
     "metadata": {},
     "output_type": "execute_result"
    }
   ],
   "source": [
    "vqc_feature_df"
   ]
  },
  {
   "cell_type": "code",
   "execution_count": 25,
   "id": "84599162",
   "metadata": {},
   "outputs": [
    {
     "data": {
      "image/png": "[encoded data removed]",
      "text/plain": [
       "<Figure size 1152x576 with 1 Axes>"
      ]
     },
     "metadata": {
      "needs_background": "light"
     },
     "output_type": "display_data"
    }
   ],
   "source": [
    "plt.figure(figsize=(16,8))\n",
    "sns.lineplot(x = \"num_features\", y = \"runtime\", data = vqc_feature_df, marker = \"o\")\n",
    "#ax = axes[1]\n",
    "plt.title(\"VQC - Runtime vs Number of features\")\n",
    "plt.ylabel(\"Runtime\", fontsize=10)\n",
    "plt.xlabel(\"Number of features\", fontsize=10)\n",
    "plt.show();"
   ]
  },
  {
   "cell_type": "code",
   "execution_count": 26,
   "id": "26c780b2",
   "metadata": {},
   "outputs": [],
   "source": [
    "vqc_size_list = os.listdir(\"vqc_results/runtime_size/\")\n",
    "vqc_size_df = pd.DataFrame()\n",
    "for data in vqc_size_list:\n",
    "    if \".csv\" in data:\n",
    "        new_df = pd.read_csv(\"vqc_results/runtime_size/\" + data)\n",
    "        vqc_size_df = pd.concat([vqc_size_df, new_df], axis = 0).reset_index(drop=True)"
   ]
  },
  {
   "cell_type": "code",
   "execution_count": 27,
   "id": "ddf141ca",
   "metadata": {},
   "outputs": [
    {
     "data": {
      "image/png": "[encoded data removed]",
      "text/plain": [
       "<Figure size 1152x576 with 1 Axes>"
      ]
     },
     "metadata": {
      "needs_background": "light"
     },
     "output_type": "display_data"
    }
   ],
   "source": [
    "plt.figure(figsize=(16,8))\n",
    "sns.lineplot(x = \"size\", y = \"runtime\", data = vqc_size_df, marker=\"o\")\n",
    "#ax = axes[1]\n",
    "plt.title(\"VQC - Runtime vs Number of observations\")\n",
    "plt.ylabel(\"Runtime\", fontsize=10)\n",
    "plt.xlabel(\"Number of observations\", fontsize=10)\n",
    "plt.show();"
   ]
  },
  {
   "cell_type": "code",
   "execution_count": null,
   "id": "7a60f72d",
   "metadata": {},
   "outputs": [],
   "source": []
  }
 ],
 "metadata": {
  "kernelspec": {
   "display_name": "Python 3 (ipykernel)",
   "language": "python",
   "name": "python3"
  },
  "language_info": {
   "codemirror_mode": {
    "name": "ipython",
    "version": 3
   },
   "file_extension": ".py",
   "mimetype": "text/x-python",
   "name": "python",
   "nbconvert_exporter": "python",
   "pygments_lexer": "ipython3",
   "version": "3.9.12"
  }
 },
 "nbformat": 4,
 "nbformat_minor": 5
}

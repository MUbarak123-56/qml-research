{
 "cells": [
  {
   "cell_type": "code",
   "execution_count": 1,
   "id": "f344a5df",
   "metadata": {},
   "outputs": [],
   "source": [
    "from sklearn.feature_selection import SelectFromModel\n",
    "from sklearn.feature_selection import RFE, RFECV\n",
    "from sklearn.linear_model import RidgeCV, LassoCV, Lasso, Ridge\n",
    "import pandas as pd\n",
    "import numpy as np\n",
    "from sklearn.decomposition import PCA, KernelPCA\n",
    "from qiskit.circuit.library import ZZFeatureMap, PauliFeatureMap\n",
    "from qiskit.primitives import Sampler\n",
    "from qiskit_algorithms.state_fidelities import ComputeUncompute\n",
    "from qiskit_machine_learning.kernels import FidelityQuantumKernel"
   ]
  },
  {
   "cell_type": "code",
   "execution_count": 2,
   "id": "1d027cdd",
   "metadata": {},
   "outputs": [],
   "source": [
    "train = pd.read_csv(\"../data/train_fe.csv\")\n",
    "test = pd.read_csv(\"../data/test_fe.csv\")"
   ]
  },
  {
   "cell_type": "code",
   "execution_count": 3,
   "id": "d8a36288",
   "metadata": {},
   "outputs": [
    {
     "data": {
      "text/plain": [
       "Index(['cryosleep', 'vip', 'side', 'destination_55_cancri_e',\n",
       "       'destination_pso_j318_5_22', 'destination_trappist_1e',\n",
       "       'homeplanet_earth', 'homeplanet_europa', 'homeplanet_mars', 'age',\n",
       "       'roomservice', 'foodcourt', 'shoppingmall', 'spa', 'vrdeck',\n",
       "       'transported'],\n",
       "      dtype='object')"
      ]
     },
     "execution_count": 3,
     "metadata": {},
     "output_type": "execute_result"
    }
   ],
   "source": [
    "train.columns"
   ]
  },
  {
   "cell_type": "code",
   "execution_count": 4,
   "id": "1be00876",
   "metadata": {},
   "outputs": [],
   "source": [
    "x_train = train.drop(\"transported\", axis = 1)\n",
    "y_train = train[\"transported\"]\n",
    "x_test = test.drop(\"transported\", axis = 1)\n",
    "y_test = test[\"transported\"]"
   ]
  },
  {
   "cell_type": "code",
   "execution_count": 5,
   "id": "e9641115",
   "metadata": {},
   "outputs": [],
   "source": [
    "estimator = Lasso()"
   ]
  },
  {
   "cell_type": "code",
   "execution_count": 6,
   "id": "0cb51227",
   "metadata": {},
   "outputs": [],
   "source": [
    "selector = RFECV(estimator, min_features_to_select = 10, step=12, cv = 5)\n",
    "selector = selector.fit(x_train, y_train)"
   ]
  },
  {
   "cell_type": "code",
   "execution_count": 7,
   "id": "fa48c7ef",
   "metadata": {},
   "outputs": [
    {
     "data": {
      "text/plain": [
       "array(['destination_trappist_1e', 'homeplanet_earth', 'homeplanet_europa',\n",
       "       'homeplanet_mars', 'age', 'roomservice', 'foodcourt',\n",
       "       'shoppingmall', 'spa', 'vrdeck'], dtype=object)"
      ]
     },
     "execution_count": 7,
     "metadata": {},
     "output_type": "execute_result"
    }
   ],
   "source": [
    "selector.get_feature_names_out()"
   ]
  },
  {
   "cell_type": "code",
   "execution_count": 8,
   "id": "4df42e0a",
   "metadata": {},
   "outputs": [
    {
     "data": {
      "text/plain": [
       "array(['cryosleep', 'vip', 'side', 'destination_55_cancri_e',\n",
       "       'destination_pso_j318_5_22', 'destination_trappist_1e',\n",
       "       'homeplanet_earth', 'homeplanet_europa', 'homeplanet_mars', 'age',\n",
       "       'roomservice', 'foodcourt', 'shoppingmall', 'spa', 'vrdeck'],\n",
       "      dtype=object)"
      ]
     },
     "execution_count": 8,
     "metadata": {},
     "output_type": "execute_result"
    }
   ],
   "source": [
    "selector.feature_names_in_"
   ]
  },
  {
   "cell_type": "code",
   "execution_count": 9,
   "id": "7faa51ab",
   "metadata": {},
   "outputs": [
    {
     "data": {
      "text/plain": [
       "array([2, 2, 2, 2, 2, 1, 1, 1, 1, 1, 1, 1, 1, 1, 1])"
      ]
     },
     "execution_count": 9,
     "metadata": {},
     "output_type": "execute_result"
    }
   ],
   "source": [
    "selector.ranking_"
   ]
  },
  {
   "cell_type": "code",
   "execution_count": 10,
   "id": "9499200d",
   "metadata": {},
   "outputs": [
    {
     "data": {
      "text/plain": [
       "(6047, 15)"
      ]
     },
     "execution_count": 10,
     "metadata": {},
     "output_type": "execute_result"
    }
   ],
   "source": [
    "x_train.shape"
   ]
  },
  {
   "cell_type": "code",
   "execution_count": 11,
   "id": "a59bfd93",
   "metadata": {},
   "outputs": [
    {
     "name": "stdout",
     "output_type": "stream",
     "text": [
      "<class 'pandas.core.frame.DataFrame'>\n",
      "RangeIndex: 6047 entries, 0 to 6046\n",
      "Data columns (total 15 columns):\n",
      " #   Column                     Non-Null Count  Dtype  \n",
      "---  ------                     --------------  -----  \n",
      " 0   cryosleep                  6047 non-null   float64\n",
      " 1   vip                        6047 non-null   float64\n",
      " 2   side                       6047 non-null   float64\n",
      " 3   destination_55_cancri_e    6047 non-null   float64\n",
      " 4   destination_pso_j318_5_22  6047 non-null   float64\n",
      " 5   destination_trappist_1e    6047 non-null   float64\n",
      " 6   homeplanet_earth           6047 non-null   float64\n",
      " 7   homeplanet_europa          6047 non-null   float64\n",
      " 8   homeplanet_mars            6047 non-null   float64\n",
      " 9   age                        6047 non-null   float64\n",
      " 10  roomservice                6047 non-null   float64\n",
      " 11  foodcourt                  6047 non-null   float64\n",
      " 12  shoppingmall               6047 non-null   float64\n",
      " 13  spa                        6047 non-null   float64\n",
      " 14  vrdeck                     6047 non-null   float64\n",
      "dtypes: float64(15)\n",
      "memory usage: 708.8 KB\n"
     ]
    }
   ],
   "source": [
    "x_train.info()"
   ]
  },
  {
   "cell_type": "markdown",
   "id": "521e4681",
   "metadata": {},
   "source": [
    "### Regular PCA"
   ]
  },
  {
   "cell_type": "code",
   "execution_count": 12,
   "id": "8acb2efb",
   "metadata": {},
   "outputs": [
    {
     "data": {
      "text/html": [
       "<style>#sk-container-id-1 {color: black;background-color: white;}#sk-container-id-1 pre{padding: 0;}#sk-container-id-1 div.sk-toggleable {background-color: white;}#sk-container-id-1 label.sk-toggleable__label {cursor: pointer;display: block;width: 100%;margin-bottom: 0;padding: 0.3em;box-sizing: border-box;text-align: center;}#sk-container-id-1 label.sk-toggleable__label-arrow:before {content: \"▸\";float: left;margin-right: 0.25em;color: #696969;}#sk-container-id-1 label.sk-toggleable__label-arrow:hover:before {color: black;}#sk-container-id-1 div.sk-estimator:hover label.sk-toggleable__label-arrow:before {color: black;}#sk-container-id-1 div.sk-toggleable__content {max-height: 0;max-width: 0;overflow: hidden;text-align: left;background-color: #f0f8ff;}#sk-container-id-1 div.sk-toggleable__content pre {margin: 0.2em;color: black;border-radius: 0.25em;background-color: #f0f8ff;}#sk-container-id-1 input.sk-toggleable__control:checked~div.sk-toggleable__content {max-height: 200px;max-width: 100%;overflow: auto;}#sk-container-id-1 input.sk-toggleable__control:checked~label.sk-toggleable__label-arrow:before {content: \"▾\";}#sk-container-id-1 div.sk-estimator input.sk-toggleable__control:checked~label.sk-toggleable__label {background-color: #d4ebff;}#sk-container-id-1 div.sk-label input.sk-toggleable__control:checked~label.sk-toggleable__label {background-color: #d4ebff;}#sk-container-id-1 input.sk-hidden--visually {border: 0;clip: rect(1px 1px 1px 1px);clip: rect(1px, 1px, 1px, 1px);height: 1px;margin: -1px;overflow: hidden;padding: 0;position: absolute;width: 1px;}#sk-container-id-1 div.sk-estimator {font-family: monospace;background-color: #f0f8ff;border: 1px dotted black;border-radius: 0.25em;box-sizing: border-box;margin-bottom: 0.5em;}#sk-container-id-1 div.sk-estimator:hover {background-color: #d4ebff;}#sk-container-id-1 div.sk-parallel-item::after {content: \"\";width: 100%;border-bottom: 1px solid gray;flex-grow: 1;}#sk-container-id-1 div.sk-label:hover label.sk-toggleable__label {background-color: #d4ebff;}#sk-container-id-1 div.sk-serial::before {content: \"\";position: absolute;border-left: 1px solid gray;box-sizing: border-box;top: 0;bottom: 0;left: 50%;z-index: 0;}#sk-container-id-1 div.sk-serial {display: flex;flex-direction: column;align-items: center;background-color: white;padding-right: 0.2em;padding-left: 0.2em;position: relative;}#sk-container-id-1 div.sk-item {position: relative;z-index: 1;}#sk-container-id-1 div.sk-parallel {display: flex;align-items: stretch;justify-content: center;background-color: white;position: relative;}#sk-container-id-1 div.sk-item::before, #sk-container-id-1 div.sk-parallel-item::before {content: \"\";position: absolute;border-left: 1px solid gray;box-sizing: border-box;top: 0;bottom: 0;left: 50%;z-index: -1;}#sk-container-id-1 div.sk-parallel-item {display: flex;flex-direction: column;z-index: 1;position: relative;background-color: white;}#sk-container-id-1 div.sk-parallel-item:first-child::after {align-self: flex-end;width: 50%;}#sk-container-id-1 div.sk-parallel-item:last-child::after {align-self: flex-start;width: 50%;}#sk-container-id-1 div.sk-parallel-item:only-child::after {width: 0;}#sk-container-id-1 div.sk-dashed-wrapped {border: 1px dashed gray;margin: 0 0.4em 0.5em 0.4em;box-sizing: border-box;padding-bottom: 0.4em;background-color: white;}#sk-container-id-1 div.sk-label label {font-family: monospace;font-weight: bold;display: inline-block;line-height: 1.2em;}#sk-container-id-1 div.sk-label-container {text-align: center;}#sk-container-id-1 div.sk-container {/* jupyter's `normalize.less` sets `[hidden] { display: none; }` but bootstrap.min.css set `[hidden] { display: none !important; }` so we also need the `!important` here to be able to override the default hidden behavior on the sphinx rendered scikit-learn.org. See: https://github.com/scikit-learn/scikit-learn/issues/21755 */display: inline-block !important;position: relative;}#sk-container-id-1 div.sk-text-repr-fallback {display: none;}</style><div id=\"sk-container-id-1\" class=\"sk-top-container\"><div class=\"sk-text-repr-fallback\"><pre>PCA(n_components=0.95)</pre><b>In a Jupyter environment, please rerun this cell to show the HTML representation or trust the notebook. <br />On GitHub, the HTML representation is unable to render, please try loading this page with nbviewer.org.</b></div><div class=\"sk-container\" hidden><div class=\"sk-item\"><div class=\"sk-estimator sk-toggleable\"><input class=\"sk-toggleable__control sk-hidden--visually\" id=\"sk-estimator-id-1\" type=\"checkbox\" checked><label for=\"sk-estimator-id-1\" class=\"sk-toggleable__label sk-toggleable__label-arrow\">PCA</label><div class=\"sk-toggleable__content\"><pre>PCA(n_components=0.95)</pre></div></div></div></div></div>"
      ],
      "text/plain": [
       "PCA(n_components=0.95)"
      ]
     },
     "execution_count": 12,
     "metadata": {},
     "output_type": "execute_result"
    }
   ],
   "source": [
    "pca = PCA(n_components=0.95)\n",
    "pca.fit(x_train)"
   ]
  },
  {
   "cell_type": "code",
   "execution_count": 13,
   "id": "66395965",
   "metadata": {},
   "outputs": [
    {
     "data": {
      "text/plain": [
       "6"
      ]
     },
     "execution_count": 13,
     "metadata": {},
     "output_type": "execute_result"
    }
   ],
   "source": [
    "pca.n_components_"
   ]
  },
  {
   "cell_type": "code",
   "execution_count": 14,
   "id": "ec20747f",
   "metadata": {},
   "outputs": [
    {
     "data": {
      "text/plain": [
       "0.9598630798979065"
      ]
     },
     "execution_count": 14,
     "metadata": {},
     "output_type": "execute_result"
    }
   ],
   "source": [
    "np.sum(pca.explained_variance_ratio_)"
   ]
  },
  {
   "cell_type": "code",
   "execution_count": 15,
   "id": "1415ba5f",
   "metadata": {},
   "outputs": [],
   "source": [
    "x_train_pca = pca.transform(x_train)\n",
    "x_test_pca = pca.transform(x_test)"
   ]
  },
  {
   "cell_type": "code",
   "execution_count": 16,
   "id": "e6210d74",
   "metadata": {},
   "outputs": [],
   "source": [
    "col = []\n",
    "for i in range(pca.n_components_):\n",
    "    col.append(\"V_\" + str(i))"
   ]
  },
  {
   "cell_type": "code",
   "execution_count": 17,
   "id": "e436fd10",
   "metadata": {},
   "outputs": [],
   "source": [
    "train_sav = pd.DataFrame(x_train_pca, columns=col)\n",
    "train_sav[\"transported\"] = y_train\n",
    "test_sav = pd.DataFrame(x_test_pca, columns=col)\n",
    "test_sav[\"transported\"] = y_test"
   ]
  },
  {
   "cell_type": "code",
   "execution_count": 18,
   "id": "38885b8c",
   "metadata": {},
   "outputs": [],
   "source": [
    "train_0 = train_sav[train_sav[\"transported\"] == 0].drop_duplicates().reset_index(drop=True)\n",
    "train_1 = train_sav[train_sav[\"transported\"] == 1].reset_index(drop=True)"
   ]
  },
  {
   "cell_type": "code",
   "execution_count": 19,
   "id": "1be8c4c1",
   "metadata": {},
   "outputs": [
    {
     "data": {
      "text/plain": [
       "(2789, 3032)"
      ]
     },
     "execution_count": 19,
     "metadata": {},
     "output_type": "execute_result"
    }
   ],
   "source": [
    "len(train_0), len(train_1)"
   ]
  },
  {
   "cell_type": "code",
   "execution_count": 20,
   "id": "f51fd15d",
   "metadata": {},
   "outputs": [],
   "source": [
    "np.random.seed(42)\n",
    "numbers = np.random.randint(0,high=len(train_1), size=len(train_0))"
   ]
  },
  {
   "cell_type": "code",
   "execution_count": 21,
   "id": "d228c363",
   "metadata": {},
   "outputs": [
    {
     "data": {
      "text/plain": [
       "2789"
      ]
     },
     "execution_count": 21,
     "metadata": {},
     "output_type": "execute_result"
    }
   ],
   "source": [
    "len(numbers)"
   ]
  },
  {
   "cell_type": "code",
   "execution_count": 22,
   "id": "39be1387",
   "metadata": {},
   "outputs": [],
   "source": [
    "train_1 = train_1.iloc[numbers,:].reset_index(drop=True)\n",
    "train_new = pd.concat([train_0, train_1], axis = 0).reset_index(drop=True)"
   ]
  },
  {
   "cell_type": "code",
   "execution_count": 23,
   "id": "0a497394",
   "metadata": {},
   "outputs": [],
   "source": [
    "train_new.to_csv(\"../data/train_pca_new.csv\", index=False)"
   ]
  },
  {
   "cell_type": "code",
   "execution_count": 24,
   "id": "f09f3bcb",
   "metadata": {},
   "outputs": [],
   "source": [
    "train_sav.to_csv(\"../data/train_pca.csv\", index=False)"
   ]
  },
  {
   "cell_type": "code",
   "execution_count": 25,
   "id": "3f9f1da6",
   "metadata": {},
   "outputs": [],
   "source": [
    "test_sav.to_csv(\"../data/test_pca.csv\", index=False)"
   ]
  },
  {
   "cell_type": "code",
   "execution_count": 26,
   "id": "2b53aa85",
   "metadata": {},
   "outputs": [],
   "source": [
    "train_0 = train[train[\"transported\"] == 0].drop_duplicates().reset_index(drop=True)\n",
    "train_1 = train[train[\"transported\"] == 1].reset_index(drop=True)"
   ]
  },
  {
   "cell_type": "code",
   "execution_count": 27,
   "id": "5ca20b72",
   "metadata": {},
   "outputs": [],
   "source": [
    "np.random.seed(42)\n",
    "numbers = np.random.randint(0,high=len(train_1), size=len(train_0))"
   ]
  },
  {
   "cell_type": "code",
   "execution_count": 28,
   "id": "178b3df0",
   "metadata": {},
   "outputs": [],
   "source": [
    "train_1 = train_1.iloc[numbers,:].reset_index(drop=True)\n",
    "train = pd.concat([train_0, train_1], axis = 0).reset_index(drop=True)"
   ]
  },
  {
   "cell_type": "code",
   "execution_count": 29,
   "id": "b9e5239b",
   "metadata": {},
   "outputs": [],
   "source": [
    "train.to_csv(\"../data/train_fe_small.csv\", index=False)"
   ]
  },
  {
   "cell_type": "markdown",
   "id": "9a34f80a",
   "metadata": {},
   "source": [
    "### Quantum PCA"
   ]
  },
  {
   "cell_type": "code",
   "execution_count": 30,
   "id": "29e57680",
   "metadata": {},
   "outputs": [
    {
     "data": {
      "text/plain": [
       "15"
      ]
     },
     "execution_count": 30,
     "metadata": {},
     "output_type": "execute_result"
    }
   ],
   "source": [
    "x_train.shape[1]"
   ]
  },
  {
   "cell_type": "code",
   "execution_count": 31,
   "id": "fbaaa35c",
   "metadata": {},
   "outputs": [],
   "source": [
    "#sampler = Sampler()\n",
    "#fidelity = ComputeUncompute(sampler=sampler)\n",
    "#feature_map = PauliFeatureMap(feature_dimension=x_train.shape[1], reps=2, entanglement=\"linear\")\n",
    "#qpca_kernel = FidelityQuantumKernel(fidelity=fidelity, feature_map=feature_map)"
   ]
  },
  {
   "cell_type": "code",
   "execution_count": 32,
   "id": "0b6925d0",
   "metadata": {},
   "outputs": [],
   "source": [
    "#matrix_train = qpca_kernel.evaluate(x_vec=x_train)\n",
    "#matrix_test = qpca_kernel.evaluate(x_vec=x_test, y_vec=x_train)"
   ]
  },
  {
   "cell_type": "code",
   "execution_count": 33,
   "id": "945eeb98",
   "metadata": {},
   "outputs": [],
   "source": [
    "#kernel_pca_q = KernelPCA(n_components=0.95, kernel=\"precomputed\")\n",
    "#train_q= kernel_pca_q.fit_transform(matrix_train)\n",
    "#test_features_q = kernel_pca_q.transform(matrix_test)"
   ]
  },
  {
   "cell_type": "code",
   "execution_count": null,
   "id": "636c8317",
   "metadata": {},
   "outputs": [],
   "source": []
  }
 ],
 "metadata": {
  "kernelspec": {
   "display_name": "Python 3 (ipykernel)",
   "language": "python",
   "name": "python3"
  },
  "language_info": {
   "codemirror_mode": {
    "name": "ipython",
    "version": 3
   },
   "file_extension": ".py",
   "mimetype": "text/x-python",
   "name": "python",
   "nbconvert_exporter": "python",
   "pygments_lexer": "ipython3",
   "version": "3.9.12"
  }
 },
 "nbformat": 4,
 "nbformat_minor": 5
}

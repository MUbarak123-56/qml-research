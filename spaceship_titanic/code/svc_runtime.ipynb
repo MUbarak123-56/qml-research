{
 "cells": [
  {
   "cell_type": "code",
   "execution_count": 1,
   "id": "98d0ee7c",
   "metadata": {},
   "outputs": [],
   "source": [
    "import pandas as pd\n",
    "import warnings\n",
    "warnings.filterwarnings('ignore')\n",
    "from sklearn.linear_model import LogisticRegression\n",
    "from sklearn.svm import SVC\n",
    "from sklearn.naive_bayes import GaussianNB\n",
    "from sklearn.model_selection import cross_val_score, cross_val_predict, train_test_split, GridSearchCV\n",
    "import numpy as np\n",
    "from sklearn.metrics import classification_report, confusion_matrix, f1_score, precision_score, recall_score\n",
    "from sklearn.pipeline import Pipeline\n",
    "import matplotlib.pyplot as plt\n",
    "%matplotlib inline\n",
    "import seaborn as sns; sns.set_style(\"dark\")\n",
    "import time"
   ]
  },
  {
   "cell_type": "code",
   "execution_count": 2,
   "id": "a4a5225d",
   "metadata": {},
   "outputs": [],
   "source": [
    "train = pd.read_csv(\"../data/train_fe.csv\")"
   ]
  },
  {
   "cell_type": "code",
   "execution_count": 3,
   "id": "2c4481a4",
   "metadata": {},
   "outputs": [],
   "source": [
    "cols = cols = ['age','roomservice', 'spa', 'vrdeck', 'homeplanet_earth', 'homeplanet_europa', 'homeplanet_mars']"
   ]
  },
  {
   "cell_type": "code",
   "execution_count": 4,
   "id": "06eca11c",
   "metadata": {},
   "outputs": [],
   "source": [
    "#train = train[cols]\n",
    "x_train = train[cols]\n",
    "y_train = train[\"transported\"]"
   ]
  },
  {
   "cell_type": "code",
   "execution_count": 5,
   "id": "6938fa93",
   "metadata": {},
   "outputs": [
    {
     "data": {
      "text/plain": [
       "[0.1,\n",
       " 0.2,\n",
       " 0.30000000000000004,\n",
       " 0.4,\n",
       " 0.5,\n",
       " 0.6,\n",
       " 0.7000000000000001,\n",
       " 0.8,\n",
       " 0.9,\n",
       " 1.0]"
      ]
     },
     "execution_count": 5,
     "metadata": {},
     "output_type": "execute_result"
    }
   ],
   "source": [
    "sizes = np.linspace(0.1,1,10)\n",
    "sizes = list(sizes)\n",
    "sizes"
   ]
  },
  {
   "cell_type": "code",
   "execution_count": 6,
   "id": "65553540",
   "metadata": {},
   "outputs": [
    {
     "data": {
      "text/plain": [
       "['age',\n",
       " 'roomservice',\n",
       " 'spa',\n",
       " 'vrdeck',\n",
       " 'homeplanet_earth',\n",
       " 'homeplanet_europa',\n",
       " 'homeplanet_mars']"
      ]
     },
     "execution_count": 6,
     "metadata": {},
     "output_type": "execute_result"
    }
   ],
   "source": [
    "cols[:len(cols)+1]"
   ]
  },
  {
   "cell_type": "code",
   "execution_count": 7,
   "id": "dbe4019b",
   "metadata": {},
   "outputs": [
    {
     "data": {
      "text/plain": [
       "0.1"
      ]
     },
     "execution_count": 7,
     "metadata": {},
     "output_type": "execute_result"
    }
   ],
   "source": [
    "sizes[0]"
   ]
  },
  {
   "cell_type": "code",
   "execution_count": 8,
   "id": "6025a8e0",
   "metadata": {},
   "outputs": [],
   "source": [
    "numbers = np.random.randint(0,high=len(train), size=round(len(train)*sizes[0]))"
   ]
  },
  {
   "cell_type": "code",
   "execution_count": 9,
   "id": "4dcee80c",
   "metadata": {},
   "outputs": [],
   "source": [
    "typ = \"linear\"\n",
    "model = SVC(kernel=typ)\n",
    "size1 = pd.DataFrame()\n",
    "for i in range(len(sizes)):\n",
    "    numbers = np.random.randint(0,high=len(train), size=round(len(train)*sizes[i]))\n",
    "    new_x = x_train.iloc[numbers,:].reset_index(drop=True)\n",
    "    new_y = y_train.iloc[numbers]\n",
    "    start = time.time()\n",
    "    model.fit(new_x, new_y)\n",
    "    stop = time.time()\n",
    "    elapsed=stop-start\n",
    "    size1.loc[i, \"size\"] = sizes[i]*len(train)\n",
    "    size1.loc[i, \"model\"] = \"SVC_linear\"\n",
    "    size1.loc[i, \"runtime\"] = elapsed\n",
    "    #size1.loc[i,\"kernel\"] = typ"
   ]
  },
  {
   "cell_type": "code",
   "execution_count": 10,
   "id": "a1015cbe",
   "metadata": {},
   "outputs": [
    {
     "data": {
      "text/html": [
       "<div>\n",
       "<style scoped>\n",
       "    .dataframe tbody tr th:only-of-type {\n",
       "        vertical-align: middle;\n",
       "    }\n",
       "\n",
       "    .dataframe tbody tr th {\n",
       "        vertical-align: top;\n",
       "    }\n",
       "\n",
       "    .dataframe thead th {\n",
       "        text-align: right;\n",
       "    }\n",
       "</style>\n",
       "<table border=\"1\" class=\"dataframe\">\n",
       "  <thead>\n",
       "    <tr style=\"text-align: right;\">\n",
       "      <th></th>\n",
       "      <th>size</th>\n",
       "      <th>model</th>\n",
       "      <th>runtime</th>\n",
       "    </tr>\n",
       "  </thead>\n",
       "  <tbody>\n",
       "    <tr>\n",
       "      <th>0</th>\n",
       "      <td>604.7</td>\n",
       "      <td>SVC_linear</td>\n",
       "      <td>0.024884</td>\n",
       "    </tr>\n",
       "    <tr>\n",
       "      <th>1</th>\n",
       "      <td>1209.4</td>\n",
       "      <td>SVC_linear</td>\n",
       "      <td>0.082538</td>\n",
       "    </tr>\n",
       "    <tr>\n",
       "      <th>2</th>\n",
       "      <td>1814.1</td>\n",
       "      <td>SVC_linear</td>\n",
       "      <td>0.179707</td>\n",
       "    </tr>\n",
       "    <tr>\n",
       "      <th>3</th>\n",
       "      <td>2418.8</td>\n",
       "      <td>SVC_linear</td>\n",
       "      <td>0.317200</td>\n",
       "    </tr>\n",
       "    <tr>\n",
       "      <th>4</th>\n",
       "      <td>3023.5</td>\n",
       "      <td>SVC_linear</td>\n",
       "      <td>0.534823</td>\n",
       "    </tr>\n",
       "    <tr>\n",
       "      <th>5</th>\n",
       "      <td>3628.2</td>\n",
       "      <td>SVC_linear</td>\n",
       "      <td>0.673942</td>\n",
       "    </tr>\n",
       "    <tr>\n",
       "      <th>6</th>\n",
       "      <td>4232.9</td>\n",
       "      <td>SVC_linear</td>\n",
       "      <td>1.061610</td>\n",
       "    </tr>\n",
       "    <tr>\n",
       "      <th>7</th>\n",
       "      <td>4837.6</td>\n",
       "      <td>SVC_linear</td>\n",
       "      <td>1.246354</td>\n",
       "    </tr>\n",
       "    <tr>\n",
       "      <th>8</th>\n",
       "      <td>5442.3</td>\n",
       "      <td>SVC_linear</td>\n",
       "      <td>1.629160</td>\n",
       "    </tr>\n",
       "    <tr>\n",
       "      <th>9</th>\n",
       "      <td>6047.0</td>\n",
       "      <td>SVC_linear</td>\n",
       "      <td>2.028261</td>\n",
       "    </tr>\n",
       "  </tbody>\n",
       "</table>\n",
       "</div>"
      ],
      "text/plain": [
       "     size       model   runtime\n",
       "0   604.7  SVC_linear  0.024884\n",
       "1  1209.4  SVC_linear  0.082538\n",
       "2  1814.1  SVC_linear  0.179707\n",
       "3  2418.8  SVC_linear  0.317200\n",
       "4  3023.5  SVC_linear  0.534823\n",
       "5  3628.2  SVC_linear  0.673942\n",
       "6  4232.9  SVC_linear  1.061610\n",
       "7  4837.6  SVC_linear  1.246354\n",
       "8  5442.3  SVC_linear  1.629160\n",
       "9  6047.0  SVC_linear  2.028261"
      ]
     },
     "execution_count": 10,
     "metadata": {},
     "output_type": "execute_result"
    }
   ],
   "source": [
    "size1"
   ]
  },
  {
   "cell_type": "code",
   "execution_count": 11,
   "id": "f2c1af1c",
   "metadata": {},
   "outputs": [],
   "source": [
    "typ = \"rbf\"\n",
    "model = SVC(kernel=typ)\n",
    "size2 = pd.DataFrame()\n",
    "for i in range(len(sizes)):\n",
    "    numbers = np.random.randint(0,high=len(train), size=round(len(train)*sizes[i]))\n",
    "    new_x = x_train.iloc[numbers,:].reset_index(drop=True)\n",
    "    new_y = y_train.iloc[numbers]\n",
    "    start = time.time()\n",
    "    model.fit(new_x, new_y)\n",
    "    stop = time.time()\n",
    "    elapsed=stop-start\n",
    "    size2.loc[i, \"size\"] = sizes[i]*len(train)\n",
    "    size2.loc[i, \"model\"] = \"SVC_rbf\"\n",
    "    size2.loc[i, \"runtime\"] = elapsed\n",
    "    #size2.loc[i,\"kernel\"] = typ"
   ]
  },
  {
   "cell_type": "code",
   "execution_count": 12,
   "id": "7231d6ef",
   "metadata": {},
   "outputs": [
    {
     "data": {
      "text/html": [
       "<div>\n",
       "<style scoped>\n",
       "    .dataframe tbody tr th:only-of-type {\n",
       "        vertical-align: middle;\n",
       "    }\n",
       "\n",
       "    .dataframe tbody tr th {\n",
       "        vertical-align: top;\n",
       "    }\n",
       "\n",
       "    .dataframe thead th {\n",
       "        text-align: right;\n",
       "    }\n",
       "</style>\n",
       "<table border=\"1\" class=\"dataframe\">\n",
       "  <thead>\n",
       "    <tr style=\"text-align: right;\">\n",
       "      <th></th>\n",
       "      <th>size</th>\n",
       "      <th>model</th>\n",
       "      <th>runtime</th>\n",
       "    </tr>\n",
       "  </thead>\n",
       "  <tbody>\n",
       "    <tr>\n",
       "      <th>0</th>\n",
       "      <td>604.7</td>\n",
       "      <td>SVC_rbf</td>\n",
       "      <td>0.049043</td>\n",
       "    </tr>\n",
       "    <tr>\n",
       "      <th>1</th>\n",
       "      <td>1209.4</td>\n",
       "      <td>SVC_rbf</td>\n",
       "      <td>0.166678</td>\n",
       "    </tr>\n",
       "    <tr>\n",
       "      <th>2</th>\n",
       "      <td>1814.1</td>\n",
       "      <td>SVC_rbf</td>\n",
       "      <td>0.344179</td>\n",
       "    </tr>\n",
       "    <tr>\n",
       "      <th>3</th>\n",
       "      <td>2418.8</td>\n",
       "      <td>SVC_rbf</td>\n",
       "      <td>0.621065</td>\n",
       "    </tr>\n",
       "    <tr>\n",
       "      <th>4</th>\n",
       "      <td>3023.5</td>\n",
       "      <td>SVC_rbf</td>\n",
       "      <td>1.028368</td>\n",
       "    </tr>\n",
       "    <tr>\n",
       "      <th>5</th>\n",
       "      <td>3628.2</td>\n",
       "      <td>SVC_rbf</td>\n",
       "      <td>1.320014</td>\n",
       "    </tr>\n",
       "    <tr>\n",
       "      <th>6</th>\n",
       "      <td>4232.9</td>\n",
       "      <td>SVC_rbf</td>\n",
       "      <td>1.864296</td>\n",
       "    </tr>\n",
       "    <tr>\n",
       "      <th>7</th>\n",
       "      <td>4837.6</td>\n",
       "      <td>SVC_rbf</td>\n",
       "      <td>2.396291</td>\n",
       "    </tr>\n",
       "    <tr>\n",
       "      <th>8</th>\n",
       "      <td>5442.3</td>\n",
       "      <td>SVC_rbf</td>\n",
       "      <td>2.941178</td>\n",
       "    </tr>\n",
       "    <tr>\n",
       "      <th>9</th>\n",
       "      <td>6047.0</td>\n",
       "      <td>SVC_rbf</td>\n",
       "      <td>3.528003</td>\n",
       "    </tr>\n",
       "  </tbody>\n",
       "</table>\n",
       "</div>"
      ],
      "text/plain": [
       "     size    model   runtime\n",
       "0   604.7  SVC_rbf  0.049043\n",
       "1  1209.4  SVC_rbf  0.166678\n",
       "2  1814.1  SVC_rbf  0.344179\n",
       "3  2418.8  SVC_rbf  0.621065\n",
       "4  3023.5  SVC_rbf  1.028368\n",
       "5  3628.2  SVC_rbf  1.320014\n",
       "6  4232.9  SVC_rbf  1.864296\n",
       "7  4837.6  SVC_rbf  2.396291\n",
       "8  5442.3  SVC_rbf  2.941178\n",
       "9  6047.0  SVC_rbf  3.528003"
      ]
     },
     "execution_count": 12,
     "metadata": {},
     "output_type": "execute_result"
    }
   ],
   "source": [
    "size2"
   ]
  },
  {
   "cell_type": "code",
   "execution_count": 13,
   "id": "3670dfe1",
   "metadata": {},
   "outputs": [],
   "source": [
    "typ = \"linear\"\n",
    "model = SVC(kernel=typ)\n",
    "feat = pd.DataFrame()\n",
    "for i in range(len(cols)):\n",
    "    new_x = x_train.loc[:,cols[:i+1]]\n",
    "    start = time.time()\n",
    "    model.fit(new_x, y_train)\n",
    "    stop = time.time()\n",
    "    elapsed=stop-start\n",
    "    feat.loc[i, \"num_features\"] = i + 1\n",
    "    feat.loc[i, \"model\"] = \"SVC_linear\"\n",
    "    feat.loc[i, \"runtime\"] = elapsed\n",
    "    #feat.loc[i,\"kernel\"] = typ"
   ]
  },
  {
   "cell_type": "code",
   "execution_count": 14,
   "id": "5b443415",
   "metadata": {},
   "outputs": [
    {
     "data": {
      "text/html": [
       "<div>\n",
       "<style scoped>\n",
       "    .dataframe tbody tr th:only-of-type {\n",
       "        vertical-align: middle;\n",
       "    }\n",
       "\n",
       "    .dataframe tbody tr th {\n",
       "        vertical-align: top;\n",
       "    }\n",
       "\n",
       "    .dataframe thead th {\n",
       "        text-align: right;\n",
       "    }\n",
       "</style>\n",
       "<table border=\"1\" class=\"dataframe\">\n",
       "  <thead>\n",
       "    <tr style=\"text-align: right;\">\n",
       "      <th></th>\n",
       "      <th>num_features</th>\n",
       "      <th>model</th>\n",
       "      <th>runtime</th>\n",
       "    </tr>\n",
       "  </thead>\n",
       "  <tbody>\n",
       "    <tr>\n",
       "      <th>0</th>\n",
       "      <td>1.0</td>\n",
       "      <td>SVC_linear</td>\n",
       "      <td>2.500481</td>\n",
       "    </tr>\n",
       "    <tr>\n",
       "      <th>1</th>\n",
       "      <td>2.0</td>\n",
       "      <td>SVC_linear</td>\n",
       "      <td>2.250360</td>\n",
       "    </tr>\n",
       "    <tr>\n",
       "      <th>2</th>\n",
       "      <td>3.0</td>\n",
       "      <td>SVC_linear</td>\n",
       "      <td>2.073423</td>\n",
       "    </tr>\n",
       "    <tr>\n",
       "      <th>3</th>\n",
       "      <td>4.0</td>\n",
       "      <td>SVC_linear</td>\n",
       "      <td>2.088909</td>\n",
       "    </tr>\n",
       "    <tr>\n",
       "      <th>4</th>\n",
       "      <td>5.0</td>\n",
       "      <td>SVC_linear</td>\n",
       "      <td>2.279267</td>\n",
       "    </tr>\n",
       "    <tr>\n",
       "      <th>5</th>\n",
       "      <td>6.0</td>\n",
       "      <td>SVC_linear</td>\n",
       "      <td>2.051422</td>\n",
       "    </tr>\n",
       "    <tr>\n",
       "      <th>6</th>\n",
       "      <td>7.0</td>\n",
       "      <td>SVC_linear</td>\n",
       "      <td>1.988696</td>\n",
       "    </tr>\n",
       "  </tbody>\n",
       "</table>\n",
       "</div>"
      ],
      "text/plain": [
       "   num_features       model   runtime\n",
       "0           1.0  SVC_linear  2.500481\n",
       "1           2.0  SVC_linear  2.250360\n",
       "2           3.0  SVC_linear  2.073423\n",
       "3           4.0  SVC_linear  2.088909\n",
       "4           5.0  SVC_linear  2.279267\n",
       "5           6.0  SVC_linear  2.051422\n",
       "6           7.0  SVC_linear  1.988696"
      ]
     },
     "execution_count": 14,
     "metadata": {},
     "output_type": "execute_result"
    }
   ],
   "source": [
    "feat"
   ]
  },
  {
   "cell_type": "code",
   "execution_count": 15,
   "id": "1c0d38da",
   "metadata": {},
   "outputs": [],
   "source": [
    "typ = \"rbf\"\n",
    "model = SVC(kernel=typ)\n",
    "feat2 = pd.DataFrame()\n",
    "for i in range(len(cols)):\n",
    "    new_x = x_train.loc[:,cols[:i+1]]\n",
    "    start = time.time()\n",
    "    model.fit(new_x, y_train)\n",
    "    stop = time.time()\n",
    "    elapsed=stop-start\n",
    "    feat2.loc[i, \"num_features\"] = i + 1\n",
    "    feat2.loc[i, \"model\"] = \"SVC_rbf\"\n",
    "    feat2.loc[i, \"runtime\"] = elapsed\n",
    "    #feat2.loc[i,\"kernel\"] = typ"
   ]
  },
  {
   "cell_type": "code",
   "execution_count": 16,
   "id": "4bbddd0e",
   "metadata": {},
   "outputs": [
    {
     "data": {
      "text/html": [
       "<div>\n",
       "<style scoped>\n",
       "    .dataframe tbody tr th:only-of-type {\n",
       "        vertical-align: middle;\n",
       "    }\n",
       "\n",
       "    .dataframe tbody tr th {\n",
       "        vertical-align: top;\n",
       "    }\n",
       "\n",
       "    .dataframe thead th {\n",
       "        text-align: right;\n",
       "    }\n",
       "</style>\n",
       "<table border=\"1\" class=\"dataframe\">\n",
       "  <thead>\n",
       "    <tr style=\"text-align: right;\">\n",
       "      <th></th>\n",
       "      <th>num_features</th>\n",
       "      <th>model</th>\n",
       "      <th>runtime</th>\n",
       "    </tr>\n",
       "  </thead>\n",
       "  <tbody>\n",
       "    <tr>\n",
       "      <th>0</th>\n",
       "      <td>1.0</td>\n",
       "      <td>SVC_rbf</td>\n",
       "      <td>4.481024</td>\n",
       "    </tr>\n",
       "    <tr>\n",
       "      <th>1</th>\n",
       "      <td>2.0</td>\n",
       "      <td>SVC_rbf</td>\n",
       "      <td>4.548186</td>\n",
       "    </tr>\n",
       "    <tr>\n",
       "      <th>2</th>\n",
       "      <td>3.0</td>\n",
       "      <td>SVC_rbf</td>\n",
       "      <td>3.921227</td>\n",
       "    </tr>\n",
       "    <tr>\n",
       "      <th>3</th>\n",
       "      <td>4.0</td>\n",
       "      <td>SVC_rbf</td>\n",
       "      <td>3.288783</td>\n",
       "    </tr>\n",
       "    <tr>\n",
       "      <th>4</th>\n",
       "      <td>5.0</td>\n",
       "      <td>SVC_rbf</td>\n",
       "      <td>3.305527</td>\n",
       "    </tr>\n",
       "    <tr>\n",
       "      <th>5</th>\n",
       "      <td>6.0</td>\n",
       "      <td>SVC_rbf</td>\n",
       "      <td>3.547606</td>\n",
       "    </tr>\n",
       "    <tr>\n",
       "      <th>6</th>\n",
       "      <td>7.0</td>\n",
       "      <td>SVC_rbf</td>\n",
       "      <td>3.504627</td>\n",
       "    </tr>\n",
       "  </tbody>\n",
       "</table>\n",
       "</div>"
      ],
      "text/plain": [
       "   num_features    model   runtime\n",
       "0           1.0  SVC_rbf  4.481024\n",
       "1           2.0  SVC_rbf  4.548186\n",
       "2           3.0  SVC_rbf  3.921227\n",
       "3           4.0  SVC_rbf  3.288783\n",
       "4           5.0  SVC_rbf  3.305527\n",
       "5           6.0  SVC_rbf  3.547606\n",
       "6           7.0  SVC_rbf  3.504627"
      ]
     },
     "execution_count": 16,
     "metadata": {},
     "output_type": "execute_result"
    }
   ],
   "source": [
    "feat2"
   ]
  },
  {
   "cell_type": "code",
   "execution_count": 17,
   "id": "4e3732b7",
   "metadata": {},
   "outputs": [],
   "source": [
    "size_df = pd.concat([size1, size2], axis = 0).reset_index(drop=True)\n",
    "size_df.to_csv(\"../results/runtime_size/svc.csv\", index=False)"
   ]
  },
  {
   "cell_type": "code",
   "execution_count": 18,
   "id": "ae2f54ba",
   "metadata": {},
   "outputs": [],
   "source": [
    "feat_df = pd.concat([feat, feat2], axis = 0).reset_index(drop=True)\n",
    "feat_df.to_csv(\"../results/runtime_features/svc.csv\", index=False)"
   ]
  },
  {
   "cell_type": "code",
   "execution_count": null,
   "id": "0615dd55",
   "metadata": {},
   "outputs": [],
   "source": []
  },
  {
   "cell_type": "code",
   "execution_count": null,
   "id": "b719e140",
   "metadata": {},
   "outputs": [],
   "source": []
  }
 ],
 "metadata": {
  "kernelspec": {
   "display_name": "Python 3 (ipykernel)",
   "language": "python",
   "name": "python3"
  },
  "language_info": {
   "codemirror_mode": {
    "name": "ipython",
    "version": 3
   },
   "file_extension": ".py",
   "mimetype": "text/x-python",
   "name": "python",
   "nbconvert_exporter": "python",
   "pygments_lexer": "ipython3",
   "version": "3.9.12"
  }
 },
 "nbformat": 4,
 "nbformat_minor": 5
}

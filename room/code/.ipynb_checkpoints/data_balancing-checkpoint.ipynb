{
 "cells": [
  {
   "cell_type": "code",
   "execution_count": 1,
   "id": "58d51d5b",
   "metadata": {},
   "outputs": [],
   "source": [
    "import pandas as pd\n",
    "from imblearn.over_sampling import SMOTE\n",
    "from collections import Counter\n",
    "import numpy"
   ]
  },
  {
   "cell_type": "code",
   "execution_count": 2,
   "id": "6c5db9cc",
   "metadata": {},
   "outputs": [],
   "source": [
    "data = pd.read_csv(\"../data/train_fe.csv\")"
   ]
  },
  {
   "cell_type": "code",
   "execution_count": 3,
   "id": "3698c836",
   "metadata": {},
   "outputs": [],
   "source": [
    "x_train, y_train = data.drop(\"target\", axis = 1), data[\"target\"]"
   ]
  },
  {
   "cell_type": "code",
   "execution_count": 4,
   "id": "ac735dc2",
   "metadata": {},
   "outputs": [
    {
     "name": "stdout",
     "output_type": "stream",
     "text": [
      "Before Counter({0.0: 1343, 1.0: 789})\n"
     ]
    }
   ],
   "source": [
    "count = Counter(y_train)\n",
    "print(\"Before\", count)"
   ]
  },
  {
   "cell_type": "code",
   "execution_count": 5,
   "id": "e0cd4c09",
   "metadata": {},
   "outputs": [],
   "source": [
    "smt = SMOTE()\n",
    "x_train_sm, y_train_sm = smt.fit_resample(x_train, y_train)"
   ]
  },
  {
   "cell_type": "code",
   "execution_count": 6,
   "id": "17abeaf1",
   "metadata": {},
   "outputs": [
    {
     "name": "stdout",
     "output_type": "stream",
     "text": [
      "After Counter({1.0: 1343, 0.0: 1343})\n"
     ]
    }
   ],
   "source": [
    "count = Counter(y_train_sm)\n",
    "print(\"After\", count)"
   ]
  },
  {
   "cell_type": "code",
   "execution_count": 7,
   "id": "8cada690",
   "metadata": {},
   "outputs": [],
   "source": [
    "x_train_sm[\"target\"] = y_train_sm"
   ]
  },
  {
   "cell_type": "code",
   "execution_count": 8,
   "id": "20d9a678",
   "metadata": {},
   "outputs": [],
   "source": [
    "train_sm = x_train_sm.copy()"
   ]
  },
  {
   "cell_type": "code",
   "execution_count": 9,
   "id": "1e211723",
   "metadata": {},
   "outputs": [],
   "source": [
    "train_sm.to_csv(\"../data/train_big.csv\", index=False)"
   ]
  },
  {
   "cell_type": "code",
   "execution_count": 10,
   "id": "d171ba19",
   "metadata": {},
   "outputs": [],
   "source": [
    "import random\n",
    "import numpy as np"
   ]
  },
  {
   "cell_type": "code",
   "execution_count": 11,
   "id": "f05af60d",
   "metadata": {},
   "outputs": [],
   "source": [
    "zero_data = data[data[\"target\"] == 0.0].reset_index(drop=True)\n",
    "one_data = data[data[\"target\"] == 1.0].reset_index(drop=True)"
   ]
  },
  {
   "cell_type": "code",
   "execution_count": 12,
   "id": "39a08220",
   "metadata": {},
   "outputs": [],
   "source": [
    "numbers = np.random.randint(0,high=len(zero_data), size=len(one_data))"
   ]
  },
  {
   "cell_type": "code",
   "execution_count": 13,
   "id": "beab9b64",
   "metadata": {},
   "outputs": [],
   "source": [
    "zero_data = zero_data.loc[numbers,:].reset_index(drop=True)"
   ]
  },
  {
   "cell_type": "code",
   "execution_count": 14,
   "id": "ac503dbc",
   "metadata": {},
   "outputs": [
    {
     "data": {
      "text/html": [
       "<div>\n",
       "<style scoped>\n",
       "    .dataframe tbody tr th:only-of-type {\n",
       "        vertical-align: middle;\n",
       "    }\n",
       "\n",
       "    .dataframe tbody tr th {\n",
       "        vertical-align: top;\n",
       "    }\n",
       "\n",
       "    .dataframe thead th {\n",
       "        text-align: right;\n",
       "    }\n",
       "</style>\n",
       "<table border=\"1\" class=\"dataframe\">\n",
       "  <thead>\n",
       "    <tr style=\"text-align: right;\">\n",
       "      <th></th>\n",
       "      <th>temperature</th>\n",
       "      <th>humidity</th>\n",
       "      <th>light</th>\n",
       "      <th>co2</th>\n",
       "      <th>humidityratio</th>\n",
       "      <th>target</th>\n",
       "    </tr>\n",
       "  </thead>\n",
       "  <tbody>\n",
       "    <tr>\n",
       "      <th>0</th>\n",
       "      <td>0.530266</td>\n",
       "      <td>0.850894</td>\n",
       "      <td>0.000000</td>\n",
       "      <td>0.778661</td>\n",
       "      <td>0.837370</td>\n",
       "      <td>0.0</td>\n",
       "    </tr>\n",
       "    <tr>\n",
       "      <th>1</th>\n",
       "      <td>0.314770</td>\n",
       "      <td>0.633058</td>\n",
       "      <td>0.000000</td>\n",
       "      <td>0.415662</td>\n",
       "      <td>0.550666</td>\n",
       "      <td>0.0</td>\n",
       "    </tr>\n",
       "    <tr>\n",
       "      <th>2</th>\n",
       "      <td>0.072639</td>\n",
       "      <td>0.035636</td>\n",
       "      <td>0.000000</td>\n",
       "      <td>0.007284</td>\n",
       "      <td>0.017525</td>\n",
       "      <td>0.0</td>\n",
       "    </tr>\n",
       "    <tr>\n",
       "      <th>3</th>\n",
       "      <td>0.217918</td>\n",
       "      <td>0.149373</td>\n",
       "      <td>0.000000</td>\n",
       "      <td>0.099513</td>\n",
       "      <td>0.158298</td>\n",
       "      <td>0.0</td>\n",
       "    </tr>\n",
       "    <tr>\n",
       "      <th>4</th>\n",
       "      <td>0.072639</td>\n",
       "      <td>0.030942</td>\n",
       "      <td>0.000000</td>\n",
       "      <td>0.011285</td>\n",
       "      <td>0.014351</td>\n",
       "      <td>0.0</td>\n",
       "    </tr>\n",
       "    <tr>\n",
       "      <th>...</th>\n",
       "      <td>...</td>\n",
       "      <td>...</td>\n",
       "      <td>...</td>\n",
       "      <td>...</td>\n",
       "      <td>...</td>\n",
       "      <td>...</td>\n",
       "    </tr>\n",
       "    <tr>\n",
       "      <th>1573</th>\n",
       "      <td>0.409201</td>\n",
       "      <td>0.682849</td>\n",
       "      <td>0.301272</td>\n",
       "      <td>0.781910</td>\n",
       "      <td>0.639574</td>\n",
       "      <td>1.0</td>\n",
       "    </tr>\n",
       "    <tr>\n",
       "      <th>1574</th>\n",
       "      <td>0.595642</td>\n",
       "      <td>0.931448</td>\n",
       "      <td>0.255119</td>\n",
       "      <td>0.901770</td>\n",
       "      <td>0.940422</td>\n",
       "      <td>1.0</td>\n",
       "    </tr>\n",
       "    <tr>\n",
       "      <th>1575</th>\n",
       "      <td>0.142857</td>\n",
       "      <td>0.287010</td>\n",
       "      <td>0.255119</td>\n",
       "      <td>0.246730</td>\n",
       "      <td>0.219897</td>\n",
       "      <td>1.0</td>\n",
       "    </tr>\n",
       "    <tr>\n",
       "      <th>1576</th>\n",
       "      <td>0.217918</td>\n",
       "      <td>0.297679</td>\n",
       "      <td>0.261600</td>\n",
       "      <td>0.321416</td>\n",
       "      <td>0.262490</td>\n",
       "      <td>1.0</td>\n",
       "    </tr>\n",
       "    <tr>\n",
       "      <th>1577</th>\n",
       "      <td>0.484262</td>\n",
       "      <td>0.580421</td>\n",
       "      <td>0.317337</td>\n",
       "      <td>0.682944</td>\n",
       "      <td>0.605299</td>\n",
       "      <td>1.0</td>\n",
       "    </tr>\n",
       "  </tbody>\n",
       "</table>\n",
       "<p>1578 rows × 6 columns</p>\n",
       "</div>"
      ],
      "text/plain": [
       "      temperature  humidity     light       co2  humidityratio  target\n",
       "0        0.530266  0.850894  0.000000  0.778661       0.837370     0.0\n",
       "1        0.314770  0.633058  0.000000  0.415662       0.550666     0.0\n",
       "2        0.072639  0.035636  0.000000  0.007284       0.017525     0.0\n",
       "3        0.217918  0.149373  0.000000  0.099513       0.158298     0.0\n",
       "4        0.072639  0.030942  0.000000  0.011285       0.014351     0.0\n",
       "...           ...       ...       ...       ...            ...     ...\n",
       "1573     0.409201  0.682849  0.301272  0.781910       0.639574     1.0\n",
       "1574     0.595642  0.931448  0.255119  0.901770       0.940422     1.0\n",
       "1575     0.142857  0.287010  0.255119  0.246730       0.219897     1.0\n",
       "1576     0.217918  0.297679  0.261600  0.321416       0.262490     1.0\n",
       "1577     0.484262  0.580421  0.317337  0.682944       0.605299     1.0\n",
       "\n",
       "[1578 rows x 6 columns]"
      ]
     },
     "execution_count": 14,
     "metadata": {},
     "output_type": "execute_result"
    }
   ],
   "source": [
    "new_data = pd.concat([zero_data, one_data], axis = 0).reset_index(drop=True)\n",
    "new_data"
   ]
  },
  {
   "cell_type": "code",
   "execution_count": 15,
   "id": "d266bd62",
   "metadata": {},
   "outputs": [
    {
     "data": {
      "text/plain": [
       "0.0    789\n",
       "1.0    789\n",
       "Name: target, dtype: int64"
      ]
     },
     "execution_count": 15,
     "metadata": {},
     "output_type": "execute_result"
    }
   ],
   "source": [
    "new_data[\"target\"].value_counts()"
   ]
  },
  {
   "cell_type": "code",
   "execution_count": 16,
   "id": "519d7c46",
   "metadata": {},
   "outputs": [],
   "source": [
    "new_data.to_csv(\"../data/train_small.csv\", index=False)"
   ]
  },
  {
   "cell_type": "code",
   "execution_count": null,
   "id": "0d80cd40",
   "metadata": {},
   "outputs": [],
   "source": []
  }
 ],
 "metadata": {
  "kernelspec": {
   "display_name": "Python 3 (ipykernel)",
   "language": "python",
   "name": "python3"
  },
  "language_info": {
   "codemirror_mode": {
    "name": "ipython",
    "version": 3
   },
   "file_extension": ".py",
   "mimetype": "text/x-python",
   "name": "python",
   "nbconvert_exporter": "python",
   "pygments_lexer": "ipython3",
   "version": "3.9.12"
  }
 },
 "nbformat": 4,
 "nbformat_minor": 5
}

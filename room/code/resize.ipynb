{
 "cells": [
  {
   "cell_type": "code",
   "execution_count": 1,
   "id": "16c2dc20",
   "metadata": {},
   "outputs": [],
   "source": [
    "from PIL import Image\n",
    "\n",
    "\n",
    "img = Image.open('../conf/qsvc.png')\n",
    "\n",
    "new_size = (8 * 100, 6 * 100)  \n",
    "img_resized = img.resize(new_size, Image.ANTIALIAS)\n",
    "\n",
    "img_resized.save('../conf/qsvc_resized.png')\n"
   ]
  },
  {
   "cell_type": "code",
   "execution_count": null,
   "id": "b07d26d8",
   "metadata": {},
   "outputs": [],
   "source": []
  }
 ],
 "metadata": {
  "kernelspec": {
   "display_name": "Python 3 (ipykernel)",
   "language": "python",
   "name": "python3"
  },
  "language_info": {
   "codemirror_mode": {
    "name": "ipython",
    "version": 3
   },
   "file_extension": ".py",
   "mimetype": "text/x-python",
   "name": "python",
   "nbconvert_exporter": "python",
   "pygments_lexer": "ipython3",
   "version": "3.9.12"
  }
 },
 "nbformat": 4,
 "nbformat_minor": 5
}

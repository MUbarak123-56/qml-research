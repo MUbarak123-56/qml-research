{
 "cells": [
  {
   "cell_type": "code",
   "execution_count": 7,
   "id": "7eedd999",
   "metadata": {},
   "outputs": [],
   "source": [
    "import pandas as pd\n",
    "import seaborn as sns\n",
    "import numpy as np\n",
    "import matplotlib.pyplot as plt\n",
    "\n",
    "train = pd.read_csv(\"../data/train_fe.csv\")\n",
    "\n",
    "cols = ['total_day_minutes', 'total_day_calls','total_intl_charge', 'customer_service_calls', 'account_length','number_vmail_messages', \n",
    "        'region_South', 'region_West']\n",
    "\n",
    "x_train = train[cols]\n",
    "y_train = train[\"churn\"]\n",
    "\n",
    "from qiskit.circuit.library import PauliFeatureMap\n",
    "from qiskit_machine_learning.algorithms import QSVC\n",
    "from qiskit_machine_learning.kernels import FidelityQuantumKernel\n",
    "from qiskit import BasicAer\n",
    "from qiskit.utils import algorithm_globals\n",
    "import time\n",
    "\n",
    "num_qubits = 8\n",
    "algorithm_globals.random_seed = 12345\n",
    "\n",
    "# Define the feature map\n",
    "feature_map = PauliFeatureMap(feature_dimension=num_qubits, reps=1)\n",
    "\n",
    "# Define the quantum kernel\n",
    "qkernel = FidelityQuantumKernel(feature_map=feature_map)\n",
    "\n",
    "# Initialize the QSVC model\n",
    "model = QSVC(quantum_kernel=qkernel)"
   ]
  },
  {
   "cell_type": "code",
   "execution_count": 8,
   "id": "75d8b5d6",
   "metadata": {},
   "outputs": [],
   "source": [
    "sizes = np.linspace(0.1,1,10)\n",
    "sizes = list(sizes)\n",
    "size = pd.DataFrame()"
   ]
  },
  {
   "cell_type": "code",
   "execution_count": 9,
   "id": "c0224bbe",
   "metadata": {},
   "outputs": [],
   "source": [
    "numbers = np.random.randint(0,high=len(train), size=round(len(train)*sizes[0]))\n",
    "new_x = np.array(x_train.iloc[numbers,:].reset_index(drop=True))\n",
    "new_y = np.array(y_train.iloc[numbers])"
   ]
  },
  {
   "cell_type": "code",
   "execution_count": null,
   "id": "50267a6e",
   "metadata": {},
   "outputs": [],
   "source": [
    "start = time.time()\n",
    "model.fit(new_x, new_y)\n",
    "stop = time.time()\n",
    "elapsed=stop-start\n",
    "size.loc[0, \"size\"] = sizes[0]*len(train)\n",
    "size.loc[0, \"model\"] = \"QSVC\"\n",
    "size.loc[0, \"runtime\"] = elapsed\n",
    "#size.loc[i,\"kernel\"] = typ\n",
    "#print(\"size \", i)"
   ]
  },
  {
   "cell_type": "code",
   "execution_count": null,
   "id": "f9a08b75",
   "metadata": {},
   "outputs": [],
   "source": [
    "size"
   ]
  },
  {
   "cell_type": "code",
   "execution_count": null,
   "id": "7ccd2902",
   "metadata": {},
   "outputs": [],
   "source": [
    "sizes = np.linspace(0.1,1,10)\n",
    "sizes = list(sizes)\n",
    "\n",
    "size = pd.DataFrame()\n",
    "for i in range(len(sizes)):\n",
    "    numbers = np.random.randint(0,high=len(train), size=round(len(train)*sizes[i]))\n",
    "    new_x = np.array(x_train.iloc[numbers,:].reset_index(drop=True))\n",
    "    new_y = np.array(y_train.iloc[numbers])\n",
    "    start = time.time()\n",
    "    model.fit(new_x, new_y)\n",
    "    stop = time.time()\n",
    "    elapsed=stop-start\n",
    "    size.loc[i, \"size\"] = sizes[i]*len(train)\n",
    "    size.loc[i, \"model\"] = \"QSVC\"\n",
    "    size.loc[i, \"runtime\"] = elapsed\n",
    "    #size.loc[i,\"kernel\"] = typ\n",
    "    print(\"size \", i)\n",
    "\n",
    "size.to_csv(\"../results/runtime_size/qsvc.csv\", index=False)"
   ]
  }
 ],
 "metadata": {
  "kernelspec": {
   "display_name": "Python 3 (ipykernel)",
   "language": "python",
   "name": "python3"
  },
  "language_info": {
   "codemirror_mode": {
    "name": "ipython",
    "version": 3
   },
   "file_extension": ".py",
   "mimetype": "text/x-python",
   "name": "python",
   "nbconvert_exporter": "python",
   "pygments_lexer": "ipython3",
   "version": "3.9.12"
  }
 },
 "nbformat": 4,
 "nbformat_minor": 5
}

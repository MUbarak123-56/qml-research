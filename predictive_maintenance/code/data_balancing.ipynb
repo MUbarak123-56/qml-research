{
 "cells": [
  {
   "cell_type": "code",
   "execution_count": 1,
   "id": "58d51d5b",
   "metadata": {},
   "outputs": [],
   "source": [
    "import pandas as pd\n",
    "from imblearn.over_sampling import SMOTE\n",
    "from collections import Counter\n",
    "import numpy"
   ]
  },
  {
   "cell_type": "code",
   "execution_count": 2,
   "id": "6c5db9cc",
   "metadata": {},
   "outputs": [],
   "source": [
    "data = pd.read_csv(\"../data/train_fe.csv\")"
   ]
  },
  {
   "cell_type": "code",
   "execution_count": 3,
   "id": "3698c836",
   "metadata": {},
   "outputs": [],
   "source": [
    "x_train, y_train = data.drop(\"target\", axis = 1), data[\"target\"]"
   ]
  },
  {
   "cell_type": "code",
   "execution_count": 4,
   "id": "ac735dc2",
   "metadata": {},
   "outputs": [
    {
     "name": "stdout",
     "output_type": "stream",
     "text": [
      "Before Counter({0.0: 7722, 1.0: 278})\n"
     ]
    }
   ],
   "source": [
    "count = Counter(y_train)\n",
    "print(\"Before\", count)"
   ]
  },
  {
   "cell_type": "code",
   "execution_count": 5,
   "id": "e0cd4c09",
   "metadata": {},
   "outputs": [],
   "source": [
    "smt = SMOTE()\n",
    "x_train_sm, y_train_sm = smt.fit_resample(x_train, y_train)"
   ]
  },
  {
   "cell_type": "code",
   "execution_count": 6,
   "id": "17abeaf1",
   "metadata": {},
   "outputs": [
    {
     "name": "stdout",
     "output_type": "stream",
     "text": [
      "After Counter({0.0: 7722, 1.0: 7722})\n"
     ]
    }
   ],
   "source": [
    "count = Counter(y_train_sm)\n",
    "print(\"After\", count)"
   ]
  },
  {
   "cell_type": "code",
   "execution_count": 7,
   "id": "8cada690",
   "metadata": {},
   "outputs": [],
   "source": [
    "x_train_sm[\"target\"] = y_train_sm"
   ]
  },
  {
   "cell_type": "code",
   "execution_count": 8,
   "id": "20d9a678",
   "metadata": {},
   "outputs": [],
   "source": [
    "train_sm = x_train_sm.copy()"
   ]
  },
  {
   "cell_type": "code",
   "execution_count": 9,
   "id": "1e211723",
   "metadata": {},
   "outputs": [],
   "source": [
    "train_sm.to_csv(\"../data/train_big.csv\", index=False)"
   ]
  },
  {
   "cell_type": "code",
   "execution_count": 10,
   "id": "d171ba19",
   "metadata": {},
   "outputs": [],
   "source": [
    "import random\n",
    "import numpy as np"
   ]
  },
  {
   "cell_type": "code",
   "execution_count": 11,
   "id": "23e8b220",
   "metadata": {},
   "outputs": [],
   "source": [
    "zero_data = data[data[\"target\"] == 0.0].reset_index(drop=True)\n",
    "one_data = data[data[\"target\"] == 1.0].reset_index(drop=True)"
   ]
  },
  {
   "cell_type": "code",
   "execution_count": 12,
   "id": "7b20cfa9",
   "metadata": {},
   "outputs": [],
   "source": [
    "numbers = np.random.randint(0,high=len(zero_data), size=278)"
   ]
  },
  {
   "cell_type": "code",
   "execution_count": 13,
   "id": "18aaeb76",
   "metadata": {},
   "outputs": [],
   "source": [
    "zero_data = zero_data.loc[numbers,:].reset_index(drop=True)"
   ]
  },
  {
   "cell_type": "code",
   "execution_count": 14,
   "id": "f0c6ddbb",
   "metadata": {},
   "outputs": [
    {
     "data": {
      "text/html": [
       "<div>\n",
       "<style scoped>\n",
       "    .dataframe tbody tr th:only-of-type {\n",
       "        vertical-align: middle;\n",
       "    }\n",
       "\n",
       "    .dataframe tbody tr th {\n",
       "        vertical-align: top;\n",
       "    }\n",
       "\n",
       "    .dataframe thead th {\n",
       "        text-align: right;\n",
       "    }\n",
       "</style>\n",
       "<table border=\"1\" class=\"dataframe\">\n",
       "  <thead>\n",
       "    <tr style=\"text-align: right;\">\n",
       "      <th></th>\n",
       "      <th>type</th>\n",
       "      <th>air_temperature_k</th>\n",
       "      <th>process_temperature_k</th>\n",
       "      <th>rotational_speed_rpm</th>\n",
       "      <th>torque_nm</th>\n",
       "      <th>tool_wear_min</th>\n",
       "      <th>target</th>\n",
       "    </tr>\n",
       "  </thead>\n",
       "  <tbody>\n",
       "    <tr>\n",
       "      <th>0</th>\n",
       "      <td>0.0</td>\n",
       "      <td>0.326087</td>\n",
       "      <td>0.296296</td>\n",
       "      <td>0.237537</td>\n",
       "      <td>0.437845</td>\n",
       "      <td>0.000000</td>\n",
       "      <td>0.0</td>\n",
       "    </tr>\n",
       "    <tr>\n",
       "      <th>1</th>\n",
       "      <td>0.0</td>\n",
       "      <td>0.315217</td>\n",
       "      <td>0.407407</td>\n",
       "      <td>0.180645</td>\n",
       "      <td>0.508287</td>\n",
       "      <td>0.351779</td>\n",
       "      <td>0.0</td>\n",
       "    </tr>\n",
       "    <tr>\n",
       "      <th>2</th>\n",
       "      <td>1.0</td>\n",
       "      <td>0.565217</td>\n",
       "      <td>0.604938</td>\n",
       "      <td>0.258065</td>\n",
       "      <td>0.389503</td>\n",
       "      <td>0.727273</td>\n",
       "      <td>0.0</td>\n",
       "    </tr>\n",
       "    <tr>\n",
       "      <th>3</th>\n",
       "      <td>0.0</td>\n",
       "      <td>0.489130</td>\n",
       "      <td>0.419753</td>\n",
       "      <td>0.285630</td>\n",
       "      <td>0.366022</td>\n",
       "      <td>0.790514</td>\n",
       "      <td>0.0</td>\n",
       "    </tr>\n",
       "    <tr>\n",
       "      <th>4</th>\n",
       "      <td>0.0</td>\n",
       "      <td>0.554348</td>\n",
       "      <td>0.493827</td>\n",
       "      <td>0.299707</td>\n",
       "      <td>0.325967</td>\n",
       "      <td>0.454545</td>\n",
       "      <td>0.0</td>\n",
       "    </tr>\n",
       "    <tr>\n",
       "      <th>...</th>\n",
       "      <td>...</td>\n",
       "      <td>...</td>\n",
       "      <td>...</td>\n",
       "      <td>...</td>\n",
       "      <td>...</td>\n",
       "      <td>...</td>\n",
       "      <td>...</td>\n",
       "    </tr>\n",
       "    <tr>\n",
       "      <th>551</th>\n",
       "      <td>1.0</td>\n",
       "      <td>0.108696</td>\n",
       "      <td>0.185185</td>\n",
       "      <td>0.080938</td>\n",
       "      <td>0.890884</td>\n",
       "      <td>0.094862</td>\n",
       "      <td>1.0</td>\n",
       "    </tr>\n",
       "    <tr>\n",
       "      <th>552</th>\n",
       "      <td>0.0</td>\n",
       "      <td>0.326087</td>\n",
       "      <td>0.296296</td>\n",
       "      <td>0.135484</td>\n",
       "      <td>0.669890</td>\n",
       "      <td>0.861660</td>\n",
       "      <td>1.0</td>\n",
       "    </tr>\n",
       "    <tr>\n",
       "      <th>553</th>\n",
       "      <td>0.0</td>\n",
       "      <td>0.760870</td>\n",
       "      <td>0.703704</td>\n",
       "      <td>0.089150</td>\n",
       "      <td>0.868785</td>\n",
       "      <td>0.810277</td>\n",
       "      <td>1.0</td>\n",
       "    </tr>\n",
       "    <tr>\n",
       "      <th>554</th>\n",
       "      <td>1.0</td>\n",
       "      <td>0.543478</td>\n",
       "      <td>0.740741</td>\n",
       "      <td>0.113196</td>\n",
       "      <td>0.609116</td>\n",
       "      <td>0.877470</td>\n",
       "      <td>1.0</td>\n",
       "    </tr>\n",
       "    <tr>\n",
       "      <th>555</th>\n",
       "      <td>0.0</td>\n",
       "      <td>0.760870</td>\n",
       "      <td>0.753086</td>\n",
       "      <td>0.110264</td>\n",
       "      <td>0.723757</td>\n",
       "      <td>0.822134</td>\n",
       "      <td>1.0</td>\n",
       "    </tr>\n",
       "  </tbody>\n",
       "</table>\n",
       "<p>556 rows × 7 columns</p>\n",
       "</div>"
      ],
      "text/plain": [
       "     type  air_temperature_k  process_temperature_k  rotational_speed_rpm  \\\n",
       "0     0.0           0.326087               0.296296              0.237537   \n",
       "1     0.0           0.315217               0.407407              0.180645   \n",
       "2     1.0           0.565217               0.604938              0.258065   \n",
       "3     0.0           0.489130               0.419753              0.285630   \n",
       "4     0.0           0.554348               0.493827              0.299707   \n",
       "..    ...                ...                    ...                   ...   \n",
       "551   1.0           0.108696               0.185185              0.080938   \n",
       "552   0.0           0.326087               0.296296              0.135484   \n",
       "553   0.0           0.760870               0.703704              0.089150   \n",
       "554   1.0           0.543478               0.740741              0.113196   \n",
       "555   0.0           0.760870               0.753086              0.110264   \n",
       "\n",
       "     torque_nm  tool_wear_min  target  \n",
       "0     0.437845       0.000000     0.0  \n",
       "1     0.508287       0.351779     0.0  \n",
       "2     0.389503       0.727273     0.0  \n",
       "3     0.366022       0.790514     0.0  \n",
       "4     0.325967       0.454545     0.0  \n",
       "..         ...            ...     ...  \n",
       "551   0.890884       0.094862     1.0  \n",
       "552   0.669890       0.861660     1.0  \n",
       "553   0.868785       0.810277     1.0  \n",
       "554   0.609116       0.877470     1.0  \n",
       "555   0.723757       0.822134     1.0  \n",
       "\n",
       "[556 rows x 7 columns]"
      ]
     },
     "execution_count": 14,
     "metadata": {},
     "output_type": "execute_result"
    }
   ],
   "source": [
    "new_data = pd.concat([zero_data, one_data], axis = 0).reset_index(drop=True)\n",
    "new_data"
   ]
  },
  {
   "cell_type": "code",
   "execution_count": 15,
   "id": "70776d13",
   "metadata": {},
   "outputs": [],
   "source": [
    "new_data.to_csv(\"../data/train_small.csv\", index=False)"
   ]
  }
 ],
 "metadata": {
  "kernelspec": {
   "display_name": "Python 3 (ipykernel)",
   "language": "python",
   "name": "python3"
  },
  "language_info": {
   "codemirror_mode": {
    "name": "ipython",
    "version": 3
   },
   "file_extension": ".py",
   "mimetype": "text/x-python",
   "name": "python",
   "nbconvert_exporter": "python",
   "pygments_lexer": "ipython3",
   "version": "3.9.12"
  }
 },
 "nbformat": 4,
 "nbformat_minor": 5
}

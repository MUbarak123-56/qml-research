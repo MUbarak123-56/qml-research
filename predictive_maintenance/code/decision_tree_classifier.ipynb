{
 "cells": [
  {
   "cell_type": "code",
   "execution_count": 1,
   "id": "b85ce9cb",
   "metadata": {},
   "outputs": [],
   "source": [
    "import pandas as pd\n",
    "import numpy as np\n",
    "from sklearn.model_selection import train_test_split, cross_val_score, GridSearchCV\n",
    "from sklearn.tree import DecisionTreeClassifier\n",
    "from sklearn.metrics import f1_score, precision_score, recall_score, classification_report, confusion_matrix\n",
    "import matplotlib.pyplot as plt\n",
    "import seaborn as sns"
   ]
  },
  {
   "cell_type": "code",
   "execution_count": 2,
   "id": "6f52f652",
   "metadata": {},
   "outputs": [],
   "source": [
    "train = pd.read_csv(\"../data/train_small.csv\")\n",
    "test = pd.read_csv(\"../data/test_fe.csv\")"
   ]
  },
  {
   "cell_type": "code",
   "execution_count": 3,
   "id": "5ebe6107",
   "metadata": {},
   "outputs": [
    {
     "data": {
      "text/html": [
       "<div>\n",
       "<style scoped>\n",
       "    .dataframe tbody tr th:only-of-type {\n",
       "        vertical-align: middle;\n",
       "    }\n",
       "\n",
       "    .dataframe tbody tr th {\n",
       "        vertical-align: top;\n",
       "    }\n",
       "\n",
       "    .dataframe thead th {\n",
       "        text-align: right;\n",
       "    }\n",
       "</style>\n",
       "<table border=\"1\" class=\"dataframe\">\n",
       "  <thead>\n",
       "    <tr style=\"text-align: right;\">\n",
       "      <th></th>\n",
       "      <th>type</th>\n",
       "      <th>air_temperature_k</th>\n",
       "      <th>process_temperature_k</th>\n",
       "      <th>rotational_speed_rpm</th>\n",
       "      <th>torque_nm</th>\n",
       "      <th>tool_wear_min</th>\n",
       "      <th>target</th>\n",
       "    </tr>\n",
       "  </thead>\n",
       "  <tbody>\n",
       "    <tr>\n",
       "      <th>0</th>\n",
       "      <td>0.0</td>\n",
       "      <td>0.163043</td>\n",
       "      <td>0.234568</td>\n",
       "      <td>0.148387</td>\n",
       "      <td>0.614641</td>\n",
       "      <td>0.545455</td>\n",
       "      <td>0.0</td>\n",
       "    </tr>\n",
       "    <tr>\n",
       "      <th>1</th>\n",
       "      <td>0.0</td>\n",
       "      <td>0.391304</td>\n",
       "      <td>0.604938</td>\n",
       "      <td>0.131965</td>\n",
       "      <td>0.552486</td>\n",
       "      <td>0.047431</td>\n",
       "      <td>0.0</td>\n",
       "    </tr>\n",
       "    <tr>\n",
       "      <th>2</th>\n",
       "      <td>0.5</td>\n",
       "      <td>0.141304</td>\n",
       "      <td>0.246914</td>\n",
       "      <td>0.171848</td>\n",
       "      <td>0.674033</td>\n",
       "      <td>0.399209</td>\n",
       "      <td>0.0</td>\n",
       "    </tr>\n",
       "    <tr>\n",
       "      <th>3</th>\n",
       "      <td>1.0</td>\n",
       "      <td>0.380435</td>\n",
       "      <td>0.432099</td>\n",
       "      <td>0.112023</td>\n",
       "      <td>0.617403</td>\n",
       "      <td>0.474308</td>\n",
       "      <td>0.0</td>\n",
       "    </tr>\n",
       "    <tr>\n",
       "      <th>4</th>\n",
       "      <td>1.0</td>\n",
       "      <td>0.532609</td>\n",
       "      <td>0.506173</td>\n",
       "      <td>0.113196</td>\n",
       "      <td>0.606354</td>\n",
       "      <td>0.031621</td>\n",
       "      <td>0.0</td>\n",
       "    </tr>\n",
       "  </tbody>\n",
       "</table>\n",
       "</div>"
      ],
      "text/plain": [
       "   type  air_temperature_k  process_temperature_k  rotational_speed_rpm  \\\n",
       "0   0.0           0.163043               0.234568              0.148387   \n",
       "1   0.0           0.391304               0.604938              0.131965   \n",
       "2   0.5           0.141304               0.246914              0.171848   \n",
       "3   1.0           0.380435               0.432099              0.112023   \n",
       "4   1.0           0.532609               0.506173              0.113196   \n",
       "\n",
       "   torque_nm  tool_wear_min  target  \n",
       "0   0.614641       0.545455     0.0  \n",
       "1   0.552486       0.047431     0.0  \n",
       "2   0.674033       0.399209     0.0  \n",
       "3   0.617403       0.474308     0.0  \n",
       "4   0.606354       0.031621     0.0  "
      ]
     },
     "execution_count": 3,
     "metadata": {},
     "output_type": "execute_result"
    }
   ],
   "source": [
    "train.head()"
   ]
  },
  {
   "cell_type": "code",
   "execution_count": 4,
   "id": "33aac7b7",
   "metadata": {},
   "outputs": [
    {
     "data": {
      "text/html": [
       "<div>\n",
       "<style scoped>\n",
       "    .dataframe tbody tr th:only-of-type {\n",
       "        vertical-align: middle;\n",
       "    }\n",
       "\n",
       "    .dataframe tbody tr th {\n",
       "        vertical-align: top;\n",
       "    }\n",
       "\n",
       "    .dataframe thead th {\n",
       "        text-align: right;\n",
       "    }\n",
       "</style>\n",
       "<table border=\"1\" class=\"dataframe\">\n",
       "  <thead>\n",
       "    <tr style=\"text-align: right;\">\n",
       "      <th></th>\n",
       "      <th>type</th>\n",
       "      <th>air_temperature_k</th>\n",
       "      <th>process_temperature_k</th>\n",
       "      <th>rotational_speed_rpm</th>\n",
       "      <th>torque_nm</th>\n",
       "      <th>tool_wear_min</th>\n",
       "      <th>target</th>\n",
       "    </tr>\n",
       "  </thead>\n",
       "  <tbody>\n",
       "    <tr>\n",
       "      <th>0</th>\n",
       "      <td>0.0</td>\n",
       "      <td>0.597826</td>\n",
       "      <td>0.567901</td>\n",
       "      <td>0.209384</td>\n",
       "      <td>0.446133</td>\n",
       "      <td>0.782609</td>\n",
       "      <td>0.0</td>\n",
       "    </tr>\n",
       "    <tr>\n",
       "      <th>1</th>\n",
       "      <td>0.5</td>\n",
       "      <td>0.902174</td>\n",
       "      <td>0.753086</td>\n",
       "      <td>0.140762</td>\n",
       "      <td>0.566298</td>\n",
       "      <td>0.399209</td>\n",
       "      <td>1.0</td>\n",
       "    </tr>\n",
       "    <tr>\n",
       "      <th>2</th>\n",
       "      <td>0.5</td>\n",
       "      <td>0.326087</td>\n",
       "      <td>0.271605</td>\n",
       "      <td>0.178299</td>\n",
       "      <td>0.527624</td>\n",
       "      <td>0.462451</td>\n",
       "      <td>0.0</td>\n",
       "    </tr>\n",
       "    <tr>\n",
       "      <th>3</th>\n",
       "      <td>0.0</td>\n",
       "      <td>0.869565</td>\n",
       "      <td>0.691358</td>\n",
       "      <td>0.241056</td>\n",
       "      <td>0.412983</td>\n",
       "      <td>0.055336</td>\n",
       "      <td>0.0</td>\n",
       "    </tr>\n",
       "    <tr>\n",
       "      <th>4</th>\n",
       "      <td>0.0</td>\n",
       "      <td>0.771739</td>\n",
       "      <td>0.580247</td>\n",
       "      <td>0.401173</td>\n",
       "      <td>0.277624</td>\n",
       "      <td>0.509881</td>\n",
       "      <td>0.0</td>\n",
       "    </tr>\n",
       "  </tbody>\n",
       "</table>\n",
       "</div>"
      ],
      "text/plain": [
       "   type  air_temperature_k  process_temperature_k  rotational_speed_rpm  \\\n",
       "0   0.0           0.597826               0.567901              0.209384   \n",
       "1   0.5           0.902174               0.753086              0.140762   \n",
       "2   0.5           0.326087               0.271605              0.178299   \n",
       "3   0.0           0.869565               0.691358              0.241056   \n",
       "4   0.0           0.771739               0.580247              0.401173   \n",
       "\n",
       "   torque_nm  tool_wear_min  target  \n",
       "0   0.446133       0.782609     0.0  \n",
       "1   0.566298       0.399209     1.0  \n",
       "2   0.527624       0.462451     0.0  \n",
       "3   0.412983       0.055336     0.0  \n",
       "4   0.277624       0.509881     0.0  "
      ]
     },
     "execution_count": 4,
     "metadata": {},
     "output_type": "execute_result"
    }
   ],
   "source": [
    "test.head()"
   ]
  },
  {
   "cell_type": "code",
   "execution_count": 5,
   "id": "9e557c7c",
   "metadata": {},
   "outputs": [],
   "source": [
    "x_train_use, y_train_use= train.drop('target', axis=1), train['target']"
   ]
  },
  {
   "cell_type": "code",
   "execution_count": 6,
   "id": "0d0b8841",
   "metadata": {},
   "outputs": [],
   "source": [
    "x_train,x_val, y_train, y_val=train_test_split(x_train_use, y_train_use, train_size=0.8, random_state=42)"
   ]
  },
  {
   "cell_type": "code",
   "execution_count": 7,
   "id": "47391979",
   "metadata": {},
   "outputs": [
    {
     "data": {
      "text/plain": [
       "(444, 6)"
      ]
     },
     "execution_count": 7,
     "metadata": {},
     "output_type": "execute_result"
    }
   ],
   "source": [
    "x_train.shape"
   ]
  },
  {
   "cell_type": "markdown",
   "id": "6cc03c02",
   "metadata": {},
   "source": [
    "### Decision Tree Classifier"
   ]
  },
  {
   "cell_type": "markdown",
   "id": "0f9356d2",
   "metadata": {},
   "source": [
    "#### Max Depth 3"
   ]
  },
  {
   "cell_type": "code",
   "execution_count": 8,
   "id": "bbc5946e",
   "metadata": {},
   "outputs": [],
   "source": [
    "param_grid = {\n",
    "    'max_depth': list(range(3, 7)),  \n",
    "    'max_features': list(range(3, 7))  \n",
    "}\n"
   ]
  },
  {
   "cell_type": "code",
   "execution_count": 9,
   "id": "cf90a2cb",
   "metadata": {},
   "outputs": [],
   "source": [
    "dt = DecisionTreeClassifier(random_state=42)\n",
    "grid_search = GridSearchCV(estimator=dt, param_grid=param_grid, cv=5)\n"
   ]
  },
  {
   "cell_type": "code",
   "execution_count": 10,
   "id": "90199b39",
   "metadata": {},
   "outputs": [
    {
     "data": {
      "text/plain": [
       "GridSearchCV(cv=5, estimator=DecisionTreeClassifier(random_state=42),\n",
       "             param_grid={'max_depth': [3, 4, 5, 6],\n",
       "                         'max_features': [3, 4, 5, 6]})"
      ]
     },
     "execution_count": 10,
     "metadata": {},
     "output_type": "execute_result"
    }
   ],
   "source": [
    "grid_search.fit(x_train, y_train)"
   ]
  },
  {
   "cell_type": "code",
   "execution_count": 11,
   "id": "b9bc100e",
   "metadata": {},
   "outputs": [],
   "source": [
    "best_param=grid_search.best_params_\n",
    "best_model=grid_search.best_estimator_"
   ]
  },
  {
   "cell_type": "code",
   "execution_count": 12,
   "id": "d7522155",
   "metadata": {},
   "outputs": [
    {
     "data": {
      "text/plain": [
       "{'max_depth': 4, 'max_features': 6}"
      ]
     },
     "execution_count": 12,
     "metadata": {},
     "output_type": "execute_result"
    }
   ],
   "source": [
    "best_param"
   ]
  },
  {
   "cell_type": "code",
   "execution_count": 13,
   "id": "8673e643",
   "metadata": {},
   "outputs": [
    {
     "data": {
      "text/plain": [
       "DecisionTreeClassifier(max_depth=4, max_features=6, random_state=42)"
      ]
     },
     "execution_count": 13,
     "metadata": {},
     "output_type": "execute_result"
    }
   ],
   "source": [
    "best_model.fit(x_train, y_train)"
   ]
  },
  {
   "cell_type": "code",
   "execution_count": 14,
   "id": "901a9e9b",
   "metadata": {},
   "outputs": [],
   "source": [
    "y_pred=best_model.predict(x_train)"
   ]
  },
  {
   "cell_type": "code",
   "execution_count": 15,
   "id": "fdfb13e5",
   "metadata": {},
   "outputs": [
    {
     "name": "stdout",
     "output_type": "stream",
     "text": [
      "              precision    recall  f1-score   support\n",
      "\n",
      "         0.0       0.97      0.92      0.94       212\n",
      "         1.0       0.93      0.97      0.95       232\n",
      "\n",
      "    accuracy                           0.95       444\n",
      "   macro avg       0.95      0.95      0.95       444\n",
      "weighted avg       0.95      0.95      0.95       444\n",
      "\n"
     ]
    }
   ],
   "source": [
    "print(classification_report(y_train, y_pred))"
   ]
  },
  {
   "cell_type": "code",
   "execution_count": 16,
   "id": "c8b24491",
   "metadata": {},
   "outputs": [],
   "source": [
    "def plot_confusion_matrix(title,conf_matrix):\n",
    "    plt.figure(figsize=(8, 6))\n",
    "    sns.set(font_scale=1.2)\n",
    "    sns.heatmap(conf_matrix, annot=True, fmt='g', cmap='Blues', cbar=False,\n",
    "                xticklabels=['Predicted 0', 'Predicted 1'],\n",
    "                yticklabels=['Actual 0', 'Actual 1'])\n",
    "    plt.xlabel('Predicted Labels')\n",
    "    plt.ylabel('True Labels')\n",
    "    plt.title(title)\n",
    "    plt.show()\n",
    "    plt.savefig(\"../conf/\"+title+\".png\")"
   ]
  },
  {
   "cell_type": "code",
   "execution_count": 17,
   "id": "25c84413",
   "metadata": {},
   "outputs": [],
   "source": [
    "conf=confusion_matrix(y_train, y_pred)"
   ]
  },
  {
   "cell_type": "code",
   "execution_count": 18,
   "id": "a7efa3af",
   "metadata": {},
   "outputs": [
    {
     "data": {
      "text/plain": [
       "<AxesSubplot:>"
      ]
     },
     "execution_count": 18,
     "metadata": {},
     "output_type": "execute_result"
    },
    {
     "data": {
      "image/png": "[encoded data removed]",
      "text/plain": [
       "<Figure size 432x288 with 2 Axes>"
      ]
     },
     "metadata": {
      "needs_background": "light"
     },
     "output_type": "display_data"
    }
   ],
   "source": [
    "#plot_confusion_matrix(\"Decision_Tree_Classfier_Train\",conf)\n",
    "sns.heatmap(conf, annot=True, cmap= \"Blues\")"
   ]
  },
  {
   "cell_type": "code",
   "execution_count": 19,
   "id": "a593b5e3",
   "metadata": {},
   "outputs": [],
   "source": [
    "y_pred_val=best_model.predict(x_val)"
   ]
  },
  {
   "cell_type": "code",
   "execution_count": 20,
   "id": "95d2144c",
   "metadata": {},
   "outputs": [
    {
     "name": "stdout",
     "output_type": "stream",
     "text": [
      "              precision    recall  f1-score   support\n",
      "\n",
      "         0.0       1.00      0.88      0.94        66\n",
      "         1.0       0.85      1.00      0.92        46\n",
      "\n",
      "    accuracy                           0.93       112\n",
      "   macro avg       0.93      0.94      0.93       112\n",
      "weighted avg       0.94      0.93      0.93       112\n",
      "\n"
     ]
    }
   ],
   "source": [
    "print(classification_report(y_val, y_pred_val))"
   ]
  },
  {
   "cell_type": "code",
   "execution_count": 21,
   "id": "d042a28c",
   "metadata": {},
   "outputs": [],
   "source": [
    "conf_val=confusion_matrix(y_val, y_pred_val)"
   ]
  },
  {
   "cell_type": "code",
   "execution_count": 22,
   "id": "bf887376",
   "metadata": {},
   "outputs": [
    {
     "data": {
      "text/plain": [
       "<AxesSubplot:>"
      ]
     },
     "execution_count": 22,
     "metadata": {},
     "output_type": "execute_result"
    },
    {
     "data": {
      "image/png": "[encoded data removed]",
      "text/plain": [
       "<Figure size 432x288 with 2 Axes>"
      ]
     },
     "metadata": {
      "needs_background": "light"
     },
     "output_type": "display_data"
    }
   ],
   "source": [
    "#plot_confusion_matrix(\"Decision_Tree_Classfier_Validate\",conf_val)\n",
    "sns.heatmap(conf_val, annot=True, cmap= \"Blues\")"
   ]
  },
  {
   "cell_type": "markdown",
   "id": "543764e7",
   "metadata": {},
   "source": [
    "### Extract Result"
   ]
  },
  {
   "cell_type": "code",
   "execution_count": 23,
   "id": "e0623b56",
   "metadata": {},
   "outputs": [],
   "source": [
    "import time\n",
    "\n",
    "start=time.time()\n",
    "\n",
    "best_model.fit(x_train_use, y_train_use)\n",
    "\n",
    "elapse=time.time()-start"
   ]
  },
  {
   "cell_type": "code",
   "execution_count": 24,
   "id": "c834ab9a",
   "metadata": {},
   "outputs": [],
   "source": [
    "pred_use= best_model.predict(x_train_use)"
   ]
  },
  {
   "cell_type": "code",
   "execution_count": 25,
   "id": "3cb508ae",
   "metadata": {},
   "outputs": [
    {
     "data": {
      "text/plain": [
       "array([0.91743119, 0.9       , 0.92592593, 0.91525424, 0.93103448])"
      ]
     },
     "execution_count": 25,
     "metadata": {},
     "output_type": "execute_result"
    }
   ],
   "source": [
    "cross_val_score(best_model, x_train_use, y_train_use, scoring='f1')"
   ]
  },
  {
   "cell_type": "code",
   "execution_count": 26,
   "id": "5fcb7c74",
   "metadata": {},
   "outputs": [
    {
     "name": "stdout",
     "output_type": "stream",
     "text": [
      "              precision    recall  f1-score   support\n",
      "\n",
      "         0.0       0.92      0.97      0.95       278\n",
      "         1.0       0.97      0.92      0.94       278\n",
      "\n",
      "    accuracy                           0.95       556\n",
      "   macro avg       0.95      0.95      0.95       556\n",
      "weighted avg       0.95      0.95      0.95       556\n",
      "\n"
     ]
    }
   ],
   "source": [
    "print(classification_report(y_train_use, pred_use))"
   ]
  },
  {
   "cell_type": "code",
   "execution_count": 27,
   "id": "4baca982",
   "metadata": {},
   "outputs": [],
   "source": [
    "f1_train = f1_score(y_train_use, pred_use)\n",
    "prec_train = precision_score(y_train_use, pred_use)\n",
    "recall_train = recall_score(y_train_use, pred_use)"
   ]
  },
  {
   "cell_type": "code",
   "execution_count": 28,
   "id": "674a8bdf",
   "metadata": {},
   "outputs": [],
   "source": [
    "x_test, y_test= test.drop('target', axis=1), test['target']"
   ]
  },
  {
   "cell_type": "code",
   "execution_count": 29,
   "id": "976fc90c",
   "metadata": {},
   "outputs": [],
   "source": [
    "pred_test=best_model.predict(x_test)"
   ]
  },
  {
   "cell_type": "code",
   "execution_count": 30,
   "id": "93827d3d",
   "metadata": {},
   "outputs": [
    {
     "name": "stdout",
     "output_type": "stream",
     "text": [
      "              precision    recall  f1-score   support\n",
      "\n",
      "         0.0       0.99      0.93      0.96      1939\n",
      "         1.0       0.27      0.84      0.40        61\n",
      "\n",
      "    accuracy                           0.92      2000\n",
      "   macro avg       0.63      0.88      0.68      2000\n",
      "weighted avg       0.97      0.92      0.94      2000\n",
      "\n"
     ]
    }
   ],
   "source": [
    "print(classification_report(y_test, pred_test))"
   ]
  },
  {
   "cell_type": "code",
   "execution_count": 31,
   "id": "0a17fd4e",
   "metadata": {},
   "outputs": [],
   "source": [
    "f1_test = f1_score(y_test, pred_test)\n",
    "prec_test = precision_score(y_test, pred_test)\n",
    "recall_test = recall_score(y_test, pred_test)"
   ]
  },
  {
   "cell_type": "code",
   "execution_count": 32,
   "id": "1ab5c798",
   "metadata": {},
   "outputs": [],
   "source": [
    "conf_test=confusion_matrix(y_test, pred_test)"
   ]
  },
  {
   "cell_type": "code",
   "execution_count": 33,
   "id": "c4ab0126",
   "metadata": {},
   "outputs": [
    {
     "data": {
      "image/png": "[encoded data removed]",
      "text/plain": [
       "<Figure size 576x432 with 1 Axes>"
      ]
     },
     "metadata": {
      "needs_background": "light"
     },
     "output_type": "display_data"
    },
    {
     "data": {
      "text/plain": [
       "<Figure size 432x288 with 0 Axes>"
      ]
     },
     "metadata": {},
     "output_type": "display_data"
    }
   ],
   "source": [
    "plot_confusion_matrix(\"decision_tree\",conf_test)"
   ]
  },
  {
   "cell_type": "code",
   "execution_count": 34,
   "id": "8f78852e",
   "metadata": {},
   "outputs": [],
   "source": [
    "df=pd.DataFrame()\n",
    "df[\"f1_test\"] = [f1_test]\n",
    "df[\"f1_train\"] = f1_train\n",
    "df[\"prec_train\"] = prec_train\n",
    "df[\"prec_test\"] = prec_test\n",
    "df[\"recall_train\"] = recall_train\n",
    "df[\"recall_test\"] = recall_test\n",
    "df[\"model\"] = \"Decision Tree\"\n",
    "df[\"elapsed\"] = elapse"
   ]
  },
  {
   "cell_type": "code",
   "execution_count": 35,
   "id": "119de8b6",
   "metadata": {},
   "outputs": [
    {
     "data": {
      "text/html": [
       "<div>\n",
       "<style scoped>\n",
       "    .dataframe tbody tr th:only-of-type {\n",
       "        vertical-align: middle;\n",
       "    }\n",
       "\n",
       "    .dataframe tbody tr th {\n",
       "        vertical-align: top;\n",
       "    }\n",
       "\n",
       "    .dataframe thead th {\n",
       "        text-align: right;\n",
       "    }\n",
       "</style>\n",
       "<table border=\"1\" class=\"dataframe\">\n",
       "  <thead>\n",
       "    <tr style=\"text-align: right;\">\n",
       "      <th></th>\n",
       "      <th>f1_test</th>\n",
       "      <th>f1_train</th>\n",
       "      <th>prec_train</th>\n",
       "      <th>prec_test</th>\n",
       "      <th>recall_train</th>\n",
       "      <th>recall_test</th>\n",
       "      <th>model</th>\n",
       "      <th>elapsed</th>\n",
       "    </tr>\n",
       "  </thead>\n",
       "  <tbody>\n",
       "    <tr>\n",
       "      <th>0</th>\n",
       "      <td>0.403162</td>\n",
       "      <td>0.944649</td>\n",
       "      <td>0.969697</td>\n",
       "      <td>0.265625</td>\n",
       "      <td>0.920863</td>\n",
       "      <td>0.836066</td>\n",
       "      <td>Decision Tree</td>\n",
       "      <td>0.008185</td>\n",
       "    </tr>\n",
       "  </tbody>\n",
       "</table>\n",
       "</div>"
      ],
      "text/plain": [
       "    f1_test  f1_train  prec_train  prec_test  recall_train  recall_test  \\\n",
       "0  0.403162  0.944649    0.969697   0.265625      0.920863     0.836066   \n",
       "\n",
       "           model   elapsed  \n",
       "0  Decision Tree  0.008185  "
      ]
     },
     "execution_count": 35,
     "metadata": {},
     "output_type": "execute_result"
    }
   ],
   "source": [
    "df.head()"
   ]
  },
  {
   "cell_type": "code",
   "execution_count": 36,
   "id": "69d7fa05",
   "metadata": {},
   "outputs": [],
   "source": [
    "df.to_csv(\"../results/regular/dtc.csv\", index=False)"
   ]
  },
  {
   "cell_type": "code",
   "execution_count": null,
   "id": "215e67ba",
   "metadata": {},
   "outputs": [],
   "source": []
  }
 ],
 "metadata": {
  "kernelspec": {
   "display_name": "Python 3 (ipykernel)",
   "language": "python",
   "name": "python3"
  },
  "language_info": {
   "codemirror_mode": {
    "name": "ipython",
    "version": 3
   },
   "file_extension": ".py",
   "mimetype": "text/x-python",
   "name": "python",
   "nbconvert_exporter": "python",
   "pygments_lexer": "ipython3",
   "version": "3.9.12"
  }
 },
 "nbformat": 4,
 "nbformat_minor": 5
}

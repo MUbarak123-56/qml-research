{
 "cells": [
  {
   "cell_type": "code",
   "execution_count": 1,
   "id": "db27aa2e",
   "metadata": {},
   "outputs": [],
   "source": [
    "import pandas as pd\n",
    "import warnings\n",
    "warnings.filterwarnings('ignore')\n",
    "from sklearn.linear_model import LogisticRegression\n",
    "from sklearn.svm import SVC\n",
    "from sklearn.naive_bayes import GaussianNB\n",
    "from sklearn.model_selection import cross_val_score, cross_val_predict, train_test_split, GridSearchCV\n",
    "import numpy as np\n",
    "from sklearn.metrics import classification_report, confusion_matrix, f1_score, precision_score, recall_score\n",
    "from sklearn.pipeline import Pipeline\n",
    "import matplotlib.pyplot as plt\n",
    "%matplotlib inline\n",
    "import seaborn as sns; sns.set_style(\"dark\")"
   ]
  },
  {
   "cell_type": "code",
   "execution_count": 2,
   "id": "fb94d4c2",
   "metadata": {},
   "outputs": [],
   "source": [
    "train = pd.read_csv(\"../data/train_small.csv\")\n",
    "test = pd.read_csv(\"../data/test_fe.csv\")"
   ]
  },
  {
   "cell_type": "code",
   "execution_count": 3,
   "id": "ee62514c",
   "metadata": {},
   "outputs": [
    {
     "data": {
      "text/html": [
       "<div>\n",
       "<style scoped>\n",
       "    .dataframe tbody tr th:only-of-type {\n",
       "        vertical-align: middle;\n",
       "    }\n",
       "\n",
       "    .dataframe tbody tr th {\n",
       "        vertical-align: top;\n",
       "    }\n",
       "\n",
       "    .dataframe thead th {\n",
       "        text-align: right;\n",
       "    }\n",
       "</style>\n",
       "<table border=\"1\" class=\"dataframe\">\n",
       "  <thead>\n",
       "    <tr style=\"text-align: right;\">\n",
       "      <th></th>\n",
       "      <th>type</th>\n",
       "      <th>air_temperature_k</th>\n",
       "      <th>process_temperature_k</th>\n",
       "      <th>rotational_speed_rpm</th>\n",
       "      <th>torque_nm</th>\n",
       "      <th>tool_wear_min</th>\n",
       "      <th>target</th>\n",
       "    </tr>\n",
       "  </thead>\n",
       "  <tbody>\n",
       "    <tr>\n",
       "      <th>0</th>\n",
       "      <td>0.0</td>\n",
       "      <td>0.163043</td>\n",
       "      <td>0.234568</td>\n",
       "      <td>0.148387</td>\n",
       "      <td>0.614641</td>\n",
       "      <td>0.545455</td>\n",
       "      <td>0.0</td>\n",
       "    </tr>\n",
       "    <tr>\n",
       "      <th>1</th>\n",
       "      <td>0.0</td>\n",
       "      <td>0.391304</td>\n",
       "      <td>0.604938</td>\n",
       "      <td>0.131965</td>\n",
       "      <td>0.552486</td>\n",
       "      <td>0.047431</td>\n",
       "      <td>0.0</td>\n",
       "    </tr>\n",
       "    <tr>\n",
       "      <th>2</th>\n",
       "      <td>0.5</td>\n",
       "      <td>0.141304</td>\n",
       "      <td>0.246914</td>\n",
       "      <td>0.171848</td>\n",
       "      <td>0.674033</td>\n",
       "      <td>0.399209</td>\n",
       "      <td>0.0</td>\n",
       "    </tr>\n",
       "    <tr>\n",
       "      <th>3</th>\n",
       "      <td>1.0</td>\n",
       "      <td>0.380435</td>\n",
       "      <td>0.432099</td>\n",
       "      <td>0.112023</td>\n",
       "      <td>0.617403</td>\n",
       "      <td>0.474308</td>\n",
       "      <td>0.0</td>\n",
       "    </tr>\n",
       "    <tr>\n",
       "      <th>4</th>\n",
       "      <td>1.0</td>\n",
       "      <td>0.532609</td>\n",
       "      <td>0.506173</td>\n",
       "      <td>0.113196</td>\n",
       "      <td>0.606354</td>\n",
       "      <td>0.031621</td>\n",
       "      <td>0.0</td>\n",
       "    </tr>\n",
       "  </tbody>\n",
       "</table>\n",
       "</div>"
      ],
      "text/plain": [
       "   type  air_temperature_k  process_temperature_k  rotational_speed_rpm  \\\n",
       "0   0.0           0.163043               0.234568              0.148387   \n",
       "1   0.0           0.391304               0.604938              0.131965   \n",
       "2   0.5           0.141304               0.246914              0.171848   \n",
       "3   1.0           0.380435               0.432099              0.112023   \n",
       "4   1.0           0.532609               0.506173              0.113196   \n",
       "\n",
       "   torque_nm  tool_wear_min  target  \n",
       "0   0.614641       0.545455     0.0  \n",
       "1   0.552486       0.047431     0.0  \n",
       "2   0.674033       0.399209     0.0  \n",
       "3   0.617403       0.474308     0.0  \n",
       "4   0.606354       0.031621     0.0  "
      ]
     },
     "execution_count": 3,
     "metadata": {},
     "output_type": "execute_result"
    }
   ],
   "source": [
    "train.head()"
   ]
  },
  {
   "cell_type": "code",
   "execution_count": 4,
   "id": "eaf1834a",
   "metadata": {},
   "outputs": [],
   "source": [
    "x_train_use, y_train_use = train.drop(\"target\", axis = 1), train[\"target\"]"
   ]
  },
  {
   "cell_type": "code",
   "execution_count": 5,
   "id": "00c5aa3f",
   "metadata": {},
   "outputs": [],
   "source": [
    "#x_train_use = x_train_use.drop_duplicates().reset_index(drop=True)"
   ]
  },
  {
   "cell_type": "code",
   "execution_count": 6,
   "id": "c0a6b6ea",
   "metadata": {},
   "outputs": [
    {
     "data": {
      "text/plain": [
       "(556, 7)"
      ]
     },
     "execution_count": 6,
     "metadata": {},
     "output_type": "execute_result"
    }
   ],
   "source": [
    "train.shape"
   ]
  },
  {
   "cell_type": "code",
   "execution_count": 7,
   "id": "68fda528",
   "metadata": {},
   "outputs": [],
   "source": [
    "x_train, x_val, y_train, y_val = train_test_split(x_train_use, y_train_use, train_size=0.8, random_state = 42)"
   ]
  },
  {
   "cell_type": "code",
   "execution_count": 8,
   "id": "c9f73a72",
   "metadata": {},
   "outputs": [
    {
     "data": {
      "text/plain": [
       "((444, 6), (444,))"
      ]
     },
     "execution_count": 8,
     "metadata": {},
     "output_type": "execute_result"
    }
   ],
   "source": [
    "x_train.shape, y_train.shape"
   ]
  },
  {
   "cell_type": "markdown",
   "id": "7c610e60",
   "metadata": {},
   "source": [
    "### Support Vector Classifiers"
   ]
  },
  {
   "cell_type": "code",
   "execution_count": 9,
   "id": "3aeb7301",
   "metadata": {},
   "outputs": [
    {
     "data": {
      "text/plain": [
       "SVC(kernel='linear')"
      ]
     },
     "execution_count": 9,
     "metadata": {},
     "output_type": "execute_result"
    }
   ],
   "source": [
    "svc = SVC(kernel=\"linear\")\n",
    "svc.fit(x_train, np.array(y_train).reshape(-1,1))"
   ]
  },
  {
   "cell_type": "code",
   "execution_count": 10,
   "id": "245bc415",
   "metadata": {},
   "outputs": [],
   "source": [
    "y_pred = svc.predict(x_train)"
   ]
  },
  {
   "cell_type": "code",
   "execution_count": 11,
   "id": "953b003b",
   "metadata": {},
   "outputs": [
    {
     "data": {
      "text/plain": [
       "0.7975206611570249"
      ]
     },
     "execution_count": 11,
     "metadata": {},
     "output_type": "execute_result"
    }
   ],
   "source": [
    "f1_score(y_train, y_pred)"
   ]
  },
  {
   "cell_type": "code",
   "execution_count": 12,
   "id": "022b11db",
   "metadata": {},
   "outputs": [],
   "source": [
    "svc_pipeline = Pipeline([(\"svc\", SVC(kernel = \"poly\"))])\n",
    "param_grid = [{\"svc__degree\":np.arange(10)}]\n",
    "grid_search = GridSearchCV(svc_pipeline, param_grid, cv = 5)"
   ]
  },
  {
   "cell_type": "code",
   "execution_count": 13,
   "id": "21e05eb5",
   "metadata": {},
   "outputs": [
    {
     "data": {
      "text/plain": [
       "GridSearchCV(cv=5, estimator=Pipeline(steps=[('svc', SVC(kernel='poly'))]),\n",
       "             param_grid=[{'svc__degree': array([0, 1, 2, 3, 4, 5, 6, 7, 8, 9])}])"
      ]
     },
     "execution_count": 13,
     "metadata": {},
     "output_type": "execute_result"
    }
   ],
   "source": [
    "grid_search.fit(x_train, np.array(y_train).reshape(-1,1))"
   ]
  },
  {
   "cell_type": "code",
   "execution_count": 14,
   "id": "2569d3bc",
   "metadata": {},
   "outputs": [
    {
     "data": {
      "text/plain": [
       "{'svc__degree': 4}"
      ]
     },
     "execution_count": 14,
     "metadata": {},
     "output_type": "execute_result"
    }
   ],
   "source": [
    "grid_search.best_params_"
   ]
  },
  {
   "cell_type": "code",
   "execution_count": 15,
   "id": "8a935d65",
   "metadata": {},
   "outputs": [],
   "source": [
    "model = grid_search.best_estimator_"
   ]
  },
  {
   "cell_type": "code",
   "execution_count": 16,
   "id": "3e8346bf",
   "metadata": {},
   "outputs": [
    {
     "data": {
      "text/plain": [
       "Pipeline(steps=[('svc', SVC(degree=4, kernel='poly'))])"
      ]
     },
     "execution_count": 16,
     "metadata": {},
     "output_type": "execute_result"
    }
   ],
   "source": [
    "model.fit(x_train, y_train)"
   ]
  },
  {
   "cell_type": "code",
   "execution_count": 17,
   "id": "433424d9",
   "metadata": {},
   "outputs": [],
   "source": [
    "y_pred = model.predict(x_train)"
   ]
  },
  {
   "cell_type": "code",
   "execution_count": null,
   "id": "a0d09805",
   "metadata": {},
   "outputs": [],
   "source": []
  },
  {
   "cell_type": "code",
   "execution_count": 18,
   "id": "2e851d43",
   "metadata": {},
   "outputs": [
    {
     "data": {
      "text/plain": [
       "0.9399141630901289"
      ]
     },
     "execution_count": 18,
     "metadata": {},
     "output_type": "execute_result"
    }
   ],
   "source": [
    "f1_score(y_train, y_pred)"
   ]
  },
  {
   "cell_type": "code",
   "execution_count": 19,
   "id": "9809e20f",
   "metadata": {},
   "outputs": [
    {
     "name": "stdout",
     "output_type": "stream",
     "text": [
      "              precision    recall  f1-score   support\n",
      "\n",
      "         0.0       0.94      0.93      0.93       212\n",
      "         1.0       0.94      0.94      0.94       232\n",
      "\n",
      "    accuracy                           0.94       444\n",
      "   macro avg       0.94      0.94      0.94       444\n",
      "weighted avg       0.94      0.94      0.94       444\n",
      "\n"
     ]
    }
   ],
   "source": [
    "print(classification_report(y_train, y_pred))"
   ]
  },
  {
   "cell_type": "code",
   "execution_count": 20,
   "id": "59b3f4f2",
   "metadata": {},
   "outputs": [
    {
     "data": {
      "text/plain": [
       "0.0    278\n",
       "1.0    278\n",
       "Name: target, dtype: int64"
      ]
     },
     "execution_count": 20,
     "metadata": {},
     "output_type": "execute_result"
    }
   ],
   "source": [
    "train[\"target\"].value_counts()"
   ]
  },
  {
   "cell_type": "code",
   "execution_count": 21,
   "id": "d4c6501f",
   "metadata": {},
   "outputs": [],
   "source": [
    "import seaborn as sns; sns.set_style(\"darkgrid\")"
   ]
  },
  {
   "cell_type": "code",
   "execution_count": 22,
   "id": "021b82e8",
   "metadata": {},
   "outputs": [
    {
     "data": {
      "text/plain": [
       "<AxesSubplot:>"
      ]
     },
     "execution_count": 22,
     "metadata": {},
     "output_type": "execute_result"
    },
    {
     "data": {
      "image/png": "[encoded data removed]",
      "text/plain": [
       "<Figure size 432x288 with 2 Axes>"
      ]
     },
     "metadata": {},
     "output_type": "display_data"
    }
   ],
   "source": [
    "conf = confusion_matrix(y_train, y_pred)\n",
    "sns.heatmap(conf, annot=True, cmap= \"Blues\")"
   ]
  },
  {
   "cell_type": "code",
   "execution_count": 23,
   "id": "119595ff",
   "metadata": {},
   "outputs": [],
   "source": [
    "y_pred_val = model.predict(x_val)"
   ]
  },
  {
   "cell_type": "code",
   "execution_count": 24,
   "id": "1a1155cb",
   "metadata": {},
   "outputs": [
    {
     "data": {
      "text/plain": [
       "0.8387096774193549"
      ]
     },
     "execution_count": 24,
     "metadata": {},
     "output_type": "execute_result"
    }
   ],
   "source": [
    "f1_score(y_val, y_pred_val)"
   ]
  },
  {
   "cell_type": "code",
   "execution_count": 25,
   "id": "223df55a",
   "metadata": {},
   "outputs": [
    {
     "name": "stdout",
     "output_type": "stream",
     "text": [
      "              precision    recall  f1-score   support\n",
      "\n",
      "         0.0       0.89      0.88      0.89        66\n",
      "         1.0       0.83      0.85      0.84        46\n",
      "\n",
      "    accuracy                           0.87       112\n",
      "   macro avg       0.86      0.86      0.86       112\n",
      "weighted avg       0.87      0.87      0.87       112\n",
      "\n"
     ]
    }
   ],
   "source": [
    "print(classification_report(y_val, y_pred_val))"
   ]
  },
  {
   "cell_type": "markdown",
   "id": "b1c7df47",
   "metadata": {},
   "source": [
    "#### Extracting results"
   ]
  },
  {
   "cell_type": "code",
   "execution_count": 26,
   "id": "42d3a3bf",
   "metadata": {},
   "outputs": [],
   "source": [
    "import time\n",
    "start = time.time()\n",
    "model.fit(x_train_use, y_train_use)\n",
    "elapsed = time.time() - start"
   ]
  },
  {
   "cell_type": "code",
   "execution_count": 27,
   "id": "580772ab",
   "metadata": {},
   "outputs": [],
   "source": [
    "pred_use = model.predict(x_train_use)"
   ]
  },
  {
   "cell_type": "code",
   "execution_count": 28,
   "id": "742fb866",
   "metadata": {},
   "outputs": [
    {
     "data": {
      "text/plain": [
       "array([0.92982456, 0.85470085, 0.89320388, 0.84684685, 0.86486486])"
      ]
     },
     "execution_count": 28,
     "metadata": {},
     "output_type": "execute_result"
    }
   ],
   "source": [
    "cross_val_score(model, x_train_use, y_train_use, scoring=\"f1\")"
   ]
  },
  {
   "cell_type": "code",
   "execution_count": 29,
   "id": "7258979c",
   "metadata": {},
   "outputs": [
    {
     "name": "stdout",
     "output_type": "stream",
     "text": [
      "              precision    recall  f1-score   support\n",
      "\n",
      "         0.0       0.94      0.92      0.93       278\n",
      "         1.0       0.92      0.94      0.93       278\n",
      "\n",
      "    accuracy                           0.93       556\n",
      "   macro avg       0.93      0.93      0.93       556\n",
      "weighted avg       0.93      0.93      0.93       556\n",
      "\n"
     ]
    }
   ],
   "source": [
    "print(classification_report(y_train_use, pred_use))"
   ]
  },
  {
   "cell_type": "code",
   "execution_count": 30,
   "id": "b7334a8b",
   "metadata": {},
   "outputs": [],
   "source": [
    "f1_train = f1_score(y_train_use, pred_use)\n",
    "prec_train = precision_score(y_train_use, pred_use)\n",
    "recall_train = recall_score(y_train_use, pred_use)"
   ]
  },
  {
   "cell_type": "code",
   "execution_count": 31,
   "id": "0918c172",
   "metadata": {},
   "outputs": [
    {
     "data": {
      "text/html": [
       "<div>\n",
       "<style scoped>\n",
       "    .dataframe tbody tr th:only-of-type {\n",
       "        vertical-align: middle;\n",
       "    }\n",
       "\n",
       "    .dataframe tbody tr th {\n",
       "        vertical-align: top;\n",
       "    }\n",
       "\n",
       "    .dataframe thead th {\n",
       "        text-align: right;\n",
       "    }\n",
       "</style>\n",
       "<table border=\"1\" class=\"dataframe\">\n",
       "  <thead>\n",
       "    <tr style=\"text-align: right;\">\n",
       "      <th></th>\n",
       "      <th>type</th>\n",
       "      <th>air_temperature_k</th>\n",
       "      <th>process_temperature_k</th>\n",
       "      <th>rotational_speed_rpm</th>\n",
       "      <th>torque_nm</th>\n",
       "      <th>tool_wear_min</th>\n",
       "      <th>target</th>\n",
       "    </tr>\n",
       "  </thead>\n",
       "  <tbody>\n",
       "    <tr>\n",
       "      <th>0</th>\n",
       "      <td>0.0</td>\n",
       "      <td>0.597826</td>\n",
       "      <td>0.567901</td>\n",
       "      <td>0.209384</td>\n",
       "      <td>0.446133</td>\n",
       "      <td>0.782609</td>\n",
       "      <td>0.0</td>\n",
       "    </tr>\n",
       "    <tr>\n",
       "      <th>1</th>\n",
       "      <td>0.5</td>\n",
       "      <td>0.902174</td>\n",
       "      <td>0.753086</td>\n",
       "      <td>0.140762</td>\n",
       "      <td>0.566298</td>\n",
       "      <td>0.399209</td>\n",
       "      <td>1.0</td>\n",
       "    </tr>\n",
       "    <tr>\n",
       "      <th>2</th>\n",
       "      <td>0.5</td>\n",
       "      <td>0.326087</td>\n",
       "      <td>0.271605</td>\n",
       "      <td>0.178299</td>\n",
       "      <td>0.527624</td>\n",
       "      <td>0.462451</td>\n",
       "      <td>0.0</td>\n",
       "    </tr>\n",
       "    <tr>\n",
       "      <th>3</th>\n",
       "      <td>0.0</td>\n",
       "      <td>0.869565</td>\n",
       "      <td>0.691358</td>\n",
       "      <td>0.241056</td>\n",
       "      <td>0.412983</td>\n",
       "      <td>0.055336</td>\n",
       "      <td>0.0</td>\n",
       "    </tr>\n",
       "    <tr>\n",
       "      <th>4</th>\n",
       "      <td>0.0</td>\n",
       "      <td>0.771739</td>\n",
       "      <td>0.580247</td>\n",
       "      <td>0.401173</td>\n",
       "      <td>0.277624</td>\n",
       "      <td>0.509881</td>\n",
       "      <td>0.0</td>\n",
       "    </tr>\n",
       "    <tr>\n",
       "      <th>...</th>\n",
       "      <td>...</td>\n",
       "      <td>...</td>\n",
       "      <td>...</td>\n",
       "      <td>...</td>\n",
       "      <td>...</td>\n",
       "      <td>...</td>\n",
       "      <td>...</td>\n",
       "    </tr>\n",
       "    <tr>\n",
       "      <th>1995</th>\n",
       "      <td>0.0</td>\n",
       "      <td>0.554348</td>\n",
       "      <td>0.530864</td>\n",
       "      <td>0.141935</td>\n",
       "      <td>0.558011</td>\n",
       "      <td>0.747036</td>\n",
       "      <td>0.0</td>\n",
       "    </tr>\n",
       "    <tr>\n",
       "      <th>1996</th>\n",
       "      <td>0.0</td>\n",
       "      <td>0.391304</td>\n",
       "      <td>0.604938</td>\n",
       "      <td>0.120821</td>\n",
       "      <td>0.675414</td>\n",
       "      <td>0.007905</td>\n",
       "      <td>0.0</td>\n",
       "    </tr>\n",
       "    <tr>\n",
       "      <th>1997</th>\n",
       "      <td>0.0</td>\n",
       "      <td>0.543478</td>\n",
       "      <td>0.740741</td>\n",
       "      <td>0.079765</td>\n",
       "      <td>0.727901</td>\n",
       "      <td>0.027668</td>\n",
       "      <td>0.0</td>\n",
       "    </tr>\n",
       "    <tr>\n",
       "      <th>1998</th>\n",
       "      <td>0.0</td>\n",
       "      <td>0.173913</td>\n",
       "      <td>0.222222</td>\n",
       "      <td>0.903226</td>\n",
       "      <td>0.075967</td>\n",
       "      <td>0.071146</td>\n",
       "      <td>1.0</td>\n",
       "    </tr>\n",
       "    <tr>\n",
       "      <th>1999</th>\n",
       "      <td>0.5</td>\n",
       "      <td>0.619565</td>\n",
       "      <td>0.728395</td>\n",
       "      <td>0.070381</td>\n",
       "      <td>0.707182</td>\n",
       "      <td>0.035573</td>\n",
       "      <td>0.0</td>\n",
       "    </tr>\n",
       "  </tbody>\n",
       "</table>\n",
       "<p>2000 rows × 7 columns</p>\n",
       "</div>"
      ],
      "text/plain": [
       "      type  air_temperature_k  process_temperature_k  rotational_speed_rpm  \\\n",
       "0      0.0           0.597826               0.567901              0.209384   \n",
       "1      0.5           0.902174               0.753086              0.140762   \n",
       "2      0.5           0.326087               0.271605              0.178299   \n",
       "3      0.0           0.869565               0.691358              0.241056   \n",
       "4      0.0           0.771739               0.580247              0.401173   \n",
       "...    ...                ...                    ...                   ...   \n",
       "1995   0.0           0.554348               0.530864              0.141935   \n",
       "1996   0.0           0.391304               0.604938              0.120821   \n",
       "1997   0.0           0.543478               0.740741              0.079765   \n",
       "1998   0.0           0.173913               0.222222              0.903226   \n",
       "1999   0.5           0.619565               0.728395              0.070381   \n",
       "\n",
       "      torque_nm  tool_wear_min  target  \n",
       "0      0.446133       0.782609     0.0  \n",
       "1      0.566298       0.399209     1.0  \n",
       "2      0.527624       0.462451     0.0  \n",
       "3      0.412983       0.055336     0.0  \n",
       "4      0.277624       0.509881     0.0  \n",
       "...         ...            ...     ...  \n",
       "1995   0.558011       0.747036     0.0  \n",
       "1996   0.675414       0.007905     0.0  \n",
       "1997   0.727901       0.027668     0.0  \n",
       "1998   0.075967       0.071146     1.0  \n",
       "1999   0.707182       0.035573     0.0  \n",
       "\n",
       "[2000 rows x 7 columns]"
      ]
     },
     "execution_count": 31,
     "metadata": {},
     "output_type": "execute_result"
    }
   ],
   "source": [
    "test"
   ]
  },
  {
   "cell_type": "code",
   "execution_count": 32,
   "id": "7e11ea03",
   "metadata": {},
   "outputs": [],
   "source": [
    "x_test, y_test = test.drop(\"target\", axis =1), test[\"target\"]"
   ]
  },
  {
   "cell_type": "code",
   "execution_count": 33,
   "id": "bf96a3db",
   "metadata": {},
   "outputs": [],
   "source": [
    "pred_test = model.predict(x_test)"
   ]
  },
  {
   "cell_type": "code",
   "execution_count": 34,
   "id": "dc2ef4a4",
   "metadata": {},
   "outputs": [
    {
     "name": "stdout",
     "output_type": "stream",
     "text": [
      "              precision    recall  f1-score   support\n",
      "\n",
      "         0.0       1.00      0.89      0.94      1939\n",
      "         1.0       0.20      0.92      0.33        61\n",
      "\n",
      "    accuracy                           0.89      2000\n",
      "   macro avg       0.60      0.90      0.64      2000\n",
      "weighted avg       0.97      0.89      0.92      2000\n",
      "\n"
     ]
    }
   ],
   "source": [
    "print(classification_report(y_test, pred_test))"
   ]
  },
  {
   "cell_type": "code",
   "execution_count": 35,
   "id": "41abcf68",
   "metadata": {},
   "outputs": [],
   "source": [
    "f1_test = f1_score(y_test, pred_test)\n",
    "prec_test = precision_score(y_test, pred_test)\n",
    "recall_test = recall_score(y_test, pred_test)"
   ]
  },
  {
   "cell_type": "code",
   "execution_count": 36,
   "id": "0d9066e4",
   "metadata": {},
   "outputs": [],
   "source": [
    "conf = confusion_matrix(y_test, pred_test)"
   ]
  },
  {
   "cell_type": "code",
   "execution_count": 37,
   "id": "f1aad705",
   "metadata": {},
   "outputs": [
    {
     "data": {
      "image/png": "[encoded data removed]",
      "text/plain": [
       "<Figure size 720x720 with 2 Axes>"
      ]
     },
     "metadata": {},
     "output_type": "display_data"
    }
   ],
   "source": [
    "plt.figure(figsize=(10,10))\n",
    "sns.heatmap(conf, annot=True, cmap=\"Blues\")\n",
    "#plt.show();\n",
    "plt.savefig(\"../conf/svc.png\")"
   ]
  },
  {
   "cell_type": "code",
   "execution_count": 38,
   "id": "d98fa5bb",
   "metadata": {},
   "outputs": [],
   "source": [
    "df = pd.DataFrame()\n",
    "df[\"f1_test\"] = [f1_test]\n",
    "df[\"f1_train\"] = f1_train\n",
    "df[\"prec_train\"] = prec_train\n",
    "df[\"prec_test\"] = prec_test\n",
    "df[\"recall_train\"] = recall_train\n",
    "df[\"recall_test\"] = recall_test\n",
    "df[\"model\"] = \"SVC\"\n",
    "df[\"elapsed\"] = elapsed"
   ]
  },
  {
   "cell_type": "code",
   "execution_count": 39,
   "id": "131d2625",
   "metadata": {},
   "outputs": [
    {
     "data": {
      "text/html": [
       "<div>\n",
       "<style scoped>\n",
       "    .dataframe tbody tr th:only-of-type {\n",
       "        vertical-align: middle;\n",
       "    }\n",
       "\n",
       "    .dataframe tbody tr th {\n",
       "        vertical-align: top;\n",
       "    }\n",
       "\n",
       "    .dataframe thead th {\n",
       "        text-align: right;\n",
       "    }\n",
       "</style>\n",
       "<table border=\"1\" class=\"dataframe\">\n",
       "  <thead>\n",
       "    <tr style=\"text-align: right;\">\n",
       "      <th></th>\n",
       "      <th>f1_test</th>\n",
       "      <th>f1_train</th>\n",
       "      <th>prec_train</th>\n",
       "      <th>prec_test</th>\n",
       "      <th>recall_train</th>\n",
       "      <th>recall_test</th>\n",
       "      <th>model</th>\n",
       "      <th>elapsed</th>\n",
       "    </tr>\n",
       "  </thead>\n",
       "  <tbody>\n",
       "    <tr>\n",
       "      <th>0</th>\n",
       "      <td>0.332344</td>\n",
       "      <td>0.928826</td>\n",
       "      <td>0.919014</td>\n",
       "      <td>0.202899</td>\n",
       "      <td>0.938849</td>\n",
       "      <td>0.918033</td>\n",
       "      <td>SVC</td>\n",
       "      <td>0.028939</td>\n",
       "    </tr>\n",
       "  </tbody>\n",
       "</table>\n",
       "</div>"
      ],
      "text/plain": [
       "    f1_test  f1_train  prec_train  prec_test  recall_train  recall_test model  \\\n",
       "0  0.332344  0.928826    0.919014   0.202899      0.938849     0.918033   SVC   \n",
       "\n",
       "    elapsed  \n",
       "0  0.028939  "
      ]
     },
     "execution_count": 39,
     "metadata": {},
     "output_type": "execute_result"
    }
   ],
   "source": [
    "df"
   ]
  },
  {
   "cell_type": "code",
   "execution_count": 40,
   "id": "ef53b490",
   "metadata": {},
   "outputs": [],
   "source": [
    "df.to_csv(\"../results/regular/svc.csv\", index=False)"
   ]
  },
  {
   "cell_type": "code",
   "execution_count": null,
   "id": "d10c52f0",
   "metadata": {},
   "outputs": [],
   "source": []
  }
 ],
 "metadata": {
  "kernelspec": {
   "display_name": "Python 3 (ipykernel)",
   "language": "python",
   "name": "python3"
  },
  "language_info": {
   "codemirror_mode": {
    "name": "ipython",
    "version": 3
   },
   "file_extension": ".py",
   "mimetype": "text/x-python",
   "name": "python",
   "nbconvert_exporter": "python",
   "pygments_lexer": "ipython3",
   "version": "3.9.12"
  }
 },
 "nbformat": 4,
 "nbformat_minor": 5
}

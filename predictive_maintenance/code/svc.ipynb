{
 "cells": [
  {
   "cell_type": "code",
   "execution_count": 1,
   "id": "db27aa2e",
   "metadata": {},
   "outputs": [],
   "source": [
    "import pandas as pd\n",
    "import warnings\n",
    "warnings.filterwarnings('ignore')\n",
    "from sklearn.linear_model import LogisticRegression\n",
    "from sklearn.svm import SVC\n",
    "from sklearn.naive_bayes import GaussianNB\n",
    "from sklearn.model_selection import cross_val_score, cross_val_predict, train_test_split, GridSearchCV\n",
    "import numpy as np\n",
    "from sklearn.metrics import classification_report, confusion_matrix, f1_score, precision_score, recall_score\n",
    "from sklearn.pipeline import Pipeline\n",
    "import matplotlib.pyplot as plt\n",
    "%matplotlib inline\n",
    "import seaborn as sns; sns.set_style(\"dark\")"
   ]
  },
  {
   "cell_type": "code",
   "execution_count": 2,
   "id": "fb94d4c2",
   "metadata": {},
   "outputs": [],
   "source": [
    "train = pd.read_csv(\"../data/train_big.csv\")\n",
    "test = pd.read_csv(\"../data/test_fe.csv\")"
   ]
  },
  {
   "cell_type": "code",
   "execution_count": 3,
   "id": "ee62514c",
   "metadata": {},
   "outputs": [
    {
     "data": {
      "text/html": [
       "<div>\n",
       "<style scoped>\n",
       "    .dataframe tbody tr th:only-of-type {\n",
       "        vertical-align: middle;\n",
       "    }\n",
       "\n",
       "    .dataframe tbody tr th {\n",
       "        vertical-align: top;\n",
       "    }\n",
       "\n",
       "    .dataframe thead th {\n",
       "        text-align: right;\n",
       "    }\n",
       "</style>\n",
       "<table border=\"1\" class=\"dataframe\">\n",
       "  <thead>\n",
       "    <tr style=\"text-align: right;\">\n",
       "      <th></th>\n",
       "      <th>type</th>\n",
       "      <th>air_temperature_k</th>\n",
       "      <th>process_temperature_k</th>\n",
       "      <th>rotational_speed_rpm</th>\n",
       "      <th>torque_nm</th>\n",
       "      <th>tool_wear_min</th>\n",
       "      <th>target</th>\n",
       "    </tr>\n",
       "  </thead>\n",
       "  <tbody>\n",
       "    <tr>\n",
       "      <th>0</th>\n",
       "      <td>0.0</td>\n",
       "      <td>0.326087</td>\n",
       "      <td>0.419753</td>\n",
       "      <td>0.255132</td>\n",
       "      <td>0.377072</td>\n",
       "      <td>0.770751</td>\n",
       "      <td>0.0</td>\n",
       "    </tr>\n",
       "    <tr>\n",
       "      <th>1</th>\n",
       "      <td>0.0</td>\n",
       "      <td>0.315217</td>\n",
       "      <td>0.333333</td>\n",
       "      <td>0.121408</td>\n",
       "      <td>0.690608</td>\n",
       "      <td>0.541502</td>\n",
       "      <td>0.0</td>\n",
       "    </tr>\n",
       "    <tr>\n",
       "      <th>2</th>\n",
       "      <td>0.0</td>\n",
       "      <td>0.315217</td>\n",
       "      <td>0.259259</td>\n",
       "      <td>0.203519</td>\n",
       "      <td>0.377072</td>\n",
       "      <td>0.766798</td>\n",
       "      <td>0.0</td>\n",
       "    </tr>\n",
       "    <tr>\n",
       "      <th>3</th>\n",
       "      <td>1.0</td>\n",
       "      <td>0.608696</td>\n",
       "      <td>0.629630</td>\n",
       "      <td>0.245161</td>\n",
       "      <td>0.403315</td>\n",
       "      <td>0.027668</td>\n",
       "      <td>0.0</td>\n",
       "    </tr>\n",
       "    <tr>\n",
       "      <th>4</th>\n",
       "      <td>0.0</td>\n",
       "      <td>0.663043</td>\n",
       "      <td>0.592593</td>\n",
       "      <td>0.228739</td>\n",
       "      <td>0.415746</td>\n",
       "      <td>0.822134</td>\n",
       "      <td>0.0</td>\n",
       "    </tr>\n",
       "  </tbody>\n",
       "</table>\n",
       "</div>"
      ],
      "text/plain": [
       "   type  air_temperature_k  process_temperature_k  rotational_speed_rpm  \\\n",
       "0   0.0           0.326087               0.419753              0.255132   \n",
       "1   0.0           0.315217               0.333333              0.121408   \n",
       "2   0.0           0.315217               0.259259              0.203519   \n",
       "3   1.0           0.608696               0.629630              0.245161   \n",
       "4   0.0           0.663043               0.592593              0.228739   \n",
       "\n",
       "   torque_nm  tool_wear_min  target  \n",
       "0   0.377072       0.770751     0.0  \n",
       "1   0.690608       0.541502     0.0  \n",
       "2   0.377072       0.766798     0.0  \n",
       "3   0.403315       0.027668     0.0  \n",
       "4   0.415746       0.822134     0.0  "
      ]
     },
     "execution_count": 3,
     "metadata": {},
     "output_type": "execute_result"
    }
   ],
   "source": [
    "train.head()"
   ]
  },
  {
   "cell_type": "code",
   "execution_count": 4,
   "id": "eaf1834a",
   "metadata": {},
   "outputs": [],
   "source": [
    "x_train_use, y_train_use = train.drop(\"target\", axis = 1), train[\"target\"]"
   ]
  },
  {
   "cell_type": "code",
   "execution_count": 5,
   "id": "00c5aa3f",
   "metadata": {},
   "outputs": [],
   "source": [
    "#x_train_use = x_train_use.drop_duplicates().reset_index(drop=True)"
   ]
  },
  {
   "cell_type": "code",
   "execution_count": 6,
   "id": "c0a6b6ea",
   "metadata": {},
   "outputs": [
    {
     "data": {
      "text/plain": [
       "(8000, 7)"
      ]
     },
     "execution_count": 6,
     "metadata": {},
     "output_type": "execute_result"
    }
   ],
   "source": [
    "train.shape"
   ]
  },
  {
   "cell_type": "code",
   "execution_count": 7,
   "id": "68fda528",
   "metadata": {},
   "outputs": [],
   "source": [
    "x_train, x_val, y_train, y_val = train_test_split(x_train_use, y_train_use, train_size=0.8, random_state = 42)"
   ]
  },
  {
   "cell_type": "code",
   "execution_count": 8,
   "id": "c9f73a72",
   "metadata": {},
   "outputs": [
    {
     "data": {
      "text/plain": [
       "((6400, 6), (6400,))"
      ]
     },
     "execution_count": 8,
     "metadata": {},
     "output_type": "execute_result"
    }
   ],
   "source": [
    "x_train.shape, y_train.shape"
   ]
  },
  {
   "cell_type": "markdown",
   "id": "7c610e60",
   "metadata": {},
   "source": [
    "### Support Vector Classifiers"
   ]
  },
  {
   "cell_type": "code",
   "execution_count": 9,
   "id": "3aeb7301",
   "metadata": {},
   "outputs": [
    {
     "data": {
      "text/html": [
       "<style>#sk-container-id-1 {color: black;background-color: white;}#sk-container-id-1 pre{padding: 0;}#sk-container-id-1 div.sk-toggleable {background-color: white;}#sk-container-id-1 label.sk-toggleable__label {cursor: pointer;display: block;width: 100%;margin-bottom: 0;padding: 0.3em;box-sizing: border-box;text-align: center;}#sk-container-id-1 label.sk-toggleable__label-arrow:before {content: \"▸\";float: left;margin-right: 0.25em;color: #696969;}#sk-container-id-1 label.sk-toggleable__label-arrow:hover:before {color: black;}#sk-container-id-1 div.sk-estimator:hover label.sk-toggleable__label-arrow:before {color: black;}#sk-container-id-1 div.sk-toggleable__content {max-height: 0;max-width: 0;overflow: hidden;text-align: left;background-color: #f0f8ff;}#sk-container-id-1 div.sk-toggleable__content pre {margin: 0.2em;color: black;border-radius: 0.25em;background-color: #f0f8ff;}#sk-container-id-1 input.sk-toggleable__control:checked~div.sk-toggleable__content {max-height: 200px;max-width: 100%;overflow: auto;}#sk-container-id-1 input.sk-toggleable__control:checked~label.sk-toggleable__label-arrow:before {content: \"▾\";}#sk-container-id-1 div.sk-estimator input.sk-toggleable__control:checked~label.sk-toggleable__label {background-color: #d4ebff;}#sk-container-id-1 div.sk-label input.sk-toggleable__control:checked~label.sk-toggleable__label {background-color: #d4ebff;}#sk-container-id-1 input.sk-hidden--visually {border: 0;clip: rect(1px 1px 1px 1px);clip: rect(1px, 1px, 1px, 1px);height: 1px;margin: -1px;overflow: hidden;padding: 0;position: absolute;width: 1px;}#sk-container-id-1 div.sk-estimator {font-family: monospace;background-color: #f0f8ff;border: 1px dotted black;border-radius: 0.25em;box-sizing: border-box;margin-bottom: 0.5em;}#sk-container-id-1 div.sk-estimator:hover {background-color: #d4ebff;}#sk-container-id-1 div.sk-parallel-item::after {content: \"\";width: 100%;border-bottom: 1px solid gray;flex-grow: 1;}#sk-container-id-1 div.sk-label:hover label.sk-toggleable__label {background-color: #d4ebff;}#sk-container-id-1 div.sk-serial::before {content: \"\";position: absolute;border-left: 1px solid gray;box-sizing: border-box;top: 0;bottom: 0;left: 50%;z-index: 0;}#sk-container-id-1 div.sk-serial {display: flex;flex-direction: column;align-items: center;background-color: white;padding-right: 0.2em;padding-left: 0.2em;position: relative;}#sk-container-id-1 div.sk-item {position: relative;z-index: 1;}#sk-container-id-1 div.sk-parallel {display: flex;align-items: stretch;justify-content: center;background-color: white;position: relative;}#sk-container-id-1 div.sk-item::before, #sk-container-id-1 div.sk-parallel-item::before {content: \"\";position: absolute;border-left: 1px solid gray;box-sizing: border-box;top: 0;bottom: 0;left: 50%;z-index: -1;}#sk-container-id-1 div.sk-parallel-item {display: flex;flex-direction: column;z-index: 1;position: relative;background-color: white;}#sk-container-id-1 div.sk-parallel-item:first-child::after {align-self: flex-end;width: 50%;}#sk-container-id-1 div.sk-parallel-item:last-child::after {align-self: flex-start;width: 50%;}#sk-container-id-1 div.sk-parallel-item:only-child::after {width: 0;}#sk-container-id-1 div.sk-dashed-wrapped {border: 1px dashed gray;margin: 0 0.4em 0.5em 0.4em;box-sizing: border-box;padding-bottom: 0.4em;background-color: white;}#sk-container-id-1 div.sk-label label {font-family: monospace;font-weight: bold;display: inline-block;line-height: 1.2em;}#sk-container-id-1 div.sk-label-container {text-align: center;}#sk-container-id-1 div.sk-container {/* jupyter's `normalize.less` sets `[hidden] { display: none; }` but bootstrap.min.css set `[hidden] { display: none !important; }` so we also need the `!important` here to be able to override the default hidden behavior on the sphinx rendered scikit-learn.org. See: https://github.com/scikit-learn/scikit-learn/issues/21755 */display: inline-block !important;position: relative;}#sk-container-id-1 div.sk-text-repr-fallback {display: none;}</style><div id=\"sk-container-id-1\" class=\"sk-top-container\"><div class=\"sk-text-repr-fallback\"><pre>SVC(kernel=&#x27;linear&#x27;)</pre><b>In a Jupyter environment, please rerun this cell to show the HTML representation or trust the notebook. <br />On GitHub, the HTML representation is unable to render, please try loading this page with nbviewer.org.</b></div><div class=\"sk-container\" hidden><div class=\"sk-item\"><div class=\"sk-estimator sk-toggleable\"><input class=\"sk-toggleable__control sk-hidden--visually\" id=\"sk-estimator-id-1\" type=\"checkbox\" checked><label for=\"sk-estimator-id-1\" class=\"sk-toggleable__label sk-toggleable__label-arrow\">SVC</label><div class=\"sk-toggleable__content\"><pre>SVC(kernel=&#x27;linear&#x27;)</pre></div></div></div></div></div>"
      ],
      "text/plain": [
       "SVC(kernel='linear')"
      ]
     },
     "execution_count": 9,
     "metadata": {},
     "output_type": "execute_result"
    }
   ],
   "source": [
    "svc = SVC(kernel=\"linear\")\n",
    "svc.fit(x_train, np.array(y_train).reshape(-1,1))"
   ]
  },
  {
   "cell_type": "code",
   "execution_count": 10,
   "id": "245bc415",
   "metadata": {},
   "outputs": [],
   "source": [
    "y_pred = svc.predict(x_train)"
   ]
  },
  {
   "cell_type": "code",
   "execution_count": 11,
   "id": "953b003b",
   "metadata": {},
   "outputs": [
    {
     "data": {
      "text/plain": [
       "0.0"
      ]
     },
     "execution_count": 11,
     "metadata": {},
     "output_type": "execute_result"
    }
   ],
   "source": [
    "f1_score(y_train, y_pred)"
   ]
  },
  {
   "cell_type": "code",
   "execution_count": 12,
   "id": "022b11db",
   "metadata": {},
   "outputs": [],
   "source": [
    "svc_pipeline = Pipeline([(\"svc\", SVC(kernel = \"poly\"))])\n",
    "param_grid = [{\"svc__degree\":np.arange(10)}]\n",
    "grid_search = GridSearchCV(svc_pipeline, param_grid, cv = 5)"
   ]
  },
  {
   "cell_type": "code",
   "execution_count": null,
   "id": "21e05eb5",
   "metadata": {},
   "outputs": [],
   "source": [
    "grid_search.fit(x_train, np.array(y_train).reshape(-1,1))"
   ]
  },
  {
   "cell_type": "code",
   "execution_count": null,
   "id": "2569d3bc",
   "metadata": {},
   "outputs": [],
   "source": [
    "grid_search.best_params_"
   ]
  },
  {
   "cell_type": "code",
   "execution_count": 15,
   "id": "8a935d65",
   "metadata": {},
   "outputs": [],
   "source": [
    "model = grid_search.best_estimator_"
   ]
  },
  {
   "cell_type": "code",
   "execution_count": 16,
   "id": "3e8346bf",
   "metadata": {},
   "outputs": [
    {
     "data": {
      "text/plain": [
       "Pipeline(steps=[('svc', SVC(degree=9, kernel='poly'))])"
      ]
     },
     "execution_count": 16,
     "metadata": {},
     "output_type": "execute_result"
    }
   ],
   "source": [
    "model.fit(x_train, y_train)"
   ]
  },
  {
   "cell_type": "code",
   "execution_count": 17,
   "id": "433424d9",
   "metadata": {},
   "outputs": [],
   "source": [
    "y_pred = model.predict(x_train)"
   ]
  },
  {
   "cell_type": "code",
   "execution_count": null,
   "id": "a0d09805",
   "metadata": {},
   "outputs": [],
   "source": []
  },
  {
   "cell_type": "code",
   "execution_count": 18,
   "id": "2e851d43",
   "metadata": {},
   "outputs": [
    {
     "data": {
      "text/plain": [
       "0.9680006415911461"
      ]
     },
     "execution_count": 18,
     "metadata": {},
     "output_type": "execute_result"
    }
   ],
   "source": [
    "f1_score(y_train, y_pred)"
   ]
  },
  {
   "cell_type": "code",
   "execution_count": 19,
   "id": "9809e20f",
   "metadata": {},
   "outputs": [
    {
     "name": "stdout",
     "output_type": "stream",
     "text": [
      "              precision    recall  f1-score   support\n",
      "\n",
      "         0.0       0.97      0.96      0.97      6154\n",
      "         1.0       0.96      0.97      0.97      6201\n",
      "\n",
      "    accuracy                           0.97     12355\n",
      "   macro avg       0.97      0.97      0.97     12355\n",
      "weighted avg       0.97      0.97      0.97     12355\n",
      "\n"
     ]
    }
   ],
   "source": [
    "print(classification_report(y_train, y_pred))"
   ]
  },
  {
   "cell_type": "code",
   "execution_count": 20,
   "id": "59b3f4f2",
   "metadata": {},
   "outputs": [
    {
     "data": {
      "text/plain": [
       "0.0    7722\n",
       "1.0    7722\n",
       "Name: target, dtype: int64"
      ]
     },
     "execution_count": 20,
     "metadata": {},
     "output_type": "execute_result"
    }
   ],
   "source": [
    "train[\"target\"].value_counts()"
   ]
  },
  {
   "cell_type": "code",
   "execution_count": 21,
   "id": "d4c6501f",
   "metadata": {},
   "outputs": [],
   "source": [
    "import seaborn as sns; sns.set_style(\"darkgrid\")"
   ]
  },
  {
   "cell_type": "code",
   "execution_count": 22,
   "id": "021b82e8",
   "metadata": {},
   "outputs": [
    {
     "data": {
      "text/plain": [
       "<AxesSubplot:>"
      ]
     },
     "execution_count": 22,
     "metadata": {},
     "output_type": "execute_result"
    },
    {
     "data": {
      "image/png": "[encoded data removed]",
      "text/plain": [
       "<Figure size 432x288 with 2 Axes>"
      ]
     },
     "metadata": {},
     "output_type": "display_data"
    }
   ],
   "source": [
    "conf = confusion_matrix(y_train, y_pred)\n",
    "sns.heatmap(conf, annot=True, cmap= \"Blues\")"
   ]
  },
  {
   "cell_type": "code",
   "execution_count": 23,
   "id": "119595ff",
   "metadata": {},
   "outputs": [],
   "source": [
    "y_pred_val = model.predict(x_val)"
   ]
  },
  {
   "cell_type": "code",
   "execution_count": 24,
   "id": "1a1155cb",
   "metadata": {},
   "outputs": [
    {
     "data": {
      "text/plain": [
       "0.9650441032342372"
      ]
     },
     "execution_count": 24,
     "metadata": {},
     "output_type": "execute_result"
    }
   ],
   "source": [
    "f1_score(y_val, y_pred_val)"
   ]
  },
  {
   "cell_type": "code",
   "execution_count": 25,
   "id": "223df55a",
   "metadata": {},
   "outputs": [
    {
     "name": "stdout",
     "output_type": "stream",
     "text": [
      "              precision    recall  f1-score   support\n",
      "\n",
      "         0.0       0.97      0.96      0.97      1568\n",
      "         1.0       0.96      0.97      0.97      1521\n",
      "\n",
      "    accuracy                           0.97      3089\n",
      "   macro avg       0.97      0.97      0.97      3089\n",
      "weighted avg       0.97      0.97      0.97      3089\n",
      "\n"
     ]
    }
   ],
   "source": [
    "print(classification_report(y_val, y_pred_val))"
   ]
  },
  {
   "cell_type": "markdown",
   "id": "b1c7df47",
   "metadata": {},
   "source": [
    "#### Extracting results"
   ]
  },
  {
   "cell_type": "code",
   "execution_count": 26,
   "id": "42d3a3bf",
   "metadata": {},
   "outputs": [],
   "source": [
    "import time\n",
    "start = time.time()\n",
    "model.fit(x_train_use, y_train_use)\n",
    "elapsed = time.time() - start"
   ]
  },
  {
   "cell_type": "code",
   "execution_count": 27,
   "id": "580772ab",
   "metadata": {},
   "outputs": [],
   "source": [
    "pred_use = model.predict(x_train_use)"
   ]
  },
  {
   "cell_type": "code",
   "execution_count": 28,
   "id": "742fb866",
   "metadata": {},
   "outputs": [
    {
     "data": {
      "text/plain": [
       "array([0.96015424, 0.96041197, 0.96051364, 0.96627048, 0.96371738])"
      ]
     },
     "execution_count": 28,
     "metadata": {},
     "output_type": "execute_result"
    }
   ],
   "source": [
    "cross_val_score(model, x_train_use, y_train_use, scoring=\"f1\")"
   ]
  },
  {
   "cell_type": "code",
   "execution_count": 29,
   "id": "7258979c",
   "metadata": {},
   "outputs": [
    {
     "name": "stdout",
     "output_type": "stream",
     "text": [
      "              precision    recall  f1-score   support\n",
      "\n",
      "         0.0       0.98      0.96      0.97      7722\n",
      "         1.0       0.96      0.98      0.97      7722\n",
      "\n",
      "    accuracy                           0.97     15444\n",
      "   macro avg       0.97      0.97      0.97     15444\n",
      "weighted avg       0.97      0.97      0.97     15444\n",
      "\n"
     ]
    }
   ],
   "source": [
    "print(classification_report(y_train_use, pred_use))"
   ]
  },
  {
   "cell_type": "code",
   "execution_count": 30,
   "id": "b7334a8b",
   "metadata": {},
   "outputs": [],
   "source": [
    "f1_train = f1_score(y_train_use, pred_use)\n",
    "prec_train = precision_score(y_train_use, pred_use)\n",
    "recall_train = recall_score(y_train_use, pred_use)"
   ]
  },
  {
   "cell_type": "code",
   "execution_count": 31,
   "id": "0918c172",
   "metadata": {},
   "outputs": [
    {
     "data": {
      "text/html": [
       "<div>\n",
       "<style scoped>\n",
       "    .dataframe tbody tr th:only-of-type {\n",
       "        vertical-align: middle;\n",
       "    }\n",
       "\n",
       "    .dataframe tbody tr th {\n",
       "        vertical-align: top;\n",
       "    }\n",
       "\n",
       "    .dataframe thead th {\n",
       "        text-align: right;\n",
       "    }\n",
       "</style>\n",
       "<table border=\"1\" class=\"dataframe\">\n",
       "  <thead>\n",
       "    <tr style=\"text-align: right;\">\n",
       "      <th></th>\n",
       "      <th>type</th>\n",
       "      <th>air_temperature_k</th>\n",
       "      <th>process_temperature_k</th>\n",
       "      <th>rotational_speed_rpm</th>\n",
       "      <th>torque_nm</th>\n",
       "      <th>tool_wear_min</th>\n",
       "      <th>target</th>\n",
       "    </tr>\n",
       "  </thead>\n",
       "  <tbody>\n",
       "    <tr>\n",
       "      <th>0</th>\n",
       "      <td>0.0</td>\n",
       "      <td>0.597826</td>\n",
       "      <td>0.567901</td>\n",
       "      <td>0.209384</td>\n",
       "      <td>0.446133</td>\n",
       "      <td>0.782609</td>\n",
       "      <td>0.0</td>\n",
       "    </tr>\n",
       "    <tr>\n",
       "      <th>1</th>\n",
       "      <td>1.0</td>\n",
       "      <td>0.902174</td>\n",
       "      <td>0.753086</td>\n",
       "      <td>0.140762</td>\n",
       "      <td>0.566298</td>\n",
       "      <td>0.399209</td>\n",
       "      <td>1.0</td>\n",
       "    </tr>\n",
       "    <tr>\n",
       "      <th>2</th>\n",
       "      <td>1.0</td>\n",
       "      <td>0.326087</td>\n",
       "      <td>0.271605</td>\n",
       "      <td>0.178299</td>\n",
       "      <td>0.527624</td>\n",
       "      <td>0.462451</td>\n",
       "      <td>0.0</td>\n",
       "    </tr>\n",
       "    <tr>\n",
       "      <th>3</th>\n",
       "      <td>0.0</td>\n",
       "      <td>0.869565</td>\n",
       "      <td>0.691358</td>\n",
       "      <td>0.241056</td>\n",
       "      <td>0.412983</td>\n",
       "      <td>0.055336</td>\n",
       "      <td>0.0</td>\n",
       "    </tr>\n",
       "    <tr>\n",
       "      <th>4</th>\n",
       "      <td>0.0</td>\n",
       "      <td>0.771739</td>\n",
       "      <td>0.580247</td>\n",
       "      <td>0.401173</td>\n",
       "      <td>0.277624</td>\n",
       "      <td>0.509881</td>\n",
       "      <td>0.0</td>\n",
       "    </tr>\n",
       "    <tr>\n",
       "      <th>...</th>\n",
       "      <td>...</td>\n",
       "      <td>...</td>\n",
       "      <td>...</td>\n",
       "      <td>...</td>\n",
       "      <td>...</td>\n",
       "      <td>...</td>\n",
       "      <td>...</td>\n",
       "    </tr>\n",
       "    <tr>\n",
       "      <th>1995</th>\n",
       "      <td>0.0</td>\n",
       "      <td>0.554348</td>\n",
       "      <td>0.530864</td>\n",
       "      <td>0.141935</td>\n",
       "      <td>0.558011</td>\n",
       "      <td>0.747036</td>\n",
       "      <td>0.0</td>\n",
       "    </tr>\n",
       "    <tr>\n",
       "      <th>1996</th>\n",
       "      <td>0.0</td>\n",
       "      <td>0.391304</td>\n",
       "      <td>0.604938</td>\n",
       "      <td>0.120821</td>\n",
       "      <td>0.675414</td>\n",
       "      <td>0.007905</td>\n",
       "      <td>0.0</td>\n",
       "    </tr>\n",
       "    <tr>\n",
       "      <th>1997</th>\n",
       "      <td>0.0</td>\n",
       "      <td>0.543478</td>\n",
       "      <td>0.740741</td>\n",
       "      <td>0.079765</td>\n",
       "      <td>0.727901</td>\n",
       "      <td>0.027668</td>\n",
       "      <td>0.0</td>\n",
       "    </tr>\n",
       "    <tr>\n",
       "      <th>1998</th>\n",
       "      <td>0.0</td>\n",
       "      <td>0.173913</td>\n",
       "      <td>0.222222</td>\n",
       "      <td>0.903226</td>\n",
       "      <td>0.075967</td>\n",
       "      <td>0.071146</td>\n",
       "      <td>1.0</td>\n",
       "    </tr>\n",
       "    <tr>\n",
       "      <th>1999</th>\n",
       "      <td>1.0</td>\n",
       "      <td>0.619565</td>\n",
       "      <td>0.728395</td>\n",
       "      <td>0.070381</td>\n",
       "      <td>0.707182</td>\n",
       "      <td>0.035573</td>\n",
       "      <td>0.0</td>\n",
       "    </tr>\n",
       "  </tbody>\n",
       "</table>\n",
       "<p>2000 rows × 7 columns</p>\n",
       "</div>"
      ],
      "text/plain": [
       "      type  air_temperature_k  process_temperature_k  rotational_speed_rpm  \\\n",
       "0      0.0           0.597826               0.567901              0.209384   \n",
       "1      1.0           0.902174               0.753086              0.140762   \n",
       "2      1.0           0.326087               0.271605              0.178299   \n",
       "3      0.0           0.869565               0.691358              0.241056   \n",
       "4      0.0           0.771739               0.580247              0.401173   \n",
       "...    ...                ...                    ...                   ...   \n",
       "1995   0.0           0.554348               0.530864              0.141935   \n",
       "1996   0.0           0.391304               0.604938              0.120821   \n",
       "1997   0.0           0.543478               0.740741              0.079765   \n",
       "1998   0.0           0.173913               0.222222              0.903226   \n",
       "1999   1.0           0.619565               0.728395              0.070381   \n",
       "\n",
       "      torque_nm  tool_wear_min  target  \n",
       "0      0.446133       0.782609     0.0  \n",
       "1      0.566298       0.399209     1.0  \n",
       "2      0.527624       0.462451     0.0  \n",
       "3      0.412983       0.055336     0.0  \n",
       "4      0.277624       0.509881     0.0  \n",
       "...         ...            ...     ...  \n",
       "1995   0.558011       0.747036     0.0  \n",
       "1996   0.675414       0.007905     0.0  \n",
       "1997   0.727901       0.027668     0.0  \n",
       "1998   0.075967       0.071146     1.0  \n",
       "1999   0.707182       0.035573     0.0  \n",
       "\n",
       "[2000 rows x 7 columns]"
      ]
     },
     "execution_count": 31,
     "metadata": {},
     "output_type": "execute_result"
    }
   ],
   "source": [
    "test"
   ]
  },
  {
   "cell_type": "code",
   "execution_count": 33,
   "id": "7e11ea03",
   "metadata": {},
   "outputs": [],
   "source": [
    "x_test, y_test = test.drop(\"target\", axis =1), test[\"target\"]"
   ]
  },
  {
   "cell_type": "code",
   "execution_count": 34,
   "id": "bf96a3db",
   "metadata": {},
   "outputs": [],
   "source": [
    "pred_test = model.predict(x_test)"
   ]
  },
  {
   "cell_type": "code",
   "execution_count": 35,
   "id": "dc2ef4a4",
   "metadata": {},
   "outputs": [
    {
     "name": "stdout",
     "output_type": "stream",
     "text": [
      "              precision    recall  f1-score   support\n",
      "\n",
      "         0.0       0.99      0.95      0.97      1939\n",
      "         1.0       0.29      0.67      0.41        61\n",
      "\n",
      "    accuracy                           0.94      2000\n",
      "   macro avg       0.64      0.81      0.69      2000\n",
      "weighted avg       0.97      0.94      0.95      2000\n",
      "\n"
     ]
    }
   ],
   "source": [
    "print(classification_report(y_test, pred_test))"
   ]
  },
  {
   "cell_type": "code",
   "execution_count": 36,
   "id": "41abcf68",
   "metadata": {},
   "outputs": [],
   "source": [
    "f1_test = f1_score(y_test, pred_test)\n",
    "prec_test = precision_score(y_test, pred_test)\n",
    "recall_test = recall_score(y_test, pred_test)"
   ]
  },
  {
   "cell_type": "code",
   "execution_count": 37,
   "id": "0d9066e4",
   "metadata": {},
   "outputs": [],
   "source": [
    "conf = confusion_matrix(y_test, pred_test)"
   ]
  },
  {
   "cell_type": "code",
   "execution_count": 38,
   "id": "f1aad705",
   "metadata": {},
   "outputs": [
    {
     "data": {
      "image/png": "[encoded data removed]",
      "text/plain": [
       "<Figure size 720x720 with 2 Axes>"
      ]
     },
     "metadata": {},
     "output_type": "display_data"
    }
   ],
   "source": [
    "plt.figure(figsize=(10,10))\n",
    "sns.heatmap(conf, annot=True, cmap=\"Blues\")\n",
    "#plt.show();\n",
    "plt.savefig(\"../conf/svc.png\")"
   ]
  },
  {
   "cell_type": "code",
   "execution_count": 39,
   "id": "d98fa5bb",
   "metadata": {},
   "outputs": [],
   "source": [
    "df = pd.DataFrame()\n",
    "df[\"f1_test\"] = [f1_test]\n",
    "df[\"f1_train\"] = f1_train\n",
    "df[\"prec_train\"] = prec_train\n",
    "df[\"prec_test\"] = prec_test\n",
    "df[\"recall_train\"] = recall_train\n",
    "df[\"recall_test\"] = recall_test\n",
    "df[\"model\"] = \"SVC\"\n",
    "df[\"elapsed\"] = elapsed"
   ]
  },
  {
   "cell_type": "code",
   "execution_count": 40,
   "id": "131d2625",
   "metadata": {},
   "outputs": [
    {
     "data": {
      "text/html": [
       "<div>\n",
       "<style scoped>\n",
       "    .dataframe tbody tr th:only-of-type {\n",
       "        vertical-align: middle;\n",
       "    }\n",
       "\n",
       "    .dataframe tbody tr th {\n",
       "        vertical-align: top;\n",
       "    }\n",
       "\n",
       "    .dataframe thead th {\n",
       "        text-align: right;\n",
       "    }\n",
       "</style>\n",
       "<table border=\"1\" class=\"dataframe\">\n",
       "  <thead>\n",
       "    <tr style=\"text-align: right;\">\n",
       "      <th></th>\n",
       "      <th>f1_test</th>\n",
       "      <th>f1_train</th>\n",
       "      <th>prec_train</th>\n",
       "      <th>prec_test</th>\n",
       "      <th>recall_train</th>\n",
       "      <th>recall_test</th>\n",
       "      <th>model</th>\n",
       "      <th>elapsed</th>\n",
       "    </tr>\n",
       "  </thead>\n",
       "  <tbody>\n",
       "    <tr>\n",
       "      <th>0</th>\n",
       "      <td>0.40796</td>\n",
       "      <td>0.969923</td>\n",
       "      <td>0.962746</td>\n",
       "      <td>0.292857</td>\n",
       "      <td>0.977208</td>\n",
       "      <td>0.672131</td>\n",
       "      <td>SVC</td>\n",
       "      <td>708.71394</td>\n",
       "    </tr>\n",
       "  </tbody>\n",
       "</table>\n",
       "</div>"
      ],
      "text/plain": [
       "   f1_test  f1_train  prec_train  prec_test  recall_train  recall_test model  \\\n",
       "0  0.40796  0.969923    0.962746   0.292857      0.977208     0.672131   SVC   \n",
       "\n",
       "     elapsed  \n",
       "0  708.71394  "
      ]
     },
     "execution_count": 40,
     "metadata": {},
     "output_type": "execute_result"
    }
   ],
   "source": [
    "df"
   ]
  },
  {
   "cell_type": "code",
   "execution_count": 41,
   "id": "ef53b490",
   "metadata": {},
   "outputs": [],
   "source": [
    "df.to_csv(\"../results/regular/svc.csv\", index=False)"
   ]
  },
  {
   "cell_type": "code",
   "execution_count": null,
   "id": "d10c52f0",
   "metadata": {},
   "outputs": [],
   "source": []
  }
 ],
 "metadata": {
  "kernelspec": {
   "display_name": "Python 3 (ipykernel)",
   "language": "python",
   "name": "python3"
  },
  "language_info": {
   "codemirror_mode": {
    "name": "ipython",
    "version": 3
   },
   "file_extension": ".py",
   "mimetype": "text/x-python",
   "name": "python",
   "nbconvert_exporter": "python",
   "pygments_lexer": "ipython3",
   "version": "3.9.12"
  }
 },
 "nbformat": 4,
 "nbformat_minor": 5
}

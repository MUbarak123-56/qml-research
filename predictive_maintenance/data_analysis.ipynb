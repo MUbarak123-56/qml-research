{
 "cells": [
  {
   "cell_type": "code",
   "execution_count": 1,
   "id": "1ec1e35b",
   "metadata": {},
   "outputs": [],
   "source": [
    "import pandas as pd\n",
    "import seaborn as sns; sns.set_style(\"darkgrid\")\n",
    "import matplotlib.pyplot as plt\n",
    "%matplotlib inline\n",
    "import os\n",
    "from IPython import display\n",
    "from PIL import Image"
   ]
  },
  {
   "cell_type": "markdown",
   "id": "3816cebc",
   "metadata": {},
   "source": [
    "### Metrics report"
   ]
  },
  {
   "cell_type": "code",
   "execution_count": 7,
   "id": "2603a7ec",
   "metadata": {},
   "outputs": [],
   "source": [
    "df = pd.DataFrame()"
   ]
  },
  {
   "cell_type": "code",
   "execution_count": 8,
   "id": "2fe78868",
   "metadata": {},
   "outputs": [],
   "source": [
    "data_list = os.listdir(\"results/regular/\")"
   ]
  },
  {
   "cell_type": "code",
   "execution_count": 9,
   "id": "c38e86d4",
   "metadata": {},
   "outputs": [],
   "source": [
    "for data in data_list:\n",
    "    if \".csv\" in data:\n",
    "        new_df = pd.read_csv(\"results/regular/\" + data)\n",
    "        df = pd.concat([df, new_df], axis = 0).reset_index(drop=True)"
   ]
  },
  {
   "cell_type": "code",
   "execution_count": 10,
   "id": "4777d8df",
   "metadata": {},
   "outputs": [],
   "source": [
    "#vqc_list = os.listdir(\"\")\n",
    "#vqc_df = pd.read_csv(\"vqc_results/final/vqc.csv\")\n",
    "#df = pd.concat([df, vqc_df], axis = 0).reset_index(drop=True)"
   ]
  },
  {
   "cell_type": "code",
   "execution_count": 11,
   "id": "7dceaeaa",
   "metadata": {},
   "outputs": [
    {
     "data": {
      "text/html": [
       "<div>\n",
       "<style scoped>\n",
       "    .dataframe tbody tr th:only-of-type {\n",
       "        vertical-align: middle;\n",
       "    }\n",
       "\n",
       "    .dataframe tbody tr th {\n",
       "        vertical-align: top;\n",
       "    }\n",
       "\n",
       "    .dataframe thead th {\n",
       "        text-align: right;\n",
       "    }\n",
       "</style>\n",
       "<table border=\"1\" class=\"dataframe\">\n",
       "  <thead>\n",
       "    <tr style=\"text-align: right;\">\n",
       "      <th></th>\n",
       "      <th>f1_test</th>\n",
       "      <th>f1_train</th>\n",
       "      <th>prec_train</th>\n",
       "      <th>prec_test</th>\n",
       "      <th>recall_train</th>\n",
       "      <th>recall_test</th>\n",
       "      <th>model</th>\n",
       "      <th>elapsed</th>\n",
       "    </tr>\n",
       "  </thead>\n",
       "  <tbody>\n",
       "    <tr>\n",
       "      <th>0</th>\n",
       "      <td>0.300283</td>\n",
       "      <td>0.940754</td>\n",
       "      <td>0.939068</td>\n",
       "      <td>0.181507</td>\n",
       "      <td>0.942446</td>\n",
       "      <td>0.868852</td>\n",
       "      <td>Decision Tree</td>\n",
       "      <td>0.005085</td>\n",
       "    </tr>\n",
       "    <tr>\n",
       "      <th>1</th>\n",
       "      <td>0.059195</td>\n",
       "      <td>0.666667</td>\n",
       "      <td>0.500000</td>\n",
       "      <td>0.030500</td>\n",
       "      <td>1.000000</td>\n",
       "      <td>1.000000</td>\n",
       "      <td>Logistic Regression</td>\n",
       "      <td>0.003429</td>\n",
       "    </tr>\n",
       "    <tr>\n",
       "      <th>2</th>\n",
       "      <td>0.189474</td>\n",
       "      <td>0.818018</td>\n",
       "      <td>0.819495</td>\n",
       "      <td>0.108696</td>\n",
       "      <td>0.816547</td>\n",
       "      <td>0.737705</td>\n",
       "      <td>Naive Bayes</td>\n",
       "      <td>0.003134</td>\n",
       "    </tr>\n",
       "    <tr>\n",
       "      <th>3</th>\n",
       "      <td>0.315217</td>\n",
       "      <td>0.951872</td>\n",
       "      <td>0.943463</td>\n",
       "      <td>0.188925</td>\n",
       "      <td>0.960432</td>\n",
       "      <td>0.950820</td>\n",
       "      <td>Random Forest</td>\n",
       "      <td>0.110404</td>\n",
       "    </tr>\n",
       "    <tr>\n",
       "      <th>4</th>\n",
       "      <td>0.328267</td>\n",
       "      <td>0.914286</td>\n",
       "      <td>0.907801</td>\n",
       "      <td>0.201493</td>\n",
       "      <td>0.920863</td>\n",
       "      <td>0.885246</td>\n",
       "      <td>SVC</td>\n",
       "      <td>0.017958</td>\n",
       "    </tr>\n",
       "    <tr>\n",
       "      <th>5</th>\n",
       "      <td>0.288000</td>\n",
       "      <td>0.958106</td>\n",
       "      <td>0.970480</td>\n",
       "      <td>0.171975</td>\n",
       "      <td>0.946043</td>\n",
       "      <td>0.885246</td>\n",
       "      <td>QSVC</td>\n",
       "      <td>1816.435473</td>\n",
       "    </tr>\n",
       "  </tbody>\n",
       "</table>\n",
       "</div>"
      ],
      "text/plain": [
       "    f1_test  f1_train  prec_train  prec_test  recall_train  recall_test  \\\n",
       "0  0.300283  0.940754    0.939068   0.181507      0.942446     0.868852   \n",
       "1  0.059195  0.666667    0.500000   0.030500      1.000000     1.000000   \n",
       "2  0.189474  0.818018    0.819495   0.108696      0.816547     0.737705   \n",
       "3  0.315217  0.951872    0.943463   0.188925      0.960432     0.950820   \n",
       "4  0.328267  0.914286    0.907801   0.201493      0.920863     0.885246   \n",
       "5  0.288000  0.958106    0.970480   0.171975      0.946043     0.885246   \n",
       "\n",
       "                 model      elapsed  \n",
       "0        Decision Tree     0.005085  \n",
       "1  Logistic Regression     0.003429  \n",
       "2          Naive Bayes     0.003134  \n",
       "3        Random Forest     0.110404  \n",
       "4                  SVC     0.017958  \n",
       "5                 QSVC  1816.435473  "
      ]
     },
     "execution_count": 11,
     "metadata": {},
     "output_type": "execute_result"
    }
   ],
   "source": [
    "df = df.fillna(0)\n",
    "df"
   ]
  },
  {
   "cell_type": "code",
   "execution_count": 12,
   "id": "bcd5b54f",
   "metadata": {},
   "outputs": [
    {
     "data": {
      "text/html": [
       "<div>\n",
       "<style scoped>\n",
       "    .dataframe tbody tr th:only-of-type {\n",
       "        vertical-align: middle;\n",
       "    }\n",
       "\n",
       "    .dataframe tbody tr th {\n",
       "        vertical-align: top;\n",
       "    }\n",
       "\n",
       "    .dataframe thead th {\n",
       "        text-align: right;\n",
       "    }\n",
       "</style>\n",
       "<table border=\"1\" class=\"dataframe\">\n",
       "  <thead>\n",
       "    <tr style=\"text-align: right;\">\n",
       "      <th></th>\n",
       "      <th>model</th>\n",
       "      <th>f1_train</th>\n",
       "      <th>f1_test</th>\n",
       "    </tr>\n",
       "  </thead>\n",
       "  <tbody>\n",
       "    <tr>\n",
       "      <th>0</th>\n",
       "      <td>Decision Tree</td>\n",
       "      <td>0.940754</td>\n",
       "      <td>0.300283</td>\n",
       "    </tr>\n",
       "    <tr>\n",
       "      <th>1</th>\n",
       "      <td>Logistic Regression</td>\n",
       "      <td>0.666667</td>\n",
       "      <td>0.059195</td>\n",
       "    </tr>\n",
       "    <tr>\n",
       "      <th>2</th>\n",
       "      <td>Naive Bayes</td>\n",
       "      <td>0.818018</td>\n",
       "      <td>0.189474</td>\n",
       "    </tr>\n",
       "    <tr>\n",
       "      <th>3</th>\n",
       "      <td>Random Forest</td>\n",
       "      <td>0.951872</td>\n",
       "      <td>0.315217</td>\n",
       "    </tr>\n",
       "    <tr>\n",
       "      <th>4</th>\n",
       "      <td>SVC</td>\n",
       "      <td>0.914286</td>\n",
       "      <td>0.328267</td>\n",
       "    </tr>\n",
       "    <tr>\n",
       "      <th>5</th>\n",
       "      <td>QSVC</td>\n",
       "      <td>0.958106</td>\n",
       "      <td>0.288000</td>\n",
       "    </tr>\n",
       "  </tbody>\n",
       "</table>\n",
       "</div>"
      ],
      "text/plain": [
       "                 model  f1_train   f1_test\n",
       "0        Decision Tree  0.940754  0.300283\n",
       "1  Logistic Regression  0.666667  0.059195\n",
       "2          Naive Bayes  0.818018  0.189474\n",
       "3        Random Forest  0.951872  0.315217\n",
       "4                  SVC  0.914286  0.328267\n",
       "5                 QSVC  0.958106  0.288000"
      ]
     },
     "execution_count": 12,
     "metadata": {},
     "output_type": "execute_result"
    }
   ],
   "source": [
    "f1 = df[[\"model\", \"f1_train\", \"f1_test\"]]\n",
    "f1"
   ]
  },
  {
   "cell_type": "code",
   "execution_count": 13,
   "id": "acb1c142",
   "metadata": {},
   "outputs": [
    {
     "data": {
      "text/html": [
       "<div>\n",
       "<style scoped>\n",
       "    .dataframe tbody tr th:only-of-type {\n",
       "        vertical-align: middle;\n",
       "    }\n",
       "\n",
       "    .dataframe tbody tr th {\n",
       "        vertical-align: top;\n",
       "    }\n",
       "\n",
       "    .dataframe thead th {\n",
       "        text-align: right;\n",
       "    }\n",
       "</style>\n",
       "<table border=\"1\" class=\"dataframe\">\n",
       "  <thead>\n",
       "    <tr style=\"text-align: right;\">\n",
       "      <th></th>\n",
       "      <th>model</th>\n",
       "      <th>prec_train</th>\n",
       "      <th>prec_test</th>\n",
       "    </tr>\n",
       "  </thead>\n",
       "  <tbody>\n",
       "    <tr>\n",
       "      <th>0</th>\n",
       "      <td>Decision Tree</td>\n",
       "      <td>0.939068</td>\n",
       "      <td>0.181507</td>\n",
       "    </tr>\n",
       "    <tr>\n",
       "      <th>1</th>\n",
       "      <td>Logistic Regression</td>\n",
       "      <td>0.500000</td>\n",
       "      <td>0.030500</td>\n",
       "    </tr>\n",
       "    <tr>\n",
       "      <th>2</th>\n",
       "      <td>Naive Bayes</td>\n",
       "      <td>0.819495</td>\n",
       "      <td>0.108696</td>\n",
       "    </tr>\n",
       "    <tr>\n",
       "      <th>3</th>\n",
       "      <td>Random Forest</td>\n",
       "      <td>0.943463</td>\n",
       "      <td>0.188925</td>\n",
       "    </tr>\n",
       "    <tr>\n",
       "      <th>4</th>\n",
       "      <td>SVC</td>\n",
       "      <td>0.907801</td>\n",
       "      <td>0.201493</td>\n",
       "    </tr>\n",
       "    <tr>\n",
       "      <th>5</th>\n",
       "      <td>QSVC</td>\n",
       "      <td>0.970480</td>\n",
       "      <td>0.171975</td>\n",
       "    </tr>\n",
       "  </tbody>\n",
       "</table>\n",
       "</div>"
      ],
      "text/plain": [
       "                 model  prec_train  prec_test\n",
       "0        Decision Tree    0.939068   0.181507\n",
       "1  Logistic Regression    0.500000   0.030500\n",
       "2          Naive Bayes    0.819495   0.108696\n",
       "3        Random Forest    0.943463   0.188925\n",
       "4                  SVC    0.907801   0.201493\n",
       "5                 QSVC    0.970480   0.171975"
      ]
     },
     "execution_count": 13,
     "metadata": {},
     "output_type": "execute_result"
    }
   ],
   "source": [
    "prec = df[[\"model\", \"prec_train\", \"prec_test\"]]\n",
    "prec"
   ]
  },
  {
   "cell_type": "code",
   "execution_count": 14,
   "id": "66b52732",
   "metadata": {},
   "outputs": [
    {
     "data": {
      "text/html": [
       "<div>\n",
       "<style scoped>\n",
       "    .dataframe tbody tr th:only-of-type {\n",
       "        vertical-align: middle;\n",
       "    }\n",
       "\n",
       "    .dataframe tbody tr th {\n",
       "        vertical-align: top;\n",
       "    }\n",
       "\n",
       "    .dataframe thead th {\n",
       "        text-align: right;\n",
       "    }\n",
       "</style>\n",
       "<table border=\"1\" class=\"dataframe\">\n",
       "  <thead>\n",
       "    <tr style=\"text-align: right;\">\n",
       "      <th></th>\n",
       "      <th>model</th>\n",
       "      <th>recall_train</th>\n",
       "      <th>recall_test</th>\n",
       "    </tr>\n",
       "  </thead>\n",
       "  <tbody>\n",
       "    <tr>\n",
       "      <th>0</th>\n",
       "      <td>Decision Tree</td>\n",
       "      <td>0.942446</td>\n",
       "      <td>0.868852</td>\n",
       "    </tr>\n",
       "    <tr>\n",
       "      <th>1</th>\n",
       "      <td>Logistic Regression</td>\n",
       "      <td>1.000000</td>\n",
       "      <td>1.000000</td>\n",
       "    </tr>\n",
       "    <tr>\n",
       "      <th>2</th>\n",
       "      <td>Naive Bayes</td>\n",
       "      <td>0.816547</td>\n",
       "      <td>0.737705</td>\n",
       "    </tr>\n",
       "    <tr>\n",
       "      <th>3</th>\n",
       "      <td>Random Forest</td>\n",
       "      <td>0.960432</td>\n",
       "      <td>0.950820</td>\n",
       "    </tr>\n",
       "    <tr>\n",
       "      <th>4</th>\n",
       "      <td>SVC</td>\n",
       "      <td>0.920863</td>\n",
       "      <td>0.885246</td>\n",
       "    </tr>\n",
       "    <tr>\n",
       "      <th>5</th>\n",
       "      <td>QSVC</td>\n",
       "      <td>0.946043</td>\n",
       "      <td>0.885246</td>\n",
       "    </tr>\n",
       "  </tbody>\n",
       "</table>\n",
       "</div>"
      ],
      "text/plain": [
       "                 model  recall_train  recall_test\n",
       "0        Decision Tree      0.942446     0.868852\n",
       "1  Logistic Regression      1.000000     1.000000\n",
       "2          Naive Bayes      0.816547     0.737705\n",
       "3        Random Forest      0.960432     0.950820\n",
       "4                  SVC      0.920863     0.885246\n",
       "5                 QSVC      0.946043     0.885246"
      ]
     },
     "execution_count": 14,
     "metadata": {},
     "output_type": "execute_result"
    }
   ],
   "source": [
    "recall = df[[\"model\", \"recall_train\", \"recall_test\"]]\n",
    "recall"
   ]
  },
  {
   "cell_type": "markdown",
   "id": "feaa971c",
   "metadata": {},
   "source": [
    "### Confusion Matrix Report"
   ]
  },
  {
   "cell_type": "code",
   "execution_count": 15,
   "id": "5228118c",
   "metadata": {},
   "outputs": [
    {
     "data": {
      "text/plain": [
       "['nb.png',\n",
       " 'lr.png',\n",
       " '.ipynb_checkpoints',\n",
       " 'decision_tree.png',\n",
       " 'rf.png',\n",
       " 'svc.png',\n",
       " 'qsvc.png']"
      ]
     },
     "execution_count": 15,
     "metadata": {},
     "output_type": "execute_result"
    }
   ],
   "source": [
    "conf_list = os.listdir(\"conf\")\n",
    "for conf in conf_list:\n",
    "    if \"png\" not in conf:\n",
    "        conf_list.remove(conf)\n",
    "conf_list"
   ]
  },
  {
   "cell_type": "code",
   "execution_count": 16,
   "id": "b95a9b02",
   "metadata": {},
   "outputs": [
    {
     "data": {
      "text/plain": [
       "['conf/nb.png',\n",
       " 'conf/lr.png',\n",
       " '.ipynb_checkpoints',\n",
       " 'conf/decision_tree.png',\n",
       " 'conf/rf.png',\n",
       " 'conf/svc.png',\n",
       " 'conf/qsvc.png']"
      ]
     },
     "execution_count": 16,
     "metadata": {},
     "output_type": "execute_result"
    }
   ],
   "source": [
    "for i in range(len(conf_list)):\n",
    "    if \".png\" in conf_list[i]:\n",
    "        conf_list[i] = \"conf/\" + conf_list[i]\n",
    "conf_list"
   ]
  },
  {
   "cell_type": "code",
   "execution_count": 17,
   "id": "92f59993",
   "metadata": {},
   "outputs": [],
   "source": [
    "conf_list.append(\"conf/pegasos_conf_test/100_500.png\")\n",
    "conf_list.append(\"vqc_conf/vqc_best.png\")"
   ]
  },
  {
   "cell_type": "code",
   "execution_count": 18,
   "id": "877b1e1e",
   "metadata": {},
   "outputs": [
    {
     "data": {
      "text/plain": [
       "['conf/nb.png',\n",
       " 'conf/lr.png',\n",
       " 'conf/decision_tree.png',\n",
       " 'conf/rf.png',\n",
       " 'conf/svc.png',\n",
       " 'conf/qsvc.png',\n",
       " 'conf/pegasos_conf_test/100_500.png',\n",
       " 'vqc_conf/vqc_best.png']"
      ]
     },
     "execution_count": 18,
     "metadata": {},
     "output_type": "execute_result"
    }
   ],
   "source": [
    "conf_list.remove(\".ipynb_checkpoints\")\n",
    "conf_list"
   ]
  },
  {
   "cell_type": "markdown",
   "id": "7a1fce75",
   "metadata": {},
   "source": [
    "### SVC Family Report"
   ]
  },
  {
   "cell_type": "code",
   "execution_count": 19,
   "id": "e2ae5837",
   "metadata": {},
   "outputs": [],
   "source": [
    "feature_list = os.listdir(\"results/runtime_features/\")\n",
    "feature_df = pd.DataFrame()\n",
    "for data in feature_list:\n",
    "    if \".csv\" in data:\n",
    "        new_df = pd.read_csv(\"results/runtime_features/\" + data)\n",
    "        feature_df = pd.concat([feature_df, new_df], axis = 0).reset_index(drop=True)"
   ]
  },
  {
   "cell_type": "code",
   "execution_count": 24,
   "id": "2396bfcb",
   "metadata": {},
   "outputs": [],
   "source": [
    "def svc_chart_gen_features():\n",
    "    svc = feature_df[feature_df[\"model\"].isin([\"SVC_linear\", \"SVC_rbf\"])]\n",
    "    qsvc = feature_df[feature_df[\"model\"]==\"QSVC\"]\n",
    "    pegasos_qsvc = feature_df[feature_df[\"model\"] ==\"Pegasos QSVC\"]\n",
    "    \n",
    "    fig, axes = plt.subplots(nrows=2, ncols=1, figsize = (20, 10))\n",
    "    sns.lineplot(x = \"num_features\", y = \"runtime\", data = svc, hue = \"model\", ax = axes[0], marker=\"o\")\n",
    "    ax=axes[0]\n",
    "    ax.set_title(\"SVC - Runtime vs Number of Features\")\n",
    "    ax.set_ylabel(\"Runtime\", fontsize=10)\n",
    "    ax.set_xlabel(\"Number of Features\", fontsize=10)\n",
    "    sns.lineplot(x = \"num_features\", y = \"runtime\", data = qsvc, ax = axes[1], marker=\"o\")\n",
    "    ax = axes[1]\n",
    "    ax.set_title(\"QSVC - Runtime vs Number of Features\")\n",
    "    ax.set_ylabel(\"Runtime\", fontsize=10)\n",
    "    ax.set_xlabel(\"Number of Features\", fontsize=10)\n",
    "    #sns.lineplot(x = \"num_features\", y = \"runtime\", data = pegasos_qsvc, ax = axes[1], marker=\"o\")\n",
    "    #ax = axes[1]\n",
    "    #ax.set_title(\"Pegasos QSVC - Runtime vs Number of Features\")\n",
    "    #ax.set_ylabel(\"Runtime\", fontsize=10)\n",
    "    #ax.set_xlabel(\"Number of Features\", fontsize=10)"
   ]
  },
  {
   "cell_type": "code",
   "execution_count": 25,
   "id": "3478b236",
   "metadata": {},
   "outputs": [
    {
     "data": {
      "image/png": "[encoded data removed]",
      "text/plain": [
       "<Figure size 1440x720 with 2 Axes>"
      ]
     },
     "metadata": {
      "needs_background": "light"
     },
     "output_type": "display_data"
    }
   ],
   "source": [
    "svc_chart_gen_features()"
   ]
  },
  {
   "cell_type": "code",
   "execution_count": 28,
   "id": "f50554a1",
   "metadata": {},
   "outputs": [],
   "source": [
    "size_list = os.listdir(\"results/runtime_size/\")\n",
    "size_df = pd.DataFrame()\n",
    "for data in size_list:\n",
    "    if \".csv\" in data:\n",
    "        new_df = pd.read_csv(\"results/runtime_size/\" + data)\n",
    "        size_df = pd.concat([size_df, new_df], axis = 0).reset_index(drop=True)"
   ]
  },
  {
   "cell_type": "code",
   "execution_count": 29,
   "id": "057f9205",
   "metadata": {},
   "outputs": [
    {
     "data": {
      "text/html": [
       "<div>\n",
       "<style scoped>\n",
       "    .dataframe tbody tr th:only-of-type {\n",
       "        vertical-align: middle;\n",
       "    }\n",
       "\n",
       "    .dataframe tbody tr th {\n",
       "        vertical-align: top;\n",
       "    }\n",
       "\n",
       "    .dataframe thead th {\n",
       "        text-align: right;\n",
       "    }\n",
       "</style>\n",
       "<table border=\"1\" class=\"dataframe\">\n",
       "  <thead>\n",
       "    <tr style=\"text-align: right;\">\n",
       "      <th></th>\n",
       "      <th>size</th>\n",
       "      <th>model</th>\n",
       "      <th>runtime</th>\n",
       "    </tr>\n",
       "  </thead>\n",
       "  <tbody>\n",
       "    <tr>\n",
       "      <th>0</th>\n",
       "      <td>55.6</td>\n",
       "      <td>SVC_linear</td>\n",
       "      <td>0.026839</td>\n",
       "    </tr>\n",
       "    <tr>\n",
       "      <th>1</th>\n",
       "      <td>111.2</td>\n",
       "      <td>SVC_linear</td>\n",
       "      <td>0.003774</td>\n",
       "    </tr>\n",
       "    <tr>\n",
       "      <th>2</th>\n",
       "      <td>166.8</td>\n",
       "      <td>SVC_linear</td>\n",
       "      <td>0.004180</td>\n",
       "    </tr>\n",
       "    <tr>\n",
       "      <th>3</th>\n",
       "      <td>222.4</td>\n",
       "      <td>SVC_linear</td>\n",
       "      <td>0.005017</td>\n",
       "    </tr>\n",
       "    <tr>\n",
       "      <th>4</th>\n",
       "      <td>278.0</td>\n",
       "      <td>SVC_linear</td>\n",
       "      <td>0.005655</td>\n",
       "    </tr>\n",
       "    <tr>\n",
       "      <th>5</th>\n",
       "      <td>333.6</td>\n",
       "      <td>SVC_linear</td>\n",
       "      <td>0.006479</td>\n",
       "    </tr>\n",
       "    <tr>\n",
       "      <th>6</th>\n",
       "      <td>389.2</td>\n",
       "      <td>SVC_linear</td>\n",
       "      <td>0.007589</td>\n",
       "    </tr>\n",
       "    <tr>\n",
       "      <th>7</th>\n",
       "      <td>444.8</td>\n",
       "      <td>SVC_linear</td>\n",
       "      <td>0.009057</td>\n",
       "    </tr>\n",
       "    <tr>\n",
       "      <th>8</th>\n",
       "      <td>500.4</td>\n",
       "      <td>SVC_linear</td>\n",
       "      <td>0.009817</td>\n",
       "    </tr>\n",
       "    <tr>\n",
       "      <th>9</th>\n",
       "      <td>556.0</td>\n",
       "      <td>SVC_linear</td>\n",
       "      <td>0.011176</td>\n",
       "    </tr>\n",
       "    <tr>\n",
       "      <th>10</th>\n",
       "      <td>55.6</td>\n",
       "      <td>SVC_rbf</td>\n",
       "      <td>0.002975</td>\n",
       "    </tr>\n",
       "    <tr>\n",
       "      <th>11</th>\n",
       "      <td>111.2</td>\n",
       "      <td>SVC_rbf</td>\n",
       "      <td>0.002617</td>\n",
       "    </tr>\n",
       "    <tr>\n",
       "      <th>12</th>\n",
       "      <td>166.8</td>\n",
       "      <td>SVC_rbf</td>\n",
       "      <td>0.003219</td>\n",
       "    </tr>\n",
       "    <tr>\n",
       "      <th>13</th>\n",
       "      <td>222.4</td>\n",
       "      <td>SVC_rbf</td>\n",
       "      <td>0.004010</td>\n",
       "    </tr>\n",
       "    <tr>\n",
       "      <th>14</th>\n",
       "      <td>278.0</td>\n",
       "      <td>SVC_rbf</td>\n",
       "      <td>0.005165</td>\n",
       "    </tr>\n",
       "    <tr>\n",
       "      <th>15</th>\n",
       "      <td>333.6</td>\n",
       "      <td>SVC_rbf</td>\n",
       "      <td>0.006485</td>\n",
       "    </tr>\n",
       "    <tr>\n",
       "      <th>16</th>\n",
       "      <td>389.2</td>\n",
       "      <td>SVC_rbf</td>\n",
       "      <td>0.007906</td>\n",
       "    </tr>\n",
       "    <tr>\n",
       "      <th>17</th>\n",
       "      <td>444.8</td>\n",
       "      <td>SVC_rbf</td>\n",
       "      <td>0.008922</td>\n",
       "    </tr>\n",
       "    <tr>\n",
       "      <th>18</th>\n",
       "      <td>500.4</td>\n",
       "      <td>SVC_rbf</td>\n",
       "      <td>0.010397</td>\n",
       "    </tr>\n",
       "    <tr>\n",
       "      <th>19</th>\n",
       "      <td>556.0</td>\n",
       "      <td>SVC_rbf</td>\n",
       "      <td>0.013288</td>\n",
       "    </tr>\n",
       "    <tr>\n",
       "      <th>20</th>\n",
       "      <td>55.6</td>\n",
       "      <td>QSVC</td>\n",
       "      <td>18.367399</td>\n",
       "    </tr>\n",
       "    <tr>\n",
       "      <th>21</th>\n",
       "      <td>111.2</td>\n",
       "      <td>QSVC</td>\n",
       "      <td>67.811210</td>\n",
       "    </tr>\n",
       "    <tr>\n",
       "      <th>22</th>\n",
       "      <td>166.8</td>\n",
       "      <td>QSVC</td>\n",
       "      <td>158.467486</td>\n",
       "    </tr>\n",
       "    <tr>\n",
       "      <th>23</th>\n",
       "      <td>222.4</td>\n",
       "      <td>QSVC</td>\n",
       "      <td>295.564635</td>\n",
       "    </tr>\n",
       "    <tr>\n",
       "      <th>24</th>\n",
       "      <td>278.0</td>\n",
       "      <td>QSVC</td>\n",
       "      <td>472.277702</td>\n",
       "    </tr>\n",
       "    <tr>\n",
       "      <th>25</th>\n",
       "      <td>333.6</td>\n",
       "      <td>QSVC</td>\n",
       "      <td>687.148776</td>\n",
       "    </tr>\n",
       "    <tr>\n",
       "      <th>26</th>\n",
       "      <td>389.2</td>\n",
       "      <td>QSVC</td>\n",
       "      <td>916.583293</td>\n",
       "    </tr>\n",
       "    <tr>\n",
       "      <th>27</th>\n",
       "      <td>444.8</td>\n",
       "      <td>QSVC</td>\n",
       "      <td>1215.597867</td>\n",
       "    </tr>\n",
       "    <tr>\n",
       "      <th>28</th>\n",
       "      <td>500.4</td>\n",
       "      <td>QSVC</td>\n",
       "      <td>1573.276823</td>\n",
       "    </tr>\n",
       "    <tr>\n",
       "      <th>29</th>\n",
       "      <td>556.0</td>\n",
       "      <td>QSVC</td>\n",
       "      <td>2005.253444</td>\n",
       "    </tr>\n",
       "  </tbody>\n",
       "</table>\n",
       "</div>"
      ],
      "text/plain": [
       "     size       model      runtime\n",
       "0    55.6  SVC_linear     0.026839\n",
       "1   111.2  SVC_linear     0.003774\n",
       "2   166.8  SVC_linear     0.004180\n",
       "3   222.4  SVC_linear     0.005017\n",
       "4   278.0  SVC_linear     0.005655\n",
       "5   333.6  SVC_linear     0.006479\n",
       "6   389.2  SVC_linear     0.007589\n",
       "7   444.8  SVC_linear     0.009057\n",
       "8   500.4  SVC_linear     0.009817\n",
       "9   556.0  SVC_linear     0.011176\n",
       "10   55.6     SVC_rbf     0.002975\n",
       "11  111.2     SVC_rbf     0.002617\n",
       "12  166.8     SVC_rbf     0.003219\n",
       "13  222.4     SVC_rbf     0.004010\n",
       "14  278.0     SVC_rbf     0.005165\n",
       "15  333.6     SVC_rbf     0.006485\n",
       "16  389.2     SVC_rbf     0.007906\n",
       "17  444.8     SVC_rbf     0.008922\n",
       "18  500.4     SVC_rbf     0.010397\n",
       "19  556.0     SVC_rbf     0.013288\n",
       "20   55.6        QSVC    18.367399\n",
       "21  111.2        QSVC    67.811210\n",
       "22  166.8        QSVC   158.467486\n",
       "23  222.4        QSVC   295.564635\n",
       "24  278.0        QSVC   472.277702\n",
       "25  333.6        QSVC   687.148776\n",
       "26  389.2        QSVC   916.583293\n",
       "27  444.8        QSVC  1215.597867\n",
       "28  500.4        QSVC  1573.276823\n",
       "29  556.0        QSVC  2005.253444"
      ]
     },
     "execution_count": 29,
     "metadata": {},
     "output_type": "execute_result"
    }
   ],
   "source": [
    "size_df"
   ]
  },
  {
   "cell_type": "code",
   "execution_count": 33,
   "id": "0fc8c638",
   "metadata": {},
   "outputs": [],
   "source": [
    "def svc_chart_gen_size():\n",
    "    svc = size_df[size_df[\"model\"].isin([\"SVC_linear\", \"SVC_rbf\"])]\n",
    "    qsvc = size_df[size_df[\"model\"]==\"QSVC\"]\n",
    "    pegasos_qsvc = size_df[size_df[\"model\"] ==\"Pegasos QSVC\"]\n",
    "    \n",
    "    fig, axes = plt.subplots(nrows=2, ncols=1, figsize = (20, 10))\n",
    "    sns.lineplot(x = \"size\", y = \"runtime\", data = svc, hue = \"model\", ax = axes[0], marker = \"o\")\n",
    "    ax=axes[0]\n",
    "    ax.set_title(\"SVC - Runtime vs Number of observations\")\n",
    "    ax.set_ylabel(\"Runtime\", fontsize=10)\n",
    "    ax.set_xlabel(\"Number of observations\", fontsize=10)\n",
    "    sns.lineplot(x = \"size\", y = \"runtime\", data = qsvc, ax = axes[1], marker=\"o\")\n",
    "    ax = axes[1]\n",
    "    ax.set_title(\"QSVC - Runtime vs Number of Features\")\n",
    "    ax.set_ylabel(\"Runtime\", fontsize=10)\n",
    "    ax.set_xlabel(\"Number of observations\", fontsize=10)\n",
    "    #sns.lineplot(x = \"size\", y = \"runtime\", data = pegasos_qsvc, ax = axes[1], marker=\"o\")\n",
    "    #ax = axes[1]\n",
    "    #ax.set_title(\"Pegasos QSVC - Runtime vs Number of observations\")\n",
    "    #ax.set_ylabel(\"Runtime\", fontsize=10)\n",
    "    #ax.set_xlabel(\"Number of observations\", fontsize=10)"
   ]
  },
  {
   "cell_type": "code",
   "execution_count": 34,
   "id": "c17e8288",
   "metadata": {},
   "outputs": [
    {
     "data": {
      "image/png": "[encoded data removed]",
      "text/plain": [
       "<Figure size 1440x720 with 2 Axes>"
      ]
     },
     "metadata": {
      "needs_background": "light"
     },
     "output_type": "display_data"
    }
   ],
   "source": [
    "svc_chart_gen_size()"
   ]
  },
  {
   "cell_type": "markdown",
   "id": "0485293e",
   "metadata": {},
   "source": [
    "### VQC Report"
   ]
  },
  {
   "cell_type": "code",
   "execution_count": 21,
   "id": "362a9bfc",
   "metadata": {},
   "outputs": [],
   "source": [
    "vqc_feature_list = os.listdir(\"vqc_results/runtime_features/\")\n",
    "vqc_feature_df = pd.DataFrame()\n",
    "for data in vqc_feature_list:\n",
    "    if \".csv\" in data:\n",
    "        new_df = pd.read_csv(\"vqc_results/runtime_features/\" + data)\n",
    "        vqc_feature_df = pd.concat([vqc_feature_df, new_df], axis = 0).reset_index(drop=True)"
   ]
  },
  {
   "cell_type": "code",
   "execution_count": 22,
   "id": "fdebd4b9",
   "metadata": {},
   "outputs": [
    {
     "data": {
      "text/html": [
       "<div>\n",
       "<style scoped>\n",
       "    .dataframe tbody tr th:only-of-type {\n",
       "        vertical-align: middle;\n",
       "    }\n",
       "\n",
       "    .dataframe tbody tr th {\n",
       "        vertical-align: top;\n",
       "    }\n",
       "\n",
       "    .dataframe thead th {\n",
       "        text-align: right;\n",
       "    }\n",
       "</style>\n",
       "<table border=\"1\" class=\"dataframe\">\n",
       "  <thead>\n",
       "    <tr style=\"text-align: right;\">\n",
       "      <th></th>\n",
       "      <th>num_features</th>\n",
       "      <th>model</th>\n",
       "      <th>runtime</th>\n",
       "    </tr>\n",
       "  </thead>\n",
       "  <tbody>\n",
       "    <tr>\n",
       "      <th>0</th>\n",
       "      <td>2.0</td>\n",
       "      <td>vqc_su2_cobyla</td>\n",
       "      <td>2716.385718</td>\n",
       "    </tr>\n",
       "    <tr>\n",
       "      <th>1</th>\n",
       "      <td>3.0</td>\n",
       "      <td>vqc_su2_cobyla</td>\n",
       "      <td>4082.625291</td>\n",
       "    </tr>\n",
       "    <tr>\n",
       "      <th>2</th>\n",
       "      <td>4.0</td>\n",
       "      <td>vqc_su2_cobyla</td>\n",
       "      <td>5875.295516</td>\n",
       "    </tr>\n",
       "    <tr>\n",
       "      <th>3</th>\n",
       "      <td>5.0</td>\n",
       "      <td>vqc_su2_cobyla</td>\n",
       "      <td>10320.964926</td>\n",
       "    </tr>\n",
       "    <tr>\n",
       "      <th>4</th>\n",
       "      <td>6.0</td>\n",
       "      <td>vqc_su2_cobyla</td>\n",
       "      <td>13960.750234</td>\n",
       "    </tr>\n",
       "    <tr>\n",
       "      <th>5</th>\n",
       "      <td>7.0</td>\n",
       "      <td>vqc_su2_cobyla</td>\n",
       "      <td>18583.640273</td>\n",
       "    </tr>\n",
       "    <tr>\n",
       "      <th>6</th>\n",
       "      <td>8.0</td>\n",
       "      <td>vqc_su2_cobyla</td>\n",
       "      <td>28602.946099</td>\n",
       "    </tr>\n",
       "  </tbody>\n",
       "</table>\n",
       "</div>"
      ],
      "text/plain": [
       "   num_features           model       runtime\n",
       "0           2.0  vqc_su2_cobyla   2716.385718\n",
       "1           3.0  vqc_su2_cobyla   4082.625291\n",
       "2           4.0  vqc_su2_cobyla   5875.295516\n",
       "3           5.0  vqc_su2_cobyla  10320.964926\n",
       "4           6.0  vqc_su2_cobyla  13960.750234\n",
       "5           7.0  vqc_su2_cobyla  18583.640273\n",
       "6           8.0  vqc_su2_cobyla  28602.946099"
      ]
     },
     "execution_count": 22,
     "metadata": {},
     "output_type": "execute_result"
    }
   ],
   "source": [
    "vqc_feature_df"
   ]
  },
  {
   "cell_type": "code",
   "execution_count": 23,
   "id": "84599162",
   "metadata": {},
   "outputs": [
    {
     "data": {
      "image/png": "[encoded data removed]",
      "text/plain": [
       "<Figure size 1440x720 with 1 Axes>"
      ]
     },
     "metadata": {
      "needs_background": "light"
     },
     "output_type": "display_data"
    }
   ],
   "source": [
    "plt.figure(figsize=(20,10))\n",
    "sns.lineplot(x = \"num_features\", y = \"runtime\", data = vqc_feature_df, marker = \"o\")\n",
    "#ax = axes[1]\n",
    "plt.title(\"VQC - Runtime vs Number of features\")\n",
    "plt.ylabel(\"Runtime\", fontsize=10)\n",
    "plt.xlabel(\"Number of features\", fontsize=10)\n",
    "plt.show();"
   ]
  },
  {
   "cell_type": "code",
   "execution_count": 24,
   "id": "26c780b2",
   "metadata": {},
   "outputs": [],
   "source": [
    "vqc_size_list = os.listdir(\"vqc_results/runtime_size/\")\n",
    "vqc_size_df = pd.DataFrame()\n",
    "for data in vqc_size_list:\n",
    "    if \".csv\" in data:\n",
    "        new_df = pd.read_csv(\"vqc_results/runtime_size/\" + data)\n",
    "        vqc_size_df = pd.concat([vqc_size_df, new_df], axis = 0).reset_index(drop=True)"
   ]
  },
  {
   "cell_type": "code",
   "execution_count": 25,
   "id": "ddf141ca",
   "metadata": {},
   "outputs": [
    {
     "data": {
      "image/png": "[encoded data removed]",
      "text/plain": [
       "<Figure size 1440x720 with 1 Axes>"
      ]
     },
     "metadata": {
      "needs_background": "light"
     },
     "output_type": "display_data"
    }
   ],
   "source": [
    "plt.figure(figsize=(20,10))\n",
    "sns.lineplot(x = \"size\", y = \"runtime\", data = vqc_size_df, marker=\"o\")\n",
    "#ax = axes[1]\n",
    "plt.title(\"VQC - Runtime vs Number of observations\")\n",
    "plt.ylabel(\"Runtime\", fontsize=10)\n",
    "plt.xlabel(\"Number of observations\", fontsize=10)\n",
    "plt.show();"
   ]
  },
  {
   "cell_type": "code",
   "execution_count": null,
   "id": "7a60f72d",
   "metadata": {},
   "outputs": [],
   "source": []
  }
 ],
 "metadata": {
  "kernelspec": {
   "display_name": "Python 3 (ipykernel)",
   "language": "python",
   "name": "python3"
  },
  "language_info": {
   "codemirror_mode": {
    "name": "ipython",
    "version": 3
   },
   "file_extension": ".py",
   "mimetype": "text/x-python",
   "name": "python",
   "nbconvert_exporter": "python",
   "pygments_lexer": "ipython3",
   "version": "3.9.12"
  }
 },
 "nbformat": 4,
 "nbformat_minor": 5
}

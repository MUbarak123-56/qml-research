{
 "cells": [
  {
   "cell_type": "code",
   "execution_count": 4,
   "id": "c26d5227",
   "metadata": {},
   "outputs": [],
   "source": [
    "import pandas as pd\n",
    "from itertools import product\n",
    "import time\n",
    "from qiskit.circuit.library import PauliFeatureMap\n",
    "from qiskit_machine_learning.algorithms import PegasosQSVC\n",
    "from qiskit_machine_learning.kernels import FidelityQuantumKernel\n",
    "from qiskit.utils import algorithm_globals\n",
    "import numpy as np\n"
   ]
  },
  {
   "cell_type": "code",
   "execution_count": 2,
   "id": "7eaaa1c3",
   "metadata": {},
   "outputs": [],
   "source": [
    "train = pd.read_csv(\"../data/train_fe.csv\")\n",
    "\n",
    "cols = ['total_day_minutes', 'total_day_calls','total_intl_charge', 'customer_service_calls', 'account_length','number_vmail_messages', \n",
    "        'region_South', 'region_West','churn']"
   ]
  },
  {
   "cell_type": "code",
   "execution_count": 6,
   "id": "fa07f7b7",
   "metadata": {},
   "outputs": [],
   "source": [
    "train = train[cols]\n",
    "x_train, y_train = train.drop(\"churn\", axis = 1), train[\"churn\"]\n",
    "x_train=np.array(x_train)\n",
    "y_train=np.array(y_train)"
   ]
  },
  {
   "cell_type": "code",
   "execution_count": 7,
   "id": "ea257ab6",
   "metadata": {},
   "outputs": [],
   "source": [
    "train_features= x_train\n",
    "train_labels=y_train\n"
   ]
  },
  {
   "cell_type": "code",
   "execution_count": 10,
   "id": "435fbe52",
   "metadata": {},
   "outputs": [],
   "source": [
    "num_qubits=len(cols)-1\n",
    "taus = [1, 10, 20, 50, 100]\n",
    "Cs = [10, 100, 200, 500, 1000]"
   ]
  },
  {
   "cell_type": "code",
   "execution_count": 14,
   "id": "aad4700e",
   "metadata": {},
   "outputs": [],
   "source": [
    "def pegasos_qsvc_runtime(train_features, train_labels, num_qubits, taus, Cs):\n",
    "    algorithm_globals.random_seed = 12345\n",
    "\n",
    "    # Define the feature map\n",
    "    feature_map = PauliFeatureMap(feature_dimension=num_qubits, reps=1, paulis=['ZZ'])\n",
    "\n",
    "    # Define the quantum kernel\n",
    "    qkernel = FidelityQuantumKernel(feature_map=feature_map)\n",
    "\n",
    "    results = pd.DataFrame()\n",
    "\n",
    "    # Loop over all combinations of hyperparameters\n",
    "    for tau, C in product(taus, Cs):\n",
    "        pegasos_qsvc = PegasosQSVC(quantum_kernel=qkernel, C=C, num_steps=tau)\n",
    "\n",
    "        start_time = time.time()\n",
    "        pegasos_qsvc.fit(train_features, train_labels)\n",
    "        elapsed = time.time() - start_time\n",
    "        #pegasos_score = pegasos_qsvc.score(test_features, test_labels)\n",
    "\n",
    "        # Store the results\n",
    "        results = results.append({\n",
    "            'Tau': tau,\n",
    "            'C': C,\n",
    "            'Training Time': round(elapsed, 2)\n",
    "        }, ignore_index=True)\n",
    "\n",
    "        print(f\"Tau: {tau}, C: {C}, Training Time: {round(elapsed, 2)}\")\n",
    "\n",
    "    \n",
    "    return results"
   ]
  },
  {
   "cell_type": "code",
   "execution_count": 15,
   "id": "05f7fc9e",
   "metadata": {},
   "outputs": [
    {
     "name": "stderr",
     "output_type": "stream",
     "text": [
      "/var/folders/yx/qcvz185n7vxgmvbkvq6d8n2c0000gn/T/ipykernel_50909/3600674513.py:22: FutureWarning: The frame.append method is deprecated and will be removed from pandas in a future version. Use pandas.concat instead.\n",
      "  results = results.append({\n",
      "/var/folders/yx/qcvz185n7vxgmvbkvq6d8n2c0000gn/T/ipykernel_50909/3600674513.py:22: FutureWarning: The frame.append method is deprecated and will be removed from pandas in a future version. Use pandas.concat instead.\n",
      "  results = results.append({\n",
      "/var/folders/yx/qcvz185n7vxgmvbkvq6d8n2c0000gn/T/ipykernel_50909/3600674513.py:22: FutureWarning: The frame.append method is deprecated and will be removed from pandas in a future version. Use pandas.concat instead.\n",
      "  results = results.append({\n",
      "/var/folders/yx/qcvz185n7vxgmvbkvq6d8n2c0000gn/T/ipykernel_50909/3600674513.py:22: FutureWarning: The frame.append method is deprecated and will be removed from pandas in a future version. Use pandas.concat instead.\n",
      "  results = results.append({\n",
      "/var/folders/yx/qcvz185n7vxgmvbkvq6d8n2c0000gn/T/ipykernel_50909/3600674513.py:22: FutureWarning: The frame.append method is deprecated and will be removed from pandas in a future version. Use pandas.concat instead.\n",
      "  results = results.append({\n"
     ]
    },
    {
     "name": "stdout",
     "output_type": "stream",
     "text": [
      "Tau: 1, C: 10, Training Time: 0.01\n",
      "Tau: 1, C: 100, Training Time: 0.0\n",
      "Tau: 1, C: 200, Training Time: 0.01\n",
      "Tau: 1, C: 500, Training Time: 0.0\n",
      "Tau: 1, C: 1000, Training Time: 0.0\n"
     ]
    },
    {
     "name": "stderr",
     "output_type": "stream",
     "text": [
      "/var/folders/yx/qcvz185n7vxgmvbkvq6d8n2c0000gn/T/ipykernel_50909/3600674513.py:22: FutureWarning: The frame.append method is deprecated and will be removed from pandas in a future version. Use pandas.concat instead.\n",
      "  results = results.append({\n"
     ]
    },
    {
     "name": "stdout",
     "output_type": "stream",
     "text": [
      "Tau: 10, C: 10, Training Time: 2.17\n"
     ]
    },
    {
     "name": "stderr",
     "output_type": "stream",
     "text": [
      "/var/folders/yx/qcvz185n7vxgmvbkvq6d8n2c0000gn/T/ipykernel_50909/3600674513.py:22: FutureWarning: The frame.append method is deprecated and will be removed from pandas in a future version. Use pandas.concat instead.\n",
      "  results = results.append({\n"
     ]
    },
    {
     "name": "stdout",
     "output_type": "stream",
     "text": [
      "Tau: 10, C: 100, Training Time: 0.74\n"
     ]
    },
    {
     "name": "stderr",
     "output_type": "stream",
     "text": [
      "/var/folders/yx/qcvz185n7vxgmvbkvq6d8n2c0000gn/T/ipykernel_50909/3600674513.py:22: FutureWarning: The frame.append method is deprecated and will be removed from pandas in a future version. Use pandas.concat instead.\n",
      "  results = results.append({\n"
     ]
    },
    {
     "name": "stdout",
     "output_type": "stream",
     "text": [
      "Tau: 10, C: 200, Training Time: 1.78\n"
     ]
    },
    {
     "name": "stderr",
     "output_type": "stream",
     "text": [
      "/var/folders/yx/qcvz185n7vxgmvbkvq6d8n2c0000gn/T/ipykernel_50909/3600674513.py:22: FutureWarning: The frame.append method is deprecated and will be removed from pandas in a future version. Use pandas.concat instead.\n",
      "  results = results.append({\n"
     ]
    },
    {
     "name": "stdout",
     "output_type": "stream",
     "text": [
      "Tau: 10, C: 500, Training Time: 2.5\n"
     ]
    },
    {
     "name": "stderr",
     "output_type": "stream",
     "text": [
      "/var/folders/yx/qcvz185n7vxgmvbkvq6d8n2c0000gn/T/ipykernel_50909/3600674513.py:22: FutureWarning: The frame.append method is deprecated and will be removed from pandas in a future version. Use pandas.concat instead.\n",
      "  results = results.append({\n"
     ]
    },
    {
     "name": "stdout",
     "output_type": "stream",
     "text": [
      "Tau: 10, C: 1000, Training Time: 0.76\n"
     ]
    },
    {
     "name": "stderr",
     "output_type": "stream",
     "text": [
      "/var/folders/yx/qcvz185n7vxgmvbkvq6d8n2c0000gn/T/ipykernel_50909/3600674513.py:22: FutureWarning: The frame.append method is deprecated and will be removed from pandas in a future version. Use pandas.concat instead.\n",
      "  results = results.append({\n"
     ]
    },
    {
     "name": "stdout",
     "output_type": "stream",
     "text": [
      "Tau: 20, C: 10, Training Time: 10.29\n"
     ]
    },
    {
     "name": "stderr",
     "output_type": "stream",
     "text": [
      "/var/folders/yx/qcvz185n7vxgmvbkvq6d8n2c0000gn/T/ipykernel_50909/3600674513.py:22: FutureWarning: The frame.append method is deprecated and will be removed from pandas in a future version. Use pandas.concat instead.\n",
      "  results = results.append({\n"
     ]
    },
    {
     "name": "stdout",
     "output_type": "stream",
     "text": [
      "Tau: 20, C: 100, Training Time: 5.2\n"
     ]
    },
    {
     "name": "stderr",
     "output_type": "stream",
     "text": [
      "/var/folders/yx/qcvz185n7vxgmvbkvq6d8n2c0000gn/T/ipykernel_50909/3600674513.py:22: FutureWarning: The frame.append method is deprecated and will be removed from pandas in a future version. Use pandas.concat instead.\n",
      "  results = results.append({\n"
     ]
    },
    {
     "name": "stdout",
     "output_type": "stream",
     "text": [
      "Tau: 20, C: 200, Training Time: 4.33\n"
     ]
    },
    {
     "name": "stderr",
     "output_type": "stream",
     "text": [
      "/var/folders/yx/qcvz185n7vxgmvbkvq6d8n2c0000gn/T/ipykernel_50909/3600674513.py:22: FutureWarning: The frame.append method is deprecated and will be removed from pandas in a future version. Use pandas.concat instead.\n",
      "  results = results.append({\n"
     ]
    },
    {
     "name": "stdout",
     "output_type": "stream",
     "text": [
      "Tau: 20, C: 500, Training Time: 7.76\n"
     ]
    },
    {
     "name": "stderr",
     "output_type": "stream",
     "text": [
      "/var/folders/yx/qcvz185n7vxgmvbkvq6d8n2c0000gn/T/ipykernel_50909/3600674513.py:22: FutureWarning: The frame.append method is deprecated and will be removed from pandas in a future version. Use pandas.concat instead.\n",
      "  results = results.append({\n"
     ]
    },
    {
     "name": "stdout",
     "output_type": "stream",
     "text": [
      "Tau: 20, C: 1000, Training Time: 2.15\n"
     ]
    },
    {
     "name": "stderr",
     "output_type": "stream",
     "text": [
      "/var/folders/yx/qcvz185n7vxgmvbkvq6d8n2c0000gn/T/ipykernel_50909/3600674513.py:22: FutureWarning: The frame.append method is deprecated and will be removed from pandas in a future version. Use pandas.concat instead.\n",
      "  results = results.append({\n"
     ]
    },
    {
     "name": "stdout",
     "output_type": "stream",
     "text": [
      "Tau: 50, C: 10, Training Time: 34.42\n"
     ]
    },
    {
     "name": "stderr",
     "output_type": "stream",
     "text": [
      "/var/folders/yx/qcvz185n7vxgmvbkvq6d8n2c0000gn/T/ipykernel_50909/3600674513.py:22: FutureWarning: The frame.append method is deprecated and will be removed from pandas in a future version. Use pandas.concat instead.\n",
      "  results = results.append({\n"
     ]
    },
    {
     "name": "stdout",
     "output_type": "stream",
     "text": [
      "Tau: 50, C: 100, Training Time: 26.37\n"
     ]
    },
    {
     "name": "stderr",
     "output_type": "stream",
     "text": [
      "/var/folders/yx/qcvz185n7vxgmvbkvq6d8n2c0000gn/T/ipykernel_50909/3600674513.py:22: FutureWarning: The frame.append method is deprecated and will be removed from pandas in a future version. Use pandas.concat instead.\n",
      "  results = results.append({\n"
     ]
    },
    {
     "name": "stdout",
     "output_type": "stream",
     "text": [
      "Tau: 50, C: 200, Training Time: 16.27\n"
     ]
    },
    {
     "name": "stderr",
     "output_type": "stream",
     "text": [
      "/var/folders/yx/qcvz185n7vxgmvbkvq6d8n2c0000gn/T/ipykernel_50909/3600674513.py:22: FutureWarning: The frame.append method is deprecated and will be removed from pandas in a future version. Use pandas.concat instead.\n",
      "  results = results.append({\n"
     ]
    },
    {
     "name": "stdout",
     "output_type": "stream",
     "text": [
      "Tau: 50, C: 500, Training Time: 30.74\n"
     ]
    },
    {
     "name": "stderr",
     "output_type": "stream",
     "text": [
      "/var/folders/yx/qcvz185n7vxgmvbkvq6d8n2c0000gn/T/ipykernel_50909/3600674513.py:22: FutureWarning: The frame.append method is deprecated and will be removed from pandas in a future version. Use pandas.concat instead.\n",
      "  results = results.append({\n"
     ]
    },
    {
     "name": "stdout",
     "output_type": "stream",
     "text": [
      "Tau: 50, C: 1000, Training Time: 34.39\n"
     ]
    },
    {
     "name": "stderr",
     "output_type": "stream",
     "text": [
      "/var/folders/yx/qcvz185n7vxgmvbkvq6d8n2c0000gn/T/ipykernel_50909/3600674513.py:22: FutureWarning: The frame.append method is deprecated and will be removed from pandas in a future version. Use pandas.concat instead.\n",
      "  results = results.append({\n"
     ]
    },
    {
     "name": "stdout",
     "output_type": "stream",
     "text": [
      "Tau: 100, C: 10, Training Time: 130.62\n"
     ]
    },
    {
     "name": "stderr",
     "output_type": "stream",
     "text": [
      "/var/folders/yx/qcvz185n7vxgmvbkvq6d8n2c0000gn/T/ipykernel_50909/3600674513.py:22: FutureWarning: The frame.append method is deprecated and will be removed from pandas in a future version. Use pandas.concat instead.\n",
      "  results = results.append({\n"
     ]
    },
    {
     "name": "stdout",
     "output_type": "stream",
     "text": [
      "Tau: 100, C: 100, Training Time: 68.38\n"
     ]
    },
    {
     "name": "stderr",
     "output_type": "stream",
     "text": [
      "/var/folders/yx/qcvz185n7vxgmvbkvq6d8n2c0000gn/T/ipykernel_50909/3600674513.py:22: FutureWarning: The frame.append method is deprecated and will be removed from pandas in a future version. Use pandas.concat instead.\n",
      "  results = results.append({\n"
     ]
    },
    {
     "name": "stdout",
     "output_type": "stream",
     "text": [
      "Tau: 100, C: 200, Training Time: 86.96\n"
     ]
    },
    {
     "name": "stderr",
     "output_type": "stream",
     "text": [
      "/var/folders/yx/qcvz185n7vxgmvbkvq6d8n2c0000gn/T/ipykernel_50909/3600674513.py:22: FutureWarning: The frame.append method is deprecated and will be removed from pandas in a future version. Use pandas.concat instead.\n",
      "  results = results.append({\n"
     ]
    },
    {
     "name": "stdout",
     "output_type": "stream",
     "text": [
      "Tau: 100, C: 500, Training Time: 112.38\n",
      "Tau: 100, C: 1000, Training Time: 61.23\n",
      "      Tau       C  Training Time\n",
      "0     1.0    10.0           0.01\n",
      "1     1.0   100.0           0.00\n",
      "2     1.0   200.0           0.01\n",
      "3     1.0   500.0           0.00\n",
      "4     1.0  1000.0           0.00\n",
      "5    10.0    10.0           2.17\n",
      "6    10.0   100.0           0.74\n",
      "7    10.0   200.0           1.78\n",
      "8    10.0   500.0           2.50\n",
      "9    10.0  1000.0           0.76\n",
      "10   20.0    10.0          10.29\n",
      "11   20.0   100.0           5.20\n",
      "12   20.0   200.0           4.33\n",
      "13   20.0   500.0           7.76\n",
      "14   20.0  1000.0           2.15\n",
      "15   50.0    10.0          34.42\n",
      "16   50.0   100.0          26.37\n",
      "17   50.0   200.0          16.27\n",
      "18   50.0   500.0          30.74\n",
      "19   50.0  1000.0          34.39\n",
      "20  100.0    10.0         130.62\n",
      "21  100.0   100.0          68.38\n",
      "22  100.0   200.0          86.96\n",
      "23  100.0   500.0         112.38\n",
      "24  100.0  1000.0          61.23\n"
     ]
    },
    {
     "name": "stderr",
     "output_type": "stream",
     "text": [
      "/var/folders/yx/qcvz185n7vxgmvbkvq6d8n2c0000gn/T/ipykernel_50909/3600674513.py:22: FutureWarning: The frame.append method is deprecated and will be removed from pandas in a future version. Use pandas.concat instead.\n",
      "  results = results.append({\n"
     ]
    }
   ],
   "source": [
    "results= pegasos_qsvc_runtime(train_features, train_labels, num_qubits, taus, Cs)\n",
    "print(results)\n",
    "results.to_csv(\"../results/runtime_features/pegasos_.csv\", index=False)"
   ]
  },
  {
   "cell_type": "code",
   "execution_count": null,
   "id": "0a21d7e6",
   "metadata": {},
   "outputs": [],
   "source": []
  }
 ],
 "metadata": {
  "kernelspec": {
   "display_name": "Python 3 (ipykernel)",
   "language": "python",
   "name": "python3"
  },
  "language_info": {
   "codemirror_mode": {
    "name": "ipython",
    "version": 3
   },
   "file_extension": ".py",
   "mimetype": "text/x-python",
   "name": "python",
   "nbconvert_exporter": "python",
   "pygments_lexer": "ipython3",
   "version": "3.9.12"
  }
 },
 "nbformat": 4,
 "nbformat_minor": 5
}

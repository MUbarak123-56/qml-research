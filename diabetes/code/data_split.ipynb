{
 "cells": [
  {
   "cell_type": "code",
   "execution_count": null,
   "id": "5a9e88d3",
   "metadata": {},
   "outputs": [],
   "source": [
    "import pandas as pd\n",
    "from sklearn.model_selection import train_test_split\n",
    "import janitor"
   ]
  },
  {
   "cell_type": "code",
   "execution_count": null,
   "id": "e60f0b89",
   "metadata": {},
   "outputs": [],
   "source": [
    "df = pd.read_csv(\"../data/diabetes.csv\").clean_names()"
   ]
  },
  {
   "cell_type": "code",
   "execution_count": null,
   "id": "6fe1d857",
   "metadata": {},
   "outputs": [],
   "source": [
    "df.head()"
   ]
  },
  {
   "cell_type": "code",
   "execution_count": null,
   "id": "52c9bbde",
   "metadata": {},
   "outputs": [],
   "source": [
    "df.columns"
   ]
  },
  {
   "cell_type": "code",
   "execution_count": null,
   "id": "59020d47",
   "metadata": {},
   "outputs": [],
   "source": [
    "df = df.rename(columns = {\"number_of_times_pregnant\":\"pregnancy_occurence\",\n",
    "                          \"plasma_glucose_concentration_a_2_hours_in_an_oral_glucose_tolerance_test\":\"glucose_concentration\",\n",
    "                          \"diastolic_blood_pressure_mm_hg_\":\"blood_pressure\",\n",
    "                          \"triceps_skin_fold_thickness_mm_\":\"triceps_foldness\", \n",
    "                          \"2_hour_serum_insulin_mu_u_ml_\":\"serum_insulin\",\n",
    "                          \"body_mass_index_weight_in_kg_height_in_m_^2_\": \"bmi\",\n",
    "                          \"diabetes_pedigree_function\":\"predigree_function\",\n",
    "                          \"age_years_\":\"age\", \n",
    "                          \"class_variable_0_or_1_\":\"target\"})"
   ]
  },
  {
   "cell_type": "code",
   "execution_count": null,
   "id": "9cbdc126",
   "metadata": {},
   "outputs": [],
   "source": [
    "df"
   ]
  },
  {
   "cell_type": "code",
   "execution_count": null,
   "id": "7302b6b7",
   "metadata": {},
   "outputs": [],
   "source": [
    "df.columns"
   ]
  },
  {
   "cell_type": "code",
   "execution_count": null,
   "id": "96692d54",
   "metadata": {},
   "outputs": [],
   "source": [
    "train, test = train_test_split(df, train_size = 0.8, random_state = 42)"
   ]
  },
  {
   "cell_type": "code",
   "execution_count": null,
   "id": "ba5ff746",
   "metadata": {},
   "outputs": [],
   "source": [
    "train.to_csv(\"../data/train.csv\", index=False)\n",
    "test.to_csv(\"../data/test.csv\", index=False)"
   ]
  },
  {
   "cell_type": "code",
   "execution_count": null,
   "id": "28cebf29",
   "metadata": {},
   "outputs": [],
   "source": []
  }
 ],
 "metadata": {
  "kernelspec": {
   "display_name": "Python 3 (ipykernel)",
   "language": "python",
   "name": "python3"
  },
  "language_info": {
   "codemirror_mode": {
    "name": "ipython",
    "version": 3
   },
   "file_extension": ".py",
   "mimetype": "text/x-python",
   "name": "python",
   "nbconvert_exporter": "python",
   "pygments_lexer": "ipython3",
   "version": "3.9.12"
  }
 },
 "nbformat": 4,
 "nbformat_minor": 5
}

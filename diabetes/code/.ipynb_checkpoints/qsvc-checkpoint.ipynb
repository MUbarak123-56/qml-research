{
 "cells": [
  {
   "cell_type": "code",
   "execution_count": 1,
   "id": "712f6ee1",
   "metadata": {},
   "outputs": [],
   "source": [
    "import pandas as pd\n",
    "import os\n",
    "import time\n",
    "from sklearn.model_selection import cross_val_score, cross_val_predict, train_test_split, GridSearchCV\n",
    "import numpy as np\n",
    "from sklearn.metrics import classification_report, confusion_matrix, f1_score, precision_score, recall_score\n",
    "import matplotlib.pyplot as plt\n",
    "import seaborn as sns\n",
    "\n"
   ]
  },
  {
   "cell_type": "code",
   "execution_count": 2,
   "id": "7161cb9f",
   "metadata": {},
   "outputs": [],
   "source": [
    "train = pd.read_csv(\"../data/train_small.csv\")\n",
    "\n",
    "#cols = ['age','roomservice', 'spa', 'vrdeck', 'homeplanet_earth', 'homeplanet_europa', 'homeplanet_mars', 'target']\n",
    "\n",
    "#train = train[cols]\n",
    "\n",
    "x_train_use, y_train_use = train.drop(\"target\", axis = 1), train[\"target\"]\n",
    "\n",
    "x_train, x_val, y_train, y_val = train_test_split(x_train_use, y_train_use, train_size=0.8, random_state = 42)\n",
    "\n",
    "x_train=np.array(x_train)\n",
    "y_train=np.array(y_train)\n",
    "\n",
    "num_qubits=train.shape[1]-1\n",
    "\n"
   ]
  },
  {
   "cell_type": "code",
   "execution_count": 3,
   "id": "71e9520c",
   "metadata": {},
   "outputs": [],
   "source": [
    "from qiskit.circuit.library import PauliFeatureMap\n",
    "\n",
    "feature_map = PauliFeatureMap(feature_dimension=num_qubits, reps=1)\n",
    "\n",
    "from qiskit_machine_learning.algorithms import QSVC\n",
    "\n",
    "from qiskit import BasicAer\n",
    "from qiskit_algorithms.utils import algorithm_globals\n",
    "from qiskit_machine_learning.kernels import FidelityQuantumKernel\n",
    "\n",
    "\n",
    "\n",
    "algorithm_globals.random_seed = 12345\n",
    "\n",
    "qkernel = FidelityQuantumKernel(feature_map=feature_map)\n",
    "model = QSVC(quantum_kernel=qkernel)\n",
    "\n",
    "#start = time.time()\n",
    "#model.fit(x_train, y_train)\n",
    "#elapsed = time.time() - start\n",
    "#train_score=model.score(x_train, y_train)\n",
    "#qsvc_score = model.score(x_val, y_val)\n",
    "\n",
    "x_train_use=np.array(x_train_use)\n",
    "y_train_use=np.array(y_train_use) \n"
   ]
  },
  {
   "cell_type": "code",
   "execution_count": 4,
   "id": "d423ea1a",
   "metadata": {},
   "outputs": [
    {
     "name": "stdout",
     "output_type": "stream",
     "text": [
      "Training commences!!!\n",
      "Training has finished 10798.149188995361\n",
      "Prediction begins\n",
      "End of prediction\n"
     ]
    }
   ],
   "source": [
    "\n",
    "start = time.time()\n",
    "print(\"Training commences!!!\")\n",
    "model.fit(x_train_use, y_train_use)\n",
    "elapsed = time.time() - start\n",
    "print(\"Training has finished\", elapsed)\n",
    "\n",
    "print(\"Prediction begins\")\n",
    "pred_use = model.predict(x_train_use)\n",
    "print(\"End of prediction\")\n",
    "\n",
    "f1_train = f1_score(y_train_use, pred_use)\n",
    "prec_train = precision_score(y_train_use, pred_use)\n",
    "recall_train = recall_score(y_train_use, pred_use)\n"
   ]
  },
  {
   "cell_type": "code",
   "execution_count": 5,
   "id": "cb5d13e9",
   "metadata": {},
   "outputs": [
    {
     "data": {
      "image/png": "[encoded data removed]",
      "text/plain": [
       "<Figure size 720x720 with 2 Axes>"
      ]
     },
     "metadata": {
      "needs_background": "light"
     },
     "output_type": "display_data"
    }
   ],
   "source": [
    "\n",
    "test = pd.read_csv(\"../data/test_fe.csv\")\n",
    "\n",
    "#test = test[cols]\n",
    "\n",
    "x_test, y_test = test.drop(\"target\", axis =1), test[\"target\"]\n",
    "\n",
    "pred_test = model.predict(x_test)\n",
    "\n",
    "f1_test = f1_score(y_test, pred_test)\n",
    "prec_test = precision_score(y_test, pred_test)\n",
    "recall_test = recall_score(y_test, pred_test)\n",
    "\n",
    "conf = confusion_matrix(y_test, pred_test)\n",
    "\n",
    "plt.figure(figsize=(10,10))\n",
    "sns.heatmap(conf, annot=True, cmap=\"Blues\")\n",
    "#plt.show();\n",
    "plt.savefig(\"../conf/qsvc.png\")\n",
    "\n",
    "df = pd.DataFrame()\n",
    "df[\"f1_test\"] = [f1_test]\n",
    "df[\"f1_train\"] = f1_train\n",
    "df[\"prec_train\"] = prec_train\n",
    "df[\"prec_test\"] = prec_test\n",
    "df[\"recall_train\"] = recall_train\n",
    "df[\"recall_test\"] = recall_test\n",
    "df[\"model\"] = \"QSVC\"\n",
    "df[\"elapsed\"] = elapsed\n",
    "\n",
    "qsvc_mod_num = \"../model/mod_qsvc_pauli.model\"\n",
    "model.save(qsvc_mod_num)\n",
    "\n",
    "df.to_csv(\"../results/regular/qsvc.csv\", index = False)  "
   ]
  },
  {
   "cell_type": "code",
   "execution_count": null,
   "id": "7780647b",
   "metadata": {},
   "outputs": [],
   "source": []
  }
 ],
 "metadata": {
  "kernelspec": {
   "display_name": "Python 3 (ipykernel)",
   "language": "python",
   "name": "python3"
  },
  "language_info": {
   "codemirror_mode": {
    "name": "ipython",
    "version": 3
   },
   "file_extension": ".py",
   "mimetype": "text/x-python",
   "name": "python",
   "nbconvert_exporter": "python",
   "pygments_lexer": "ipython3",
   "version": "3.9.12"
  }
 },
 "nbformat": 4,
 "nbformat_minor": 5
}

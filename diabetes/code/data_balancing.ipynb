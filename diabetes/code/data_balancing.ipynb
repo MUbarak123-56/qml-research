{
 "cells": [
  {
   "cell_type": "code",
   "execution_count": 1,
   "id": "58d51d5b",
   "metadata": {},
   "outputs": [],
   "source": [
    "import pandas as pd\n",
    "from imblearn.over_sampling import SMOTE\n",
    "from collections import Counter\n",
    "import numpy"
   ]
  },
  {
   "cell_type": "code",
   "execution_count": 2,
   "id": "6c5db9cc",
   "metadata": {},
   "outputs": [],
   "source": [
    "data = pd.read_csv(\"../data/train_fe.csv\")"
   ]
  },
  {
   "cell_type": "code",
   "execution_count": 3,
   "id": "3698c836",
   "metadata": {},
   "outputs": [],
   "source": [
    "x_train, y_train = data.drop(\"target\", axis = 1), data[\"target\"]"
   ]
  },
  {
   "cell_type": "code",
   "execution_count": 4,
   "id": "ac735dc2",
   "metadata": {},
   "outputs": [
    {
     "name": "stdout",
     "output_type": "stream",
     "text": [
      "Before Counter({0.0: 401, 1.0: 213})\n"
     ]
    }
   ],
   "source": [
    "count = Counter(y_train)\n",
    "print(\"Before\", count)"
   ]
  },
  {
   "cell_type": "code",
   "execution_count": 5,
   "id": "e0cd4c09",
   "metadata": {},
   "outputs": [],
   "source": [
    "smt = SMOTE()\n",
    "x_train_sm, y_train_sm = smt.fit_resample(x_train, y_train)"
   ]
  },
  {
   "cell_type": "code",
   "execution_count": 6,
   "id": "17abeaf1",
   "metadata": {},
   "outputs": [
    {
     "name": "stdout",
     "output_type": "stream",
     "text": [
      "After Counter({0.0: 401, 1.0: 401})\n"
     ]
    }
   ],
   "source": [
    "count = Counter(y_train_sm)\n",
    "print(\"After\", count)"
   ]
  },
  {
   "cell_type": "code",
   "execution_count": 7,
   "id": "8cada690",
   "metadata": {},
   "outputs": [],
   "source": [
    "x_train_sm[\"target\"] = y_train_sm"
   ]
  },
  {
   "cell_type": "code",
   "execution_count": 8,
   "id": "20d9a678",
   "metadata": {},
   "outputs": [],
   "source": [
    "train_sm = x_train_sm.copy()"
   ]
  },
  {
   "cell_type": "code",
   "execution_count": 9,
   "id": "1e211723",
   "metadata": {},
   "outputs": [],
   "source": [
    "train_sm.to_csv(\"../data/train_big.csv\", index=False)"
   ]
  },
  {
   "cell_type": "code",
   "execution_count": 10,
   "id": "d171ba19",
   "metadata": {},
   "outputs": [],
   "source": [
    "import random\n",
    "import numpy as np"
   ]
  },
  {
   "cell_type": "code",
   "execution_count": 11,
   "id": "f05af60d",
   "metadata": {},
   "outputs": [],
   "source": [
    "zero_data = data[data[\"target\"] == 0.0].reset_index(drop=True)\n",
    "one_data = data[data[\"target\"] == 1.0].reset_index(drop=True)"
   ]
  },
  {
   "cell_type": "code",
   "execution_count": 12,
   "id": "39a08220",
   "metadata": {},
   "outputs": [],
   "source": [
    "numbers = np.random.randint(0,high=len(zero_data), size=278)"
   ]
  },
  {
   "cell_type": "code",
   "execution_count": 13,
   "id": "beab9b64",
   "metadata": {},
   "outputs": [],
   "source": [
    "zero_data = zero_data.loc[numbers,:].reset_index(drop=True)"
   ]
  },
  {
   "cell_type": "code",
   "execution_count": 14,
   "id": "ac503dbc",
   "metadata": {},
   "outputs": [
    {
     "data": {
      "text/html": [
       "<div>\n",
       "<style scoped>\n",
       "    .dataframe tbody tr th:only-of-type {\n",
       "        vertical-align: middle;\n",
       "    }\n",
       "\n",
       "    .dataframe tbody tr th {\n",
       "        vertical-align: top;\n",
       "    }\n",
       "\n",
       "    .dataframe thead th {\n",
       "        text-align: right;\n",
       "    }\n",
       "</style>\n",
       "<table border=\"1\" class=\"dataframe\">\n",
       "  <thead>\n",
       "    <tr style=\"text-align: right;\">\n",
       "      <th></th>\n",
       "      <th>pregnancy_occurence</th>\n",
       "      <th>glucose_concentration</th>\n",
       "      <th>blood_pressure</th>\n",
       "      <th>triceps_foldness</th>\n",
       "      <th>serum_insulin</th>\n",
       "      <th>bmi</th>\n",
       "      <th>predigree_function</th>\n",
       "      <th>age</th>\n",
       "      <th>target</th>\n",
       "    </tr>\n",
       "  </thead>\n",
       "  <tbody>\n",
       "    <tr>\n",
       "      <th>0</th>\n",
       "      <td>0.000000</td>\n",
       "      <td>0.432161</td>\n",
       "      <td>0.557377</td>\n",
       "      <td>0.507937</td>\n",
       "      <td>0.000000</td>\n",
       "      <td>0.533532</td>\n",
       "      <td>0.068318</td>\n",
       "      <td>0.066667</td>\n",
       "      <td>0.0</td>\n",
       "    </tr>\n",
       "    <tr>\n",
       "      <th>1</th>\n",
       "      <td>0.000000</td>\n",
       "      <td>0.587940</td>\n",
       "      <td>0.655738</td>\n",
       "      <td>0.492063</td>\n",
       "      <td>0.062648</td>\n",
       "      <td>0.673621</td>\n",
       "      <td>0.004697</td>\n",
       "      <td>0.050000</td>\n",
       "      <td>0.0</td>\n",
       "    </tr>\n",
       "    <tr>\n",
       "      <th>2</th>\n",
       "      <td>0.117647</td>\n",
       "      <td>0.638191</td>\n",
       "      <td>0.377049</td>\n",
       "      <td>0.333333</td>\n",
       "      <td>0.395981</td>\n",
       "      <td>0.512668</td>\n",
       "      <td>0.041845</td>\n",
       "      <td>0.016667</td>\n",
       "      <td>0.0</td>\n",
       "    </tr>\n",
       "    <tr>\n",
       "      <th>3</th>\n",
       "      <td>0.235294</td>\n",
       "      <td>0.572864</td>\n",
       "      <td>0.524590</td>\n",
       "      <td>0.000000</td>\n",
       "      <td>0.000000</td>\n",
       "      <td>0.430700</td>\n",
       "      <td>0.020495</td>\n",
       "      <td>0.050000</td>\n",
       "      <td>0.0</td>\n",
       "    </tr>\n",
       "    <tr>\n",
       "      <th>4</th>\n",
       "      <td>0.176471</td>\n",
       "      <td>0.437186</td>\n",
       "      <td>0.491803</td>\n",
       "      <td>0.285714</td>\n",
       "      <td>0.000000</td>\n",
       "      <td>0.324888</td>\n",
       "      <td>0.156277</td>\n",
       "      <td>0.000000</td>\n",
       "      <td>0.0</td>\n",
       "    </tr>\n",
       "    <tr>\n",
       "      <th>...</th>\n",
       "      <td>...</td>\n",
       "      <td>...</td>\n",
       "      <td>...</td>\n",
       "      <td>...</td>\n",
       "      <td>...</td>\n",
       "      <td>...</td>\n",
       "      <td>...</td>\n",
       "      <td>...</td>\n",
       "      <td>...</td>\n",
       "    </tr>\n",
       "    <tr>\n",
       "      <th>486</th>\n",
       "      <td>0.588235</td>\n",
       "      <td>0.743719</td>\n",
       "      <td>0.688525</td>\n",
       "      <td>0.761905</td>\n",
       "      <td>0.280142</td>\n",
       "      <td>0.560358</td>\n",
       "      <td>0.394108</td>\n",
       "      <td>0.500000</td>\n",
       "      <td>1.0</td>\n",
       "    </tr>\n",
       "    <tr>\n",
       "      <th>487</th>\n",
       "      <td>0.529412</td>\n",
       "      <td>0.562814</td>\n",
       "      <td>0.672131</td>\n",
       "      <td>0.507937</td>\n",
       "      <td>0.206856</td>\n",
       "      <td>0.509687</td>\n",
       "      <td>0.077711</td>\n",
       "      <td>0.250000</td>\n",
       "      <td>1.0</td>\n",
       "    </tr>\n",
       "    <tr>\n",
       "      <th>488</th>\n",
       "      <td>0.647059</td>\n",
       "      <td>0.693467</td>\n",
       "      <td>0.606557</td>\n",
       "      <td>0.412698</td>\n",
       "      <td>0.170213</td>\n",
       "      <td>0.538003</td>\n",
       "      <td>0.204526</td>\n",
       "      <td>0.483333</td>\n",
       "      <td>1.0</td>\n",
       "    </tr>\n",
       "    <tr>\n",
       "      <th>489</th>\n",
       "      <td>0.588235</td>\n",
       "      <td>0.507538</td>\n",
       "      <td>0.704918</td>\n",
       "      <td>0.587302</td>\n",
       "      <td>0.000000</td>\n",
       "      <td>0.679583</td>\n",
       "      <td>0.451751</td>\n",
       "      <td>0.283333</td>\n",
       "      <td>1.0</td>\n",
       "    </tr>\n",
       "    <tr>\n",
       "      <th>490</th>\n",
       "      <td>0.000000</td>\n",
       "      <td>0.708543</td>\n",
       "      <td>0.000000</td>\n",
       "      <td>0.000000</td>\n",
       "      <td>0.000000</td>\n",
       "      <td>0.631893</td>\n",
       "      <td>0.054227</td>\n",
       "      <td>0.133333</td>\n",
       "      <td>1.0</td>\n",
       "    </tr>\n",
       "  </tbody>\n",
       "</table>\n",
       "<p>491 rows × 9 columns</p>\n",
       "</div>"
      ],
      "text/plain": [
       "     pregnancy_occurence  glucose_concentration  blood_pressure  \\\n",
       "0               0.000000               0.432161        0.557377   \n",
       "1               0.000000               0.587940        0.655738   \n",
       "2               0.117647               0.638191        0.377049   \n",
       "3               0.235294               0.572864        0.524590   \n",
       "4               0.176471               0.437186        0.491803   \n",
       "..                   ...                    ...             ...   \n",
       "486             0.588235               0.743719        0.688525   \n",
       "487             0.529412               0.562814        0.672131   \n",
       "488             0.647059               0.693467        0.606557   \n",
       "489             0.588235               0.507538        0.704918   \n",
       "490             0.000000               0.708543        0.000000   \n",
       "\n",
       "     triceps_foldness  serum_insulin       bmi  predigree_function       age  \\\n",
       "0            0.507937       0.000000  0.533532            0.068318  0.066667   \n",
       "1            0.492063       0.062648  0.673621            0.004697  0.050000   \n",
       "2            0.333333       0.395981  0.512668            0.041845  0.016667   \n",
       "3            0.000000       0.000000  0.430700            0.020495  0.050000   \n",
       "4            0.285714       0.000000  0.324888            0.156277  0.000000   \n",
       "..                ...            ...       ...                 ...       ...   \n",
       "486          0.761905       0.280142  0.560358            0.394108  0.500000   \n",
       "487          0.507937       0.206856  0.509687            0.077711  0.250000   \n",
       "488          0.412698       0.170213  0.538003            0.204526  0.483333   \n",
       "489          0.587302       0.000000  0.679583            0.451751  0.283333   \n",
       "490          0.000000       0.000000  0.631893            0.054227  0.133333   \n",
       "\n",
       "     target  \n",
       "0       0.0  \n",
       "1       0.0  \n",
       "2       0.0  \n",
       "3       0.0  \n",
       "4       0.0  \n",
       "..      ...  \n",
       "486     1.0  \n",
       "487     1.0  \n",
       "488     1.0  \n",
       "489     1.0  \n",
       "490     1.0  \n",
       "\n",
       "[491 rows x 9 columns]"
      ]
     },
     "execution_count": 14,
     "metadata": {},
     "output_type": "execute_result"
    }
   ],
   "source": [
    "new_data = pd.concat([zero_data, one_data], axis = 0).reset_index(drop=True)\n",
    "new_data"
   ]
  },
  {
   "cell_type": "code",
   "execution_count": 15,
   "id": "519d7c46",
   "metadata": {},
   "outputs": [],
   "source": [
    "new_data.to_csv(\"../data/train_small.csv\", index=False)"
   ]
  },
  {
   "cell_type": "code",
   "execution_count": null,
   "id": "0d80cd40",
   "metadata": {},
   "outputs": [],
   "source": []
  }
 ],
 "metadata": {
  "kernelspec": {
   "display_name": "Python 3 (ipykernel)",
   "language": "python",
   "name": "python3"
  },
  "language_info": {
   "codemirror_mode": {
    "name": "ipython",
    "version": 3
   },
   "file_extension": ".py",
   "mimetype": "text/x-python",
   "name": "python",
   "nbconvert_exporter": "python",
   "pygments_lexer": "ipython3",
   "version": "3.9.12"
  }
 },
 "nbformat": 4,
 "nbformat_minor": 5
}

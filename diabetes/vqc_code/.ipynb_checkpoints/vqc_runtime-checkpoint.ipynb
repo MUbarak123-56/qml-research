{
 "cells": [
  {
   "cell_type": "code",
   "execution_count": null,
   "id": "98d0ee7c",
   "metadata": {},
   "outputs": [],
   "source": [
    "import pandas as pd\n",
    "import warnings\n",
    "warnings.filterwarnings('ignore')\n",
    "from sklearn.linear_model import LogisticRegression\n",
    "from sklearn.svm import SVC\n",
    "from sklearn.naive_bayes import GaussianNB\n",
    "from sklearn.model_selection import cross_val_score, cross_val_predict, train_test_split, GridSearchCV\n",
    "import numpy as np\n",
    "from sklearn.metrics import classification_report, confusion_matrix, f1_score, precision_score, recall_score\n",
    "from sklearn.pipeline import Pipeline\n",
    "import matplotlib.pyplot as plt\n",
    "%matplotlib inline\n",
    "import seaborn as sns; sns.set_style(\"dark\")\n",
    "import time"
   ]
  },
  {
   "cell_type": "code",
   "execution_count": null,
   "id": "988075d1",
   "metadata": {},
   "outputs": [],
   "source": [
    "import pandas as pd\n",
    "import seaborn as sns\n",
    "import numpy as np\n",
    "import matplotlib.pyplot as plt\n",
    "from sklearn.preprocessing import MinMaxScaler\n",
    "from sklearn.svm import SVC\n",
    "from sklearn.metrics import accuracy_score, classification_report, confusion_matrix\n",
    "from qiskit import *\n",
    "from qiskit_machine_learning.algorithms.classifiers import VQC\n",
    "from qiskit.circuit.library import EfficientSU2, TwoLocal, NLocal, RealAmplitudes, ZFeatureMap, ZZFeatureMap, PauliFeatureMap\n",
    "from qiskit.circuit.library import CCXGate, CRZGate, RXGate\n",
    "from qiskit.algorithms.optimizers import COBYLA, SLSQP, SPSA\n",
    "from matplotlib import pyplot as plt\n",
    "from IPython.display import clear_output\n",
    "from qiskit.primitives import Sampler\n",
    "from qiskit.circuit import ParameterVector\n",
    "from sklearn.metrics import recall_score, precision_score, f1_score\n",
    "import time\n",
    "from qiskit_machine_learning.algorithms.classifiers import VQC\n",
    "import os"
   ]
  },
  {
   "cell_type": "code",
   "execution_count": null,
   "id": "a4a5225d",
   "metadata": {},
   "outputs": [],
   "source": [
    "train = pd.read_csv(\"../data/train_fe.csv\")"
   ]
  },
  {
   "cell_type": "code",
   "execution_count": null,
   "id": "2c4481a4",
   "metadata": {},
   "outputs": [],
   "source": [
    "cols = ['total_day_minutes', 'total_day_calls','total_intl_charge', 'customer_service_calls', 'account_length','number_vmail_messages', \n",
    "        'region_South', 'region_West']"
   ]
  },
  {
   "cell_type": "code",
   "execution_count": null,
   "id": "06eca11c",
   "metadata": {},
   "outputs": [],
   "source": [
    "#train = train[cols]\n",
    "x_train = train[cols]\n",
    "y_train = train[\"churn\"]"
   ]
  },
  {
   "cell_type": "code",
   "execution_count": null,
   "id": "6938fa93",
   "metadata": {},
   "outputs": [],
   "source": [
    "sizes = np.linspace(0.1,1,10)\n",
    "sizes = list(sizes)\n",
    "sizes"
   ]
  },
  {
   "cell_type": "code",
   "execution_count": null,
   "id": "65553540",
   "metadata": {},
   "outputs": [],
   "source": [
    "cols[:len(cols)+1]"
   ]
  },
  {
   "cell_type": "code",
   "execution_count": null,
   "id": "dbe4019b",
   "metadata": {},
   "outputs": [],
   "source": [
    "sizes[0]"
   ]
  },
  {
   "cell_type": "code",
   "execution_count": null,
   "id": "6025a8e0",
   "metadata": {},
   "outputs": [],
   "source": [
    "numbers = np.random.randint(0,high=len(train), size=round(len(train)*sizes[0]))"
   ]
  },
  {
   "cell_type": "code",
   "execution_count": null,
   "id": "9b41e969",
   "metadata": {},
   "outputs": [],
   "source": [
    "np.array(y_train.iloc[numbers].reset_index(drop=True))"
   ]
  },
  {
   "cell_type": "code",
   "execution_count": null,
   "id": "4dcee80c",
   "metadata": {},
   "outputs": [],
   "source": [
    "size = pd.DataFrame()\n",
    "for i in range(len(sizes)):\n",
    "    numbers = np.random.randint(0,high=len(train), size=round(len(train)*sizes[i]))\n",
    "    new_x = x_train.iloc[numbers,:].reset_index(drop=True)\n",
    "    new_y = np.array(y_train.iloc[numbers].reset_index(drop=True))\n",
    "    pauli_feature_map = PauliFeatureMap(feature_dimension=len(new_x.columns), reps=1)\n",
    "    sampler = Sampler()\n",
    "    ansatz_su = EfficientSU2(num_qubits=pauli_feature_map.width(), reps = 2, su2_gates=[\"ry\", \"rz\"], entanglement= \"full\",\n",
    "                         insert_barriers=True)\n",
    "    num_iter=300\n",
    "    cobyla = COBYLA(maxiter = num_iter)\n",
    "    model = VQC(\n",
    "        sampler=sampler,\n",
    "        feature_map=pauli_feature_map,\n",
    "        ansatz=ansatz_su,\n",
    "        optimizer=cobyla)\n",
    "    new_x_arr = new_x.to_numpy()\n",
    "    #new_y_arr = new_y.to_numpy()\n",
    "    start = time.time()\n",
    "    model.fit(new_x_arr, new_y)\n",
    "    stop = time.time()\n",
    "    elapsed=stop-start\n",
    "    size.loc[i, \"size\"] = sizes[i]*len(train)\n",
    "    size.loc[i, \"model\"] = \"VQC_best\"\n",
    "    size.loc[i, \"runtime\"] = elapsed\n",
    "    #size.loc[i,\"kernel\"] = typ\n",
    "    print(i)"
   ]
  },
  {
   "cell_type": "code",
   "execution_count": null,
   "id": "a1015cbe",
   "metadata": {},
   "outputs": [],
   "source": [
    "size"
   ]
  },
  {
   "cell_type": "code",
   "execution_count": null,
   "id": "3ef0d278",
   "metadata": {},
   "outputs": [],
   "source": [
    "pauli_feature_map = PauliFeatureMap(feature_dimension=2, reps=1)\n",
    "pauli_feature_map.decompose().draw(\"mpl\")"
   ]
  },
  {
   "cell_type": "code",
   "execution_count": null,
   "id": "01ed1b05",
   "metadata": {},
   "outputs": [],
   "source": []
  },
  {
   "cell_type": "code",
   "execution_count": null,
   "id": "3670dfe1",
   "metadata": {},
   "outputs": [],
   "source": [
    "feat = pd.DataFrame()\n",
    "for i in range(1,len(cols)):\n",
    "    new_x = x_train.loc[:,cols[:i+1]]\n",
    "    new_x_arr = new_x.to_numpy()\n",
    "    new_y = np.array(y_train)\n",
    "    pauli_feature_map = PauliFeatureMap(feature_dimension=len(new_x.columns), reps=1)\n",
    "    sampler = Sampler()\n",
    "    if len(x_train.columns) == 1:\n",
    "        ansatz_su = EfficientSU2(num_qubits=pauli_feature_map.width(), reps = 2, su2_gates=[\"ry\"],\n",
    "                             insert_barriers=True)\n",
    "    else: \n",
    "        ansatz_su = EfficientSU2(num_qubits=pauli_feature_map.width(), reps = 2, su2_gates=[\"ry\", \"rz\"], entanglement= \"full\",\n",
    "                             insert_barriers=True)\n",
    "    num_iter=300\n",
    "    cobyla = COBYLA(maxiter = num_iter)\n",
    "    model = VQC(\n",
    "        sampler=sampler,\n",
    "        feature_map=pauli_feature_map,\n",
    "        ansatz=ansatz_su,\n",
    "        optimizer=cobyla)\n",
    "    start = time.time()\n",
    "    model.fit(new_x_arr, new_y)\n",
    "    stop = time.time()\n",
    "    elapsed=stop-start\n",
    "    feat.loc[i, \"num_features\"] = i + 1\n",
    "    feat.loc[i, \"model\"] = \"VQC_best\"\n",
    "    feat.loc[i, \"runtime\"] = elapsed\n",
    "    #feat.loc[i,\"kernel\"] = typ"
   ]
  },
  {
   "cell_type": "code",
   "execution_count": null,
   "id": "5b443415",
   "metadata": {},
   "outputs": [],
   "source": [
    "feat"
   ]
  },
  {
   "cell_type": "code",
   "execution_count": null,
   "id": "4e3732b7",
   "metadata": {},
   "outputs": [],
   "source": [
    "size.to_csv(\"../vqc_results/runtime_size/vqc.csv\", index=False)"
   ]
  },
  {
   "cell_type": "code",
   "execution_count": null,
   "id": "ae2f54ba",
   "metadata": {},
   "outputs": [],
   "source": [
    "feat.to_csv(\"../vqc_results/runtime_features/vqc.csv\", index=False)"
   ]
  },
  {
   "cell_type": "code",
   "execution_count": null,
   "id": "0615dd55",
   "metadata": {},
   "outputs": [],
   "source": []
  }
 ],
 "metadata": {
  "kernelspec": {
   "display_name": "Python 3 (ipykernel)",
   "language": "python",
   "name": "python3"
  },
  "language_info": {
   "codemirror_mode": {
    "name": "ipython",
    "version": 3
   },
   "file_extension": ".py",
   "mimetype": "text/x-python",
   "name": "python",
   "nbconvert_exporter": "python",
   "pygments_lexer": "ipython3",
   "version": "3.9.12"
  }
 },
 "nbformat": 4,
 "nbformat_minor": 5
}

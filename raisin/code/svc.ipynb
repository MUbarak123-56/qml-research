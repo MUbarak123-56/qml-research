{
 "cells": [
  {
   "cell_type": "code",
   "execution_count": 1,
   "id": "db27aa2e",
   "metadata": {},
   "outputs": [],
   "source": [
    "import pandas as pd\n",
    "import warnings\n",
    "warnings.filterwarnings('ignore')\n",
    "from sklearn.linear_model import LogisticRegression\n",
    "from sklearn.svm import SVC\n",
    "from sklearn.naive_bayes import GaussianNB\n",
    "from sklearn.model_selection import cross_val_score, cross_val_predict, train_test_split, GridSearchCV\n",
    "import numpy as np\n",
    "from sklearn.metrics import classification_report, confusion_matrix, f1_score, precision_score, recall_score\n",
    "from sklearn.pipeline import Pipeline\n",
    "import matplotlib.pyplot as plt\n",
    "%matplotlib inline\n",
    "import seaborn as sns; sns.set_style(\"dark\")"
   ]
  },
  {
   "cell_type": "code",
   "execution_count": 2,
   "id": "fb94d4c2",
   "metadata": {},
   "outputs": [],
   "source": [
    "train = pd.read_csv(\"../data/train_fe.csv\")\n",
    "test = pd.read_csv(\"../data/test_fe.csv\")"
   ]
  },
  {
   "cell_type": "code",
   "execution_count": 3,
   "id": "4db023fa",
   "metadata": {},
   "outputs": [
    {
     "data": {
      "text/plain": [
       "Index(['area', 'majoraxislength', 'minoraxislength', 'eccentricity',\n",
       "       'convexarea', 'extent', 'perimeter', 'target'],\n",
       "      dtype='object')"
      ]
     },
     "execution_count": 3,
     "metadata": {},
     "output_type": "execute_result"
    }
   ],
   "source": [
    "train.columns"
   ]
  },
  {
   "cell_type": "code",
   "execution_count": 4,
   "id": "ee62514c",
   "metadata": {},
   "outputs": [
    {
     "data": {
      "text/html": [
       "<div>\n",
       "<style scoped>\n",
       "    .dataframe tbody tr th:only-of-type {\n",
       "        vertical-align: middle;\n",
       "    }\n",
       "\n",
       "    .dataframe tbody tr th {\n",
       "        vertical-align: top;\n",
       "    }\n",
       "\n",
       "    .dataframe thead th {\n",
       "        text-align: right;\n",
       "    }\n",
       "</style>\n",
       "<table border=\"1\" class=\"dataframe\">\n",
       "  <thead>\n",
       "    <tr style=\"text-align: right;\">\n",
       "      <th></th>\n",
       "      <th>area</th>\n",
       "      <th>majoraxislength</th>\n",
       "      <th>minoraxislength</th>\n",
       "      <th>eccentricity</th>\n",
       "      <th>convexarea</th>\n",
       "      <th>extent</th>\n",
       "      <th>perimeter</th>\n",
       "      <th>target</th>\n",
       "    </tr>\n",
       "  </thead>\n",
       "  <tbody>\n",
       "    <tr>\n",
       "      <th>0</th>\n",
       "      <td>0.262568</td>\n",
       "      <td>0.290056</td>\n",
       "      <td>0.254227</td>\n",
       "      <td>0.827058</td>\n",
       "      <td>0.273867</td>\n",
       "      <td>0.646138</td>\n",
       "      <td>0.321550</td>\n",
       "      <td>0.0</td>\n",
       "    </tr>\n",
       "    <tr>\n",
       "      <th>1</th>\n",
       "      <td>0.224630</td>\n",
       "      <td>0.140979</td>\n",
       "      <td>0.398693</td>\n",
       "      <td>0.302535</td>\n",
       "      <td>0.229186</td>\n",
       "      <td>0.716253</td>\n",
       "      <td>0.249911</td>\n",
       "      <td>0.0</td>\n",
       "    </tr>\n",
       "    <tr>\n",
       "      <th>2</th>\n",
       "      <td>0.287857</td>\n",
       "      <td>0.200529</td>\n",
       "      <td>0.414687</td>\n",
       "      <td>0.495150</td>\n",
       "      <td>0.286038</td>\n",
       "      <td>0.839106</td>\n",
       "      <td>0.274388</td>\n",
       "      <td>0.0</td>\n",
       "    </tr>\n",
       "    <tr>\n",
       "      <th>3</th>\n",
       "      <td>0.750744</td>\n",
       "      <td>0.512630</td>\n",
       "      <td>0.676241</td>\n",
       "      <td>0.722318</td>\n",
       "      <td>0.764057</td>\n",
       "      <td>0.775255</td>\n",
       "      <td>0.611673</td>\n",
       "      <td>1.0</td>\n",
       "    </tr>\n",
       "    <tr>\n",
       "      <th>4</th>\n",
       "      <td>0.178613</td>\n",
       "      <td>0.253401</td>\n",
       "      <td>0.136156</td>\n",
       "      <td>0.884131</td>\n",
       "      <td>0.179696</td>\n",
       "      <td>0.891770</td>\n",
       "      <td>0.230519</td>\n",
       "      <td>0.0</td>\n",
       "    </tr>\n",
       "  </tbody>\n",
       "</table>\n",
       "</div>"
      ],
      "text/plain": [
       "       area  majoraxislength  minoraxislength  eccentricity  convexarea  \\\n",
       "0  0.262568         0.290056         0.254227      0.827058    0.273867   \n",
       "1  0.224630         0.140979         0.398693      0.302535    0.229186   \n",
       "2  0.287857         0.200529         0.414687      0.495150    0.286038   \n",
       "3  0.750744         0.512630         0.676241      0.722318    0.764057   \n",
       "4  0.178613         0.253401         0.136156      0.884131    0.179696   \n",
       "\n",
       "     extent  perimeter  target  \n",
       "0  0.646138   0.321550     0.0  \n",
       "1  0.716253   0.249911     0.0  \n",
       "2  0.839106   0.274388     0.0  \n",
       "3  0.775255   0.611673     1.0  \n",
       "4  0.891770   0.230519     0.0  "
      ]
     },
     "execution_count": 4,
     "metadata": {},
     "output_type": "execute_result"
    }
   ],
   "source": [
    "train.head()"
   ]
  },
  {
   "cell_type": "code",
   "execution_count": 5,
   "id": "eaf1834a",
   "metadata": {},
   "outputs": [],
   "source": [
    "x_train_use, y_train_use = train.drop(\"target\", axis = 1), train[\"target\"]"
   ]
  },
  {
   "cell_type": "code",
   "execution_count": 6,
   "id": "00c5aa3f",
   "metadata": {},
   "outputs": [],
   "source": [
    "#x_train_use = x_train_use.drop_duplicates().reset_index(drop=True)"
   ]
  },
  {
   "cell_type": "code",
   "execution_count": 7,
   "id": "c0a6b6ea",
   "metadata": {},
   "outputs": [
    {
     "data": {
      "text/plain": [
       "(720, 8)"
      ]
     },
     "execution_count": 7,
     "metadata": {},
     "output_type": "execute_result"
    }
   ],
   "source": [
    "train.shape"
   ]
  },
  {
   "cell_type": "code",
   "execution_count": 8,
   "id": "68fda528",
   "metadata": {},
   "outputs": [],
   "source": [
    "x_train, x_val, y_train, y_val = train_test_split(x_train_use, y_train_use, train_size=0.8, random_state = 42)"
   ]
  },
  {
   "cell_type": "code",
   "execution_count": 9,
   "id": "c9f73a72",
   "metadata": {},
   "outputs": [
    {
     "data": {
      "text/plain": [
       "((576, 7), (576,))"
      ]
     },
     "execution_count": 9,
     "metadata": {},
     "output_type": "execute_result"
    }
   ],
   "source": [
    "x_train.shape, y_train.shape"
   ]
  },
  {
   "cell_type": "markdown",
   "id": "7c610e60",
   "metadata": {},
   "source": [
    "### Support Vector Classifiers"
   ]
  },
  {
   "cell_type": "code",
   "execution_count": 10,
   "id": "3aeb7301",
   "metadata": {},
   "outputs": [
    {
     "data": {
      "text/plain": [
       "SVC(kernel='linear')"
      ]
     },
     "execution_count": 10,
     "metadata": {},
     "output_type": "execute_result"
    }
   ],
   "source": [
    "svc = SVC(kernel=\"linear\")\n",
    "svc.fit(x_train, np.array(y_train).reshape(-1,1))"
   ]
  },
  {
   "cell_type": "code",
   "execution_count": 11,
   "id": "245bc415",
   "metadata": {},
   "outputs": [],
   "source": [
    "y_pred = svc.predict(x_train)"
   ]
  },
  {
   "cell_type": "code",
   "execution_count": 12,
   "id": "953b003b",
   "metadata": {},
   "outputs": [
    {
     "data": {
      "text/plain": [
       "0.8545780969479353"
      ]
     },
     "execution_count": 12,
     "metadata": {},
     "output_type": "execute_result"
    }
   ],
   "source": [
    "f1_score(y_train, y_pred)"
   ]
  },
  {
   "cell_type": "code",
   "execution_count": 13,
   "id": "022b11db",
   "metadata": {},
   "outputs": [],
   "source": [
    "svc_pipeline = Pipeline([(\"svc\", SVC(kernel = \"poly\"))])\n",
    "param_grid = [{\"svc__degree\":np.arange(10)}]\n",
    "grid_search = GridSearchCV(svc_pipeline, param_grid, cv = 5)"
   ]
  },
  {
   "cell_type": "code",
   "execution_count": 14,
   "id": "21e05eb5",
   "metadata": {},
   "outputs": [
    {
     "data": {
      "text/plain": [
       "GridSearchCV(cv=5, estimator=Pipeline(steps=[('svc', SVC(kernel='poly'))]),\n",
       "             param_grid=[{'svc__degree': array([0, 1, 2, 3, 4, 5, 6, 7, 8, 9])}])"
      ]
     },
     "execution_count": 14,
     "metadata": {},
     "output_type": "execute_result"
    }
   ],
   "source": [
    "grid_search.fit(x_train, np.array(y_train).reshape(-1,1))"
   ]
  },
  {
   "cell_type": "code",
   "execution_count": 15,
   "id": "2569d3bc",
   "metadata": {},
   "outputs": [
    {
     "data": {
      "text/plain": [
       "{'svc__degree': 5}"
      ]
     },
     "execution_count": 15,
     "metadata": {},
     "output_type": "execute_result"
    }
   ],
   "source": [
    "grid_search.best_params_"
   ]
  },
  {
   "cell_type": "code",
   "execution_count": 16,
   "id": "8a935d65",
   "metadata": {},
   "outputs": [],
   "source": [
    "model = grid_search.best_estimator_"
   ]
  },
  {
   "cell_type": "code",
   "execution_count": 17,
   "id": "3e8346bf",
   "metadata": {},
   "outputs": [
    {
     "data": {
      "text/plain": [
       "Pipeline(steps=[('svc', SVC(degree=5, kernel='poly'))])"
      ]
     },
     "execution_count": 17,
     "metadata": {},
     "output_type": "execute_result"
    }
   ],
   "source": [
    "model.fit(x_train, y_train)"
   ]
  },
  {
   "cell_type": "code",
   "execution_count": 18,
   "id": "433424d9",
   "metadata": {},
   "outputs": [],
   "source": [
    "y_pred = model.predict(x_train)"
   ]
  },
  {
   "cell_type": "code",
   "execution_count": null,
   "id": "a0d09805",
   "metadata": {},
   "outputs": [],
   "source": []
  },
  {
   "cell_type": "code",
   "execution_count": 19,
   "id": "2e851d43",
   "metadata": {},
   "outputs": [
    {
     "data": {
      "text/plain": [
       "0.8766114180478821"
      ]
     },
     "execution_count": 19,
     "metadata": {},
     "output_type": "execute_result"
    }
   ],
   "source": [
    "f1_score(y_train, y_pred)"
   ]
  },
  {
   "cell_type": "code",
   "execution_count": 20,
   "id": "9809e20f",
   "metadata": {},
   "outputs": [
    {
     "name": "stdout",
     "output_type": "stream",
     "text": [
      "              precision    recall  f1-score   support\n",
      "\n",
      "         0.0       0.84      0.94      0.89       288\n",
      "         1.0       0.93      0.83      0.88       288\n",
      "\n",
      "    accuracy                           0.88       576\n",
      "   macro avg       0.89      0.88      0.88       576\n",
      "weighted avg       0.89      0.88      0.88       576\n",
      "\n"
     ]
    }
   ],
   "source": [
    "print(classification_report(y_train, y_pred))"
   ]
  },
  {
   "cell_type": "code",
   "execution_count": 21,
   "id": "59b3f4f2",
   "metadata": {},
   "outputs": [
    {
     "data": {
      "text/plain": [
       "1.0    364\n",
       "0.0    356\n",
       "Name: target, dtype: int64"
      ]
     },
     "execution_count": 21,
     "metadata": {},
     "output_type": "execute_result"
    }
   ],
   "source": [
    "train[\"target\"].value_counts()"
   ]
  },
  {
   "cell_type": "code",
   "execution_count": 22,
   "id": "d4c6501f",
   "metadata": {},
   "outputs": [],
   "source": [
    "import seaborn as sns; sns.set_style(\"darkgrid\")"
   ]
  },
  {
   "cell_type": "code",
   "execution_count": 23,
   "id": "021b82e8",
   "metadata": {},
   "outputs": [
    {
     "data": {
      "text/plain": [
       "<AxesSubplot:>"
      ]
     },
     "execution_count": 23,
     "metadata": {},
     "output_type": "execute_result"
    },
    {
     "data": {
      "image/png": "[encoded data removed]",
      "text/plain": [
       "<Figure size 432x288 with 2 Axes>"
      ]
     },
     "metadata": {},
     "output_type": "display_data"
    }
   ],
   "source": [
    "conf = confusion_matrix(y_train, y_pred)\n",
    "sns.heatmap(conf, annot=True, cmap= \"Blues\")"
   ]
  },
  {
   "cell_type": "code",
   "execution_count": 24,
   "id": "119595ff",
   "metadata": {},
   "outputs": [],
   "source": [
    "y_pred_val = model.predict(x_val)"
   ]
  },
  {
   "cell_type": "code",
   "execution_count": 25,
   "id": "1a1155cb",
   "metadata": {},
   "outputs": [
    {
     "data": {
      "text/plain": [
       "0.8759124087591241"
      ]
     },
     "execution_count": 25,
     "metadata": {},
     "output_type": "execute_result"
    }
   ],
   "source": [
    "f1_score(y_val, y_pred_val)"
   ]
  },
  {
   "cell_type": "code",
   "execution_count": 26,
   "id": "223df55a",
   "metadata": {},
   "outputs": [
    {
     "name": "stdout",
     "output_type": "stream",
     "text": [
      "              precision    recall  f1-score   support\n",
      "\n",
      "         0.0       0.81      0.99      0.89        68\n",
      "         1.0       0.98      0.79      0.88        76\n",
      "\n",
      "    accuracy                           0.88       144\n",
      "   macro avg       0.90      0.89      0.88       144\n",
      "weighted avg       0.90      0.88      0.88       144\n",
      "\n"
     ]
    }
   ],
   "source": [
    "print(classification_report(y_val, y_pred_val))"
   ]
  },
  {
   "cell_type": "markdown",
   "id": "b1c7df47",
   "metadata": {},
   "source": [
    "#### Extracting results"
   ]
  },
  {
   "cell_type": "code",
   "execution_count": 27,
   "id": "42d3a3bf",
   "metadata": {},
   "outputs": [],
   "source": [
    "import time\n",
    "start = time.time()\n",
    "model.fit(x_train_use, y_train_use)\n",
    "elapsed = time.time() - start"
   ]
  },
  {
   "cell_type": "code",
   "execution_count": 28,
   "id": "580772ab",
   "metadata": {},
   "outputs": [],
   "source": [
    "pred_use = model.predict(x_train_use)"
   ]
  },
  {
   "cell_type": "code",
   "execution_count": 29,
   "id": "742fb866",
   "metadata": {},
   "outputs": [
    {
     "data": {
      "text/plain": [
       "array([0.84892086, 0.87323944, 0.87142857, 0.81203008, 0.88235294])"
      ]
     },
     "execution_count": 29,
     "metadata": {},
     "output_type": "execute_result"
    }
   ],
   "source": [
    "cross_val_score(model, x_train_use, y_train_use, scoring=\"f1\")"
   ]
  },
  {
   "cell_type": "code",
   "execution_count": 30,
   "id": "7258979c",
   "metadata": {},
   "outputs": [
    {
     "name": "stdout",
     "output_type": "stream",
     "text": [
      "              precision    recall  f1-score   support\n",
      "\n",
      "         0.0       0.84      0.94      0.89       356\n",
      "         1.0       0.93      0.83      0.88       364\n",
      "\n",
      "    accuracy                           0.88       720\n",
      "   macro avg       0.89      0.88      0.88       720\n",
      "weighted avg       0.89      0.88      0.88       720\n",
      "\n"
     ]
    }
   ],
   "source": [
    "print(classification_report(y_train_use, pred_use))"
   ]
  },
  {
   "cell_type": "code",
   "execution_count": 31,
   "id": "b7334a8b",
   "metadata": {},
   "outputs": [],
   "source": [
    "f1_train = f1_score(y_train_use, pred_use)\n",
    "prec_train = precision_score(y_train_use, pred_use)\n",
    "recall_train = recall_score(y_train_use, pred_use)"
   ]
  },
  {
   "cell_type": "code",
   "execution_count": 32,
   "id": "0918c172",
   "metadata": {},
   "outputs": [
    {
     "data": {
      "text/html": [
       "<div>\n",
       "<style scoped>\n",
       "    .dataframe tbody tr th:only-of-type {\n",
       "        vertical-align: middle;\n",
       "    }\n",
       "\n",
       "    .dataframe tbody tr th {\n",
       "        vertical-align: top;\n",
       "    }\n",
       "\n",
       "    .dataframe thead th {\n",
       "        text-align: right;\n",
       "    }\n",
       "</style>\n",
       "<table border=\"1\" class=\"dataframe\">\n",
       "  <thead>\n",
       "    <tr style=\"text-align: right;\">\n",
       "      <th></th>\n",
       "      <th>area</th>\n",
       "      <th>majoraxislength</th>\n",
       "      <th>minoraxislength</th>\n",
       "      <th>eccentricity</th>\n",
       "      <th>convexarea</th>\n",
       "      <th>extent</th>\n",
       "      <th>perimeter</th>\n",
       "      <th>target</th>\n",
       "    </tr>\n",
       "  </thead>\n",
       "  <tbody>\n",
       "    <tr>\n",
       "      <th>0</th>\n",
       "      <td>0.333683</td>\n",
       "      <td>0.292740</td>\n",
       "      <td>0.391650</td>\n",
       "      <td>0.709791</td>\n",
       "      <td>0.343346</td>\n",
       "      <td>0.647720</td>\n",
       "      <td>0.367102</td>\n",
       "      <td>0.0</td>\n",
       "    </tr>\n",
       "    <tr>\n",
       "      <th>1</th>\n",
       "      <td>0.173967</td>\n",
       "      <td>0.155915</td>\n",
       "      <td>0.263135</td>\n",
       "      <td>0.625985</td>\n",
       "      <td>0.193709</td>\n",
       "      <td>0.707692</td>\n",
       "      <td>0.256525</td>\n",
       "      <td>1.0</td>\n",
       "    </tr>\n",
       "    <tr>\n",
       "      <th>2</th>\n",
       "      <td>0.130239</td>\n",
       "      <td>0.075000</td>\n",
       "      <td>0.282310</td>\n",
       "      <td>0.279650</td>\n",
       "      <td>0.134870</td>\n",
       "      <td>0.785545</td>\n",
       "      <td>0.159653</td>\n",
       "      <td>0.0</td>\n",
       "    </tr>\n",
       "    <tr>\n",
       "      <th>3</th>\n",
       "      <td>0.416966</td>\n",
       "      <td>0.410640</td>\n",
       "      <td>0.354285</td>\n",
       "      <td>0.850290</td>\n",
       "      <td>0.426486</td>\n",
       "      <td>0.797411</td>\n",
       "      <td>0.445093</td>\n",
       "      <td>1.0</td>\n",
       "    </tr>\n",
       "    <tr>\n",
       "      <th>4</th>\n",
       "      <td>0.116832</td>\n",
       "      <td>0.079873</td>\n",
       "      <td>0.225138</td>\n",
       "      <td>0.464827</td>\n",
       "      <td>0.116180</td>\n",
       "      <td>0.848382</td>\n",
       "      <td>0.129657</td>\n",
       "      <td>0.0</td>\n",
       "    </tr>\n",
       "    <tr>\n",
       "      <th>...</th>\n",
       "      <td>...</td>\n",
       "      <td>...</td>\n",
       "      <td>...</td>\n",
       "      <td>...</td>\n",
       "      <td>...</td>\n",
       "      <td>...</td>\n",
       "      <td>...</td>\n",
       "      <td>...</td>\n",
       "    </tr>\n",
       "    <tr>\n",
       "      <th>175</th>\n",
       "      <td>0.354240</td>\n",
       "      <td>0.267056</td>\n",
       "      <td>0.445044</td>\n",
       "      <td>0.608017</td>\n",
       "      <td>0.376255</td>\n",
       "      <td>0.792897</td>\n",
       "      <td>0.388789</td>\n",
       "      <td>1.0</td>\n",
       "    </tr>\n",
       "    <tr>\n",
       "      <th>176</th>\n",
       "      <td>0.494377</td>\n",
       "      <td>0.408450</td>\n",
       "      <td>0.467939</td>\n",
       "      <td>0.773995</td>\n",
       "      <td>0.510237</td>\n",
       "      <td>0.590217</td>\n",
       "      <td>0.484878</td>\n",
       "      <td>1.0</td>\n",
       "    </tr>\n",
       "    <tr>\n",
       "      <th>177</th>\n",
       "      <td>0.374549</td>\n",
       "      <td>0.376921</td>\n",
       "      <td>0.333926</td>\n",
       "      <td>0.839922</td>\n",
       "      <td>0.377358</td>\n",
       "      <td>0.683121</td>\n",
       "      <td>0.384308</td>\n",
       "      <td>1.0</td>\n",
       "    </tr>\n",
       "    <tr>\n",
       "      <th>178</th>\n",
       "      <td>0.239593</td>\n",
       "      <td>0.184789</td>\n",
       "      <td>0.343547</td>\n",
       "      <td>0.570428</td>\n",
       "      <td>0.241151</td>\n",
       "      <td>0.760365</td>\n",
       "      <td>0.253966</td>\n",
       "      <td>0.0</td>\n",
       "    </tr>\n",
       "    <tr>\n",
       "      <th>179</th>\n",
       "      <td>0.248975</td>\n",
       "      <td>0.221830</td>\n",
       "      <td>0.310514</td>\n",
       "      <td>0.690975</td>\n",
       "      <td>0.252782</td>\n",
       "      <td>0.711171</td>\n",
       "      <td>0.278000</td>\n",
       "      <td>0.0</td>\n",
       "    </tr>\n",
       "  </tbody>\n",
       "</table>\n",
       "<p>180 rows × 8 columns</p>\n",
       "</div>"
      ],
      "text/plain": [
       "         area  majoraxislength  minoraxislength  eccentricity  convexarea  \\\n",
       "0    0.333683         0.292740         0.391650      0.709791    0.343346   \n",
       "1    0.173967         0.155915         0.263135      0.625985    0.193709   \n",
       "2    0.130239         0.075000         0.282310      0.279650    0.134870   \n",
       "3    0.416966         0.410640         0.354285      0.850290    0.426486   \n",
       "4    0.116832         0.079873         0.225138      0.464827    0.116180   \n",
       "..        ...              ...              ...           ...         ...   \n",
       "175  0.354240         0.267056         0.445044      0.608017    0.376255   \n",
       "176  0.494377         0.408450         0.467939      0.773995    0.510237   \n",
       "177  0.374549         0.376921         0.333926      0.839922    0.377358   \n",
       "178  0.239593         0.184789         0.343547      0.570428    0.241151   \n",
       "179  0.248975         0.221830         0.310514      0.690975    0.252782   \n",
       "\n",
       "       extent  perimeter  target  \n",
       "0    0.647720   0.367102     0.0  \n",
       "1    0.707692   0.256525     1.0  \n",
       "2    0.785545   0.159653     0.0  \n",
       "3    0.797411   0.445093     1.0  \n",
       "4    0.848382   0.129657     0.0  \n",
       "..        ...        ...     ...  \n",
       "175  0.792897   0.388789     1.0  \n",
       "176  0.590217   0.484878     1.0  \n",
       "177  0.683121   0.384308     1.0  \n",
       "178  0.760365   0.253966     0.0  \n",
       "179  0.711171   0.278000     0.0  \n",
       "\n",
       "[180 rows x 8 columns]"
      ]
     },
     "execution_count": 32,
     "metadata": {},
     "output_type": "execute_result"
    }
   ],
   "source": [
    "test"
   ]
  },
  {
   "cell_type": "code",
   "execution_count": 33,
   "id": "7e11ea03",
   "metadata": {},
   "outputs": [],
   "source": [
    "x_test, y_test = test.drop(\"target\", axis =1), test[\"target\"]"
   ]
  },
  {
   "cell_type": "code",
   "execution_count": 34,
   "id": "bf96a3db",
   "metadata": {},
   "outputs": [],
   "source": [
    "pred_test = model.predict(x_test)"
   ]
  },
  {
   "cell_type": "code",
   "execution_count": 35,
   "id": "dc2ef4a4",
   "metadata": {},
   "outputs": [
    {
     "name": "stdout",
     "output_type": "stream",
     "text": [
      "              precision    recall  f1-score   support\n",
      "\n",
      "         0.0       0.86      0.88      0.87        94\n",
      "         1.0       0.87      0.84      0.85        86\n",
      "\n",
      "    accuracy                           0.86       180\n",
      "   macro avg       0.86      0.86      0.86       180\n",
      "weighted avg       0.86      0.86      0.86       180\n",
      "\n"
     ]
    }
   ],
   "source": [
    "print(classification_report(y_test, pred_test))"
   ]
  },
  {
   "cell_type": "code",
   "execution_count": 36,
   "id": "41abcf68",
   "metadata": {},
   "outputs": [],
   "source": [
    "f1_test = f1_score(y_test, pred_test)\n",
    "prec_test = precision_score(y_test, pred_test)\n",
    "recall_test = recall_score(y_test, pred_test)"
   ]
  },
  {
   "cell_type": "code",
   "execution_count": 37,
   "id": "0d9066e4",
   "metadata": {},
   "outputs": [],
   "source": [
    "conf = confusion_matrix(y_test, pred_test)"
   ]
  },
  {
   "cell_type": "code",
   "execution_count": 38,
   "id": "f1aad705",
   "metadata": {},
   "outputs": [
    {
     "data": {
      "image/png": "[encoded data removed]",
      "text/plain": [
       "<Figure size 720x720 with 2 Axes>"
      ]
     },
     "metadata": {},
     "output_type": "display_data"
    }
   ],
   "source": [
    "plt.figure(figsize=(10,10))\n",
    "sns.heatmap(conf, annot=True, cmap=\"Blues\")\n",
    "#plt.show();\n",
    "plt.savefig(\"../conf/svc.png\")"
   ]
  },
  {
   "cell_type": "code",
   "execution_count": 39,
   "id": "d98fa5bb",
   "metadata": {},
   "outputs": [],
   "source": [
    "df = pd.DataFrame()\n",
    "df[\"f1_test\"] = [f1_test]\n",
    "df[\"f1_train\"] = f1_train\n",
    "df[\"prec_train\"] = prec_train\n",
    "df[\"prec_test\"] = prec_test\n",
    "df[\"recall_train\"] = recall_train\n",
    "df[\"recall_test\"] = recall_test\n",
    "df[\"model\"] = \"SVC\"\n",
    "df[\"elapsed\"] = elapsed"
   ]
  },
  {
   "cell_type": "code",
   "execution_count": 40,
   "id": "131d2625",
   "metadata": {},
   "outputs": [
    {
     "data": {
      "text/html": [
       "<div>\n",
       "<style scoped>\n",
       "    .dataframe tbody tr th:only-of-type {\n",
       "        vertical-align: middle;\n",
       "    }\n",
       "\n",
       "    .dataframe tbody tr th {\n",
       "        vertical-align: top;\n",
       "    }\n",
       "\n",
       "    .dataframe thead th {\n",
       "        text-align: right;\n",
       "    }\n",
       "</style>\n",
       "<table border=\"1\" class=\"dataframe\">\n",
       "  <thead>\n",
       "    <tr style=\"text-align: right;\">\n",
       "      <th></th>\n",
       "      <th>f1_test</th>\n",
       "      <th>f1_train</th>\n",
       "      <th>prec_train</th>\n",
       "      <th>prec_test</th>\n",
       "      <th>recall_train</th>\n",
       "      <th>recall_test</th>\n",
       "      <th>model</th>\n",
       "      <th>elapsed</th>\n",
       "    </tr>\n",
       "  </thead>\n",
       "  <tbody>\n",
       "    <tr>\n",
       "      <th>0</th>\n",
       "      <td>0.852071</td>\n",
       "      <td>0.876274</td>\n",
       "      <td>0.931889</td>\n",
       "      <td>0.86747</td>\n",
       "      <td>0.826923</td>\n",
       "      <td>0.837209</td>\n",
       "      <td>SVC</td>\n",
       "      <td>0.059144</td>\n",
       "    </tr>\n",
       "  </tbody>\n",
       "</table>\n",
       "</div>"
      ],
      "text/plain": [
       "    f1_test  f1_train  prec_train  prec_test  recall_train  recall_test model  \\\n",
       "0  0.852071  0.876274    0.931889    0.86747      0.826923     0.837209   SVC   \n",
       "\n",
       "    elapsed  \n",
       "0  0.059144  "
      ]
     },
     "execution_count": 40,
     "metadata": {},
     "output_type": "execute_result"
    }
   ],
   "source": [
    "df"
   ]
  },
  {
   "cell_type": "code",
   "execution_count": 41,
   "id": "ef53b490",
   "metadata": {},
   "outputs": [],
   "source": [
    "df.to_csv(\"../results/regular/svc.csv\", index=False)"
   ]
  },
  {
   "cell_type": "code",
   "execution_count": null,
   "id": "d10c52f0",
   "metadata": {},
   "outputs": [],
   "source": []
  }
 ],
 "metadata": {
  "kernelspec": {
   "display_name": "Python 3 (ipykernel)",
   "language": "python",
   "name": "python3"
  },
  "language_info": {
   "codemirror_mode": {
    "name": "ipython",
    "version": 3
   },
   "file_extension": ".py",
   "mimetype": "text/x-python",
   "name": "python",
   "nbconvert_exporter": "python",
   "pygments_lexer": "ipython3",
   "version": "3.9.12"
  }
 },
 "nbformat": 4,
 "nbformat_minor": 5
}

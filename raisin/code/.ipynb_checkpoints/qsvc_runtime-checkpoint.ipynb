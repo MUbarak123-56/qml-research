{
 "cells": [
  {
   "cell_type": "code",
   "execution_count": 1,
   "id": "ab48013e",
   "metadata": {},
   "outputs": [],
   "source": [
    "import pandas as pd\n",
    "import seaborn as sns\n",
    "import numpy as np\n",
    "import matplotlib.pyplot as plt\n",
    "\n"
   ]
  },
  {
   "cell_type": "code",
   "execution_count": 2,
   "id": "9573b229",
   "metadata": {},
   "outputs": [],
   "source": [
    "train = pd.read_csv(\"../data/train_fe.csv\")\n",
    "\n",
    "cols = ['area', 'majoraxislength', 'minoraxislength', 'eccentricity',\n",
    "       'convexarea', 'extent', 'perimeter']\n",
    "\n",
    "x_train = train[cols]\n",
    "y_train = train[\"target\"]\n",
    "\n"
   ]
  },
  {
   "cell_type": "code",
   "execution_count": 3,
   "id": "2b1a3988",
   "metadata": {},
   "outputs": [
    {
     "name": "stdout",
     "output_type": "stream",
     "text": [
      "size  0\n",
      "size  1\n",
      "size  2\n",
      "size  3\n",
      "size  4\n",
      "size  5\n",
      "size  6\n",
      "size  7\n",
      "size  8\n",
      "size  9\n"
     ]
    }
   ],
   "source": [
    "from qiskit.circuit.library import PauliFeatureMap\n",
    "from qiskit_machine_learning.algorithms import QSVC\n",
    "from qiskit_machine_learning.kernels import FidelityQuantumKernel\n",
    "from qiskit import BasicAer\n",
    "from qiskit.utils import algorithm_globals\n",
    "import time\n",
    "\n",
    "num_qubits = len(cols)\n",
    "algorithm_globals.random_seed = 12345\n",
    "\n",
    "# Define the feature map\n",
    "feature_map = PauliFeatureMap(feature_dimension=num_qubits, reps=1)\n",
    "\n",
    "# Define the quantum kernel\n",
    "qkernel = FidelityQuantumKernel(feature_map=feature_map)\n",
    "\n",
    "# Initialize the QSVC model\n",
    "model = QSVC(quantum_kernel=qkernel)\n",
    "\n",
    "sizes = np.linspace(0.1,1,10)\n",
    "sizes = list(sizes)\n",
    "\n",
    "size = pd.DataFrame()\n",
    "for i in range(len(sizes)):\n",
    "    numbers = np.random.randint(0,high=len(train), size=round(len(train)*sizes[i]))\n",
    "    new_x = np.array(x_train.iloc[numbers,:].reset_index(drop=True))\n",
    "    new_y = np.array(y_train.iloc[numbers])\n",
    "    start = time.time()\n",
    "    model.fit(new_x, new_y)\n",
    "    stop = time.time()\n",
    "    elapsed=stop-start\n",
    "    size.loc[i, \"size\"] = sizes[i]*len(train)\n",
    "    size.loc[i, \"model\"] = \"QSVC\"\n",
    "    size.loc[i, \"runtime\"] = elapsed\n",
    "    #size.loc[i,\"kernel\"] = typ\n",
    "    print(\"size \", i)\n",
    "\n",
    "size.to_csv(\"../results/runtime_size/qsvc.csv\", index=False)\n"
   ]
  },
  {
   "cell_type": "code",
   "execution_count": 4,
   "id": "f03a5171",
   "metadata": {},
   "outputs": [
    {
     "name": "stdout",
     "output_type": "stream",
     "text": [
      "feat  1\n",
      "feat  2\n",
      "feat  3\n",
      "feat  4\n",
      "feat  5\n",
      "feat  6\n"
     ]
    }
   ],
   "source": [
    "feat = pd.DataFrame()\n",
    "for i in range(1,len(cols)):\n",
    "    new_x = np.array(x_train.loc[:,cols[:i+1]])\n",
    "    # Define the feature map\n",
    "    feature_map = PauliFeatureMap(feature_dimension=new_x.shape[1], reps=1)\n",
    "\n",
    "    # Define the quantum kernel\n",
    "    qkernel = FidelityQuantumKernel(feature_map=feature_map)\n",
    "\n",
    "    # Initialize the QSVC model\n",
    "    model = QSVC(quantum_kernel=qkernel)\n",
    "    start = time.time()\n",
    "    model.fit(new_x, np.array(y_train))\n",
    "    stop = time.time()\n",
    "    elapsed=stop-start\n",
    "    feat.loc[i, \"num_features\"] = i + 1\n",
    "    feat.loc[i, \"model\"] = \"QSVC\"\n",
    "    feat.loc[i, \"runtime\"] = elapsed\n",
    "    #feat.loc[i,\"kernel\"] = typ\n",
    "    print(\"feat \", i)\n",
    "feat.to_csv(\"../results/runtime_features/qsvc.csv\", index=False)"
   ]
  },
  {
   "cell_type": "code",
   "execution_count": null,
   "id": "53c8a4f4",
   "metadata": {},
   "outputs": [],
   "source": []
  }
 ],
 "metadata": {
  "kernelspec": {
   "display_name": "Python 3 (ipykernel)",
   "language": "python",
   "name": "python3"
  },
  "language_info": {
   "codemirror_mode": {
    "name": "ipython",
    "version": 3
   },
   "file_extension": ".py",
   "mimetype": "text/x-python",
   "name": "python",
   "nbconvert_exporter": "python",
   "pygments_lexer": "ipython3",
   "version": "3.9.12"
  }
 },
 "nbformat": 4,
 "nbformat_minor": 5
}

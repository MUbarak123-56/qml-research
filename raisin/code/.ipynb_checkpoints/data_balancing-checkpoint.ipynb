{
 "cells": [
  {
   "cell_type": "code",
   "execution_count": 1,
   "id": "58d51d5b",
   "metadata": {},
   "outputs": [],
   "source": [
    "import pandas as pd\n",
    "from imblearn.over_sampling import SMOTE\n",
    "from collections import Counter\n",
    "import numpy"
   ]
  },
  {
   "cell_type": "code",
   "execution_count": 2,
   "id": "6c5db9cc",
   "metadata": {},
   "outputs": [],
   "source": [
    "data = pd.read_csv(\"../data/train_fe.csv\")"
   ]
  },
  {
   "cell_type": "code",
   "execution_count": 3,
   "id": "3698c836",
   "metadata": {},
   "outputs": [],
   "source": [
    "x_train, y_train = data.drop(\"target\", axis = 1), data[\"target\"]"
   ]
  },
  {
   "cell_type": "code",
   "execution_count": 4,
   "id": "ac735dc2",
   "metadata": {},
   "outputs": [
    {
     "name": "stdout",
     "output_type": "stream",
     "text": [
      "Before Counter({0.0: 7722, 1.0: 278})\n"
     ]
    }
   ],
   "source": [
    "count = Counter(y_train)\n",
    "print(\"Before\", count)"
   ]
  },
  {
   "cell_type": "code",
   "execution_count": 5,
   "id": "e0cd4c09",
   "metadata": {},
   "outputs": [],
   "source": [
    "smt = SMOTE()\n",
    "x_train_sm, y_train_sm = smt.fit_resample(x_train, y_train)"
   ]
  },
  {
   "cell_type": "code",
   "execution_count": 6,
   "id": "17abeaf1",
   "metadata": {},
   "outputs": [
    {
     "name": "stdout",
     "output_type": "stream",
     "text": [
      "After Counter({0.0: 7722, 1.0: 7722})\n"
     ]
    }
   ],
   "source": [
    "count = Counter(y_train_sm)\n",
    "print(\"After\", count)"
   ]
  },
  {
   "cell_type": "code",
   "execution_count": 9,
   "id": "8cada690",
   "metadata": {},
   "outputs": [],
   "source": [
    "x_train_sm[\"target\"] = y_train_sm"
   ]
  },
  {
   "cell_type": "code",
   "execution_count": 10,
   "id": "20d9a678",
   "metadata": {},
   "outputs": [],
   "source": [
    "train_sm = x_train_sm.copy()"
   ]
  },
  {
   "cell_type": "code",
   "execution_count": 12,
   "id": "1e211723",
   "metadata": {},
   "outputs": [],
   "source": [
    "train_sm.to_csv(\"../data/train_big.csv\", index=False)"
   ]
  },
  {
   "cell_type": "code",
   "execution_count": null,
   "id": "d171ba19",
   "metadata": {},
   "outputs": [],
   "source": []
  }
 ],
 "metadata": {
  "kernelspec": {
   "display_name": "Python 3 (ipykernel)",
   "language": "python",
   "name": "python3"
  },
  "language_info": {
   "codemirror_mode": {
    "name": "ipython",
    "version": 3
   },
   "file_extension": ".py",
   "mimetype": "text/x-python",
   "name": "python",
   "nbconvert_exporter": "python",
   "pygments_lexer": "ipython3",
   "version": "3.9.12"
  }
 },
 "nbformat": 4,
 "nbformat_minor": 5
}

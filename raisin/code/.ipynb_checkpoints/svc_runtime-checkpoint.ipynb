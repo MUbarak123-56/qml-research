{
 "cells": [
  {
   "cell_type": "code",
   "execution_count": 1,
   "id": "98d0ee7c",
   "metadata": {},
   "outputs": [],
   "source": [
    "import pandas as pd\n",
    "import warnings\n",
    "warnings.filterwarnings('ignore')\n",
    "from sklearn.linear_model import LogisticRegression\n",
    "from sklearn.svm import SVC\n",
    "from sklearn.naive_bayes import GaussianNB\n",
    "from sklearn.model_selection import cross_val_score, cross_val_predict, train_test_split, GridSearchCV\n",
    "import numpy as np\n",
    "from sklearn.metrics import classification_report, confusion_matrix, f1_score, precision_score, recall_score\n",
    "from sklearn.pipeline import Pipeline\n",
    "import matplotlib.pyplot as plt\n",
    "%matplotlib inline\n",
    "import seaborn as sns; sns.set_style(\"dark\")\n",
    "import time"
   ]
  },
  {
   "cell_type": "code",
   "execution_count": 2,
   "id": "a4a5225d",
   "metadata": {},
   "outputs": [],
   "source": [
    "train = pd.read_csv(\"../data/train_fe.csv\")"
   ]
  },
  {
   "cell_type": "code",
   "execution_count": 3,
   "id": "2c4481a4",
   "metadata": {},
   "outputs": [],
   "source": [
    "cols = ['pregnancy_occurence', 'glucose_concentration', 'blood_pressure',\n",
    "       'triceps_foldness', 'serum_insulin', 'bmi', 'predigree_function', 'age']"
   ]
  },
  {
   "cell_type": "code",
   "execution_count": 4,
   "id": "06eca11c",
   "metadata": {},
   "outputs": [],
   "source": [
    "#train = train[cols]\n",
    "x_train = train[cols]\n",
    "y_train = train[\"target\"]"
   ]
  },
  {
   "cell_type": "code",
   "execution_count": 5,
   "id": "6938fa93",
   "metadata": {},
   "outputs": [
    {
     "data": {
      "text/plain": [
       "[0.1,\n",
       " 0.2,\n",
       " 0.30000000000000004,\n",
       " 0.4,\n",
       " 0.5,\n",
       " 0.6,\n",
       " 0.7000000000000001,\n",
       " 0.8,\n",
       " 0.9,\n",
       " 1.0]"
      ]
     },
     "execution_count": 5,
     "metadata": {},
     "output_type": "execute_result"
    }
   ],
   "source": [
    "sizes = np.linspace(0.1,1,10)\n",
    "sizes = list(sizes)\n",
    "sizes"
   ]
  },
  {
   "cell_type": "code",
   "execution_count": 6,
   "id": "65553540",
   "metadata": {},
   "outputs": [
    {
     "data": {
      "text/plain": [
       "['pregnancy_occurence',\n",
       " 'glucose_concentration',\n",
       " 'blood_pressure',\n",
       " 'triceps_foldness',\n",
       " 'serum_insulin',\n",
       " 'bmi',\n",
       " 'predigree_function',\n",
       " 'age']"
      ]
     },
     "execution_count": 6,
     "metadata": {},
     "output_type": "execute_result"
    }
   ],
   "source": [
    "cols[:len(cols)+1]"
   ]
  },
  {
   "cell_type": "code",
   "execution_count": 7,
   "id": "dbe4019b",
   "metadata": {},
   "outputs": [
    {
     "data": {
      "text/plain": [
       "0.1"
      ]
     },
     "execution_count": 7,
     "metadata": {},
     "output_type": "execute_result"
    }
   ],
   "source": [
    "sizes[0]"
   ]
  },
  {
   "cell_type": "code",
   "execution_count": 8,
   "id": "6025a8e0",
   "metadata": {},
   "outputs": [],
   "source": [
    "numbers = np.random.randint(0,high=len(train), size=round(len(train)*sizes[0]))"
   ]
  },
  {
   "cell_type": "code",
   "execution_count": 9,
   "id": "4dcee80c",
   "metadata": {},
   "outputs": [],
   "source": [
    "typ = \"linear\"\n",
    "model = SVC(kernel=typ)\n",
    "size1 = pd.DataFrame()\n",
    "for i in range(len(sizes)):\n",
    "    numbers = np.random.randint(0,high=len(train), size=round(len(train)*sizes[i]))\n",
    "    new_x = x_train.iloc[numbers,:].reset_index(drop=True)\n",
    "    new_y = y_train.iloc[numbers]\n",
    "    start = time.time()\n",
    "    model.fit(new_x, new_y)\n",
    "    stop = time.time()\n",
    "    elapsed=stop-start\n",
    "    size1.loc[i, \"size\"] = sizes[i]*len(train)\n",
    "    size1.loc[i, \"model\"] = \"SVC_linear\"\n",
    "    size1.loc[i, \"runtime\"] = elapsed\n",
    "    #size1.loc[i,\"kernel\"] = typ"
   ]
  },
  {
   "cell_type": "code",
   "execution_count": 10,
   "id": "a1015cbe",
   "metadata": {},
   "outputs": [
    {
     "data": {
      "text/html": [
       "<div>\n",
       "<style scoped>\n",
       "    .dataframe tbody tr th:only-of-type {\n",
       "        vertical-align: middle;\n",
       "    }\n",
       "\n",
       "    .dataframe tbody tr th {\n",
       "        vertical-align: top;\n",
       "    }\n",
       "\n",
       "    .dataframe thead th {\n",
       "        text-align: right;\n",
       "    }\n",
       "</style>\n",
       "<table border=\"1\" class=\"dataframe\">\n",
       "  <thead>\n",
       "    <tr style=\"text-align: right;\">\n",
       "      <th></th>\n",
       "      <th>size</th>\n",
       "      <th>model</th>\n",
       "      <th>runtime</th>\n",
       "    </tr>\n",
       "  </thead>\n",
       "  <tbody>\n",
       "    <tr>\n",
       "      <th>0</th>\n",
       "      <td>61.4</td>\n",
       "      <td>SVC_linear</td>\n",
       "      <td>0.027971</td>\n",
       "    </tr>\n",
       "    <tr>\n",
       "      <th>1</th>\n",
       "      <td>122.8</td>\n",
       "      <td>SVC_linear</td>\n",
       "      <td>0.004116</td>\n",
       "    </tr>\n",
       "    <tr>\n",
       "      <th>2</th>\n",
       "      <td>184.2</td>\n",
       "      <td>SVC_linear</td>\n",
       "      <td>0.004628</td>\n",
       "    </tr>\n",
       "    <tr>\n",
       "      <th>3</th>\n",
       "      <td>245.6</td>\n",
       "      <td>SVC_linear</td>\n",
       "      <td>0.005498</td>\n",
       "    </tr>\n",
       "    <tr>\n",
       "      <th>4</th>\n",
       "      <td>307.0</td>\n",
       "      <td>SVC_linear</td>\n",
       "      <td>0.007287</td>\n",
       "    </tr>\n",
       "    <tr>\n",
       "      <th>5</th>\n",
       "      <td>368.4</td>\n",
       "      <td>SVC_linear</td>\n",
       "      <td>0.007772</td>\n",
       "    </tr>\n",
       "    <tr>\n",
       "      <th>6</th>\n",
       "      <td>429.8</td>\n",
       "      <td>SVC_linear</td>\n",
       "      <td>0.010156</td>\n",
       "    </tr>\n",
       "    <tr>\n",
       "      <th>7</th>\n",
       "      <td>491.2</td>\n",
       "      <td>SVC_linear</td>\n",
       "      <td>0.011216</td>\n",
       "    </tr>\n",
       "    <tr>\n",
       "      <th>8</th>\n",
       "      <td>552.6</td>\n",
       "      <td>SVC_linear</td>\n",
       "      <td>0.013218</td>\n",
       "    </tr>\n",
       "    <tr>\n",
       "      <th>9</th>\n",
       "      <td>614.0</td>\n",
       "      <td>SVC_linear</td>\n",
       "      <td>0.016529</td>\n",
       "    </tr>\n",
       "  </tbody>\n",
       "</table>\n",
       "</div>"
      ],
      "text/plain": [
       "    size       model   runtime\n",
       "0   61.4  SVC_linear  0.027971\n",
       "1  122.8  SVC_linear  0.004116\n",
       "2  184.2  SVC_linear  0.004628\n",
       "3  245.6  SVC_linear  0.005498\n",
       "4  307.0  SVC_linear  0.007287\n",
       "5  368.4  SVC_linear  0.007772\n",
       "6  429.8  SVC_linear  0.010156\n",
       "7  491.2  SVC_linear  0.011216\n",
       "8  552.6  SVC_linear  0.013218\n",
       "9  614.0  SVC_linear  0.016529"
      ]
     },
     "execution_count": 10,
     "metadata": {},
     "output_type": "execute_result"
    }
   ],
   "source": [
    "size1"
   ]
  },
  {
   "cell_type": "code",
   "execution_count": 11,
   "id": "f2c1af1c",
   "metadata": {},
   "outputs": [],
   "source": [
    "typ = \"rbf\"\n",
    "model = SVC(kernel=typ)\n",
    "size2 = pd.DataFrame()\n",
    "for i in range(len(sizes)):\n",
    "    numbers = np.random.randint(0,high=len(train), size=round(len(train)*sizes[i]))\n",
    "    new_x = x_train.iloc[numbers,:].reset_index(drop=True)\n",
    "    new_y = y_train.iloc[numbers]\n",
    "    start = time.time()\n",
    "    model.fit(new_x, new_y)\n",
    "    stop = time.time()\n",
    "    elapsed=stop-start\n",
    "    size2.loc[i, \"size\"] = sizes[i]*len(train)\n",
    "    size2.loc[i, \"model\"] = \"SVC_rbf\"\n",
    "    size2.loc[i, \"runtime\"] = elapsed\n",
    "    #size2.loc[i,\"kernel\"] = typ"
   ]
  },
  {
   "cell_type": "code",
   "execution_count": 12,
   "id": "7231d6ef",
   "metadata": {},
   "outputs": [
    {
     "data": {
      "text/html": [
       "<div>\n",
       "<style scoped>\n",
       "    .dataframe tbody tr th:only-of-type {\n",
       "        vertical-align: middle;\n",
       "    }\n",
       "\n",
       "    .dataframe tbody tr th {\n",
       "        vertical-align: top;\n",
       "    }\n",
       "\n",
       "    .dataframe thead th {\n",
       "        text-align: right;\n",
       "    }\n",
       "</style>\n",
       "<table border=\"1\" class=\"dataframe\">\n",
       "  <thead>\n",
       "    <tr style=\"text-align: right;\">\n",
       "      <th></th>\n",
       "      <th>size</th>\n",
       "      <th>model</th>\n",
       "      <th>runtime</th>\n",
       "    </tr>\n",
       "  </thead>\n",
       "  <tbody>\n",
       "    <tr>\n",
       "      <th>0</th>\n",
       "      <td>61.4</td>\n",
       "      <td>SVC_rbf</td>\n",
       "      <td>0.004340</td>\n",
       "    </tr>\n",
       "    <tr>\n",
       "      <th>1</th>\n",
       "      <td>122.8</td>\n",
       "      <td>SVC_rbf</td>\n",
       "      <td>0.004570</td>\n",
       "    </tr>\n",
       "    <tr>\n",
       "      <th>2</th>\n",
       "      <td>184.2</td>\n",
       "      <td>SVC_rbf</td>\n",
       "      <td>0.005647</td>\n",
       "    </tr>\n",
       "    <tr>\n",
       "      <th>3</th>\n",
       "      <td>245.6</td>\n",
       "      <td>SVC_rbf</td>\n",
       "      <td>0.006934</td>\n",
       "    </tr>\n",
       "    <tr>\n",
       "      <th>4</th>\n",
       "      <td>307.0</td>\n",
       "      <td>SVC_rbf</td>\n",
       "      <td>0.008504</td>\n",
       "    </tr>\n",
       "    <tr>\n",
       "      <th>5</th>\n",
       "      <td>368.4</td>\n",
       "      <td>SVC_rbf</td>\n",
       "      <td>0.033775</td>\n",
       "    </tr>\n",
       "    <tr>\n",
       "      <th>6</th>\n",
       "      <td>429.8</td>\n",
       "      <td>SVC_rbf</td>\n",
       "      <td>0.014311</td>\n",
       "    </tr>\n",
       "    <tr>\n",
       "      <th>7</th>\n",
       "      <td>491.2</td>\n",
       "      <td>SVC_rbf</td>\n",
       "      <td>0.017742</td>\n",
       "    </tr>\n",
       "    <tr>\n",
       "      <th>8</th>\n",
       "      <td>552.6</td>\n",
       "      <td>SVC_rbf</td>\n",
       "      <td>0.020135</td>\n",
       "    </tr>\n",
       "    <tr>\n",
       "      <th>9</th>\n",
       "      <td>614.0</td>\n",
       "      <td>SVC_rbf</td>\n",
       "      <td>0.023285</td>\n",
       "    </tr>\n",
       "  </tbody>\n",
       "</table>\n",
       "</div>"
      ],
      "text/plain": [
       "    size    model   runtime\n",
       "0   61.4  SVC_rbf  0.004340\n",
       "1  122.8  SVC_rbf  0.004570\n",
       "2  184.2  SVC_rbf  0.005647\n",
       "3  245.6  SVC_rbf  0.006934\n",
       "4  307.0  SVC_rbf  0.008504\n",
       "5  368.4  SVC_rbf  0.033775\n",
       "6  429.8  SVC_rbf  0.014311\n",
       "7  491.2  SVC_rbf  0.017742\n",
       "8  552.6  SVC_rbf  0.020135\n",
       "9  614.0  SVC_rbf  0.023285"
      ]
     },
     "execution_count": 12,
     "metadata": {},
     "output_type": "execute_result"
    }
   ],
   "source": [
    "size2"
   ]
  },
  {
   "cell_type": "code",
   "execution_count": 13,
   "id": "3670dfe1",
   "metadata": {},
   "outputs": [],
   "source": [
    "typ = \"linear\"\n",
    "model = SVC(kernel=typ)\n",
    "feat = pd.DataFrame()\n",
    "for i in range(len(cols)):\n",
    "    new_x = x_train.loc[:,cols[:i+1]]\n",
    "    start = time.time()\n",
    "    model.fit(new_x, y_train)\n",
    "    stop = time.time()\n",
    "    elapsed=stop-start\n",
    "    feat.loc[i, \"num_features\"] = i + 1\n",
    "    feat.loc[i, \"model\"] = \"SVC_linear\"\n",
    "    feat.loc[i, \"runtime\"] = elapsed\n",
    "    #feat.loc[i,\"kernel\"] = typ"
   ]
  },
  {
   "cell_type": "code",
   "execution_count": 14,
   "id": "5b443415",
   "metadata": {},
   "outputs": [
    {
     "data": {
      "text/html": [
       "<div>\n",
       "<style scoped>\n",
       "    .dataframe tbody tr th:only-of-type {\n",
       "        vertical-align: middle;\n",
       "    }\n",
       "\n",
       "    .dataframe tbody tr th {\n",
       "        vertical-align: top;\n",
       "    }\n",
       "\n",
       "    .dataframe thead th {\n",
       "        text-align: right;\n",
       "    }\n",
       "</style>\n",
       "<table border=\"1\" class=\"dataframe\">\n",
       "  <thead>\n",
       "    <tr style=\"text-align: right;\">\n",
       "      <th></th>\n",
       "      <th>num_features</th>\n",
       "      <th>model</th>\n",
       "      <th>runtime</th>\n",
       "    </tr>\n",
       "  </thead>\n",
       "  <tbody>\n",
       "    <tr>\n",
       "      <th>0</th>\n",
       "      <td>1.0</td>\n",
       "      <td>SVC_linear</td>\n",
       "      <td>0.016161</td>\n",
       "    </tr>\n",
       "    <tr>\n",
       "      <th>1</th>\n",
       "      <td>2.0</td>\n",
       "      <td>SVC_linear</td>\n",
       "      <td>0.014778</td>\n",
       "    </tr>\n",
       "    <tr>\n",
       "      <th>2</th>\n",
       "      <td>3.0</td>\n",
       "      <td>SVC_linear</td>\n",
       "      <td>0.014608</td>\n",
       "    </tr>\n",
       "    <tr>\n",
       "      <th>3</th>\n",
       "      <td>4.0</td>\n",
       "      <td>SVC_linear</td>\n",
       "      <td>0.015235</td>\n",
       "    </tr>\n",
       "    <tr>\n",
       "      <th>4</th>\n",
       "      <td>5.0</td>\n",
       "      <td>SVC_linear</td>\n",
       "      <td>0.015645</td>\n",
       "    </tr>\n",
       "    <tr>\n",
       "      <th>5</th>\n",
       "      <td>6.0</td>\n",
       "      <td>SVC_linear</td>\n",
       "      <td>0.015438</td>\n",
       "    </tr>\n",
       "    <tr>\n",
       "      <th>6</th>\n",
       "      <td>7.0</td>\n",
       "      <td>SVC_linear</td>\n",
       "      <td>0.015480</td>\n",
       "    </tr>\n",
       "    <tr>\n",
       "      <th>7</th>\n",
       "      <td>8.0</td>\n",
       "      <td>SVC_linear</td>\n",
       "      <td>0.015955</td>\n",
       "    </tr>\n",
       "  </tbody>\n",
       "</table>\n",
       "</div>"
      ],
      "text/plain": [
       "   num_features       model   runtime\n",
       "0           1.0  SVC_linear  0.016161\n",
       "1           2.0  SVC_linear  0.014778\n",
       "2           3.0  SVC_linear  0.014608\n",
       "3           4.0  SVC_linear  0.015235\n",
       "4           5.0  SVC_linear  0.015645\n",
       "5           6.0  SVC_linear  0.015438\n",
       "6           7.0  SVC_linear  0.015480\n",
       "7           8.0  SVC_linear  0.015955"
      ]
     },
     "execution_count": 14,
     "metadata": {},
     "output_type": "execute_result"
    }
   ],
   "source": [
    "feat"
   ]
  },
  {
   "cell_type": "code",
   "execution_count": 15,
   "id": "1c0d38da",
   "metadata": {},
   "outputs": [],
   "source": [
    "typ = \"rbf\"\n",
    "model = SVC(kernel=typ)\n",
    "feat2 = pd.DataFrame()\n",
    "for i in range(len(cols)):\n",
    "    new_x = x_train.loc[:,cols[:i+1]]\n",
    "    start = time.time()\n",
    "    model.fit(new_x, y_train)\n",
    "    stop = time.time()\n",
    "    elapsed=stop-start\n",
    "    feat2.loc[i, \"num_features\"] = i + 1\n",
    "    feat2.loc[i, \"model\"] = \"SVC_rbf\"\n",
    "    feat2.loc[i, \"runtime\"] = elapsed\n",
    "    #feat2.loc[i,\"kernel\"] = typ"
   ]
  },
  {
   "cell_type": "code",
   "execution_count": 16,
   "id": "4bbddd0e",
   "metadata": {},
   "outputs": [
    {
     "data": {
      "text/html": [
       "<div>\n",
       "<style scoped>\n",
       "    .dataframe tbody tr th:only-of-type {\n",
       "        vertical-align: middle;\n",
       "    }\n",
       "\n",
       "    .dataframe tbody tr th {\n",
       "        vertical-align: top;\n",
       "    }\n",
       "\n",
       "    .dataframe thead th {\n",
       "        text-align: right;\n",
       "    }\n",
       "</style>\n",
       "<table border=\"1\" class=\"dataframe\">\n",
       "  <thead>\n",
       "    <tr style=\"text-align: right;\">\n",
       "      <th></th>\n",
       "      <th>num_features</th>\n",
       "      <th>model</th>\n",
       "      <th>runtime</th>\n",
       "    </tr>\n",
       "  </thead>\n",
       "  <tbody>\n",
       "    <tr>\n",
       "      <th>0</th>\n",
       "      <td>1.0</td>\n",
       "      <td>SVC_rbf</td>\n",
       "      <td>0.029957</td>\n",
       "    </tr>\n",
       "    <tr>\n",
       "      <th>1</th>\n",
       "      <td>2.0</td>\n",
       "      <td>SVC_rbf</td>\n",
       "      <td>0.024442</td>\n",
       "    </tr>\n",
       "    <tr>\n",
       "      <th>2</th>\n",
       "      <td>3.0</td>\n",
       "      <td>SVC_rbf</td>\n",
       "      <td>0.025612</td>\n",
       "    </tr>\n",
       "    <tr>\n",
       "      <th>3</th>\n",
       "      <td>4.0</td>\n",
       "      <td>SVC_rbf</td>\n",
       "      <td>0.025261</td>\n",
       "    </tr>\n",
       "    <tr>\n",
       "      <th>4</th>\n",
       "      <td>5.0</td>\n",
       "      <td>SVC_rbf</td>\n",
       "      <td>0.025167</td>\n",
       "    </tr>\n",
       "    <tr>\n",
       "      <th>5</th>\n",
       "      <td>6.0</td>\n",
       "      <td>SVC_rbf</td>\n",
       "      <td>0.024883</td>\n",
       "    </tr>\n",
       "    <tr>\n",
       "      <th>6</th>\n",
       "      <td>7.0</td>\n",
       "      <td>SVC_rbf</td>\n",
       "      <td>0.025483</td>\n",
       "    </tr>\n",
       "    <tr>\n",
       "      <th>7</th>\n",
       "      <td>8.0</td>\n",
       "      <td>SVC_rbf</td>\n",
       "      <td>0.024129</td>\n",
       "    </tr>\n",
       "  </tbody>\n",
       "</table>\n",
       "</div>"
      ],
      "text/plain": [
       "   num_features    model   runtime\n",
       "0           1.0  SVC_rbf  0.029957\n",
       "1           2.0  SVC_rbf  0.024442\n",
       "2           3.0  SVC_rbf  0.025612\n",
       "3           4.0  SVC_rbf  0.025261\n",
       "4           5.0  SVC_rbf  0.025167\n",
       "5           6.0  SVC_rbf  0.024883\n",
       "6           7.0  SVC_rbf  0.025483\n",
       "7           8.0  SVC_rbf  0.024129"
      ]
     },
     "execution_count": 16,
     "metadata": {},
     "output_type": "execute_result"
    }
   ],
   "source": [
    "feat2"
   ]
  },
  {
   "cell_type": "code",
   "execution_count": 17,
   "id": "4e3732b7",
   "metadata": {},
   "outputs": [],
   "source": [
    "size_df = pd.concat([size1, size2], axis = 0).reset_index(drop=True)\n",
    "size_df.to_csv(\"../results/runtime_size/svc.csv\", index=False)"
   ]
  },
  {
   "cell_type": "code",
   "execution_count": 18,
   "id": "ae2f54ba",
   "metadata": {},
   "outputs": [],
   "source": [
    "feat_df = pd.concat([feat, feat2], axis = 0).reset_index(drop=True)\n",
    "feat_df.to_csv(\"../results/runtime_features/svc.csv\", index=False)"
   ]
  },
  {
   "cell_type": "code",
   "execution_count": null,
   "id": "0615dd55",
   "metadata": {},
   "outputs": [],
   "source": []
  },
  {
   "cell_type": "code",
   "execution_count": null,
   "id": "b719e140",
   "metadata": {},
   "outputs": [],
   "source": []
  }
 ],
 "metadata": {
  "kernelspec": {
   "display_name": "Python 3 (ipykernel)",
   "language": "python",
   "name": "python3"
  },
  "language_info": {
   "codemirror_mode": {
    "name": "ipython",
    "version": 3
   },
   "file_extension": ".py",
   "mimetype": "text/x-python",
   "name": "python",
   "nbconvert_exporter": "python",
   "pygments_lexer": "ipython3",
   "version": "3.9.12"
  }
 },
 "nbformat": 4,
 "nbformat_minor": 5
}

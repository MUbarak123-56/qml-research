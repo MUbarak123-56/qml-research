{
 "cells": [
  {
   "cell_type": "code",
   "execution_count": 1,
   "id": "b85ce9cb",
   "metadata": {},
   "outputs": [],
   "source": [
    "import pandas as pd\n",
    "import numpy as np\n",
    "from sklearn.model_selection import train_test_split, cross_val_score, GridSearchCV\n",
    "from sklearn.tree import DecisionTreeClassifier\n",
    "from sklearn.metrics import f1_score, precision_score, recall_score, classification_report, confusion_matrix\n",
    "import matplotlib.pyplot as plt\n",
    "import seaborn as sns"
   ]
  },
  {
   "cell_type": "code",
   "execution_count": 2,
   "id": "6f52f652",
   "metadata": {},
   "outputs": [],
   "source": [
    "train = pd.read_csv(\"../data/train_fe.csv\")\n",
    "test = pd.read_csv(\"../data/test_fe.csv\")"
   ]
  },
  {
   "cell_type": "code",
   "execution_count": 3,
   "id": "5ebe6107",
   "metadata": {},
   "outputs": [
    {
     "data": {
      "text/html": [
       "<div>\n",
       "<style scoped>\n",
       "    .dataframe tbody tr th:only-of-type {\n",
       "        vertical-align: middle;\n",
       "    }\n",
       "\n",
       "    .dataframe tbody tr th {\n",
       "        vertical-align: top;\n",
       "    }\n",
       "\n",
       "    .dataframe thead th {\n",
       "        text-align: right;\n",
       "    }\n",
       "</style>\n",
       "<table border=\"1\" class=\"dataframe\">\n",
       "  <thead>\n",
       "    <tr style=\"text-align: right;\">\n",
       "      <th></th>\n",
       "      <th>area</th>\n",
       "      <th>majoraxislength</th>\n",
       "      <th>minoraxislength</th>\n",
       "      <th>eccentricity</th>\n",
       "      <th>convexarea</th>\n",
       "      <th>extent</th>\n",
       "      <th>perimeter</th>\n",
       "      <th>target</th>\n",
       "    </tr>\n",
       "  </thead>\n",
       "  <tbody>\n",
       "    <tr>\n",
       "      <th>0</th>\n",
       "      <td>0.262568</td>\n",
       "      <td>0.290056</td>\n",
       "      <td>0.254227</td>\n",
       "      <td>0.827058</td>\n",
       "      <td>0.273867</td>\n",
       "      <td>0.646138</td>\n",
       "      <td>0.321550</td>\n",
       "      <td>0.0</td>\n",
       "    </tr>\n",
       "    <tr>\n",
       "      <th>1</th>\n",
       "      <td>0.224630</td>\n",
       "      <td>0.140979</td>\n",
       "      <td>0.398693</td>\n",
       "      <td>0.302535</td>\n",
       "      <td>0.229186</td>\n",
       "      <td>0.716253</td>\n",
       "      <td>0.249911</td>\n",
       "      <td>0.0</td>\n",
       "    </tr>\n",
       "    <tr>\n",
       "      <th>2</th>\n",
       "      <td>0.287857</td>\n",
       "      <td>0.200529</td>\n",
       "      <td>0.414687</td>\n",
       "      <td>0.495150</td>\n",
       "      <td>0.286038</td>\n",
       "      <td>0.839106</td>\n",
       "      <td>0.274388</td>\n",
       "      <td>0.0</td>\n",
       "    </tr>\n",
       "    <tr>\n",
       "      <th>3</th>\n",
       "      <td>0.750744</td>\n",
       "      <td>0.512630</td>\n",
       "      <td>0.676241</td>\n",
       "      <td>0.722318</td>\n",
       "      <td>0.764057</td>\n",
       "      <td>0.775255</td>\n",
       "      <td>0.611673</td>\n",
       "      <td>1.0</td>\n",
       "    </tr>\n",
       "    <tr>\n",
       "      <th>4</th>\n",
       "      <td>0.178613</td>\n",
       "      <td>0.253401</td>\n",
       "      <td>0.136156</td>\n",
       "      <td>0.884131</td>\n",
       "      <td>0.179696</td>\n",
       "      <td>0.891770</td>\n",
       "      <td>0.230519</td>\n",
       "      <td>0.0</td>\n",
       "    </tr>\n",
       "  </tbody>\n",
       "</table>\n",
       "</div>"
      ],
      "text/plain": [
       "       area  majoraxislength  minoraxislength  eccentricity  convexarea  \\\n",
       "0  0.262568         0.290056         0.254227      0.827058    0.273867   \n",
       "1  0.224630         0.140979         0.398693      0.302535    0.229186   \n",
       "2  0.287857         0.200529         0.414687      0.495150    0.286038   \n",
       "3  0.750744         0.512630         0.676241      0.722318    0.764057   \n",
       "4  0.178613         0.253401         0.136156      0.884131    0.179696   \n",
       "\n",
       "     extent  perimeter  target  \n",
       "0  0.646138   0.321550     0.0  \n",
       "1  0.716253   0.249911     0.0  \n",
       "2  0.839106   0.274388     0.0  \n",
       "3  0.775255   0.611673     1.0  \n",
       "4  0.891770   0.230519     0.0  "
      ]
     },
     "execution_count": 3,
     "metadata": {},
     "output_type": "execute_result"
    }
   ],
   "source": [
    "train.head()"
   ]
  },
  {
   "cell_type": "code",
   "execution_count": 4,
   "id": "33aac7b7",
   "metadata": {},
   "outputs": [
    {
     "data": {
      "text/html": [
       "<div>\n",
       "<style scoped>\n",
       "    .dataframe tbody tr th:only-of-type {\n",
       "        vertical-align: middle;\n",
       "    }\n",
       "\n",
       "    .dataframe tbody tr th {\n",
       "        vertical-align: top;\n",
       "    }\n",
       "\n",
       "    .dataframe thead th {\n",
       "        text-align: right;\n",
       "    }\n",
       "</style>\n",
       "<table border=\"1\" class=\"dataframe\">\n",
       "  <thead>\n",
       "    <tr style=\"text-align: right;\">\n",
       "      <th></th>\n",
       "      <th>area</th>\n",
       "      <th>majoraxislength</th>\n",
       "      <th>minoraxislength</th>\n",
       "      <th>eccentricity</th>\n",
       "      <th>convexarea</th>\n",
       "      <th>extent</th>\n",
       "      <th>perimeter</th>\n",
       "      <th>target</th>\n",
       "    </tr>\n",
       "  </thead>\n",
       "  <tbody>\n",
       "    <tr>\n",
       "      <th>0</th>\n",
       "      <td>0.333683</td>\n",
       "      <td>0.292740</td>\n",
       "      <td>0.391650</td>\n",
       "      <td>0.709791</td>\n",
       "      <td>0.343346</td>\n",
       "      <td>0.647720</td>\n",
       "      <td>0.367102</td>\n",
       "      <td>0.0</td>\n",
       "    </tr>\n",
       "    <tr>\n",
       "      <th>1</th>\n",
       "      <td>0.173967</td>\n",
       "      <td>0.155915</td>\n",
       "      <td>0.263135</td>\n",
       "      <td>0.625985</td>\n",
       "      <td>0.193709</td>\n",
       "      <td>0.707692</td>\n",
       "      <td>0.256525</td>\n",
       "      <td>1.0</td>\n",
       "    </tr>\n",
       "    <tr>\n",
       "      <th>2</th>\n",
       "      <td>0.130239</td>\n",
       "      <td>0.075000</td>\n",
       "      <td>0.282310</td>\n",
       "      <td>0.279650</td>\n",
       "      <td>0.134870</td>\n",
       "      <td>0.785545</td>\n",
       "      <td>0.159653</td>\n",
       "      <td>0.0</td>\n",
       "    </tr>\n",
       "    <tr>\n",
       "      <th>3</th>\n",
       "      <td>0.416966</td>\n",
       "      <td>0.410640</td>\n",
       "      <td>0.354285</td>\n",
       "      <td>0.850290</td>\n",
       "      <td>0.426486</td>\n",
       "      <td>0.797411</td>\n",
       "      <td>0.445093</td>\n",
       "      <td>1.0</td>\n",
       "    </tr>\n",
       "    <tr>\n",
       "      <th>4</th>\n",
       "      <td>0.116832</td>\n",
       "      <td>0.079873</td>\n",
       "      <td>0.225138</td>\n",
       "      <td>0.464827</td>\n",
       "      <td>0.116180</td>\n",
       "      <td>0.848382</td>\n",
       "      <td>0.129657</td>\n",
       "      <td>0.0</td>\n",
       "    </tr>\n",
       "  </tbody>\n",
       "</table>\n",
       "</div>"
      ],
      "text/plain": [
       "       area  majoraxislength  minoraxislength  eccentricity  convexarea  \\\n",
       "0  0.333683         0.292740         0.391650      0.709791    0.343346   \n",
       "1  0.173967         0.155915         0.263135      0.625985    0.193709   \n",
       "2  0.130239         0.075000         0.282310      0.279650    0.134870   \n",
       "3  0.416966         0.410640         0.354285      0.850290    0.426486   \n",
       "4  0.116832         0.079873         0.225138      0.464827    0.116180   \n",
       "\n",
       "     extent  perimeter  target  \n",
       "0  0.647720   0.367102     0.0  \n",
       "1  0.707692   0.256525     1.0  \n",
       "2  0.785545   0.159653     0.0  \n",
       "3  0.797411   0.445093     1.0  \n",
       "4  0.848382   0.129657     0.0  "
      ]
     },
     "execution_count": 4,
     "metadata": {},
     "output_type": "execute_result"
    }
   ],
   "source": [
    "test.head()"
   ]
  },
  {
   "cell_type": "code",
   "execution_count": 5,
   "id": "9e557c7c",
   "metadata": {},
   "outputs": [],
   "source": [
    "x_train_use, y_train_use= train.drop('target', axis=1), train['target']"
   ]
  },
  {
   "cell_type": "code",
   "execution_count": 6,
   "id": "0d0b8841",
   "metadata": {},
   "outputs": [],
   "source": [
    "x_train,x_val, y_train, y_val=train_test_split(x_train_use, y_train_use, train_size=0.8, random_state=42)"
   ]
  },
  {
   "cell_type": "code",
   "execution_count": 7,
   "id": "47391979",
   "metadata": {},
   "outputs": [
    {
     "data": {
      "text/plain": [
       "(576, 7)"
      ]
     },
     "execution_count": 7,
     "metadata": {},
     "output_type": "execute_result"
    }
   ],
   "source": [
    "x_train.shape"
   ]
  },
  {
   "cell_type": "markdown",
   "id": "6cc03c02",
   "metadata": {},
   "source": [
    "### Decision Tree Classifier"
   ]
  },
  {
   "cell_type": "markdown",
   "id": "0f9356d2",
   "metadata": {},
   "source": [
    "#### Max Depth 3"
   ]
  },
  {
   "cell_type": "code",
   "execution_count": 8,
   "id": "bbc5946e",
   "metadata": {},
   "outputs": [],
   "source": [
    "param_grid = {\n",
    "    'max_depth': list(range(3, 7)),  \n",
    "    'max_features': list(range(3, 9))  \n",
    "}\n"
   ]
  },
  {
   "cell_type": "code",
   "execution_count": 9,
   "id": "cf90a2cb",
   "metadata": {},
   "outputs": [],
   "source": [
    "dt = DecisionTreeClassifier(random_state=42)\n",
    "grid_search = GridSearchCV(estimator=dt, param_grid=param_grid, cv=5)\n"
   ]
  },
  {
   "cell_type": "code",
   "execution_count": 10,
   "id": "90199b39",
   "metadata": {},
   "outputs": [
    {
     "name": "stderr",
     "output_type": "stream",
     "text": [
      "/Users/mandali/opt/anaconda3/lib/python3.9/site-packages/sklearn/model_selection/_validation.py:372: FitFailedWarning: \n",
      "20 fits failed out of a total of 120.\n",
      "The score on these train-test partitions for these parameters will be set to nan.\n",
      "If these failures are not expected, you can try to debug them by setting error_score='raise'.\n",
      "\n",
      "Below are more details about the failures:\n",
      "--------------------------------------------------------------------------------\n",
      "20 fits failed with the following error:\n",
      "Traceback (most recent call last):\n",
      "  File \"/Users/mandali/opt/anaconda3/lib/python3.9/site-packages/sklearn/model_selection/_validation.py\", line 680, in _fit_and_score\n",
      "    estimator.fit(X_train, y_train, **fit_params)\n",
      "  File \"/Users/mandali/opt/anaconda3/lib/python3.9/site-packages/sklearn/tree/_classes.py\", line 937, in fit\n",
      "    super().fit(\n",
      "  File \"/Users/mandali/opt/anaconda3/lib/python3.9/site-packages/sklearn/tree/_classes.py\", line 308, in fit\n",
      "    raise ValueError(\"max_features must be in (0, n_features]\")\n",
      "ValueError: max_features must be in (0, n_features]\n",
      "\n",
      "  warnings.warn(some_fits_failed_message, FitFailedWarning)\n",
      "/Users/mandali/opt/anaconda3/lib/python3.9/site-packages/sklearn/model_selection/_search.py:969: UserWarning: One or more of the test scores are non-finite: [0.84370315 0.84727136 0.85935532 0.85236882 0.85764618        nan\n",
      " 0.82982009 0.84373313 0.83856072 0.841994   0.84550225        nan\n",
      " 0.84196402 0.84203898 0.85241379 0.83673163 0.86455772        nan\n",
      " 0.82461769 0.841994   0.83506747 0.82634183 0.8628036         nan]\n",
      "  warnings.warn(\n"
     ]
    },
    {
     "data": {
      "text/plain": [
       "GridSearchCV(cv=5, estimator=DecisionTreeClassifier(random_state=42),\n",
       "             param_grid={'max_depth': [3, 4, 5, 6],\n",
       "                         'max_features': [3, 4, 5, 6, 7, 8]})"
      ]
     },
     "execution_count": 10,
     "metadata": {},
     "output_type": "execute_result"
    }
   ],
   "source": [
    "grid_search.fit(x_train, y_train)"
   ]
  },
  {
   "cell_type": "code",
   "execution_count": 11,
   "id": "b9bc100e",
   "metadata": {},
   "outputs": [],
   "source": [
    "best_param=grid_search.best_params_\n",
    "best_model=grid_search.best_estimator_"
   ]
  },
  {
   "cell_type": "code",
   "execution_count": 12,
   "id": "d7522155",
   "metadata": {},
   "outputs": [
    {
     "data": {
      "text/plain": [
       "{'max_depth': 3, 'max_features': 3}"
      ]
     },
     "execution_count": 12,
     "metadata": {},
     "output_type": "execute_result"
    }
   ],
   "source": [
    "best_param"
   ]
  },
  {
   "cell_type": "code",
   "execution_count": 13,
   "id": "8673e643",
   "metadata": {},
   "outputs": [
    {
     "data": {
      "text/plain": [
       "DecisionTreeClassifier(max_depth=3, max_features=3, random_state=42)"
      ]
     },
     "execution_count": 13,
     "metadata": {},
     "output_type": "execute_result"
    }
   ],
   "source": [
    "best_model.fit(x_train, y_train)"
   ]
  },
  {
   "cell_type": "code",
   "execution_count": 14,
   "id": "901a9e9b",
   "metadata": {},
   "outputs": [],
   "source": [
    "y_pred=best_model.predict(x_train)"
   ]
  },
  {
   "cell_type": "code",
   "execution_count": 15,
   "id": "fdfb13e5",
   "metadata": {},
   "outputs": [
    {
     "name": "stdout",
     "output_type": "stream",
     "text": [
      "              precision    recall  f1-score   support\n",
      "\n",
      "         0.0       0.81      0.96      0.88       288\n",
      "         1.0       0.95      0.78      0.86       288\n",
      "\n",
      "    accuracy                           0.87       576\n",
      "   macro avg       0.88      0.87      0.87       576\n",
      "weighted avg       0.88      0.87      0.87       576\n",
      "\n"
     ]
    }
   ],
   "source": [
    "print(classification_report(y_train, y_pred))"
   ]
  },
  {
   "cell_type": "code",
   "execution_count": 16,
   "id": "c8b24491",
   "metadata": {},
   "outputs": [],
   "source": [
    "def plot_confusion_matrix(title,conf_matrix):\n",
    "    plt.figure(figsize=(8, 6))\n",
    "    sns.set(font_scale=1.2)\n",
    "    sns.heatmap(conf_matrix, annot=True, fmt='g', cmap='Blues', cbar=False,\n",
    "                xticklabels=['Predicted 0', 'Predicted 1'],\n",
    "                yticklabels=['Actual 0', 'Actual 1'])\n",
    "    plt.xlabel('Predicted Labels')\n",
    "    plt.ylabel('True Labels')\n",
    "    plt.title(title)\n",
    "    plt.show()\n",
    "    plt.savefig(\"../conf/\"+title+\".png\")"
   ]
  },
  {
   "cell_type": "code",
   "execution_count": 17,
   "id": "25c84413",
   "metadata": {},
   "outputs": [],
   "source": [
    "conf=confusion_matrix(y_train, y_pred)"
   ]
  },
  {
   "cell_type": "code",
   "execution_count": 18,
   "id": "a7efa3af",
   "metadata": {},
   "outputs": [
    {
     "data": {
      "text/plain": [
       "<AxesSubplot:>"
      ]
     },
     "execution_count": 18,
     "metadata": {},
     "output_type": "execute_result"
    },
    {
     "data": {
      "image/png": "[encoded data removed]",
      "text/plain": [
       "<Figure size 432x288 with 2 Axes>"
      ]
     },
     "metadata": {
      "needs_background": "light"
     },
     "output_type": "display_data"
    }
   ],
   "source": [
    "#plot_confusion_matrix(\"Decision_Tree_Classfier_Train\",conf)\n",
    "sns.heatmap(conf, annot=True, cmap= \"Blues\")"
   ]
  },
  {
   "cell_type": "code",
   "execution_count": 19,
   "id": "a593b5e3",
   "metadata": {},
   "outputs": [],
   "source": [
    "y_pred_val=best_model.predict(x_val)"
   ]
  },
  {
   "cell_type": "code",
   "execution_count": 20,
   "id": "95d2144c",
   "metadata": {},
   "outputs": [
    {
     "name": "stdout",
     "output_type": "stream",
     "text": [
      "              precision    recall  f1-score   support\n",
      "\n",
      "         0.0       0.77      1.00      0.87        68\n",
      "         1.0       1.00      0.74      0.85        76\n",
      "\n",
      "    accuracy                           0.86       144\n",
      "   macro avg       0.89      0.87      0.86       144\n",
      "weighted avg       0.89      0.86      0.86       144\n",
      "\n"
     ]
    }
   ],
   "source": [
    "print(classification_report(y_val, y_pred_val))"
   ]
  },
  {
   "cell_type": "code",
   "execution_count": 21,
   "id": "d042a28c",
   "metadata": {},
   "outputs": [],
   "source": [
    "conf_val=confusion_matrix(y_val, y_pred_val)"
   ]
  },
  {
   "cell_type": "code",
   "execution_count": 22,
   "id": "bf887376",
   "metadata": {},
   "outputs": [
    {
     "data": {
      "text/plain": [
       "<AxesSubplot:>"
      ]
     },
     "execution_count": 22,
     "metadata": {},
     "output_type": "execute_result"
    },
    {
     "data": {
      "image/png": "[encoded data removed]",
      "text/plain": [
       "<Figure size 432x288 with 2 Axes>"
      ]
     },
     "metadata": {
      "needs_background": "light"
     },
     "output_type": "display_data"
    }
   ],
   "source": [
    "#plot_confusion_matrix(\"Decision_Tree_Classfier_Validate\",conf_val)\n",
    "sns.heatmap(conf_val, annot=True, cmap= \"Blues\")"
   ]
  },
  {
   "cell_type": "markdown",
   "id": "543764e7",
   "metadata": {},
   "source": [
    "### Extract Result"
   ]
  },
  {
   "cell_type": "code",
   "execution_count": 23,
   "id": "e0623b56",
   "metadata": {},
   "outputs": [],
   "source": [
    "import time\n",
    "\n",
    "start=time.time()\n",
    "\n",
    "best_model.fit(x_train_use, y_train_use)\n",
    "\n",
    "elapse=time.time()-start"
   ]
  },
  {
   "cell_type": "code",
   "execution_count": 24,
   "id": "c834ab9a",
   "metadata": {},
   "outputs": [],
   "source": [
    "pred_use= best_model.predict(x_train_use)"
   ]
  },
  {
   "cell_type": "code",
   "execution_count": 25,
   "id": "3cb508ae",
   "metadata": {},
   "outputs": [
    {
     "data": {
      "text/plain": [
       "array([0.8       , 0.86092715, 0.83783784, 0.74418605, 0.82539683])"
      ]
     },
     "execution_count": 25,
     "metadata": {},
     "output_type": "execute_result"
    }
   ],
   "source": [
    "cross_val_score(best_model, x_train_use, y_train_use, scoring='f1')"
   ]
  },
  {
   "cell_type": "code",
   "execution_count": 26,
   "id": "5fcb7c74",
   "metadata": {},
   "outputs": [
    {
     "name": "stdout",
     "output_type": "stream",
     "text": [
      "              precision    recall  f1-score   support\n",
      "\n",
      "         0.0       0.86      0.87      0.87       356\n",
      "         1.0       0.87      0.86      0.87       364\n",
      "\n",
      "    accuracy                           0.87       720\n",
      "   macro avg       0.87      0.87      0.87       720\n",
      "weighted avg       0.87      0.87      0.87       720\n",
      "\n"
     ]
    }
   ],
   "source": [
    "print(classification_report(y_train_use, pred_use))"
   ]
  },
  {
   "cell_type": "code",
   "execution_count": 27,
   "id": "4baca982",
   "metadata": {},
   "outputs": [],
   "source": [
    "f1_train = f1_score(y_train_use, pred_use)\n",
    "prec_train = precision_score(y_train_use, pred_use)\n",
    "recall_train = recall_score(y_train_use, pred_use)"
   ]
  },
  {
   "cell_type": "code",
   "execution_count": 28,
   "id": "674a8bdf",
   "metadata": {},
   "outputs": [],
   "source": [
    "x_test, y_test= test.drop('target', axis=1), test['target']"
   ]
  },
  {
   "cell_type": "code",
   "execution_count": 29,
   "id": "976fc90c",
   "metadata": {},
   "outputs": [],
   "source": [
    "pred_test=best_model.predict(x_test)"
   ]
  },
  {
   "cell_type": "code",
   "execution_count": 30,
   "id": "93827d3d",
   "metadata": {},
   "outputs": [
    {
     "name": "stdout",
     "output_type": "stream",
     "text": [
      "              precision    recall  f1-score   support\n",
      "\n",
      "         0.0       0.87      0.85      0.86        94\n",
      "         1.0       0.84      0.86      0.85        86\n",
      "\n",
      "    accuracy                           0.86       180\n",
      "   macro avg       0.86      0.86      0.86       180\n",
      "weighted avg       0.86      0.86      0.86       180\n",
      "\n"
     ]
    }
   ],
   "source": [
    "print(classification_report(y_test, pred_test))"
   ]
  },
  {
   "cell_type": "code",
   "execution_count": 31,
   "id": "0a17fd4e",
   "metadata": {},
   "outputs": [],
   "source": [
    "f1_test = f1_score(y_test, pred_test)\n",
    "prec_test = precision_score(y_test, pred_test)\n",
    "recall_test = recall_score(y_test, pred_test)"
   ]
  },
  {
   "cell_type": "code",
   "execution_count": 32,
   "id": "1ab5c798",
   "metadata": {},
   "outputs": [],
   "source": [
    "conf_test=confusion_matrix(y_test, pred_test)"
   ]
  },
  {
   "cell_type": "code",
   "execution_count": 33,
   "id": "c4ab0126",
   "metadata": {},
   "outputs": [
    {
     "data": {
      "image/png": "[encoded data removed]",
      "text/plain": [
       "<Figure size 576x432 with 1 Axes>"
      ]
     },
     "metadata": {
      "needs_background": "light"
     },
     "output_type": "display_data"
    },
    {
     "data": {
      "text/plain": [
       "<Figure size 432x288 with 0 Axes>"
      ]
     },
     "metadata": {},
     "output_type": "display_data"
    }
   ],
   "source": [
    "plot_confusion_matrix(\"decision_tree\",conf_test)"
   ]
  },
  {
   "cell_type": "code",
   "execution_count": 34,
   "id": "8f78852e",
   "metadata": {},
   "outputs": [],
   "source": [
    "df=pd.DataFrame()\n",
    "df[\"f1_test\"] = [f1_test]\n",
    "df[\"f1_train\"] = f1_train\n",
    "df[\"prec_train\"] = prec_train\n",
    "df[\"prec_test\"] = prec_test\n",
    "df[\"recall_train\"] = recall_train\n",
    "df[\"recall_test\"] = recall_test\n",
    "df[\"model\"] = \"Decision Tree\"\n",
    "df[\"elapsed\"] = elapse"
   ]
  },
  {
   "cell_type": "code",
   "execution_count": 35,
   "id": "119de8b6",
   "metadata": {},
   "outputs": [
    {
     "data": {
      "text/html": [
       "<div>\n",
       "<style scoped>\n",
       "    .dataframe tbody tr th:only-of-type {\n",
       "        vertical-align: middle;\n",
       "    }\n",
       "\n",
       "    .dataframe tbody tr th {\n",
       "        vertical-align: top;\n",
       "    }\n",
       "\n",
       "    .dataframe thead th {\n",
       "        text-align: right;\n",
       "    }\n",
       "</style>\n",
       "<table border=\"1\" class=\"dataframe\">\n",
       "  <thead>\n",
       "    <tr style=\"text-align: right;\">\n",
       "      <th></th>\n",
       "      <th>f1_test</th>\n",
       "      <th>f1_train</th>\n",
       "      <th>prec_train</th>\n",
       "      <th>prec_test</th>\n",
       "      <th>recall_train</th>\n",
       "      <th>recall_test</th>\n",
       "      <th>model</th>\n",
       "      <th>elapsed</th>\n",
       "    </tr>\n",
       "  </thead>\n",
       "  <tbody>\n",
       "    <tr>\n",
       "      <th>0</th>\n",
       "      <td>0.850575</td>\n",
       "      <td>0.865465</td>\n",
       "      <td>0.87395</td>\n",
       "      <td>0.840909</td>\n",
       "      <td>0.857143</td>\n",
       "      <td>0.860465</td>\n",
       "      <td>Decision Tree</td>\n",
       "      <td>0.003235</td>\n",
       "    </tr>\n",
       "  </tbody>\n",
       "</table>\n",
       "</div>"
      ],
      "text/plain": [
       "    f1_test  f1_train  prec_train  prec_test  recall_train  recall_test  \\\n",
       "0  0.850575  0.865465     0.87395   0.840909      0.857143     0.860465   \n",
       "\n",
       "           model   elapsed  \n",
       "0  Decision Tree  0.003235  "
      ]
     },
     "execution_count": 35,
     "metadata": {},
     "output_type": "execute_result"
    }
   ],
   "source": [
    "df.head()"
   ]
  },
  {
   "cell_type": "code",
   "execution_count": 36,
   "id": "69d7fa05",
   "metadata": {},
   "outputs": [],
   "source": [
    "df.to_csv(\"../results/regular/dtc.csv\", index=False)"
   ]
  },
  {
   "cell_type": "code",
   "execution_count": null,
   "id": "215e67ba",
   "metadata": {},
   "outputs": [],
   "source": []
  }
 ],
 "metadata": {
  "kernelspec": {
   "display_name": "Python 3 (ipykernel)",
   "language": "python",
   "name": "python3"
  },
  "language_info": {
   "codemirror_mode": {
    "name": "ipython",
    "version": 3
   },
   "file_extension": ".py",
   "mimetype": "text/x-python",
   "name": "python",
   "nbconvert_exporter": "python",
   "pygments_lexer": "ipython3",
   "version": "3.9.12"
  }
 },
 "nbformat": 4,
 "nbformat_minor": 5
}
